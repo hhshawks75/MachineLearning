{
  "nbformat": 4,
  "nbformat_minor": 0,
  "metadata": {
    "colab": {
      "name": "Resampling,ModelEvaluation,FeatureSelectionandRegularization",
      "provenance": [],
      "collapsed_sections": [],
      "include_colab_link": true
    },
    "kernelspec": {
      "name": "python3",
      "display_name": "Python 3"
    }
  },
  "cells": [
    {
      "cell_type": "markdown",
      "metadata": {
        "id": "view-in-github",
        "colab_type": "text"
      },
      "source": [
        "<a href=\"https://colab.research.google.com/github/hhshawks75/MachineLearning/blob/master/Resampling%2CModelEvaluation%2CFeatureSelectionandRegularization.ipynb\" target=\"_parent\"><img src=\"https://colab.research.google.com/assets/colab-badge.svg\" alt=\"Open In Colab\"/></a>"
      ]
    },
    {
      "cell_type": "markdown",
      "metadata": {
        "id": "8iwaee_T-Urj"
      },
      "source": [
        "# ASSIGNMENT 4 - INTRO TO MACHINE LEARNING | Resampling, Model Evaluation, Feature Selection and Regularization\n",
        "\n",
        "\n",
        "> **FULL MARKS = 160**\n",
        "\n"
      ]
    },
    {
      "cell_type": "markdown",
      "metadata": {
        "id": "GhorwbNcOblB"
      },
      "source": [
        "\n",
        "\n",
        "1.2. Leave-One-Out Cross Validation(LOOCV) | SCORE : \n"
      ]
    },
    {
      "cell_type": "markdown",
      "metadata": {
        "id": "IVKgB-iQ-nYY"
      },
      "source": [
        "**Note:** To submit the assignment, please follow the same steps and in assignments 1, 2, & 3.\n",
        "\n",
        "In this assignment we will use things we have learned from previous exercises. You will not be given instructions on how to load data, plot data, standardize/normalize data, how to write functions and many more. You will be given instructions on what you will be doing. **SO PLEASE START THIS ASSIGNMENT AS EARLY AS POSSIBLE**\n",
        "\n",
        "1. **Resampling Methods | SCORE : 40**\n",
        "  \n",
        "  **1.1 K-Fold Cross Validation**\n",
        "      \n",
        "    References\n",
        "    > Please follow lecture notes\n",
        "\n",
        "  **1.2 Leave-One-Out Cross Validation(LOOCV) | SCORE :**\n",
        "      \n",
        "    References\n",
        "    > Please follow lecture notes\n",
        "\n",
        "\n",
        "2. **Model Evaluation | SCORE : 35**\n",
        "  \n",
        "  **2.1 Confusion Matrix:**\n",
        "      \n",
        "    References\n",
        "    > Please follow references on previous assignments\n",
        "\n",
        "  **2.2 Metrics : Accuracy, Precision, Recall, F1-Score and ROC-Curve**\n",
        "      \n",
        "    References\n",
        "    > https://scikit-learn.org/stable/auto_examples/model_selection/plot_precision_recall.html\n",
        "    > https://towardsdatascience.com/receiver-operating-characteristic-curves-demystified-in-python-bd531a4364d0\n",
        "    > https://www.daniweb.com/programming/computer-science/tutorials/520084/understanding-roc-curves-from-scratch\n",
        "\n",
        "3. **Linear Model Selection | SCORE : 40**\n",
        "  \n",
        "  **3.1 Subset Feature Selection**\n",
        "      \n",
        "    References\n",
        "    > https://archive.ics.uci.edu/ml/datasets/Online+Video+Characteristics+and+Transcoding+Time+Dataset#\n",
        "\n",
        "  **3.2 Forward stepwise feature selection**\n",
        "      \n",
        "    References\n",
        "    > Please follow lecture ntoes\n",
        "\n",
        "4. **Model Regularization | SCORE : 45**\n",
        "  \n",
        "  **4.1 Ridge Regression - L2 Rgularization**\n",
        "      \n",
        "    References\n",
        "    > https://scikit-learn.org/stable/modules/generated/sklearn.linear_model.RidgeCV.html\n",
        "\n",
        "  **4.2 Lasso Regression - L1 Regularization**\n",
        "      \n",
        "    References\n",
        "    > https://scikit-learn.org/stable/modules/generated/sklearn.linear_model.LassoCV.html\n"
      ]
    },
    {
      "cell_type": "markdown",
      "metadata": {
        "id": "NsUM8-i_KhK1"
      },
      "source": [
        "### 1. Resampling Methods\n",
        "---\n",
        "\n",
        "\n",
        "\n",
        "---\n",
        "\n"
      ]
    },
    {
      "cell_type": "code",
      "metadata": {
        "id": "Jufb9E8pXQH2"
      },
      "source": [
        "# Required Library are loaded for you\n",
        "import numpy as np\n",
        "from sklearn.datasets import load_iris\n",
        "from sklearn.linear_model import LogisticRegression\n",
        "from sklearn.model_selection import train_test_split\n",
        "from sklearn import preprocessing\n",
        "import pandas as pd\n",
        "import matplotlib.pyplot as plt\n",
        "import seaborn as sns\n",
        "import matplotlib.ticker as ticker\n",
        "from matplotlib import rcParams\n",
        "# figure size in inches\n",
        "rcParams['figure.figsize'] = 16,8"
      ],
      "execution_count": null,
      "outputs": []
    },
    {
      "cell_type": "code",
      "metadata": {
        "id": "xbWIGShTBcza"
      },
      "source": [
        "# The following base class ResamplingMethods is implemented\n",
        "# You will implemenet KFold and LOOCV class by inheriting this base class\n",
        "# To make your work simpler we will show you a simple example \n",
        "# by inheriting this class to make validation set resampling method22"
      ],
      "execution_count": null,
      "outputs": []
    },
    {
      "cell_type": "code",
      "metadata": {
        "id": "DUMZc2SBAzKG"
      },
      "source": [
        "class ResamplingMethods(object):\n",
        "  def __init__(self, sklearn_databunch = load_iris(), test_size = 0.2, val_size = 0.2):\n",
        "    \"\"\"\n",
        "    :param dict sklearn_databunch: a databunch or dictionary that contains keys(data, target, feature_names, target_names, DESCR)\n",
        "    :param float test_size: This represent percentage of data size to be selected as test set from given data\n",
        "    :param float val_size: This represent percentage of data size to be selected as validation set from given data\n",
        "    :return None\n",
        "    \"\"\"\n",
        "    # Data Initialization\n",
        "    self.__x = preprocessing.scale(sklearn_databunch.get('data'))\n",
        "    self.__y = sklearn_databunch.get('target')\n",
        "    self.xlabel = sklearn_databunch.get('feature_names')\n",
        "    self.ylabel = sklearn_databunch.get('target_names')\n",
        "    self.description = sklearn_databunch.get('DESCR')\n",
        "\n",
        "    self.test_size = test_size\n",
        "    self.val_size = val_size\n",
        "    \n",
        "    # Do train-test split here\n",
        "    # Please note one important remark here\n",
        "    # self.xtest and self.ytest will be untouched and will be used only in final step of model validation\n",
        "    # To implement resampling methods we will further split self.xtrain and self.ytrain into train and val set\n",
        "    # So we can have different train-val set throughout different resampling implementation\n",
        "    # Howevere, our test set will be keep fixed, this is our FINAL CHECK,\n",
        "    # If our model doesn't perform well on FINAL_CHECK, \n",
        "    # i.e, for perfect case(note that accuracy is acceptable), test_accuracy>=val_accuracy>train_accuracy\n",
        "    self.xtrain, self.xtest, self.ytrain, self.ytest = train_test_split(self.__x, \n",
        "                                                                        self.__y, \n",
        "                                                                        test_size=self.test_size, \n",
        "                                                                        random_state=4347)\n",
        "    \n",
        "    self.record = {'data':[],'accuracy':[],'loss':[],}\n",
        "  \n",
        "  # Create_model creates a logistic regression model with random state of our course_id\n",
        "  def create_model(self,**kwargs):\n",
        "    # Classifier Initialization\n",
        "    self.model = LogisticRegression(random_state=4347)\n",
        "\n",
        "  # If you print an instance of this class it will print description of the dataset\n",
        "  def __repr__(self):\n",
        "    return self.description\n",
        "  \n",
        "  # Run corresponding resampling methods implemented in inherited classes\n",
        "  def run(self,**kwargs):\n",
        "    return getattr(self,self.method)()\n",
        "\n",
        "  # Calculate and return logistic between y and y_(predicted values of y given x)\n",
        "  def logistic_loss(self,x,y):\n",
        "    \"\"\"\n",
        "    :param ndarray x: input to model\n",
        "    :param ndarray y: true label\n",
        "    :return float: logistic_loss\n",
        "    \"\"\"\n",
        "    y_hat = self.model.predict_proba(x)\n",
        "    y = np.eye(len(self.ylabel))[y]\n",
        "    return -np.mean(y*np.log(y_hat)+(1-y)*np.log(1-y_hat))\n",
        "  \n",
        "  def predict(self,*X):\n",
        "    \"\"\"\n",
        "    :param tuple of ndarray X: X contains number of different x's eg.X may be xtrain only or (xtrain,xval,xtest)\n",
        "    :return list of ndarray: if X contains more than one x(i.e, xtrain,xval,xtest) returns list of [ytrain_predicted, yval_predicted,ytest_predicted]\n",
        "    \"\"\"\n",
        "    return [*map(lambda x:self.model.predict(x),X)]\n",
        "  \n",
        "  def accuracy(self,*XY):\n",
        "    \"\"\"\n",
        "    :params pair tuple of ndarray XY: eg. ((xtrain,ytrain),(xval,yval),(xtest,ytest))\n",
        "    :return list of accuracy: eg.[train_accuracy,val_accuracy,test_accuracy]\n",
        "    \"\"\"\n",
        "    return [*map(lambda xy:self.model.score(*xy),XY)]\n",
        "  \n",
        "  def loss(self,*XY):\n",
        "    \"\"\"\n",
        "    :params pair tuple of ndarray XY: eg. ((xtrain,ytrain),(xval,yval),(xtest,ytest))\n",
        "    :return list of loss: eg.[train_loss,val_loss,test_loss]\n",
        "    \"\"\"\n",
        "    return [*map(lambda xy:self.logistic_loss(*xy),XY)]\n",
        "\n",
        "  def fitmodel(self,xtrain, ytrain, **kwargs):\n",
        "    \"\"\"\n",
        "    :param ndarray xtrain: input to model\n",
        "    :param ndarray ytrain: true label\n",
        "    \"\"\"\n",
        "    self.create_model()\n",
        "    self.model.fit(xtrain, ytrain)\n",
        "\n",
        "  def get_report(self):\n",
        "    \"\"\"\n",
        "    calculate average loss and accuracy \n",
        "    \"\"\"\n",
        "    report = self.record.groupby(['data']).mean()[['accuracy','loss']]\n",
        "    report['method'] = self.method\n",
        "    return report\n",
        "\n",
        "  def visualize(self, **kwargs):\n",
        "    \"\"\"\n",
        "    :param dict kwargs:contain argument for plotting\n",
        "    \"\"\"\n",
        "    config = dict(data=self.record, \n",
        "                  x=self.method, \n",
        "                  y=\"accuracy\", \n",
        "                  hue=\"data\", \n",
        "                  size=\"loss\",\n",
        "                  sizes=(40, 400),\n",
        "                  alpha=.5,\n",
        "                  aspect=3)\n",
        "    config.update(**kwargs)\n",
        "    sns.relplot(**config)\n",
        "    plt.title(f'Visualization for CV Method : {self.method}')"
      ],
      "execution_count": null,
      "outputs": []
    },
    {
      "cell_type": "code",
      "metadata": {
        "id": "9m0GeneRHAzr"
      },
      "source": [
        "# The following is a simple implementation of Validation Set Approach\n",
        "# Please follow the lecture notes in given references to understand the validation set approach\n",
        "# We will now create a class ValidationSet by inheriting Base Class ResamplingMethods\n",
        "# We need to implement two important functions here\n",
        "# Function train_val_split will return xtrain,xval,ytrain,yval\n",
        "# Function valset will perfom 3 important tasks\n",
        "                  # 1. Create a record instance, which will keep track of accuracy and loss and finally convert this instance to DataFrame\n",
        "                  # 2. Fit N random steps (in each step we do random train_test split which you can see in function train_val_split, without specifying random_state)\n",
        "                  # 3. Calculate Accuracy\n",
        "# All other methods will be reused from base class(you can think of this as an extension class to base)"
      ],
      "execution_count": null,
      "outputs": []
    },
    {
      "cell_type": "code",
      "metadata": {
        "id": "k_1odqGIRDBc",
        "colab": {
          "base_uri": "https://localhost:8080/",
          "height": 1000
        },
        "outputId": "81179539-cc32-415f-9211-442326c3dc97"
      },
      "source": [
        "class ValidationSet(ResamplingMethods):\n",
        "  def __init__(self,fit_steps = 10):\n",
        "    \"\"\"\n",
        "    :params int fit_steps: This is a number of times model needs to fit with random split of data(except test) to xtrain and val set\n",
        "    \"\"\"\n",
        "    super(ValidationSet, self).__init__()\n",
        "    self.fit_steps = fit_steps\n",
        "    self.method = 'valset'\n",
        "\n",
        "  def train_val_split(self, **kwargs):\n",
        "    \"\"\"\n",
        "    :params ndarray x: x is a feature that should be splitted into further train-val sets\n",
        "    :params ndarray y: x is a label that should be splitted into further train-val sets\n",
        "    :return tuples of ndarray\n",
        "    \"\"\"\n",
        "    x = kwargs.get('x', self.xtrain)\n",
        "    y = kwargs.get('y', self.ytrain)\n",
        "    xtrain, xval, ytrain, yval = train_test_split(x,y,test_size = self.val_size, random_state = kwargs.get('random_state'))\n",
        "    return xtrain, xval, ytrain, yval\n",
        "\n",
        "  def valset(self,**kwargs):\n",
        "    self.record.update({self.method:[]})\n",
        "    # Run fit_steps time\n",
        "    # Each time perform split on self.xtrain and self.ytrain to produce xtrain,xval,ytrain,yval\n",
        "    # Each time fit new model with xtrain,ytrain]\n",
        "    # Calculate accuracy on (xtrain,ytrain),(xval,yval),(self.xtest,self.ytest)\n",
        "    # Calculate loss on (xtrain,ytrain),(xval,yval),(self.xtest,self.ytest)\n",
        "    # Record all metrics\n",
        "    # After done convert record into dataframe, which will be used for visualization\n",
        "    for i in range(self.fit_steps):\n",
        "      xtrain, xval, ytrain, yval = self.train_val_split(**kwargs)\n",
        "      self.fitmodel(xtrain,ytrain)\n",
        "      self.record['data'].extend(['train','test','val'])\n",
        "      self.record['accuracy'].extend(self.accuracy((xtrain, ytrain),(xval,yval),(self.xtest,self.ytest)))\n",
        "      self.record['loss'].extend(self.loss((xtrain, ytrain),(xval,yval),(self.xtest,self.ytest)))\n",
        "      self.record[self.method].extend([i]*3)\n",
        "\n",
        "    self.record = pd.DataFrame(self.record)\n",
        "\n",
        "# Now here Lets Create an instance of validation set with fit steps = 10\n",
        "vs = ValidationSet(fit_steps = 10)\n",
        "# Lets see the data description\n",
        "print(vs)\n",
        "# Now run this model\n",
        "vs.run()\n",
        "# Now Let us Visualize this model\n",
        "vs.visualize()"
      ],
      "execution_count": null,
      "outputs": [
        {
          "output_type": "stream",
          "text": [
            ".. _iris_dataset:\n",
            "\n",
            "Iris plants dataset\n",
            "--------------------\n",
            "\n",
            "**Data Set Characteristics:**\n",
            "\n",
            "    :Number of Instances: 150 (50 in each of three classes)\n",
            "    :Number of Attributes: 4 numeric, predictive attributes and the class\n",
            "    :Attribute Information:\n",
            "        - sepal length in cm\n",
            "        - sepal width in cm\n",
            "        - petal length in cm\n",
            "        - petal width in cm\n",
            "        - class:\n",
            "                - Iris-Setosa\n",
            "                - Iris-Versicolour\n",
            "                - Iris-Virginica\n",
            "                \n",
            "    :Summary Statistics:\n",
            "\n",
            "    ============== ==== ==== ======= ===== ====================\n",
            "                    Min  Max   Mean    SD   Class Correlation\n",
            "    ============== ==== ==== ======= ===== ====================\n",
            "    sepal length:   4.3  7.9   5.84   0.83    0.7826\n",
            "    sepal width:    2.0  4.4   3.05   0.43   -0.4194\n",
            "    petal length:   1.0  6.9   3.76   1.76    0.9490  (high!)\n",
            "    petal width:    0.1  2.5   1.20   0.76    0.9565  (high!)\n",
            "    ============== ==== ==== ======= ===== ====================\n",
            "\n",
            "    :Missing Attribute Values: None\n",
            "    :Class Distribution: 33.3% for each of 3 classes.\n",
            "    :Creator: R.A. Fisher\n",
            "    :Donor: Michael Marshall (MARSHALL%PLU@io.arc.nasa.gov)\n",
            "    :Date: July, 1988\n",
            "\n",
            "The famous Iris database, first used by Sir R.A. Fisher. The dataset is taken\n",
            "from Fisher's paper. Note that it's the same as in R, but not as in the UCI\n",
            "Machine Learning Repository, which has two wrong data points.\n",
            "\n",
            "This is perhaps the best known database to be found in the\n",
            "pattern recognition literature.  Fisher's paper is a classic in the field and\n",
            "is referenced frequently to this day.  (See Duda & Hart, for example.)  The\n",
            "data set contains 3 classes of 50 instances each, where each class refers to a\n",
            "type of iris plant.  One class is linearly separable from the other 2; the\n",
            "latter are NOT linearly separable from each other.\n",
            "\n",
            ".. topic:: References\n",
            "\n",
            "   - Fisher, R.A. \"The use of multiple measurements in taxonomic problems\"\n",
            "     Annual Eugenics, 7, Part II, 179-188 (1936); also in \"Contributions to\n",
            "     Mathematical Statistics\" (John Wiley, NY, 1950).\n",
            "   - Duda, R.O., & Hart, P.E. (1973) Pattern Classification and Scene Analysis.\n",
            "     (Q327.D83) John Wiley & Sons.  ISBN 0-471-22361-1.  See page 218.\n",
            "   - Dasarathy, B.V. (1980) \"Nosing Around the Neighborhood: A New System\n",
            "     Structure and Classification Rule for Recognition in Partially Exposed\n",
            "     Environments\".  IEEE Transactions on Pattern Analysis and Machine\n",
            "     Intelligence, Vol. PAMI-2, No. 1, 67-71.\n",
            "   - Gates, G.W. (1972) \"The Reduced Nearest Neighbor Rule\".  IEEE Transactions\n",
            "     on Information Theory, May 1972, 431-433.\n",
            "   - See also: 1988 MLC Proceedings, 54-64.  Cheeseman et al\"s AUTOCLASS II\n",
            "     conceptual clustering system finds 3 classes in the data.\n",
            "   - Many, many more ...\n"
          ],
          "name": "stdout"
        },
        {
          "output_type": "display_data",
          "data": {
            "image/png": "[encoded data removed]",
            "text/plain": [
              "<Figure size 1139.38x360 with 1 Axes>"
            ]
          },
          "metadata": {
            "tags": []
          }
        }
      ]
    },
    {
      "cell_type": "markdown",
      "metadata": {
        "id": "vyOkwgrKML85"
      },
      "source": [
        "***EXERCISE NO. 1***\n",
        "\n",
        "  > **Task-1 | Score : 10** "
      ]
    },
    {
      "cell_type": "code",
      "metadata": {
        "id": "uQJXxY1vL_Ks"
      },
      "source": [
        "# Now you will implement KFold Methods\n",
        "# Please follow the lecture notes in the given references to understand how KFold set approach\n",
        "# You will now create a class KFold by inheriting Base Class ResamplingMethods\n",
        "# You need to implement two important function here, First two function are implemented for you\n",
        "                  # 1. create_k_slices : This function will take k,N(optional, default : length of self.xtrain),window(optional, default : length of self.xtrain // k)\n",
        "                                         # and return list of slices, eg. for k = 10, and length of self.train=120, [slice(0,12),slice(12,24),.....,slice(108,120)]\n",
        "                  # 2. get_kth_mask : This function will take k, which represents train_val set of kth fold and return train_mask and val_mask\n",
        "                  # 3. train_val_split : This function will take k, which represents train_val set of kth fold, calculate masks and return xtrain,xval,ytrain,yval\n",
        "                  # 4. kfold : this function will run a loop k steps, each steps fit model on kth fold and record results and finally replace record as dataframe\n",
        "# Now fill empty code section wherever asked"
      ],
      "execution_count": null,
      "outputs": []
    },
    {
      "cell_type": "code",
      "metadata": {
        "id": "HSGlE5ehTSgC",
        "colab": {
          "base_uri": "https://localhost:8080/",
          "height": 405
        },
        "outputId": "6657bffa-9c21-4a22-931e-7c9c3f1415a7"
      },
      "source": [
        "class KFold(ResamplingMethods):\n",
        "  def __init__(self,k = 10):\n",
        "    super(KFold, self).__init__()\n",
        "    \"\"\"\n",
        "    :params int k: This is a number of times model needs to fit with k fold dataset\n",
        "    \"\"\"\n",
        "    self.k = k\n",
        "    self.create_k_slices(k)\n",
        "    self.method = 'kfold'\n",
        "\n",
        "  def create_k_slices(self, k =10, **kwargs):\n",
        "    N = kwargs.get('N',len(self.xtrain))\n",
        "    window = kwargs.get('window', len(self.xtrain)//k)\n",
        "    self.slices = [slice(*i) for i in zip(range(0,N+1,window),range(window,N+1,window))]\n",
        "  \n",
        "  def get_kth_mask(self, k=0):\n",
        "    assert k<len(self.slices), '!!!K CANNOT BE MORE THAN NUMBER OF SLICES!!!'\n",
        "    indices = np.arange(0,len(self.xtrain))\n",
        "    val_mask = (self.slices[k].start <= indices)*(self.slices[k].stop > indices)\n",
        "    train_mask = np.logical_not(val_mask)\n",
        "    return train_mask,val_mask\n",
        "  \n",
        "  def train_val_split(self,k):\n",
        "    # calculate train and val mask\n",
        "    train_mask, val_mask = self.get_kth_mask(k)\n",
        "    \n",
        "    \n",
        "    # Now you will be selecting xtrain and xval set from self.xtrain\n",
        "    # Use indexing mask and select required data\n",
        "    # Note: xtrain, xval are splitted from self.xtrain using mask index so xtrain is not self.xtrain but a slice of it\n",
        "    # select xtrain using train mask\n",
        "    xtrain = self.xtrain[train_mask]\n",
        "    # select xval using val mask\n",
        "    xval = self.xtrain[val_mask]\n",
        "    # select ytrain using train mask\n",
        "    ytrain = self.ytrain[train_mask]\n",
        "    # select yval using val mask\n",
        "    yval = self.ytrain[val_mask]\n",
        "    # return xtrain,xval, ytrain, yval\n",
        "    return xtrain,xval,ytrain,yval\n",
        "\n",
        "  def kfold(self,**kwargs):\n",
        "    self.record.update({self.method:[]})\n",
        "    for i in range(self.k):\n",
        "      # calculate xtrain,xval,ytrain,yval for ith fold\n",
        "      xtrain, xval, ytrain, yval = self.train_val_split(i)\n",
        "      # fit model with xtrain and ytrain\n",
        "      self.fitmodel(xtrain,ytrain)\n",
        "      self.record['data'].extend(['train','test','val'])\n",
        "      # record results for train-val-test sets\n",
        "      self.record['accuracy'].extend(self.accuracy((xtrain, ytrain),(xval,yval),(self.xtest,self.ytest)))\n",
        "      self.record['loss'].extend(self.loss((xtrain, ytrain),(xval,yval),(self.xtest,self.ytest)))\n",
        "      \n",
        "      self.record[self.method].extend([i]*3)\n",
        "    # Convert results into dataframe\n",
        "    self.record = pd.DataFrame(self.record)\n",
        "\n",
        "\n",
        "   \n",
        "  \n",
        "  \n",
        "\n",
        "# Now here Lets Create an instance of KFOld set with k = 10\n",
        "kf = KFold(k = 10)\n",
        "# Now run this model\n",
        "kf.run()\n",
        "# Now Let us Visualize this model\n",
        "kf.visualize()"
      ],
      "execution_count": null,
      "outputs": [
        {
          "output_type": "display_data",
          "data": {
            "image/png": "[encoded data removed]",
            "text/plain": [
              "<Figure size 1139.38x360 with 1 Axes>"
            ]
          },
          "metadata": {
            "tags": []
          }
        }
      ]
    },
    {
      "cell_type": "markdown",
      "metadata": {
        "id": "MclWG9xUQ5G7"
      },
      "source": [
        "***EXERCISE NO. 1***\n",
        "\n",
        "  > **Task-2 | Score :5** "
      ]
    },
    {
      "cell_type": "code",
      "metadata": {
        "id": "YgNHdRkLQ5HB"
      },
      "source": [
        "# Now you will implement LOOCV(Leave One Out Cross Validation) Method\n",
        "# Please follow lecture notes in given references to understand how LOOCV set approach\n",
        "\n",
        "# LOOCV is a special case of KFold with k is as equal to train size and validation set will have size = 1(that is why leave one out)\n",
        "# So we will now Inherit KFold Class instead of Base \n",
        "# You have to fit your model k times(that is as much as train size is)\n",
        "# You have one small change in __init__ to make "
      ],
      "execution_count": null,
      "outputs": []
    },
    {
      "cell_type": "code",
      "metadata": {
        "id": "BVKhgld9mFa4",
        "colab": {
          "base_uri": "https://localhost:8080/",
          "height": 405
        },
        "outputId": "49479aae-23c3-4c0c-9075-f80cc543ca16"
      },
      "source": [
        "class LOOCV(KFold):\n",
        "  def __init__(self, k = 100 ):\n",
        "    super(LOOCV, self).__init__()\n",
        "    self.method = 'leaveoneout'\n",
        "    # Make that small change here\n",
        "    self.k = k\n",
        "    self.create_k_slices_using_k_(k)\n",
        "    \n",
        "  def create_k_slices_using_k_(self, k =50, **kwargs):\n",
        "    N = kwargs.get('N',len(self.xtrain))\n",
        "    window = kwargs.get('window', len(self.xtrain)//k)\n",
        "    self.slices = [slice(*i) for i in zip(range(0,N+1,window),range(window,N+1,window))]\n",
        "\n",
        "  def leaveoneout(self):\n",
        "    self.record.update({self.method:[]})\n",
        "    # just call default kfold method\n",
        "    return self.kfold()\n",
        "\n",
        "# Now here Lets Create an instance of LOOCV\n",
        "lo = LOOCV()\n",
        "# Now run this model\n",
        "lo.run()\n",
        "# Now Let us Visualize this model\n",
        "lo.visualize()"
      ],
      "execution_count": null,
      "outputs": [
        {
          "output_type": "display_data",
          "data": {
            "image/png": "[encoded data removed]",
            "text/plain": [
              "<Figure size 1139.38x360 with 1 Axes>"
            ]
          },
          "metadata": {
            "tags": []
          }
        }
      ]
    },
    {
      "cell_type": "markdown",
      "metadata": {
        "id": "TsgncCfbbllf"
      },
      "source": [
        "***EXERCISE NO. 1***\n",
        "\n",
        "  > **Task-3 | Score :10** "
      ]
    },
    {
      "cell_type": "code",
      "metadata": {
        "id": "bONmn9YynZ3B",
        "colab": {
          "base_uri": "https://localhost:8080/",
          "height": 905
        },
        "outputId": "46f143e6-21b9-4792-d2f7-d6e7f1aa4cfb"
      },
      "source": [
        "# Report Plotting\n",
        "def plotreports(*reports,metric='accuracy'):\n",
        "  reports = pd.concat(reports).reset_index()\n",
        "  sns.barplot(data = reports, x = 'method', hue='data', y=metric)\n",
        "  plt.title(f'Comparing {metric}')\n",
        "\n",
        "# Now Plot all 3 different results\n",
        "vs.visualize(aspect=1.5, height = 4)\n",
        "kf.visualize(aspect=1.5, height = 4)\n",
        "lo.visualize(aspect=1.5, height = 4)"
      ],
      "execution_count": null,
      "outputs": [
        {
          "output_type": "display_data",
          "data": {
            "image/png": "[encoded data removed]",
            "text/plain": [
              "<Figure size 491.375x288 with 1 Axes>"
            ]
          },
          "metadata": {
            "tags": []
          }
        },
        {
          "output_type": "display_data",
          "data": {
            "image/png": "[encoded data removed]",
            "text/plain": [
              "<Figure size 491.375x288 with 1 Axes>"
            ]
          },
          "metadata": {
            "tags": []
          }
        },
        {
          "output_type": "display_data",
          "data": {
            "image/png": "[encoded data removed]",
            "text/plain": [
              "<Figure size 491.375x288 with 1 Axes>"
            ]
          },
          "metadata": {
            "tags": []
          }
        }
      ]
    },
    {
      "cell_type": "code",
      "metadata": {
        "id": "zoZdaYelj7p3",
        "colab": {
          "base_uri": "https://localhost:8080/",
          "height": 533
        },
        "outputId": "c77fdac6-3030-487a-b715-acf69c4d440c"
      },
      "source": [
        "# Plot accuracy report\n",
        "plotreports(vs.get_report(),kf.get_report(),lo.get_report(), metric='accuracy')"
      ],
      "execution_count": null,
      "outputs": [
        {
          "output_type": "display_data",
          "data": {
            "image/png": "[encoded data removed]",
            "text/plain": [
              "<Figure size 1152x576 with 1 Axes>"
            ]
          },
          "metadata": {
            "tags": []
          }
        }
      ]
    },
    {
      "cell_type": "code",
      "metadata": {
        "id": "LsezizCmzQCR",
        "colab": {
          "base_uri": "https://localhost:8080/",
          "height": 533
        },
        "outputId": "de12afb3-8f0a-4fed-86a0-7b028f76ab91"
      },
      "source": [
        "# Plot loss report\n",
        "plotreports(vs.get_report(),kf.get_report(),lo.get_report(), metric='loss')"
      ],
      "execution_count": null,
      "outputs": [
        {
          "output_type": "display_data",
          "data": {
            "image/png": "[encoded data removed]",
            "text/plain": [
              "<Figure size 1152x576 with 1 Axes>"
            ]
          },
          "metadata": {
            "tags": []
          }
        }
      ]
    },
    {
      "cell_type": "markdown",
      "metadata": {
        "id": "IItU_Li1gdv6"
      },
      "source": [
        "***EXERCISE NO. 1***\n",
        "\n",
        "  > **Task-4 | Score :15** "
      ]
    },
    {
      "cell_type": "code",
      "metadata": {
        "id": "f_2WfMugmeze",
        "colab": {
          "base_uri": "https://localhost:8080/",
          "height": 34
        },
        "outputId": "60ad7fd1-4452-47b8-e1bf-e8c81dfd8102"
      },
      "source": [
        "# Now Answer following questions\n",
        "# Answer should go below\n",
        "\"\"\"\n",
        "Question no. 1 : Why the Validation Set approach has a high variability?\n",
        "    ' It depends greatly on the observations included in the training set / validation set causing high variance\n",
        "      and only a subset of data is used to train the model'\n",
        "Question no. 2 : Why the Validation leaveoneout approach has very low variability?\n",
        "      'It removes randomness in the training/validation set'\n",
        "Question no. 3: Why would you prefer KFold instead of the Validation Set Approach and LeaveOneout Approach?\n",
        "      'More data is used as training data with higher n value, resulting in more accurate model.'\n",
        "Question no. 4: What is the serious limitation of the LeaveOneOut Approach?\n",
        "      'It can be computationally expensive depending on n value\n",
        "Question no. 5: Compare these 3 different results.\n",
        "      'K fold appears to be the best, followed by LOOV which, then the simple validation set which produces high variance'\n",
        "\"\"\"\n",
        "print()"
      ],
      "execution_count": null,
      "outputs": [
        {
          "output_type": "stream",
          "text": [
            "\n"
          ],
          "name": "stdout"
        }
      ]
    },
    {
      "cell_type": "markdown",
      "metadata": {
        "id": "qNJ8rMbZnhBD"
      },
      "source": [
        "***EXERCISE NO. 2***\n",
        "\n",
        "  > **Task-1 | Score :10** "
      ]
    },
    {
      "cell_type": "code",
      "metadata": {
        "id": "8EnaRMQjnlTY",
        "colab": {
          "base_uri": "https://localhost:8080/",
          "height": 102
        },
        "outputId": "60ee873f-7de8-49c9-fc46-f493b39828a7"
      },
      "source": [
        "# We will create an instance of the validation set model with fit steps = 1, and fit the model\n",
        "# We will now assign the model associated with the vs to a variable named model\n",
        "# We use random_state = 4347 to make sure while running .run method we have a specific validation set that may not change\n",
        "vs = ValidationSet(fit_steps=1)\n",
        "vs.run(random_state=4347)\n",
        " #run with given random state\n",
        "\n",
        "# Now get xtrain,ytrain,xval,yval,xtest,ytest\n",
        "# Since we used random_state=4347 in .run we need to pass this random_state=4347 argument to get xtrain,xval,ytrain,yval from train_val_split\n",
        "xtrain, xval, ytrain, yval = vs.train_val_split(random_state=4347)  \n",
        "xtest,ytest = vs.xtest, vs.ytest\n",
        "\n",
        "# Model you will be using from vs\n",
        "# model = model.fitmodel(xtest,ytest)\n",
        "model=vs.model\n",
        "print(model)"
      ],
      "execution_count": null,
      "outputs": [
        {
          "output_type": "stream",
          "text": [
            "LogisticRegression(C=1.0, class_weight=None, dual=False, fit_intercept=True,\n",
            "                   intercept_scaling=1, l1_ratio=None, max_iter=100,\n",
            "                   multi_class='auto', n_jobs=None, penalty='l2',\n",
            "                   random_state=4347, solver='lbfgs', tol=0.0001, verbose=0,\n",
            "                   warm_start=False)\n"
          ],
          "name": "stdout"
        }
      ]
    },
    {
      "cell_type": "markdown",
      "metadata": {
        "id": "NCUX18Swp_t1"
      },
      "source": [
        "***EXERCISE NO. 2***\n",
        "\n",
        "  > **Task-1 | Score :10** "
      ]
    },
    {
      "cell_type": "code",
      "metadata": {
        "id": "IACMGSC8oCak",
        "colab": {
          "base_uri": "https://localhost:8080/",
          "height": 68
        },
        "outputId": "8f598f8a-d6e7-4fb6-8270-20120b586714"
      },
      "source": [
        "# Now you have model, and you know how to access the iris dataset\n",
        "# Now perform following task based on your previous exercise\n",
        "\n",
        "# 1. Calculate Two Confusion Matrices, on val and test set\n",
        "\n",
        "ytest_pred = model.predict(xtest)\n",
        "\n",
        "yval_pred = model.predict(xval)\n",
        "\n",
        "\n",
        "from sklearn.metrics import confusion_matrix,plot_confusion_matrix\n",
        "# Please Map your output to actual label name\n",
        "labels = ['setosa','versicolor','virginica']\n",
        "\n",
        "cmatrixTest = confusion_matrix(ytest, ytest_pred) #use labels name as well\n",
        "cmatrixVal = confusion_matrix(yval, yval_pred)\n",
        "cmatrixTest"
      ],
      "execution_count": null,
      "outputs": [
        {
          "output_type": "execute_result",
          "data": {
            "text/plain": [
              "array([[11,  0,  0],\n",
              "       [ 0,  8,  0],\n",
              "       [ 0,  0, 11]])"
            ]
          },
          "metadata": {
            "tags": []
          },
          "execution_count": 294
        }
      ]
    },
    {
      "cell_type": "code",
      "metadata": {
        "id": "MopcFB7Tq9Jm",
        "colab": {
          "base_uri": "https://localhost:8080/",
          "height": 520
        },
        "outputId": "9a0faf1e-055e-4d21-da8c-afd6a2939ba3"
      },
      "source": [
        "# 2. Plot your confusion matrix on val set (better use seaborn plotting as shown in previous exercises)\n",
        "# import seaborn as sns\n",
        "sns.heatmap(cmatrixTest, annot=True, cbar=True, xticklabels= labels, yticklabels=labels)\n"
      ],
      "execution_count": null,
      "outputs": [
        {
          "output_type": "execute_result",
          "data": {
            "text/plain": [
              "<matplotlib.axes._subplots.AxesSubplot at 0x7fc2115946d8>"
            ]
          },
          "metadata": {
            "tags": []
          },
          "execution_count": 295
        },
        {
          "output_type": "display_data",
          "data": {
            "image/png": "[encoded data removed]",
            "text/plain": [
              "<Figure size 1152x576 with 2 Axes>"
            ]
          },
          "metadata": {
            "tags": []
          }
        }
      ]
    },
    {
      "cell_type": "code",
      "metadata": {
        "id": "5oH1Hnsjq_U3",
        "colab": {
          "base_uri": "https://localhost:8080/",
          "height": 524
        },
        "outputId": "8edfba58-3b28-411d-cb20-e605eee19a63"
      },
      "source": [
        "# 3. Plot your confusion matrix on test set (better use seaborn plotting as shown in previous exercises)\n",
        "sns.heatmap(cmatrixVal, annot=True, cbar=True, xticklabels= labels, yticklabels=labels)\n",
        "\n"
      ],
      "execution_count": null,
      "outputs": [
        {
          "output_type": "execute_result",
          "data": {
            "text/plain": [
              "<matplotlib.axes._subplots.AxesSubplot at 0x7fc211488748>"
            ]
          },
          "metadata": {
            "tags": []
          },
          "execution_count": 296
        },
        {
          "output_type": "display_data",
          "data": {
            "image/png": "[encoded data removed]",
            "text/plain": [
              "<Figure size 1152x576 with 2 Axes>"
            ]
          },
          "metadata": {
            "tags": []
          }
        }
      ]
    },
    {
      "cell_type": "code",
      "metadata": {
        "id": "mBcwtFmEoaxE",
        "colab": {
          "base_uri": "https://localhost:8080/",
          "height": 34
        },
        "outputId": "a474f6ce-04cc-4cc7-c552-34711942dfb1"
      },
      "source": [
        "# 4. Now Answer following questions\n",
        "\n",
        "\"\"\"\n",
        "# Question no. 1: Based on your confusion matrices discuss important observations you made\n",
        "\n",
        "    The val matrix has less total numbers 24, compared to tests 30 showing that the val\n",
        "    produced less incorrect classifications.\n",
        "\"\"\"\n",
        "print()"
      ],
      "execution_count": null,
      "outputs": [
        {
          "output_type": "stream",
          "text": [
            "\n"
          ],
          "name": "stdout"
        }
      ]
    },
    {
      "cell_type": "markdown",
      "metadata": {
        "id": "ojzmpF7TouDP"
      },
      "source": [
        "***EXERCISE NO. 2***\n",
        "\n",
        "  > **Task-2 | Score :25** "
      ]
    },
    {
      "cell_type": "code",
      "metadata": {
        "id": "Mym8zXlfvGL5"
      },
      "source": [
        "# Here we will perform One vs all approach\n",
        "# The Iris dataset has 3 classes namely, ['setosa', 'versicolor', 'virginica']\n",
        "# We will modify this dataset to make this 3 different datasets,\n",
        "# First Case will be setosa vs other, i.e, setosa will be encoded as 1 and rest as 0\n",
        "# Second Case will be setosa vs other, i.e, versicolor will be encoded as 1 and rest as 0\n",
        "# Third Case will be setosa vs other, i.e, virginica will be encoded as 1 and rest as 0\n",
        "# We will consider only one case where we treat this problem as setosa vs other\n",
        "\n",
        "x, y = load_iris(return_X_y = True)# x = preprocessing.scale(x)\n",
        "y = 1*(y==0)\n",
        "xtrain,xtest, ytrain, ytest = train_test_split(x,y,test_size=0.2)"
      ],
      "execution_count": null,
      "outputs": []
    },
    {
      "cell_type": "code",
      "metadata": {
        "id": "_VH6oTLpvqQQ",
        "colab": {
          "base_uri": "https://localhost:8080/",
          "height": 102
        },
        "outputId": "5d5de183-441e-4dc4-9f16-6dab71654dde"
      },
      "source": [
        "# Now fit a logistic regression model using sklearn\n",
        "model = LogisticRegression()\n",
        "\n",
        "# Now fit this model with corresponding data from configs\n",
        "model.fit(xtrain,ytrain)\n",
        "\n",
        "# Now Follow following reference\n",
        "# https://www.daniweb.com/programming/computer-science/tutorials/520084/understanding-roc-curves-from-scratch\n",
        "# Peform similar experiment"
      ],
      "execution_count": null,
      "outputs": [
        {
          "output_type": "execute_result",
          "data": {
            "text/plain": [
              "LogisticRegression(C=1.0, class_weight=None, dual=False, fit_intercept=True,\n",
              "                   intercept_scaling=1, l1_ratio=None, max_iter=100,\n",
              "                   multi_class='auto', n_jobs=None, penalty='l2',\n",
              "                   random_state=None, solver='lbfgs', tol=0.0001, verbose=0,\n",
              "                   warm_start=False)"
            ]
          },
          "metadata": {
            "tags": []
          },
          "execution_count": 299
        }
      ]
    },
    {
      "cell_type": "code",
      "metadata": {
        "id": "-tz30HWXwmhn",
        "colab": {
          "base_uri": "https://localhost:8080/",
          "height": 605
        },
        "outputId": "e5b3899c-a9bb-4aa8-bc26-00f1ba1fddaa"
      },
      "source": [
        "# 1. Report TPR,FPR,F1 Score \n",
        "from sklearn.linear_model import *\n",
        "from sklearn.model_selection import train_test_split\n",
        "import numpy as np\n",
        "from sklearn import metrics\n",
        "\n",
        "logregr= model.fit(xtrain,ytrain)\n",
        "actuals = list(ytest)\n",
        "\n",
        "# Predict probablities of test data [0,1]\n",
        "scores = list(logregr.predict_proba(xtest)[:,1])\n",
        "# Equivalently\n",
        "import math\n",
        "def sigmoid(x): \n",
        "    return 1 / (1 + math.exp(-x))\n",
        "scores = [sigmoid(logregr.coef_@test_i + logregr.intercept_) for test_i in xtest]\n",
        "\n",
        "predictions = list(logregr.predict(xtest))\n",
        "# Equivalently \n",
        "predictions = [1 if s>0.5 else 0 for s in scores]\n",
        "\n",
        "print(\"Accuracy = %.3f\" % (sum([p==a for p, a in zip(predictions, actuals)])/len(predictions)))\n",
        "\n",
        "\n",
        "import collections\n",
        "ConfusionMatrix = collections.namedtuple('conf',['tp','fp','tn','fn'])\n",
        "def calc_ConfusionMatrix(actuals, scores, threshold=0.5, positive_label=1):\n",
        "    tp=fp=tn=fn=0\n",
        "    bool_actuals = [act==positive_label for act in actuals]\n",
        "    for truth, score in zip(bool_actuals, scores):\n",
        "        if score > threshold:                      # predicted positive \n",
        "            if truth:                              # actually positive \n",
        "                tp += 1\n",
        "            else:                                  # actually negative              \n",
        "                fp += 1          \n",
        "        else:                                      # predicted negative \n",
        "            if not truth:                          # actually negative \n",
        "                tn += 1                          \n",
        "            else:                                  # actually positive \n",
        "                fn += 1\n",
        "    return ConfusionMatrix(tp, fp, tn, fn)\n",
        "\n",
        "print(calc_ConfusionMatrix(actuals, scores))\n",
        "\n",
        "'tp = 9, fp = 0, tn = 21, fn = 0 '\n",
        "\n",
        "print('TPR: ', 1)\n",
        "print('FPR', 0)\n",
        "print('F1 Score: ', 0)\n",
        "\n",
        "# 2. Discuss meaning of these scores\n",
        "'Scores show accurate True positive values and false on False positive'\n",
        "# 3. Plot a Predicted_probability vs Decision_boundary plot\n",
        "\n",
        "\n",
        "# 4. Plot an ROC Curve\n",
        "\n",
        "y_pred_proba = logregr.predict_proba(xtest)[::,1]\n",
        "fpr, tpr, threshold = metrics.roc_curve(ytest,  y_pred_proba)\n",
        "auc = metrics.roc_auc_score(ytest, y_pred_proba)\n",
        "plt.plot(fpr,tpr,label=\"data 1, auc=\"+str(auc))\n",
        "plt.legend(loc=4)\n",
        "plt.show()\n",
        "\n",
        "\n",
        "\n",
        "\n",
        "\n",
        "\n",
        "\n",
        "# 5. Discuss your important findings\n",
        "'THe model classifies correctly'"
      ],
      "execution_count": null,
      "outputs": [
        {
          "output_type": "stream",
          "text": [
            "Accuracy = 1.000\n",
            "conf(tp=10, fp=0, tn=20, fn=0)\n",
            "TPR:  1\n",
            "FPR 0\n",
            "F1 Score:  0\n"
          ],
          "name": "stdout"
        },
        {
          "output_type": "display_data",
          "data": {
            "image/png": "[encoded data removed]",
            "text/plain": [
              "<Figure size 1152x576 with 1 Axes>"
            ]
          },
          "metadata": {
            "tags": []
          }
        },
        {
          "output_type": "execute_result",
          "data": {
            "text/plain": [
              "'THe model classifies correctly'"
            ]
          },
          "metadata": {
            "tags": []
          },
          "execution_count": 300
        }
      ]
    },
    {
      "cell_type": "markdown",
      "metadata": {
        "id": "HswAia1IZVrC"
      },
      "source": [
        "# New Section"
      ]
    },
    {
      "cell_type": "markdown",
      "metadata": {
        "id": "KP9FtDSV3zXm"
      },
      "source": [
        "***EXERCISE NO. 3***\n",
        "\n",
        "  > **Task-1 | Score :10** "
      ]
    },
    {
      "cell_type": "code",
      "metadata": {
        "id": "dEpl9hc532n8",
        "colab": {
          "resources": {
            "http://localhost:8080/assets/rexaSmall.jpg": {
              "data": "CjwhRE9DVFlQRSBodG1sPgo8aHRtbCBsYW5nPWVuPgogIDxtZXRhIGNoYXJzZXQ9dXRmLTg+CiAgPG1ldGEgbmFtZT12aWV3cG9ydCBjb250ZW50PSJpbml0aWFsLXNjYWxlPTEsIG1pbmltdW0tc2NhbGU9MSwgd2lkdGg9ZGV2aWNlLXdpZHRoIj4KICA8dGl0bGU+RXJyb3IgNDA0IChOb3QgRm91bmQpISExPC90aXRsZT4KICA8c3R5bGU+CiAgICAqe21hcmdpbjowO3BhZGRpbmc6MH1odG1sLGNvZGV7Zm9udDoxNXB4LzIycHggYXJpYWwsc2Fucy1zZXJpZn1odG1se2JhY2tncm91bmQ6I2ZmZjtjb2xvcjojMjIyO3BhZGRpbmc6MTVweH1ib2R5e21hcmdpbjo3JSBhdXRvIDA7bWF4LXdpZHRoOjM5MHB4O21pbi1oZWlnaHQ6MTgwcHg7cGFkZGluZzozMHB4IDAgMTVweH0qID4gYm9keXtiYWNrZ3JvdW5kOnVybCgvL3d3dy5nb29nbGUuY29tL2ltYWdlcy9lcnJvcnMvcm9ib3QucG5nKSAxMDAlIDVweCBuby1yZXBlYXQ7cGFkZGluZy1yaWdodDoyMDVweH1we21hcmdpbjoxMXB4IDAgMjJweDtvdmVyZmxvdzpoaWRkZW59aW5ze2NvbG9yOiM3Nzc7dGV4dC1kZWNvcmF0aW9uOm5vbmV9YSBpbWd7Ym9yZGVyOjB9QG1lZGlhIHNjcmVlbiBhbmQgKG1heC13aWR0aDo3NzJweCl7Ym9keXtiYWNrZ3JvdW5kOm5vbmU7bWFyZ2luLXRvcDowO21heC13aWR0aDpub25lO3BhZGRpbmctcmlnaHQ6MH19I2xvZ297YmFja2dyb3VuZDp1cmwoLy93d3cuZ29vZ2xlLmNvbS9pbWFnZXMvbG9nb3MvZXJyb3JwYWdlL2Vycm9yX2xvZ28tMTUweDU0LnBuZykgbm8tcmVwZWF0O21hcmdpbi1sZWZ0Oi01cHh9QG1lZGlhIG9ubHkgc2NyZWVuIGFuZCAobWluLXJlc29sdXRpb246MTkyZHBpKXsjbG9nb3tiYWNrZ3JvdW5kOnVybCgvL3d3dy5nb29nbGUuY29tL2ltYWdlcy9sb2dvcy9lcnJvcnBhZ2UvZXJyb3JfbG9nby0xNTB4NTQtMngucG5nKSBuby1yZXBlYXQgMCUgMCUvMTAwJSAxMDAlOy1tb3otYm9yZGVyLWltYWdlOnVybCgvL3d3dy5nb29nbGUuY29tL2ltYWdlcy9sb2dvcy9lcnJvcnBhZ2UvZXJyb3JfbG9nby0xNTB4NTQtMngucG5nKSAwfX1AbWVkaWEgb25seSBzY3JlZW4gYW5kICgtd2Via2l0LW1pbi1kZXZpY2UtcGl4ZWwtcmF0aW86Mil7I2xvZ297YmFja2dyb3VuZDp1cmwoLy93d3cuZ29vZ2xlLmNvbS9pbWFnZXMvbG9nb3MvZXJyb3JwYWdlL2Vycm9yX2xvZ28tMTUweDU0LTJ4LnBuZykgbm8tcmVwZWF0Oy13ZWJraXQtYmFja2dyb3VuZC1zaXplOjEwMCUgMTAwJX19I2xvZ297ZGlzcGxheTppbmxpbmUtYmxvY2s7aGVpZ2h0OjU0cHg7d2lkdGg6MTUwcHh9CiAgPC9zdHlsZT4KICA8YSBocmVmPS8vd3d3Lmdvb2dsZS5jb20vPjxzcGFuIGlkPWxvZ28gYXJpYS1sYWJlbD1Hb29nbGU+PC9zcGFuPjwvYT4KICA8cD48Yj40MDQuPC9iPiA8aW5zPlRoYXTigJlzIGFuIGVycm9yLjwvaW5zPgogIDxwPiAgPGlucz5UaGF04oCZcyBhbGwgd2Uga25vdy48L2lucz4K",
              "ok": false,
              "headers": [
                [
                  "content-length",
                  "1449"
                ],
                [
                  "content-type",
                  "text/html; charset=utf-8"
                ]
              ],
              "status": 404,
              "status_text": ""
            },
            "http://localhost:8080/assets/logo.gif": {
              "data": "CjwhRE9DVFlQRSBodG1sPgo8aHRtbCBsYW5nPWVuPgogIDxtZXRhIGNoYXJzZXQ9dXRmLTg+CiAgPG1ldGEgbmFtZT12aWV3cG9ydCBjb250ZW50PSJpbml0aWFsLXNjYWxlPTEsIG1pbmltdW0tc2NhbGU9MSwgd2lkdGg9ZGV2aWNlLXdpZHRoIj4KICA8dGl0bGU+RXJyb3IgNDA0IChOb3QgRm91bmQpISExPC90aXRsZT4KICA8c3R5bGU+CiAgICAqe21hcmdpbjowO3BhZGRpbmc6MH1odG1sLGNvZGV7Zm9udDoxNXB4LzIycHggYXJpYWwsc2Fucy1zZXJpZn1odG1se2JhY2tncm91bmQ6I2ZmZjtjb2xvcjojMjIyO3BhZGRpbmc6MTVweH1ib2R5e21hcmdpbjo3JSBhdXRvIDA7bWF4LXdpZHRoOjM5MHB4O21pbi1oZWlnaHQ6MTgwcHg7cGFkZGluZzozMHB4IDAgMTVweH0qID4gYm9keXtiYWNrZ3JvdW5kOnVybCgvL3d3dy5nb29nbGUuY29tL2ltYWdlcy9lcnJvcnMvcm9ib3QucG5nKSAxMDAlIDVweCBuby1yZXBlYXQ7cGFkZGluZy1yaWdodDoyMDVweH1we21hcmdpbjoxMXB4IDAgMjJweDtvdmVyZmxvdzpoaWRkZW59aW5ze2NvbG9yOiM3Nzc7dGV4dC1kZWNvcmF0aW9uOm5vbmV9YSBpbWd7Ym9yZGVyOjB9QG1lZGlhIHNjcmVlbiBhbmQgKG1heC13aWR0aDo3NzJweCl7Ym9keXtiYWNrZ3JvdW5kOm5vbmU7bWFyZ2luLXRvcDowO21heC13aWR0aDpub25lO3BhZGRpbmctcmlnaHQ6MH19I2xvZ297YmFja2dyb3VuZDp1cmwoLy93d3cuZ29vZ2xlLmNvbS9pbWFnZXMvbG9nb3MvZXJyb3JwYWdlL2Vycm9yX2xvZ28tMTUweDU0LnBuZykgbm8tcmVwZWF0O21hcmdpbi1sZWZ0Oi01cHh9QG1lZGlhIG9ubHkgc2NyZWVuIGFuZCAobWluLXJlc29sdXRpb246MTkyZHBpKXsjbG9nb3tiYWNrZ3JvdW5kOnVybCgvL3d3dy5nb29nbGUuY29tL2ltYWdlcy9sb2dvcy9lcnJvcnBhZ2UvZXJyb3JfbG9nby0xNTB4NTQtMngucG5nKSBuby1yZXBlYXQgMCUgMCUvMTAwJSAxMDAlOy1tb3otYm9yZGVyLWltYWdlOnVybCgvL3d3dy5nb29nbGUuY29tL2ltYWdlcy9sb2dvcy9lcnJvcnBhZ2UvZXJyb3JfbG9nby0xNTB4NTQtMngucG5nKSAwfX1AbWVkaWEgb25seSBzY3JlZW4gYW5kICgtd2Via2l0LW1pbi1kZXZpY2UtcGl4ZWwtcmF0aW86Mil7I2xvZ297YmFja2dyb3VuZDp1cmwoLy93d3cuZ29vZ2xlLmNvbS9pbWFnZXMvbG9nb3MvZXJyb3JwYWdlL2Vycm9yX2xvZ28tMTUweDU0LTJ4LnBuZykgbm8tcmVwZWF0Oy13ZWJraXQtYmFja2dyb3VuZC1zaXplOjEwMCUgMTAwJX19I2xvZ297ZGlzcGxheTppbmxpbmUtYmxvY2s7aGVpZ2h0OjU0cHg7d2lkdGg6MTUwcHh9CiAgPC9zdHlsZT4KICA8YSBocmVmPS8vd3d3Lmdvb2dsZS5jb20vPjxzcGFuIGlkPWxvZ28gYXJpYS1sYWJlbD1Hb29nbGU+PC9zcGFuPjwvYT4KICA8cD48Yj40MDQuPC9iPiA8aW5zPlRoYXTigJlzIGFuIGVycm9yLjwvaW5zPgogIDxwPiAgPGlucz5UaGF04oCZcyBhbGwgd2Uga25vdy48L2lucz4K",
              "ok": false,
              "headers": [
                [
                  "content-length",
                  "1449"
                ],
                [
                  "content-type",
                  "text/html; charset=utf-8"
                ]
              ],
              "status": 404,
              "status_text": ""
            },
            "http://localhost:8080/assets/ml.css": {
              "data": "CjwhRE9DVFlQRSBodG1sPgo8aHRtbCBsYW5nPWVuPgogIDxtZXRhIGNoYXJzZXQ9dXRmLTg+CiAgPG1ldGEgbmFtZT12aWV3cG9ydCBjb250ZW50PSJpbml0aWFsLXNjYWxlPTEsIG1pbmltdW0tc2NhbGU9MSwgd2lkdGg9ZGV2aWNlLXdpZHRoIj4KICA8dGl0bGU+RXJyb3IgNDA0IChOb3QgRm91bmQpISExPC90aXRsZT4KICA8c3R5bGU+CiAgICAqe21hcmdpbjowO3BhZGRpbmc6MH1odG1sLGNvZGV7Zm9udDoxNXB4LzIycHggYXJpYWwsc2Fucy1zZXJpZn1odG1se2JhY2tncm91bmQ6I2ZmZjtjb2xvcjojMjIyO3BhZGRpbmc6MTVweH1ib2R5e21hcmdpbjo3JSBhdXRvIDA7bWF4LXdpZHRoOjM5MHB4O21pbi1oZWlnaHQ6MTgwcHg7cGFkZGluZzozMHB4IDAgMTVweH0qID4gYm9keXtiYWNrZ3JvdW5kOnVybCgvL3d3dy5nb29nbGUuY29tL2ltYWdlcy9lcnJvcnMvcm9ib3QucG5nKSAxMDAlIDVweCBuby1yZXBlYXQ7cGFkZGluZy1yaWdodDoyMDVweH1we21hcmdpbjoxMXB4IDAgMjJweDtvdmVyZmxvdzpoaWRkZW59aW5ze2NvbG9yOiM3Nzc7dGV4dC1kZWNvcmF0aW9uOm5vbmV9YSBpbWd7Ym9yZGVyOjB9QG1lZGlhIHNjcmVlbiBhbmQgKG1heC13aWR0aDo3NzJweCl7Ym9keXtiYWNrZ3JvdW5kOm5vbmU7bWFyZ2luLXRvcDowO21heC13aWR0aDpub25lO3BhZGRpbmctcmlnaHQ6MH19I2xvZ297YmFja2dyb3VuZDp1cmwoLy93d3cuZ29vZ2xlLmNvbS9pbWFnZXMvbG9nb3MvZXJyb3JwYWdlL2Vycm9yX2xvZ28tMTUweDU0LnBuZykgbm8tcmVwZWF0O21hcmdpbi1sZWZ0Oi01cHh9QG1lZGlhIG9ubHkgc2NyZWVuIGFuZCAobWluLXJlc29sdXRpb246MTkyZHBpKXsjbG9nb3tiYWNrZ3JvdW5kOnVybCgvL3d3dy5nb29nbGUuY29tL2ltYWdlcy9sb2dvcy9lcnJvcnBhZ2UvZXJyb3JfbG9nby0xNTB4NTQtMngucG5nKSBuby1yZXBlYXQgMCUgMCUvMTAwJSAxMDAlOy1tb3otYm9yZGVyLWltYWdlOnVybCgvL3d3dy5nb29nbGUuY29tL2ltYWdlcy9sb2dvcy9lcnJvcnBhZ2UvZXJyb3JfbG9nby0xNTB4NTQtMngucG5nKSAwfX1AbWVkaWEgb25seSBzY3JlZW4gYW5kICgtd2Via2l0LW1pbi1kZXZpY2UtcGl4ZWwtcmF0aW86Mil7I2xvZ297YmFja2dyb3VuZDp1cmwoLy93d3cuZ29vZ2xlLmNvbS9pbWFnZXMvbG9nb3MvZXJyb3JwYWdlL2Vycm9yX2xvZ28tMTUweDU0LTJ4LnBuZykgbm8tcmVwZWF0Oy13ZWJraXQtYmFja2dyb3VuZC1zaXplOjEwMCUgMTAwJX19I2xvZ297ZGlzcGxheTppbmxpbmUtYmxvY2s7aGVpZ2h0OjU0cHg7d2lkdGg6MTUwcHh9CiAgPC9zdHlsZT4KICA8YSBocmVmPS8vd3d3Lmdvb2dsZS5jb20vPjxzcGFuIGlkPWxvZ28gYXJpYS1sYWJlbD1Hb29nbGU+PC9zcGFuPjwvYT4KICA8cD48Yj40MDQuPC9iPiA8aW5zPlRoYXTigJlzIGFuIGVycm9yLjwvaW5zPgogIDxwPiAgPGlucz5UaGF04oCZcyBhbGwgd2Uga25vdy48L2lucz4K",
              "ok": false,
              "headers": [
                [
                  "content-length",
                  "1449"
                ],
                [
                  "content-type",
                  "text/html; charset=utf-8"
                ]
              ],
              "status": 404,
              "status_text": ""
            },
            "http://localhost:8080/assets/nsfe.gif": {
              "data": "CjwhRE9DVFlQRSBodG1sPgo8aHRtbCBsYW5nPWVuPgogIDxtZXRhIGNoYXJzZXQ9dXRmLTg+CiAgPG1ldGEgbmFtZT12aWV3cG9ydCBjb250ZW50PSJpbml0aWFsLXNjYWxlPTEsIG1pbmltdW0tc2NhbGU9MSwgd2lkdGg9ZGV2aWNlLXdpZHRoIj4KICA8dGl0bGU+RXJyb3IgNDA0IChOb3QgRm91bmQpISExPC90aXRsZT4KICA8c3R5bGU+CiAgICAqe21hcmdpbjowO3BhZGRpbmc6MH1odG1sLGNvZGV7Zm9udDoxNXB4LzIycHggYXJpYWwsc2Fucy1zZXJpZn1odG1se2JhY2tncm91bmQ6I2ZmZjtjb2xvcjojMjIyO3BhZGRpbmc6MTVweH1ib2R5e21hcmdpbjo3JSBhdXRvIDA7bWF4LXdpZHRoOjM5MHB4O21pbi1oZWlnaHQ6MTgwcHg7cGFkZGluZzozMHB4IDAgMTVweH0qID4gYm9keXtiYWNrZ3JvdW5kOnVybCgvL3d3dy5nb29nbGUuY29tL2ltYWdlcy9lcnJvcnMvcm9ib3QucG5nKSAxMDAlIDVweCBuby1yZXBlYXQ7cGFkZGluZy1yaWdodDoyMDVweH1we21hcmdpbjoxMXB4IDAgMjJweDtvdmVyZmxvdzpoaWRkZW59aW5ze2NvbG9yOiM3Nzc7dGV4dC1kZWNvcmF0aW9uOm5vbmV9YSBpbWd7Ym9yZGVyOjB9QG1lZGlhIHNjcmVlbiBhbmQgKG1heC13aWR0aDo3NzJweCl7Ym9keXtiYWNrZ3JvdW5kOm5vbmU7bWFyZ2luLXRvcDowO21heC13aWR0aDpub25lO3BhZGRpbmctcmlnaHQ6MH19I2xvZ297YmFja2dyb3VuZDp1cmwoLy93d3cuZ29vZ2xlLmNvbS9pbWFnZXMvbG9nb3MvZXJyb3JwYWdlL2Vycm9yX2xvZ28tMTUweDU0LnBuZykgbm8tcmVwZWF0O21hcmdpbi1sZWZ0Oi01cHh9QG1lZGlhIG9ubHkgc2NyZWVuIGFuZCAobWluLXJlc29sdXRpb246MTkyZHBpKXsjbG9nb3tiYWNrZ3JvdW5kOnVybCgvL3d3dy5nb29nbGUuY29tL2ltYWdlcy9sb2dvcy9lcnJvcnBhZ2UvZXJyb3JfbG9nby0xNTB4NTQtMngucG5nKSBuby1yZXBlYXQgMCUgMCUvMTAwJSAxMDAlOy1tb3otYm9yZGVyLWltYWdlOnVybCgvL3d3dy5nb29nbGUuY29tL2ltYWdlcy9sb2dvcy9lcnJvcnBhZ2UvZXJyb3JfbG9nby0xNTB4NTQtMngucG5nKSAwfX1AbWVkaWEgb25seSBzY3JlZW4gYW5kICgtd2Via2l0LW1pbi1kZXZpY2UtcGl4ZWwtcmF0aW86Mil7I2xvZ297YmFja2dyb3VuZDp1cmwoLy93d3cuZ29vZ2xlLmNvbS9pbWFnZXMvbG9nb3MvZXJyb3JwYWdlL2Vycm9yX2xvZ28tMTUweDU0LTJ4LnBuZykgbm8tcmVwZWF0Oy13ZWJraXQtYmFja2dyb3VuZC1zaXplOjEwMCUgMTAwJX19I2xvZ297ZGlzcGxheTppbmxpbmUtYmxvY2s7aGVpZ2h0OjU0cHg7d2lkdGg6MTUwcHh9CiAgPC9zdHlsZT4KICA8YSBocmVmPS8vd3d3Lmdvb2dsZS5jb20vPjxzcGFuIGlkPWxvZ28gYXJpYS1sYWJlbD1Hb29nbGU+PC9zcGFuPjwvYT4KICA8cD48Yj40MDQuPC9iPiA8aW5zPlRoYXTigJlzIGFuIGVycm9yLjwvaW5zPgogIDxwPiAgPGlucz5UaGF04oCZcyBhbGwgd2Uga25vdy48L2lucz4K",
              "ok": false,
              "headers": [
                [
                  "content-length",
                  "1449"
                ],
                [
                  "content-type",
                  "text/html; charset=utf-8"
                ]
              ],
              "status": 404,
              "status_text": ""
            }
          },
          "base_uri": "https://localhost:8080/",
          "height": 1000
        },
        "outputId": "2ef7b727-d257-4a43-b12c-29abf3d1f5ff"
      },
      "source": [
        "# The following is a dataset for Online Video Characteristics and Transcoding Time Dataset Data Set from UCI machine learning datasets\n",
        "# This dataset is much larger than the iris dataset\n",
        "# We will use this dataset for a regression problem\n",
        "# You can view meta data information in given link\n",
        "import IPython\n",
        "IPython.display.HTML(\"https://archive.ics.uci.edu/ml/datasets/Online+Video+Characteristics+and+Transcoding+Time+Dataset#\")"
      ],
      "execution_count": null,
      "outputs": [
        {
          "output_type": "execute_result",
          "data": {
            "text/html": [
              "\n",
              "\n",
              "\n",
              "\n",
              "<!DOCTYPE HTML PUBLIC \\\"-//W3C//DTD HTML 4.01 Transitional//EN\\\">\n",
              "<html>\n",
              "<head>\n",
              "<title>UCI Machine Learning Repository: Online Video Characteristics and Transcoding Time Dataset Data Set</title>\n",
              "\n",
              "<!-- Stylesheet link -->\n",
              "<link rel=\"stylesheet\" type=\"text/css\" href=\"../assets/ml.css\" />\n",
              "\n",
              "<script language=\"JavaScript\" type=\"text/javascript\">\n",
              "<!--\n",
              "function checkform ( form )\n",
              "{\n",
              "  // see http://www.thesitewizard.com/archive/validation.shtml\n",
              "  // for an explanation of this script and how to use it on your\n",
              "  // own website\n",
              "\n",
              "  // ** START **\n",
              "  if (form.q.value == \"\")\n",
              "  {\n",
              "    alert( \"Please enter search terms.\" );\n",
              "    form.q.focus();\n",
              "    return false ;\n",
              "  }\n",
              "\n",
              "  if (getCheckedValue(form.sitesearch) == \"ics.uci.edu\" && form.q.value.indexOf(\"site:archive.ics.uci.edu/ml\") == -1)\n",
              "  {\n",
              "    form.q.value = form.q.value + \" site:archive.ics.uci.edu/ml\";\n",
              "  }\n",
              "\n",
              "  // ** END **\n",
              "  return true ;\n",
              "}\n",
              "\n",
              "// return the value of the radio button that is checked\n",
              "// return an empty string if none are checked, or\n",
              "// there are no radio buttons\n",
              "function getCheckedValue(radioObj) {\n",
              "\tif(!radioObj)\n",
              "\t\treturn \"\";\n",
              "\tvar radioLength = radioObj.length;\n",
              "\tif(radioLength == undefined)\n",
              "\t\tif(radioObj.checked)\n",
              "\t\t\treturn radioObj.value;\n",
              "\t\telse\n",
              "\t\t\treturn \"\";\n",
              "\tfor(var i = 0; i < radioLength; i++) {\n",
              "\t\tif(radioObj[i].checked) {\n",
              "\t\t\treturn radioObj[i].value;\n",
              "\t\t}\n",
              "\t}\n",
              "\treturn \"\";\n",
              "}\n",
              "//-->\n",
              "</script>\n",
              "\n",
              "</head>\n",
              "\n",
              "<body>\n",
              "\n",
              "\n",
              "<!-- SITE HEADER (INCLUDES LOGO AND SEARCH BOX) -->\n",
              "\n",
              "<table width=100% bgcolor=\"#003366\">\n",
              "<tr>\n",
              "\t<td>\n",
              "\t\t<span class=\"normal\"><a href=\"../index.html\" alt=\"Home\"><img src=\"../assets/logo.gif\"\n",
              "border=0></img></a><br>&nbsp;&nbsp;&nbsp;&nbsp;&nbsp;&nbsp;&nbsp;&nbsp;&nbsp;<a href=\"http://cml.ics.uci.edu\"><font color=\"FFDD33\">Center for Machine Learning and Intelligent Systems</font></a></span>\n",
              "\t</td>\n",
              "\t<td width=100% valign=top align=\"right\">\n",
              "\t\t<span class=\"whitetext\">\n",
              "\t\t<a href=\"../about.html\">About</a>&nbsp;\n",
              "\t\t<a href=\"../citation_policy.html\">Citation Policy</a>&nbsp;\n",
              "\t\t<a href=\"../donation_policy.html\">Donate a Data Set</a>&nbsp;\n",
              "\t\t<a href=\"../contact.html\">Contact</a>\n",
              "\t\t</span>\n",
              "\n",
              "\t\t<br>\n",
              "\t\t<br>\n",
              "\t\t<!-- Search Google -->\n",
              "\n",
              "\t\t<FORM method=GET action=http://www.google.com/custom onsubmit=\"return checkform(this);\">\n",
              "\t\t<INPUT TYPE=text name=q size=30 maxlength=255 value=\"\">\n",
              "\t\t<INPUT type=submit name=sa VALUE=\"Search\">\n",
              "\t\t<INPUT type=hidden name=cof VALUE=\"AH:center;LH:130;L:http://archive.ics.uci.edu/assets/logo.gif;LW:384;AWFID:869c0b2eaa8d518e;\">\n",
              "\t\t<input type=hidden name=domains value=\"ics.uci.edu\">\n",
              "\t\t<br>\n",
              "\t\t<input type=radio name=sitesearch value=\"ics.uci.edu\" checked> <span class=\"whitetext\"><font size=\"1\">Repository</font></span>\n",
              "\t\t<input type=radio name=sitesearch value=\"\"> <span class=\"whitetext\"><font size=\"1\">Web</font></span>\n",
              "\t\t&nbsp;&nbsp;&nbsp;&nbsp;&nbsp;&nbsp;&nbsp;&nbsp;&nbsp;&nbsp;\n",
              "\t\t<A HREF=http://www.google.com/search><IMG SRC=http://www.google.com/logos/Logo_25blk.gif border=0 ALT=Google align=middle height=27></A>\n",
              "\t\t<br>\n",
              "\t\t</FORM>\n",
              "\t\t<!-- Search Google -->\n",
              "\n",
              "\n",
              "\t\t<span class=\"whitetext\"><a href=\"../datasets.php\"><font size=\"3\" color=\"#FFDD33\"><b>View\n",
              "ALL Data Sets</b></font></a></span>\n",
              "\t\t<br>\n",
              "\t</td>\n",
              "</tr>\n",
              "</table>\n",
              "\n",
              "\n",
              "<br />\n",
              "<table width=100% border=0 cellpadding=2><tr><td>\n",
              "\n",
              "   <table><tr>\n",
              "     <td valign=top>\n",
              "\t<p>\n",
              "\t<span class=\"heading\"><b>Online Video Characteristics and Transcoding Time Dataset Data Set</b></span>\n",
              "\t<br><span class=\"normal\"><i><font size=4 >Download</font></i>: <a href=\"../machine-learning-databases/00335/\"><font\n",
              "style=\"BACKGROUND-COLOR: #FFFFAA\" size=4>Data Folder</font></a>, <a href=\"#\"><font\n",
              "style=\"BACKGROUND-COLOR: #FFFFAA\" size=4>Data Set Description</font></a></span></p>\n",
              "\n",
              "\t<p class=\"normal\"><b>Abstract</b>: The dataset contains a million randomly sampled video instances listing 10 fundamental video characteristics along with the YouTube video ID. </p>\n",
              "     </td>\n",
              "     <td> </td>\n",
              "   </tr></table>\n",
              "\n",
              "<table border=1 cellpadding=6>\n",
              "\t<tr>\n",
              "\t\t<td bgcolor=\"#DDEEFF\"><p class=\"normal\"><b>Data Set Characteristics:&nbsp;&nbsp;</b></p></td>\n",
              "\t\t<td><p class=\"normal\">Multivariate</p></td>\n",
              "\t\t<td bgcolor=\"#DDEEFF\"><p class=\"normal\"><b>Number of Instances:</b></p></td>\n",
              "\t\t<td><p class=\"normal\">168286</p></td>\n",
              "\t\t<td bgcolor=\"#DDEEFF\"><p class=\"normal\"><b>Area:</b></p></td>\n",
              "\t\t<td><p class=\"normal\">Computer</p></td>\n",
              "\t</tr>\n",
              "\n",
              "\t<tr>\n",
              "\t\t<td bgcolor=\"#DDEEFF\"><p class=\"normal\"><b>Attribute Characteristics:</b></p></td>\n",
              "\t\t<td><p class=\"normal\">Integer, Real</p></td>\n",
              "\t\t<td bgcolor=\"#DDEEFF\"><p class=\"normal\"><b>Number of Attributes:</b></p></td>\n",
              "\t\t<td><p class=\"normal\">11</p></td>\n",
              "\t\t<td bgcolor=\"#DDEEFF\"><p class=\"normal\"><b>Date Donated</b></p></td>\n",
              "\t\t<td><p class=\"normal\">2015-05-19</p></td>\n",
              "\t</tr>\n",
              "\t<tr>\n",
              "\t\t<td bgcolor=\"#DDEEFF\"><p class=\"normal\"><b>Associated Tasks:</b></p></td>\n",
              "\t\t<td><p class=\"normal\">Regression</p></td>\n",
              "\t\t<td bgcolor=\"#DDEEFF\"><p class=\"normal\"><b>Missing Values?</b></p></td>\n",
              "\t\t<td><p class=\"normal\">N/A</p></td>\n",
              "\t\t<td bgcolor=\"#DDEEFF\"><p class=\"normal\"><b>Number of Web Hits:</b></p></td>\n",
              "\t\t<td><p class=\"normal\">40529</p></td>\n",
              "\t</tr>\n",
              "\t<!--\n",
              "\t<tr>\n",
              "\n",
              "\t\t<td bgcolor=\"#DDEEFF\"><p class=\"normal\"><b>Highest Percentage Achieved:&nbsp;&nbsp;</b></p></td>\n",
              "\t\t<td><p class=\"normal\">N/A</p></td>\n",
              "\t</tr>\n",
              "\t-->\n",
              "</table>\n",
              "\n",
              "\n",
              "<br />\n",
              "\n",
              "<p class=\"small-heading\"><b>Source:</b></p>\n",
              "<p class=\"normal\">Tewodros Deneke, <u>tdeneke <b>'@'</b> abo.fi</u>\r<br></p>\n",
              "\n",
              "<br />\n",
              "\n",
              "<p class=\"small-heading\"><b>Data Set Information:</b></p>\n",
              "<p class=\"normal\">The presented dataset is composed of two tsv files named 'youtube_videos.tsv' \r<br>and 'transcoding_mesurment.tsv'. The first contains 10 columns of fundamental \r<br>video characteristics for 1.6 million youtube videos; It contains YouTube video id, \r<br>duration, bitrate(total in Kbits), bitrate(video bitrate in Kbits), \r<br>height(in pixle), width(in pixles), framrate, estimated framerate, codec, \r<br>category, and direct video link. This dataset can be used to gain insight\r<br>in characteristics of consumer videos found on UGC(Youtube).\r<br>\r<br>The second file of our dataset contains 20 columns(see column names for names) \r<br>which include input and output video characteristics along with their transcoding \r<br>time and memory resource requirements while transcoding videos to diffrent but \r<br>valid formats. The second dataset was collected based on experiments on an Intel \r<br>i7-3720QM CPU through randomly picking two rows from the first dataset and using \r<br>these as input and output parameters of a video transcoding application, ffmpeg 4 . \r<br>In section 6 we will use the second dataset to build a transcoding time prediction\r<br>model and show the significance of our datasets.</p>\n",
              "\n",
              "<br />\n",
              "\n",
              "<p class=\"small-heading\"><b>Attribute Information:</b></p>\n",
              "<p class=\"normal\">id  = Youtube videp id     \r<br>duration = duration of video        \r<br>bitrate bitrate(video) = video bitrate  \r<br>height = height of video in pixles  \r<br>width  = width of video in pixles\r<br>frame rate = actual video frame rate      \r<br>frame rate(est.) =  estimated video frame rate       \r<br>codec = coding standard used for the video   \r<br>category = YouTube video category        \r<br>url = direct link to video (has expiration date)\r<br>i = number of i frames in the video    \r<br>p = number of p frames in the video    \r<br>b = number of b frames in the video\r<br>frames = number of frames in video\r<br>i_size = total size in byte of i videos         \r<br>p_size = total size in byte of p videos        \r<br>b_size = total size in byte of b videos        \r<br>size = total size of video  \r<br>o_codec = output codec used for transcoding\r<br>o_bitrate = output bitrate used for transcoding      \r<br>o_framerate = output framerate used for transcoding\r<br>o_width = output width in pixel used for transcoding\r<br>o_height = output height used in pixel for transcoding\r<br>umem = total codec allocated memory for transcoding   \r<br>utime = total transcoding time for transcoding</p>\n",
              "\n",
              "<br />\n",
              "\n",
              "<p class=\"small-heading\"><b>Relevant Papers:</b></p>\n",
              "<p class=\"normal\">@INPROCEEDINGS{6890256, \r<br>author={Deneke, T. and Haile, H. and Lafond, S. and Lilius, J.}, \r<br>booktitle={Multimedia and Expo (ICME), 2014 IEEE International Conference on}, \r<br>title={Video transcoding time prediction for proactive load balancing}, \r<br>year={2014}, \r<br>month={July}, \r<br>pages={1-6}, \r<br>keywords={prediction theory;resource allocation;transcoding;video coding;video streaming;input video stream;proactive load balancing;video transcoding time prediction;Bit rate;Codecs;Load management;Load modeling;Predictive models;Transcoding;YouTube;Load Balancing;Machine Learning;Prediction;Transcoding}, \r<br>doi={10.1109/ICME.2014.6890256},}</p>\n",
              "\n",
              "<br />\n",
              "\n",
              "\n",
              "<!-- OLD CODE:\n",
              "\n",
              "<p class=\"small-heading\"><b>Papers That Cite This Data Set<sup>1</sup>:</b></p>\n",
              "<img src=\"../assets/rexa.jpg\" />\n",
              "<p class=\"normal\">N/A</p>\n",
              "\n",
              "-->\n",
              "\n",
              "\n",
              "\n",
              "<br />\n",
              "\n",
              "<p class=\"small-heading\"><b>Citation Request:</b></p>\n",
              "<p class=\"normal\">If you have no special citation requests, please leave this field blank.</p>\n",
              "\n",
              "</td></tr></table>\n",
              "\n",
              "\n",
              "<hr>\n",
              "\n",
              "<!-- OLD CODE:\n",
              "<p class=\"normal\"><font size=1>[1] Papers were automatically harvested and associated with this data set, in collaboration with <a href=\"http://rexa.info\"><font size=1>Rexa.info</font></a></font></p>\n",
              "-->\n",
              "\n",
              "\n",
              "\n",
              "<table cellpadding=5 align=center><tr valign=center>\n",
              "\t\t<td><p class=\"normal\">Supported By:</p></td>\n",
              "        <td><img src=\"../assets/nsfe.gif\" height=60 /> </td>\n",
              "        <td><p class=\"normal\">&nbsp;In Collaboration With:</p></td>\n",
              "        <td><img src=\"../assets/rexaSmall.jpg\" /></td>\n",
              "</tr></table>\n",
              "\n",
              "<center>\n",
              "<span class=\"normal\">\n",
              "<a href=\"../about.html\">About</a>&nbsp;&nbsp;||&nbsp;\n",
              "<a href=\"../citation_policy.html\">Citation Policy</a>&nbsp;&nbsp;||&nbsp;\n",
              "<a href=\"../donation_policy.html\">Donation Policy</a>&nbsp;&nbsp;||&nbsp;\n",
              "<a href=\"../contact.html\">Contact</a>&nbsp;&nbsp;||&nbsp;\n",
              "<a href=\"http://cml.ics.uci.edu\">CML</a>\n",
              "</span>\n",
              "</center>\n",
              "\n",
              "\n",
              "\n",
              "\n",
              "</body>\n",
              "</html>\n"
            ],
            "text/plain": [
              "<IPython.core.display.HTML object>"
            ]
          },
          "metadata": {
            "tags": []
          },
          "execution_count": 301
        }
      ]
    },
    {
      "cell_type": "code",
      "metadata": {
        "id": "f36Kr4HTJ5ZR",
        "colab": {
          "base_uri": "https://localhost:8080/",
          "height": 411
        },
        "outputId": "82b8413f-23ff-4a1c-b7ee-923a2656f0dd"
      },
      "source": [
        "# We have already downloaded and processed this dataset for you\n",
        "# You can download this dataset by\n",
        "!wget https://raw.githubusercontent.com/keshavsbhandari/CS4347/master/assignment1_regression/data/video_feature_train.csv\n",
        "!wget https://raw.githubusercontent.com/keshavsbhandari/CS4347/master/assignment1_regression/data/video_feature_test.csv"
      ],
      "execution_count": null,
      "outputs": [
        {
          "output_type": "stream",
          "text": [
            "--2020-03-07 05:26:43--  https://raw.githubusercontent.com/keshavsbhandari/CS4347/master/assignment1_regression/data/video_feature_train.csv\n",
            "Resolving raw.githubusercontent.com (raw.githubusercontent.com)... 151.101.0.133, 151.101.64.133, 151.101.128.133, ...\n",
            "Connecting to raw.githubusercontent.com (raw.githubusercontent.com)|151.101.0.133|:443... connected.\n",
            "HTTP request sent, awaiting response... 200 OK\n",
            "Length: 20017721 (19M) [text/plain]\n",
            "Saving to: ‘video_feature_train.csv.2’\n",
            "\n",
            "video_feature_train 100%[===================>]  19.09M  44.2MB/s    in 0.4s    \n",
            "\n",
            "2020-03-07 05:26:44 (44.2 MB/s) - ‘video_feature_train.csv.2’ saved [20017721/20017721]\n",
            "\n",
            "--2020-03-07 05:26:47--  https://raw.githubusercontent.com/keshavsbhandari/CS4347/master/assignment1_regression/data/video_feature_test.csv\n",
            "Resolving raw.githubusercontent.com (raw.githubusercontent.com)... 151.101.0.133, 151.101.64.133, 151.101.128.133, ...\n",
            "Connecting to raw.githubusercontent.com (raw.githubusercontent.com)|151.101.0.133|:443... connected.\n",
            "HTTP request sent, awaiting response... 200 OK\n",
            "Length: 4971001 (4.7M) [text/plain]\n",
            "Saving to: ‘video_feature_test.csv.2’\n",
            "\n",
            "video_feature_test. 100%[===================>]   4.74M  --.-KB/s    in 0.1s    \n",
            "\n",
            "2020-03-07 05:26:47 (48.5 MB/s) - ‘video_feature_test.csv.2’ saved [4971001/4971001]\n",
            "\n"
          ],
          "name": "stdout"
        }
      ]
    },
    {
      "cell_type": "code",
      "metadata": {
        "id": "Mfsn3nuz6aWy",
        "colab": {
          "base_uri": "https://localhost:8080/",
          "height": 51
        },
        "outputId": "c1500e52-565f-4ad2-c791-a9b01e2e11d0"
      },
      "source": [
        "# Now let us load this dataset\n",
        "# You have to do nothing, this data is already processed and standardize\n",
        "train = pd.read_csv('video_feature_train.csv')\n",
        "test = pd.read_csv('video_feature_test.csv')\n",
        "\n",
        "feature_names = list(train.columns)[:-1]\n",
        "target_names = list(train.columns)[-1:]\n",
        "\n",
        "\n",
        "# Now create xtrain and xtest\n",
        "xtrain = train.drop(columns=['label']).values\n",
        "ytrain = train['label'].values\n",
        "\n",
        "xtest = test.drop(columns=['label']).values\n",
        "ytest = test['label'].values\n",
        "\n",
        "# View size of data\n",
        "print(f'xtrain : {xtrain.shape}, ytrain : {ytrain.shape}')\n",
        "print(f'xtest : {xtest.shape}, ytest : {ytest.shape}')"
      ],
      "execution_count": null,
      "outputs": [
        {
          "output_type": "stream",
          "text": [
            "xtrain : (55103, 25), ytrain : (55103,)\n",
            "xtest : (13681, 25), ytest : (13681,)\n"
          ],
          "name": "stdout"
        }
      ]
    },
    {
      "cell_type": "code",
      "metadata": {
        "id": "cZcK0A7v6j4A"
      },
      "source": [
        "# Now let us define a LinearRegression model \n",
        "from sklearn.linear_model import LinearRegression\n",
        "model = LinearRegression()"
      ],
      "execution_count": null,
      "outputs": []
    },
    {
      "cell_type": "code",
      "metadata": {
        "id": "QBuOhAqx7DWD",
        "colab": {
          "base_uri": "https://localhost:8080/",
          "height": 34
        },
        "outputId": "ee2fc856-02af-4bfd-d6b7-4eeadd70bd57"
      },
      "source": [
        "# Teck %%timeit check on model fitting\n",
        "%%timeit\n",
        "model.fit(xtrain,ytrain,)"
      ],
      "execution_count": null,
      "outputs": [
        {
          "output_type": "stream",
          "text": [
            "10 loops, best of 3: 42.2 ms per loop\n"
          ],
          "name": "stdout"
        }
      ]
    },
    {
      "cell_type": "code",
      "metadata": {
        "id": "V0Rqnk0K8cqH",
        "colab": {
          "base_uri": "https://localhost:8080/",
          "height": 34
        },
        "outputId": "18873843-b894-41b8-f1e3-69e55fe2ca21"
      },
      "source": [
        "# Now let us see our model score\n",
        "# Score represents what percentage our model explains the target variable pretty well\n",
        "score = model.score(xtest,ytest)\n",
        "score"
      ],
      "execution_count": null,
      "outputs": [
        {
          "output_type": "execute_result",
          "data": {
            "text/plain": [
              "0.6584620177806871"
            ]
          },
          "metadata": {
            "tags": []
          },
          "execution_count": 306
        }
      ]
    },
    {
      "cell_type": "code",
      "metadata": {
        "id": "-iBKxcME-qkb"
      },
      "source": [
        "# Let us recall some basic understanding\n",
        "# Here our model is infact following equeation\n",
        "# model(x) = b + w0*x0 + w1*x1 + ..... + w24*x24\n",
        "# Note: x has dim 25\n",
        "# where b is intercept with dim 1\n",
        "# where w0,w1 is coef_ = [w0,w1,.....,w24] of dim25"
      ],
      "execution_count": null,
      "outputs": []
    },
    {
      "cell_type": "code",
      "metadata": {
        "id": "IOFCECrS_UMD",
        "colab": {
          "base_uri": "https://localhost:8080/",
          "height": 34
        },
        "outputId": "9ed4af50-c3d3-4c92-e32e-1460dff34024"
      },
      "source": [
        "# Print size of coef_ and intercept\n",
        "print(f'coef_ shape : {model.coef_.size}, intercept_shape : {model.intercept_.size}')"
      ],
      "execution_count": null,
      "outputs": [
        {
          "output_type": "stream",
          "text": [
            "coef_ shape : 25, intercept_shape : 1\n"
          ],
          "name": "stdout"
        }
      ]
    },
    {
      "cell_type": "code",
      "metadata": {
        "id": "sa8xU3bA8htX",
        "colab": {
          "base_uri": "https://localhost:8080/",
          "height": 136
        },
        "outputId": "908e3edb-2305-44e4-da8f-b5b4719bf12f"
      },
      "source": [
        "# Now let us see our coef_ = [w0,w1,.....]\n",
        "model.coef_"
      ],
      "execution_count": null,
      "outputs": [
        {
          "output_type": "execute_result",
          "data": {
            "text/plain": [
              "array([-1.15541551e-01,  6.70918036e-01, -3.05366501e-01, -2.50009984e-01,\n",
              "       -5.85004144e+00,  6.14607869e+00, -3.07841954e+00,  2.78238229e+00,\n",
              "        2.85975634e-01,  3.98939968e+00, -3.93789479e+00,  1.88617962e+00,\n",
              "        5.52185669e-01, -5.93426661e-01,  1.98596859e-01,  1.58985093e-02,\n",
              "        1.88160863e-01, -4.73971299e+00, -4.82322741e+01,  5.16206360e+01,\n",
              "        2.47281009e+00,  1.64043544e+00,  4.28228334e+00,  1.47616454e+00,\n",
              "        6.88191066e+00])"
            ]
          },
          "metadata": {
            "tags": []
          },
          "execution_count": 309
        }
      ]
    },
    {
      "cell_type": "code",
      "metadata": {
        "id": "LmTEJNTt8ou2",
        "colab": {
          "base_uri": "https://localhost:8080/",
          "height": 34
        },
        "outputId": "1dffc5a6-54a9-42fb-d65f-fc581ad89f55"
      },
      "source": [
        "# Now let us see our intercept_\n",
        "model.intercept_"
      ],
      "execution_count": null,
      "outputs": [
        {
          "output_type": "execute_result",
          "data": {
            "text/plain": [
              "9.820751720096714"
            ]
          },
          "metadata": {
            "tags": []
          },
          "execution_count": 310
        }
      ]
    },
    {
      "cell_type": "code",
      "metadata": {
        "id": "d8DGdOXC88D9",
        "colab": {
          "base_uri": "https://localhost:8080/",
          "height": 590
        },
        "outputId": "317c8cdc-c7d4-49d2-d2b2-ed558598baed"
      },
      "source": [
        "# Let us visualize importance of these coef_\n",
        "plt.bar(x=feature_names, height=np.abs(model.coef_), label='Feature Importance')\n",
        "plt.xticks(rotation='vertical')\n",
        "plt.legend()"
      ],
      "execution_count": null,
      "outputs": [
        {
          "output_type": "execute_result",
          "data": {
            "text/plain": [
              "<matplotlib.legend.Legend at 0x7fc2112c2e10>"
            ]
          },
          "metadata": {
            "tags": []
          },
          "execution_count": 311
        },
        {
          "output_type": "display_data",
          "data": {
            "image/png": "[encoded data removed]",
            "text/plain": [
              "<Figure size 1152x576 with 1 Axes>"
            ]
          },
          "metadata": {
            "tags": []
          }
        }
      ]
    },
    {
      "cell_type": "code",
      "metadata": {
        "id": "Fu4qdUY789Gc"
      },
      "source": [
        "# We can see that many features do not contribute much as they are close to 0"
      ],
      "execution_count": null,
      "outputs": []
    },
    {
      "cell_type": "code",
      "metadata": {
        "id": "MR8NF0tC-YBF"
      },
      "source": [
        "# So with this understanding we come to realize that not every feature is important\n",
        "# We have many different ways to get rid of features that are not very important\n",
        "# One of the easiest way is itereate over all possible combinations"
      ],
      "execution_count": null,
      "outputs": []
    },
    {
      "cell_type": "code",
      "metadata": {
        "id": "IxpJjIGt-irC"
      },
      "source": [
        "# We will do subset feature selection here\n",
        "# Subset feature selection is a way to take all possible permutations of features\n",
        "# For our case this will be extremely bigger, so let us filter out some of weight less than mean of coef_"
      ],
      "execution_count": null,
      "outputs": []
    },
    {
      "cell_type": "code",
      "metadata": {
        "id": "PYz9qfQiBWMD",
        "colab": {
          "base_uri": "https://localhost:8080/",
          "height": 71
        },
        "outputId": "31f1cbe3-7ede-4cfd-f729-dfdd4b3b35ff"
      },
      "source": [
        "important_feature = list(np.array(feature_names)[model.coef_>np.mean(model.coef_)])\n",
        "print(important_feature)\n",
        "print(f'length : {len(important_feature)}')"
      ],
      "execution_count": null,
      "outputs": [
        {
          "output_type": "stream",
          "text": [
            "['o_codec_h264', 'o_codec_vp8', 'width', 'bitrate', 'size', 'o_bitrate', 'o_framerate', 'o_width', 'o_height', 'umem']\n",
            "length : 10\n"
          ],
          "name": "stdout"
        }
      ]
    },
    {
      "cell_type": "code",
      "metadata": {
        "id": "X75DY-N4DTYc"
      },
      "source": [
        "# Let us get entire combinations \n",
        "from itertools import  combinations\n",
        "all_feature_combinations = []\n",
        "for i in range(1,len(important_feature)+1):\n",
        "  combo = [*combinations(important_feature,i)]\n",
        "  combo = [*map(list,combo)]\n",
        "  all_feature_combinations.extend(combo)"
      ],
      "execution_count": null,
      "outputs": []
    },
    {
      "cell_type": "code",
      "metadata": {
        "id": "7PiM2ntkDdB9",
        "colab": {
          "base_uri": "https://localhost:8080/",
          "height": 34
        },
        "outputId": "1fcbf9b4-7562-4860-af4a-b16f01a163b5"
      },
      "source": [
        "# Print length of all cominations\n",
        "print(len(all_feature_combinations))"
      ],
      "execution_count": null,
      "outputs": [
        {
          "output_type": "stream",
          "text": [
            "1023\n"
          ],
          "name": "stdout"
        }
      ]
    },
    {
      "cell_type": "code",
      "metadata": {
        "id": "7EPtwI_wEID3",
        "colab": {
          "base_uri": "https://localhost:8080/",
          "height": 1000
        },
        "outputId": "9321cb4c-ae11-49b0-d5a1-815dbde4aba3"
      },
      "source": [
        "# Print all feature combinations\n",
        "all_feature_combinations"
      ],
      "execution_count": null,
      "outputs": [
        {
          "output_type": "execute_result",
          "data": {
            "text/plain": [
              "[['o_codec_h264'],\n",
              " ['o_codec_vp8'],\n",
              " ['width'],\n",
              " ['bitrate'],\n",
              " ['size'],\n",
              " ['o_bitrate'],\n",
              " ['o_framerate'],\n",
              " ['o_width'],\n",
              " ['o_height'],\n",
              " ['umem'],\n",
              " ['o_codec_h264', 'o_codec_vp8'],\n",
              " ['o_codec_h264', 'width'],\n",
              " ['o_codec_h264', 'bitrate'],\n",
              " ['o_codec_h264', 'size'],\n",
              " ['o_codec_h264', 'o_bitrate'],\n",
              " ['o_codec_h264', 'o_framerate'],\n",
              " ['o_codec_h264', 'o_width'],\n",
              " ['o_codec_h264', 'o_height'],\n",
              " ['o_codec_h264', 'umem'],\n",
              " ['o_codec_vp8', 'width'],\n",
              " ['o_codec_vp8', 'bitrate'],\n",
              " ['o_codec_vp8', 'size'],\n",
              " ['o_codec_vp8', 'o_bitrate'],\n",
              " ['o_codec_vp8', 'o_framerate'],\n",
              " ['o_codec_vp8', 'o_width'],\n",
              " ['o_codec_vp8', 'o_height'],\n",
              " ['o_codec_vp8', 'umem'],\n",
              " ['width', 'bitrate'],\n",
              " ['width', 'size'],\n",
              " ['width', 'o_bitrate'],\n",
              " ['width', 'o_framerate'],\n",
              " ['width', 'o_width'],\n",
              " ['width', 'o_height'],\n",
              " ['width', 'umem'],\n",
              " ['bitrate', 'size'],\n",
              " ['bitrate', 'o_bitrate'],\n",
              " ['bitrate', 'o_framerate'],\n",
              " ['bitrate', 'o_width'],\n",
              " ['bitrate', 'o_height'],\n",
              " ['bitrate', 'umem'],\n",
              " ['size', 'o_bitrate'],\n",
              " ['size', 'o_framerate'],\n",
              " ['size', 'o_width'],\n",
              " ['size', 'o_height'],\n",
              " ['size', 'umem'],\n",
              " ['o_bitrate', 'o_framerate'],\n",
              " ['o_bitrate', 'o_width'],\n",
              " ['o_bitrate', 'o_height'],\n",
              " ['o_bitrate', 'umem'],\n",
              " ['o_framerate', 'o_width'],\n",
              " ['o_framerate', 'o_height'],\n",
              " ['o_framerate', 'umem'],\n",
              " ['o_width', 'o_height'],\n",
              " ['o_width', 'umem'],\n",
              " ['o_height', 'umem'],\n",
              " ['o_codec_h264', 'o_codec_vp8', 'width'],\n",
              " ['o_codec_h264', 'o_codec_vp8', 'bitrate'],\n",
              " ['o_codec_h264', 'o_codec_vp8', 'size'],\n",
              " ['o_codec_h264', 'o_codec_vp8', 'o_bitrate'],\n",
              " ['o_codec_h264', 'o_codec_vp8', 'o_framerate'],\n",
              " ['o_codec_h264', 'o_codec_vp8', 'o_width'],\n",
              " ['o_codec_h264', 'o_codec_vp8', 'o_height'],\n",
              " ['o_codec_h264', 'o_codec_vp8', 'umem'],\n",
              " ['o_codec_h264', 'width', 'bitrate'],\n",
              " ['o_codec_h264', 'width', 'size'],\n",
              " ['o_codec_h264', 'width', 'o_bitrate'],\n",
              " ['o_codec_h264', 'width', 'o_framerate'],\n",
              " ['o_codec_h264', 'width', 'o_width'],\n",
              " ['o_codec_h264', 'width', 'o_height'],\n",
              " ['o_codec_h264', 'width', 'umem'],\n",
              " ['o_codec_h264', 'bitrate', 'size'],\n",
              " ['o_codec_h264', 'bitrate', 'o_bitrate'],\n",
              " ['o_codec_h264', 'bitrate', 'o_framerate'],\n",
              " ['o_codec_h264', 'bitrate', 'o_width'],\n",
              " ['o_codec_h264', 'bitrate', 'o_height'],\n",
              " ['o_codec_h264', 'bitrate', 'umem'],\n",
              " ['o_codec_h264', 'size', 'o_bitrate'],\n",
              " ['o_codec_h264', 'size', 'o_framerate'],\n",
              " ['o_codec_h264', 'size', 'o_width'],\n",
              " ['o_codec_h264', 'size', 'o_height'],\n",
              " ['o_codec_h264', 'size', 'umem'],\n",
              " ['o_codec_h264', 'o_bitrate', 'o_framerate'],\n",
              " ['o_codec_h264', 'o_bitrate', 'o_width'],\n",
              " ['o_codec_h264', 'o_bitrate', 'o_height'],\n",
              " ['o_codec_h264', 'o_bitrate', 'umem'],\n",
              " ['o_codec_h264', 'o_framerate', 'o_width'],\n",
              " ['o_codec_h264', 'o_framerate', 'o_height'],\n",
              " ['o_codec_h264', 'o_framerate', 'umem'],\n",
              " ['o_codec_h264', 'o_width', 'o_height'],\n",
              " ['o_codec_h264', 'o_width', 'umem'],\n",
              " ['o_codec_h264', 'o_height', 'umem'],\n",
              " ['o_codec_vp8', 'width', 'bitrate'],\n",
              " ['o_codec_vp8', 'width', 'size'],\n",
              " ['o_codec_vp8', 'width', 'o_bitrate'],\n",
              " ['o_codec_vp8', 'width', 'o_framerate'],\n",
              " ['o_codec_vp8', 'width', 'o_width'],\n",
              " ['o_codec_vp8', 'width', 'o_height'],\n",
              " ['o_codec_vp8', 'width', 'umem'],\n",
              " ['o_codec_vp8', 'bitrate', 'size'],\n",
              " ['o_codec_vp8', 'bitrate', 'o_bitrate'],\n",
              " ['o_codec_vp8', 'bitrate', 'o_framerate'],\n",
              " ['o_codec_vp8', 'bitrate', 'o_width'],\n",
              " ['o_codec_vp8', 'bitrate', 'o_height'],\n",
              " ['o_codec_vp8', 'bitrate', 'umem'],\n",
              " ['o_codec_vp8', 'size', 'o_bitrate'],\n",
              " ['o_codec_vp8', 'size', 'o_framerate'],\n",
              " ['o_codec_vp8', 'size', 'o_width'],\n",
              " ['o_codec_vp8', 'size', 'o_height'],\n",
              " ['o_codec_vp8', 'size', 'umem'],\n",
              " ['o_codec_vp8', 'o_bitrate', 'o_framerate'],\n",
              " ['o_codec_vp8', 'o_bitrate', 'o_width'],\n",
              " ['o_codec_vp8', 'o_bitrate', 'o_height'],\n",
              " ['o_codec_vp8', 'o_bitrate', 'umem'],\n",
              " ['o_codec_vp8', 'o_framerate', 'o_width'],\n",
              " ['o_codec_vp8', 'o_framerate', 'o_height'],\n",
              " ['o_codec_vp8', 'o_framerate', 'umem'],\n",
              " ['o_codec_vp8', 'o_width', 'o_height'],\n",
              " ['o_codec_vp8', 'o_width', 'umem'],\n",
              " ['o_codec_vp8', 'o_height', 'umem'],\n",
              " ['width', 'bitrate', 'size'],\n",
              " ['width', 'bitrate', 'o_bitrate'],\n",
              " ['width', 'bitrate', 'o_framerate'],\n",
              " ['width', 'bitrate', 'o_width'],\n",
              " ['width', 'bitrate', 'o_height'],\n",
              " ['width', 'bitrate', 'umem'],\n",
              " ['width', 'size', 'o_bitrate'],\n",
              " ['width', 'size', 'o_framerate'],\n",
              " ['width', 'size', 'o_width'],\n",
              " ['width', 'size', 'o_height'],\n",
              " ['width', 'size', 'umem'],\n",
              " ['width', 'o_bitrate', 'o_framerate'],\n",
              " ['width', 'o_bitrate', 'o_width'],\n",
              " ['width', 'o_bitrate', 'o_height'],\n",
              " ['width', 'o_bitrate', 'umem'],\n",
              " ['width', 'o_framerate', 'o_width'],\n",
              " ['width', 'o_framerate', 'o_height'],\n",
              " ['width', 'o_framerate', 'umem'],\n",
              " ['width', 'o_width', 'o_height'],\n",
              " ['width', 'o_width', 'umem'],\n",
              " ['width', 'o_height', 'umem'],\n",
              " ['bitrate', 'size', 'o_bitrate'],\n",
              " ['bitrate', 'size', 'o_framerate'],\n",
              " ['bitrate', 'size', 'o_width'],\n",
              " ['bitrate', 'size', 'o_height'],\n",
              " ['bitrate', 'size', 'umem'],\n",
              " ['bitrate', 'o_bitrate', 'o_framerate'],\n",
              " ['bitrate', 'o_bitrate', 'o_width'],\n",
              " ['bitrate', 'o_bitrate', 'o_height'],\n",
              " ['bitrate', 'o_bitrate', 'umem'],\n",
              " ['bitrate', 'o_framerate', 'o_width'],\n",
              " ['bitrate', 'o_framerate', 'o_height'],\n",
              " ['bitrate', 'o_framerate', 'umem'],\n",
              " ['bitrate', 'o_width', 'o_height'],\n",
              " ['bitrate', 'o_width', 'umem'],\n",
              " ['bitrate', 'o_height', 'umem'],\n",
              " ['size', 'o_bitrate', 'o_framerate'],\n",
              " ['size', 'o_bitrate', 'o_width'],\n",
              " ['size', 'o_bitrate', 'o_height'],\n",
              " ['size', 'o_bitrate', 'umem'],\n",
              " ['size', 'o_framerate', 'o_width'],\n",
              " ['size', 'o_framerate', 'o_height'],\n",
              " ['size', 'o_framerate', 'umem'],\n",
              " ['size', 'o_width', 'o_height'],\n",
              " ['size', 'o_width', 'umem'],\n",
              " ['size', 'o_height', 'umem'],\n",
              " ['o_bitrate', 'o_framerate', 'o_width'],\n",
              " ['o_bitrate', 'o_framerate', 'o_height'],\n",
              " ['o_bitrate', 'o_framerate', 'umem'],\n",
              " ['o_bitrate', 'o_width', 'o_height'],\n",
              " ['o_bitrate', 'o_width', 'umem'],\n",
              " ['o_bitrate', 'o_height', 'umem'],\n",
              " ['o_framerate', 'o_width', 'o_height'],\n",
              " ['o_framerate', 'o_width', 'umem'],\n",
              " ['o_framerate', 'o_height', 'umem'],\n",
              " ['o_width', 'o_height', 'umem'],\n",
              " ['o_codec_h264', 'o_codec_vp8', 'width', 'bitrate'],\n",
              " ['o_codec_h264', 'o_codec_vp8', 'width', 'size'],\n",
              " ['o_codec_h264', 'o_codec_vp8', 'width', 'o_bitrate'],\n",
              " ['o_codec_h264', 'o_codec_vp8', 'width', 'o_framerate'],\n",
              " ['o_codec_h264', 'o_codec_vp8', 'width', 'o_width'],\n",
              " ['o_codec_h264', 'o_codec_vp8', 'width', 'o_height'],\n",
              " ['o_codec_h264', 'o_codec_vp8', 'width', 'umem'],\n",
              " ['o_codec_h264', 'o_codec_vp8', 'bitrate', 'size'],\n",
              " ['o_codec_h264', 'o_codec_vp8', 'bitrate', 'o_bitrate'],\n",
              " ['o_codec_h264', 'o_codec_vp8', 'bitrate', 'o_framerate'],\n",
              " ['o_codec_h264', 'o_codec_vp8', 'bitrate', 'o_width'],\n",
              " ['o_codec_h264', 'o_codec_vp8', 'bitrate', 'o_height'],\n",
              " ['o_codec_h264', 'o_codec_vp8', 'bitrate', 'umem'],\n",
              " ['o_codec_h264', 'o_codec_vp8', 'size', 'o_bitrate'],\n",
              " ['o_codec_h264', 'o_codec_vp8', 'size', 'o_framerate'],\n",
              " ['o_codec_h264', 'o_codec_vp8', 'size', 'o_width'],\n",
              " ['o_codec_h264', 'o_codec_vp8', 'size', 'o_height'],\n",
              " ['o_codec_h264', 'o_codec_vp8', 'size', 'umem'],\n",
              " ['o_codec_h264', 'o_codec_vp8', 'o_bitrate', 'o_framerate'],\n",
              " ['o_codec_h264', 'o_codec_vp8', 'o_bitrate', 'o_width'],\n",
              " ['o_codec_h264', 'o_codec_vp8', 'o_bitrate', 'o_height'],\n",
              " ['o_codec_h264', 'o_codec_vp8', 'o_bitrate', 'umem'],\n",
              " ['o_codec_h264', 'o_codec_vp8', 'o_framerate', 'o_width'],\n",
              " ['o_codec_h264', 'o_codec_vp8', 'o_framerate', 'o_height'],\n",
              " ['o_codec_h264', 'o_codec_vp8', 'o_framerate', 'umem'],\n",
              " ['o_codec_h264', 'o_codec_vp8', 'o_width', 'o_height'],\n",
              " ['o_codec_h264', 'o_codec_vp8', 'o_width', 'umem'],\n",
              " ['o_codec_h264', 'o_codec_vp8', 'o_height', 'umem'],\n",
              " ['o_codec_h264', 'width', 'bitrate', 'size'],\n",
              " ['o_codec_h264', 'width', 'bitrate', 'o_bitrate'],\n",
              " ['o_codec_h264', 'width', 'bitrate', 'o_framerate'],\n",
              " ['o_codec_h264', 'width', 'bitrate', 'o_width'],\n",
              " ['o_codec_h264', 'width', 'bitrate', 'o_height'],\n",
              " ['o_codec_h264', 'width', 'bitrate', 'umem'],\n",
              " ['o_codec_h264', 'width', 'size', 'o_bitrate'],\n",
              " ['o_codec_h264', 'width', 'size', 'o_framerate'],\n",
              " ['o_codec_h264', 'width', 'size', 'o_width'],\n",
              " ['o_codec_h264', 'width', 'size', 'o_height'],\n",
              " ['o_codec_h264', 'width', 'size', 'umem'],\n",
              " ['o_codec_h264', 'width', 'o_bitrate', 'o_framerate'],\n",
              " ['o_codec_h264', 'width', 'o_bitrate', 'o_width'],\n",
              " ['o_codec_h264', 'width', 'o_bitrate', 'o_height'],\n",
              " ['o_codec_h264', 'width', 'o_bitrate', 'umem'],\n",
              " ['o_codec_h264', 'width', 'o_framerate', 'o_width'],\n",
              " ['o_codec_h264', 'width', 'o_framerate', 'o_height'],\n",
              " ['o_codec_h264', 'width', 'o_framerate', 'umem'],\n",
              " ['o_codec_h264', 'width', 'o_width', 'o_height'],\n",
              " ['o_codec_h264', 'width', 'o_width', 'umem'],\n",
              " ['o_codec_h264', 'width', 'o_height', 'umem'],\n",
              " ['o_codec_h264', 'bitrate', 'size', 'o_bitrate'],\n",
              " ['o_codec_h264', 'bitrate', 'size', 'o_framerate'],\n",
              " ['o_codec_h264', 'bitrate', 'size', 'o_width'],\n",
              " ['o_codec_h264', 'bitrate', 'size', 'o_height'],\n",
              " ['o_codec_h264', 'bitrate', 'size', 'umem'],\n",
              " ['o_codec_h264', 'bitrate', 'o_bitrate', 'o_framerate'],\n",
              " ['o_codec_h264', 'bitrate', 'o_bitrate', 'o_width'],\n",
              " ['o_codec_h264', 'bitrate', 'o_bitrate', 'o_height'],\n",
              " ['o_codec_h264', 'bitrate', 'o_bitrate', 'umem'],\n",
              " ['o_codec_h264', 'bitrate', 'o_framerate', 'o_width'],\n",
              " ['o_codec_h264', 'bitrate', 'o_framerate', 'o_height'],\n",
              " ['o_codec_h264', 'bitrate', 'o_framerate', 'umem'],\n",
              " ['o_codec_h264', 'bitrate', 'o_width', 'o_height'],\n",
              " ['o_codec_h264', 'bitrate', 'o_width', 'umem'],\n",
              " ['o_codec_h264', 'bitrate', 'o_height', 'umem'],\n",
              " ['o_codec_h264', 'size', 'o_bitrate', 'o_framerate'],\n",
              " ['o_codec_h264', 'size', 'o_bitrate', 'o_width'],\n",
              " ['o_codec_h264', 'size', 'o_bitrate', 'o_height'],\n",
              " ['o_codec_h264', 'size', 'o_bitrate', 'umem'],\n",
              " ['o_codec_h264', 'size', 'o_framerate', 'o_width'],\n",
              " ['o_codec_h264', 'size', 'o_framerate', 'o_height'],\n",
              " ['o_codec_h264', 'size', 'o_framerate', 'umem'],\n",
              " ['o_codec_h264', 'size', 'o_width', 'o_height'],\n",
              " ['o_codec_h264', 'size', 'o_width', 'umem'],\n",
              " ['o_codec_h264', 'size', 'o_height', 'umem'],\n",
              " ['o_codec_h264', 'o_bitrate', 'o_framerate', 'o_width'],\n",
              " ['o_codec_h264', 'o_bitrate', 'o_framerate', 'o_height'],\n",
              " ['o_codec_h264', 'o_bitrate', 'o_framerate', 'umem'],\n",
              " ['o_codec_h264', 'o_bitrate', 'o_width', 'o_height'],\n",
              " ['o_codec_h264', 'o_bitrate', 'o_width', 'umem'],\n",
              " ['o_codec_h264', 'o_bitrate', 'o_height', 'umem'],\n",
              " ['o_codec_h264', 'o_framerate', 'o_width', 'o_height'],\n",
              " ['o_codec_h264', 'o_framerate', 'o_width', 'umem'],\n",
              " ['o_codec_h264', 'o_framerate', 'o_height', 'umem'],\n",
              " ['o_codec_h264', 'o_width', 'o_height', 'umem'],\n",
              " ['o_codec_vp8', 'width', 'bitrate', 'size'],\n",
              " ['o_codec_vp8', 'width', 'bitrate', 'o_bitrate'],\n",
              " ['o_codec_vp8', 'width', 'bitrate', 'o_framerate'],\n",
              " ['o_codec_vp8', 'width', 'bitrate', 'o_width'],\n",
              " ['o_codec_vp8', 'width', 'bitrate', 'o_height'],\n",
              " ['o_codec_vp8', 'width', 'bitrate', 'umem'],\n",
              " ['o_codec_vp8', 'width', 'size', 'o_bitrate'],\n",
              " ['o_codec_vp8', 'width', 'size', 'o_framerate'],\n",
              " ['o_codec_vp8', 'width', 'size', 'o_width'],\n",
              " ['o_codec_vp8', 'width', 'size', 'o_height'],\n",
              " ['o_codec_vp8', 'width', 'size', 'umem'],\n",
              " ['o_codec_vp8', 'width', 'o_bitrate', 'o_framerate'],\n",
              " ['o_codec_vp8', 'width', 'o_bitrate', 'o_width'],\n",
              " ['o_codec_vp8', 'width', 'o_bitrate', 'o_height'],\n",
              " ['o_codec_vp8', 'width', 'o_bitrate', 'umem'],\n",
              " ['o_codec_vp8', 'width', 'o_framerate', 'o_width'],\n",
              " ['o_codec_vp8', 'width', 'o_framerate', 'o_height'],\n",
              " ['o_codec_vp8', 'width', 'o_framerate', 'umem'],\n",
              " ['o_codec_vp8', 'width', 'o_width', 'o_height'],\n",
              " ['o_codec_vp8', 'width', 'o_width', 'umem'],\n",
              " ['o_codec_vp8', 'width', 'o_height', 'umem'],\n",
              " ['o_codec_vp8', 'bitrate', 'size', 'o_bitrate'],\n",
              " ['o_codec_vp8', 'bitrate', 'size', 'o_framerate'],\n",
              " ['o_codec_vp8', 'bitrate', 'size', 'o_width'],\n",
              " ['o_codec_vp8', 'bitrate', 'size', 'o_height'],\n",
              " ['o_codec_vp8', 'bitrate', 'size', 'umem'],\n",
              " ['o_codec_vp8', 'bitrate', 'o_bitrate', 'o_framerate'],\n",
              " ['o_codec_vp8', 'bitrate', 'o_bitrate', 'o_width'],\n",
              " ['o_codec_vp8', 'bitrate', 'o_bitrate', 'o_height'],\n",
              " ['o_codec_vp8', 'bitrate', 'o_bitrate', 'umem'],\n",
              " ['o_codec_vp8', 'bitrate', 'o_framerate', 'o_width'],\n",
              " ['o_codec_vp8', 'bitrate', 'o_framerate', 'o_height'],\n",
              " ['o_codec_vp8', 'bitrate', 'o_framerate', 'umem'],\n",
              " ['o_codec_vp8', 'bitrate', 'o_width', 'o_height'],\n",
              " ['o_codec_vp8', 'bitrate', 'o_width', 'umem'],\n",
              " ['o_codec_vp8', 'bitrate', 'o_height', 'umem'],\n",
              " ['o_codec_vp8', 'size', 'o_bitrate', 'o_framerate'],\n",
              " ['o_codec_vp8', 'size', 'o_bitrate', 'o_width'],\n",
              " ['o_codec_vp8', 'size', 'o_bitrate', 'o_height'],\n",
              " ['o_codec_vp8', 'size', 'o_bitrate', 'umem'],\n",
              " ['o_codec_vp8', 'size', 'o_framerate', 'o_width'],\n",
              " ['o_codec_vp8', 'size', 'o_framerate', 'o_height'],\n",
              " ['o_codec_vp8', 'size', 'o_framerate', 'umem'],\n",
              " ['o_codec_vp8', 'size', 'o_width', 'o_height'],\n",
              " ['o_codec_vp8', 'size', 'o_width', 'umem'],\n",
              " ['o_codec_vp8', 'size', 'o_height', 'umem'],\n",
              " ['o_codec_vp8', 'o_bitrate', 'o_framerate', 'o_width'],\n",
              " ['o_codec_vp8', 'o_bitrate', 'o_framerate', 'o_height'],\n",
              " ['o_codec_vp8', 'o_bitrate', 'o_framerate', 'umem'],\n",
              " ['o_codec_vp8', 'o_bitrate', 'o_width', 'o_height'],\n",
              " ['o_codec_vp8', 'o_bitrate', 'o_width', 'umem'],\n",
              " ['o_codec_vp8', 'o_bitrate', 'o_height', 'umem'],\n",
              " ['o_codec_vp8', 'o_framerate', 'o_width', 'o_height'],\n",
              " ['o_codec_vp8', 'o_framerate', 'o_width', 'umem'],\n",
              " ['o_codec_vp8', 'o_framerate', 'o_height', 'umem'],\n",
              " ['o_codec_vp8', 'o_width', 'o_height', 'umem'],\n",
              " ['width', 'bitrate', 'size', 'o_bitrate'],\n",
              " ['width', 'bitrate', 'size', 'o_framerate'],\n",
              " ['width', 'bitrate', 'size', 'o_width'],\n",
              " ['width', 'bitrate', 'size', 'o_height'],\n",
              " ['width', 'bitrate', 'size', 'umem'],\n",
              " ['width', 'bitrate', 'o_bitrate', 'o_framerate'],\n",
              " ['width', 'bitrate', 'o_bitrate', 'o_width'],\n",
              " ['width', 'bitrate', 'o_bitrate', 'o_height'],\n",
              " ['width', 'bitrate', 'o_bitrate', 'umem'],\n",
              " ['width', 'bitrate', 'o_framerate', 'o_width'],\n",
              " ['width', 'bitrate', 'o_framerate', 'o_height'],\n",
              " ['width', 'bitrate', 'o_framerate', 'umem'],\n",
              " ['width', 'bitrate', 'o_width', 'o_height'],\n",
              " ['width', 'bitrate', 'o_width', 'umem'],\n",
              " ['width', 'bitrate', 'o_height', 'umem'],\n",
              " ['width', 'size', 'o_bitrate', 'o_framerate'],\n",
              " ['width', 'size', 'o_bitrate', 'o_width'],\n",
              " ['width', 'size', 'o_bitrate', 'o_height'],\n",
              " ['width', 'size', 'o_bitrate', 'umem'],\n",
              " ['width', 'size', 'o_framerate', 'o_width'],\n",
              " ['width', 'size', 'o_framerate', 'o_height'],\n",
              " ['width', 'size', 'o_framerate', 'umem'],\n",
              " ['width', 'size', 'o_width', 'o_height'],\n",
              " ['width', 'size', 'o_width', 'umem'],\n",
              " ['width', 'size', 'o_height', 'umem'],\n",
              " ['width', 'o_bitrate', 'o_framerate', 'o_width'],\n",
              " ['width', 'o_bitrate', 'o_framerate', 'o_height'],\n",
              " ['width', 'o_bitrate', 'o_framerate', 'umem'],\n",
              " ['width', 'o_bitrate', 'o_width', 'o_height'],\n",
              " ['width', 'o_bitrate', 'o_width', 'umem'],\n",
              " ['width', 'o_bitrate', 'o_height', 'umem'],\n",
              " ['width', 'o_framerate', 'o_width', 'o_height'],\n",
              " ['width', 'o_framerate', 'o_width', 'umem'],\n",
              " ['width', 'o_framerate', 'o_height', 'umem'],\n",
              " ['width', 'o_width', 'o_height', 'umem'],\n",
              " ['bitrate', 'size', 'o_bitrate', 'o_framerate'],\n",
              " ['bitrate', 'size', 'o_bitrate', 'o_width'],\n",
              " ['bitrate', 'size', 'o_bitrate', 'o_height'],\n",
              " ['bitrate', 'size', 'o_bitrate', 'umem'],\n",
              " ['bitrate', 'size', 'o_framerate', 'o_width'],\n",
              " ['bitrate', 'size', 'o_framerate', 'o_height'],\n",
              " ['bitrate', 'size', 'o_framerate', 'umem'],\n",
              " ['bitrate', 'size', 'o_width', 'o_height'],\n",
              " ['bitrate', 'size', 'o_width', 'umem'],\n",
              " ['bitrate', 'size', 'o_height', 'umem'],\n",
              " ['bitrate', 'o_bitrate', 'o_framerate', 'o_width'],\n",
              " ['bitrate', 'o_bitrate', 'o_framerate', 'o_height'],\n",
              " ['bitrate', 'o_bitrate', 'o_framerate', 'umem'],\n",
              " ['bitrate', 'o_bitrate', 'o_width', 'o_height'],\n",
              " ['bitrate', 'o_bitrate', 'o_width', 'umem'],\n",
              " ['bitrate', 'o_bitrate', 'o_height', 'umem'],\n",
              " ['bitrate', 'o_framerate', 'o_width', 'o_height'],\n",
              " ['bitrate', 'o_framerate', 'o_width', 'umem'],\n",
              " ['bitrate', 'o_framerate', 'o_height', 'umem'],\n",
              " ['bitrate', 'o_width', 'o_height', 'umem'],\n",
              " ['size', 'o_bitrate', 'o_framerate', 'o_width'],\n",
              " ['size', 'o_bitrate', 'o_framerate', 'o_height'],\n",
              " ['size', 'o_bitrate', 'o_framerate', 'umem'],\n",
              " ['size', 'o_bitrate', 'o_width', 'o_height'],\n",
              " ['size', 'o_bitrate', 'o_width', 'umem'],\n",
              " ['size', 'o_bitrate', 'o_height', 'umem'],\n",
              " ['size', 'o_framerate', 'o_width', 'o_height'],\n",
              " ['size', 'o_framerate', 'o_width', 'umem'],\n",
              " ['size', 'o_framerate', 'o_height', 'umem'],\n",
              " ['size', 'o_width', 'o_height', 'umem'],\n",
              " ['o_bitrate', 'o_framerate', 'o_width', 'o_height'],\n",
              " ['o_bitrate', 'o_framerate', 'o_width', 'umem'],\n",
              " ['o_bitrate', 'o_framerate', 'o_height', 'umem'],\n",
              " ['o_bitrate', 'o_width', 'o_height', 'umem'],\n",
              " ['o_framerate', 'o_width', 'o_height', 'umem'],\n",
              " ['o_codec_h264', 'o_codec_vp8', 'width', 'bitrate', 'size'],\n",
              " ['o_codec_h264', 'o_codec_vp8', 'width', 'bitrate', 'o_bitrate'],\n",
              " ['o_codec_h264', 'o_codec_vp8', 'width', 'bitrate', 'o_framerate'],\n",
              " ['o_codec_h264', 'o_codec_vp8', 'width', 'bitrate', 'o_width'],\n",
              " ['o_codec_h264', 'o_codec_vp8', 'width', 'bitrate', 'o_height'],\n",
              " ['o_codec_h264', 'o_codec_vp8', 'width', 'bitrate', 'umem'],\n",
              " ['o_codec_h264', 'o_codec_vp8', 'width', 'size', 'o_bitrate'],\n",
              " ['o_codec_h264', 'o_codec_vp8', 'width', 'size', 'o_framerate'],\n",
              " ['o_codec_h264', 'o_codec_vp8', 'width', 'size', 'o_width'],\n",
              " ['o_codec_h264', 'o_codec_vp8', 'width', 'size', 'o_height'],\n",
              " ['o_codec_h264', 'o_codec_vp8', 'width', 'size', 'umem'],\n",
              " ['o_codec_h264', 'o_codec_vp8', 'width', 'o_bitrate', 'o_framerate'],\n",
              " ['o_codec_h264', 'o_codec_vp8', 'width', 'o_bitrate', 'o_width'],\n",
              " ['o_codec_h264', 'o_codec_vp8', 'width', 'o_bitrate', 'o_height'],\n",
              " ['o_codec_h264', 'o_codec_vp8', 'width', 'o_bitrate', 'umem'],\n",
              " ['o_codec_h264', 'o_codec_vp8', 'width', 'o_framerate', 'o_width'],\n",
              " ['o_codec_h264', 'o_codec_vp8', 'width', 'o_framerate', 'o_height'],\n",
              " ['o_codec_h264', 'o_codec_vp8', 'width', 'o_framerate', 'umem'],\n",
              " ['o_codec_h264', 'o_codec_vp8', 'width', 'o_width', 'o_height'],\n",
              " ['o_codec_h264', 'o_codec_vp8', 'width', 'o_width', 'umem'],\n",
              " ['o_codec_h264', 'o_codec_vp8', 'width', 'o_height', 'umem'],\n",
              " ['o_codec_h264', 'o_codec_vp8', 'bitrate', 'size', 'o_bitrate'],\n",
              " ['o_codec_h264', 'o_codec_vp8', 'bitrate', 'size', 'o_framerate'],\n",
              " ['o_codec_h264', 'o_codec_vp8', 'bitrate', 'size', 'o_width'],\n",
              " ['o_codec_h264', 'o_codec_vp8', 'bitrate', 'size', 'o_height'],\n",
              " ['o_codec_h264', 'o_codec_vp8', 'bitrate', 'size', 'umem'],\n",
              " ['o_codec_h264', 'o_codec_vp8', 'bitrate', 'o_bitrate', 'o_framerate'],\n",
              " ['o_codec_h264', 'o_codec_vp8', 'bitrate', 'o_bitrate', 'o_width'],\n",
              " ['o_codec_h264', 'o_codec_vp8', 'bitrate', 'o_bitrate', 'o_height'],\n",
              " ['o_codec_h264', 'o_codec_vp8', 'bitrate', 'o_bitrate', 'umem'],\n",
              " ['o_codec_h264', 'o_codec_vp8', 'bitrate', 'o_framerate', 'o_width'],\n",
              " ['o_codec_h264', 'o_codec_vp8', 'bitrate', 'o_framerate', 'o_height'],\n",
              " ['o_codec_h264', 'o_codec_vp8', 'bitrate', 'o_framerate', 'umem'],\n",
              " ['o_codec_h264', 'o_codec_vp8', 'bitrate', 'o_width', 'o_height'],\n",
              " ['o_codec_h264', 'o_codec_vp8', 'bitrate', 'o_width', 'umem'],\n",
              " ['o_codec_h264', 'o_codec_vp8', 'bitrate', 'o_height', 'umem'],\n",
              " ['o_codec_h264', 'o_codec_vp8', 'size', 'o_bitrate', 'o_framerate'],\n",
              " ['o_codec_h264', 'o_codec_vp8', 'size', 'o_bitrate', 'o_width'],\n",
              " ['o_codec_h264', 'o_codec_vp8', 'size', 'o_bitrate', 'o_height'],\n",
              " ['o_codec_h264', 'o_codec_vp8', 'size', 'o_bitrate', 'umem'],\n",
              " ['o_codec_h264', 'o_codec_vp8', 'size', 'o_framerate', 'o_width'],\n",
              " ['o_codec_h264', 'o_codec_vp8', 'size', 'o_framerate', 'o_height'],\n",
              " ['o_codec_h264', 'o_codec_vp8', 'size', 'o_framerate', 'umem'],\n",
              " ['o_codec_h264', 'o_codec_vp8', 'size', 'o_width', 'o_height'],\n",
              " ['o_codec_h264', 'o_codec_vp8', 'size', 'o_width', 'umem'],\n",
              " ['o_codec_h264', 'o_codec_vp8', 'size', 'o_height', 'umem'],\n",
              " ['o_codec_h264', 'o_codec_vp8', 'o_bitrate', 'o_framerate', 'o_width'],\n",
              " ['o_codec_h264', 'o_codec_vp8', 'o_bitrate', 'o_framerate', 'o_height'],\n",
              " ['o_codec_h264', 'o_codec_vp8', 'o_bitrate', 'o_framerate', 'umem'],\n",
              " ['o_codec_h264', 'o_codec_vp8', 'o_bitrate', 'o_width', 'o_height'],\n",
              " ['o_codec_h264', 'o_codec_vp8', 'o_bitrate', 'o_width', 'umem'],\n",
              " ['o_codec_h264', 'o_codec_vp8', 'o_bitrate', 'o_height', 'umem'],\n",
              " ['o_codec_h264', 'o_codec_vp8', 'o_framerate', 'o_width', 'o_height'],\n",
              " ['o_codec_h264', 'o_codec_vp8', 'o_framerate', 'o_width', 'umem'],\n",
              " ['o_codec_h264', 'o_codec_vp8', 'o_framerate', 'o_height', 'umem'],\n",
              " ['o_codec_h264', 'o_codec_vp8', 'o_width', 'o_height', 'umem'],\n",
              " ['o_codec_h264', 'width', 'bitrate', 'size', 'o_bitrate'],\n",
              " ['o_codec_h264', 'width', 'bitrate', 'size', 'o_framerate'],\n",
              " ['o_codec_h264', 'width', 'bitrate', 'size', 'o_width'],\n",
              " ['o_codec_h264', 'width', 'bitrate', 'size', 'o_height'],\n",
              " ['o_codec_h264', 'width', 'bitrate', 'size', 'umem'],\n",
              " ['o_codec_h264', 'width', 'bitrate', 'o_bitrate', 'o_framerate'],\n",
              " ['o_codec_h264', 'width', 'bitrate', 'o_bitrate', 'o_width'],\n",
              " ['o_codec_h264', 'width', 'bitrate', 'o_bitrate', 'o_height'],\n",
              " ['o_codec_h264', 'width', 'bitrate', 'o_bitrate', 'umem'],\n",
              " ['o_codec_h264', 'width', 'bitrate', 'o_framerate', 'o_width'],\n",
              " ['o_codec_h264', 'width', 'bitrate', 'o_framerate', 'o_height'],\n",
              " ['o_codec_h264', 'width', 'bitrate', 'o_framerate', 'umem'],\n",
              " ['o_codec_h264', 'width', 'bitrate', 'o_width', 'o_height'],\n",
              " ['o_codec_h264', 'width', 'bitrate', 'o_width', 'umem'],\n",
              " ['o_codec_h264', 'width', 'bitrate', 'o_height', 'umem'],\n",
              " ['o_codec_h264', 'width', 'size', 'o_bitrate', 'o_framerate'],\n",
              " ['o_codec_h264', 'width', 'size', 'o_bitrate', 'o_width'],\n",
              " ['o_codec_h264', 'width', 'size', 'o_bitrate', 'o_height'],\n",
              " ['o_codec_h264', 'width', 'size', 'o_bitrate', 'umem'],\n",
              " ['o_codec_h264', 'width', 'size', 'o_framerate', 'o_width'],\n",
              " ['o_codec_h264', 'width', 'size', 'o_framerate', 'o_height'],\n",
              " ['o_codec_h264', 'width', 'size', 'o_framerate', 'umem'],\n",
              " ['o_codec_h264', 'width', 'size', 'o_width', 'o_height'],\n",
              " ['o_codec_h264', 'width', 'size', 'o_width', 'umem'],\n",
              " ['o_codec_h264', 'width', 'size', 'o_height', 'umem'],\n",
              " ['o_codec_h264', 'width', 'o_bitrate', 'o_framerate', 'o_width'],\n",
              " ['o_codec_h264', 'width', 'o_bitrate', 'o_framerate', 'o_height'],\n",
              " ['o_codec_h264', 'width', 'o_bitrate', 'o_framerate', 'umem'],\n",
              " ['o_codec_h264', 'width', 'o_bitrate', 'o_width', 'o_height'],\n",
              " ['o_codec_h264', 'width', 'o_bitrate', 'o_width', 'umem'],\n",
              " ['o_codec_h264', 'width', 'o_bitrate', 'o_height', 'umem'],\n",
              " ['o_codec_h264', 'width', 'o_framerate', 'o_width', 'o_height'],\n",
              " ['o_codec_h264', 'width', 'o_framerate', 'o_width', 'umem'],\n",
              " ['o_codec_h264', 'width', 'o_framerate', 'o_height', 'umem'],\n",
              " ['o_codec_h264', 'width', 'o_width', 'o_height', 'umem'],\n",
              " ['o_codec_h264', 'bitrate', 'size', 'o_bitrate', 'o_framerate'],\n",
              " ['o_codec_h264', 'bitrate', 'size', 'o_bitrate', 'o_width'],\n",
              " ['o_codec_h264', 'bitrate', 'size', 'o_bitrate', 'o_height'],\n",
              " ['o_codec_h264', 'bitrate', 'size', 'o_bitrate', 'umem'],\n",
              " ['o_codec_h264', 'bitrate', 'size', 'o_framerate', 'o_width'],\n",
              " ['o_codec_h264', 'bitrate', 'size', 'o_framerate', 'o_height'],\n",
              " ['o_codec_h264', 'bitrate', 'size', 'o_framerate', 'umem'],\n",
              " ['o_codec_h264', 'bitrate', 'size', 'o_width', 'o_height'],\n",
              " ['o_codec_h264', 'bitrate', 'size', 'o_width', 'umem'],\n",
              " ['o_codec_h264', 'bitrate', 'size', 'o_height', 'umem'],\n",
              " ['o_codec_h264', 'bitrate', 'o_bitrate', 'o_framerate', 'o_width'],\n",
              " ['o_codec_h264', 'bitrate', 'o_bitrate', 'o_framerate', 'o_height'],\n",
              " ['o_codec_h264', 'bitrate', 'o_bitrate', 'o_framerate', 'umem'],\n",
              " ['o_codec_h264', 'bitrate', 'o_bitrate', 'o_width', 'o_height'],\n",
              " ['o_codec_h264', 'bitrate', 'o_bitrate', 'o_width', 'umem'],\n",
              " ['o_codec_h264', 'bitrate', 'o_bitrate', 'o_height', 'umem'],\n",
              " ['o_codec_h264', 'bitrate', 'o_framerate', 'o_width', 'o_height'],\n",
              " ['o_codec_h264', 'bitrate', 'o_framerate', 'o_width', 'umem'],\n",
              " ['o_codec_h264', 'bitrate', 'o_framerate', 'o_height', 'umem'],\n",
              " ['o_codec_h264', 'bitrate', 'o_width', 'o_height', 'umem'],\n",
              " ['o_codec_h264', 'size', 'o_bitrate', 'o_framerate', 'o_width'],\n",
              " ['o_codec_h264', 'size', 'o_bitrate', 'o_framerate', 'o_height'],\n",
              " ['o_codec_h264', 'size', 'o_bitrate', 'o_framerate', 'umem'],\n",
              " ['o_codec_h264', 'size', 'o_bitrate', 'o_width', 'o_height'],\n",
              " ['o_codec_h264', 'size', 'o_bitrate', 'o_width', 'umem'],\n",
              " ['o_codec_h264', 'size', 'o_bitrate', 'o_height', 'umem'],\n",
              " ['o_codec_h264', 'size', 'o_framerate', 'o_width', 'o_height'],\n",
              " ['o_codec_h264', 'size', 'o_framerate', 'o_width', 'umem'],\n",
              " ['o_codec_h264', 'size', 'o_framerate', 'o_height', 'umem'],\n",
              " ['o_codec_h264', 'size', 'o_width', 'o_height', 'umem'],\n",
              " ['o_codec_h264', 'o_bitrate', 'o_framerate', 'o_width', 'o_height'],\n",
              " ['o_codec_h264', 'o_bitrate', 'o_framerate', 'o_width', 'umem'],\n",
              " ['o_codec_h264', 'o_bitrate', 'o_framerate', 'o_height', 'umem'],\n",
              " ['o_codec_h264', 'o_bitrate', 'o_width', 'o_height', 'umem'],\n",
              " ['o_codec_h264', 'o_framerate', 'o_width', 'o_height', 'umem'],\n",
              " ['o_codec_vp8', 'width', 'bitrate', 'size', 'o_bitrate'],\n",
              " ['o_codec_vp8', 'width', 'bitrate', 'size', 'o_framerate'],\n",
              " ['o_codec_vp8', 'width', 'bitrate', 'size', 'o_width'],\n",
              " ['o_codec_vp8', 'width', 'bitrate', 'size', 'o_height'],\n",
              " ['o_codec_vp8', 'width', 'bitrate', 'size', 'umem'],\n",
              " ['o_codec_vp8', 'width', 'bitrate', 'o_bitrate', 'o_framerate'],\n",
              " ['o_codec_vp8', 'width', 'bitrate', 'o_bitrate', 'o_width'],\n",
              " ['o_codec_vp8', 'width', 'bitrate', 'o_bitrate', 'o_height'],\n",
              " ['o_codec_vp8', 'width', 'bitrate', 'o_bitrate', 'umem'],\n",
              " ['o_codec_vp8', 'width', 'bitrate', 'o_framerate', 'o_width'],\n",
              " ['o_codec_vp8', 'width', 'bitrate', 'o_framerate', 'o_height'],\n",
              " ['o_codec_vp8', 'width', 'bitrate', 'o_framerate', 'umem'],\n",
              " ['o_codec_vp8', 'width', 'bitrate', 'o_width', 'o_height'],\n",
              " ['o_codec_vp8', 'width', 'bitrate', 'o_width', 'umem'],\n",
              " ['o_codec_vp8', 'width', 'bitrate', 'o_height', 'umem'],\n",
              " ['o_codec_vp8', 'width', 'size', 'o_bitrate', 'o_framerate'],\n",
              " ['o_codec_vp8', 'width', 'size', 'o_bitrate', 'o_width'],\n",
              " ['o_codec_vp8', 'width', 'size', 'o_bitrate', 'o_height'],\n",
              " ['o_codec_vp8', 'width', 'size', 'o_bitrate', 'umem'],\n",
              " ['o_codec_vp8', 'width', 'size', 'o_framerate', 'o_width'],\n",
              " ['o_codec_vp8', 'width', 'size', 'o_framerate', 'o_height'],\n",
              " ['o_codec_vp8', 'width', 'size', 'o_framerate', 'umem'],\n",
              " ['o_codec_vp8', 'width', 'size', 'o_width', 'o_height'],\n",
              " ['o_codec_vp8', 'width', 'size', 'o_width', 'umem'],\n",
              " ['o_codec_vp8', 'width', 'size', 'o_height', 'umem'],\n",
              " ['o_codec_vp8', 'width', 'o_bitrate', 'o_framerate', 'o_width'],\n",
              " ['o_codec_vp8', 'width', 'o_bitrate', 'o_framerate', 'o_height'],\n",
              " ['o_codec_vp8', 'width', 'o_bitrate', 'o_framerate', 'umem'],\n",
              " ['o_codec_vp8', 'width', 'o_bitrate', 'o_width', 'o_height'],\n",
              " ['o_codec_vp8', 'width', 'o_bitrate', 'o_width', 'umem'],\n",
              " ['o_codec_vp8', 'width', 'o_bitrate', 'o_height', 'umem'],\n",
              " ['o_codec_vp8', 'width', 'o_framerate', 'o_width', 'o_height'],\n",
              " ['o_codec_vp8', 'width', 'o_framerate', 'o_width', 'umem'],\n",
              " ['o_codec_vp8', 'width', 'o_framerate', 'o_height', 'umem'],\n",
              " ['o_codec_vp8', 'width', 'o_width', 'o_height', 'umem'],\n",
              " ['o_codec_vp8', 'bitrate', 'size', 'o_bitrate', 'o_framerate'],\n",
              " ['o_codec_vp8', 'bitrate', 'size', 'o_bitrate', 'o_width'],\n",
              " ['o_codec_vp8', 'bitrate', 'size', 'o_bitrate', 'o_height'],\n",
              " ['o_codec_vp8', 'bitrate', 'size', 'o_bitrate', 'umem'],\n",
              " ['o_codec_vp8', 'bitrate', 'size', 'o_framerate', 'o_width'],\n",
              " ['o_codec_vp8', 'bitrate', 'size', 'o_framerate', 'o_height'],\n",
              " ['o_codec_vp8', 'bitrate', 'size', 'o_framerate', 'umem'],\n",
              " ['o_codec_vp8', 'bitrate', 'size', 'o_width', 'o_height'],\n",
              " ['o_codec_vp8', 'bitrate', 'size', 'o_width', 'umem'],\n",
              " ['o_codec_vp8', 'bitrate', 'size', 'o_height', 'umem'],\n",
              " ['o_codec_vp8', 'bitrate', 'o_bitrate', 'o_framerate', 'o_width'],\n",
              " ['o_codec_vp8', 'bitrate', 'o_bitrate', 'o_framerate', 'o_height'],\n",
              " ['o_codec_vp8', 'bitrate', 'o_bitrate', 'o_framerate', 'umem'],\n",
              " ['o_codec_vp8', 'bitrate', 'o_bitrate', 'o_width', 'o_height'],\n",
              " ['o_codec_vp8', 'bitrate', 'o_bitrate', 'o_width', 'umem'],\n",
              " ['o_codec_vp8', 'bitrate', 'o_bitrate', 'o_height', 'umem'],\n",
              " ['o_codec_vp8', 'bitrate', 'o_framerate', 'o_width', 'o_height'],\n",
              " ['o_codec_vp8', 'bitrate', 'o_framerate', 'o_width', 'umem'],\n",
              " ['o_codec_vp8', 'bitrate', 'o_framerate', 'o_height', 'umem'],\n",
              " ['o_codec_vp8', 'bitrate', 'o_width', 'o_height', 'umem'],\n",
              " ['o_codec_vp8', 'size', 'o_bitrate', 'o_framerate', 'o_width'],\n",
              " ['o_codec_vp8', 'size', 'o_bitrate', 'o_framerate', 'o_height'],\n",
              " ['o_codec_vp8', 'size', 'o_bitrate', 'o_framerate', 'umem'],\n",
              " ['o_codec_vp8', 'size', 'o_bitrate', 'o_width', 'o_height'],\n",
              " ['o_codec_vp8', 'size', 'o_bitrate', 'o_width', 'umem'],\n",
              " ['o_codec_vp8', 'size', 'o_bitrate', 'o_height', 'umem'],\n",
              " ['o_codec_vp8', 'size', 'o_framerate', 'o_width', 'o_height'],\n",
              " ['o_codec_vp8', 'size', 'o_framerate', 'o_width', 'umem'],\n",
              " ['o_codec_vp8', 'size', 'o_framerate', 'o_height', 'umem'],\n",
              " ['o_codec_vp8', 'size', 'o_width', 'o_height', 'umem'],\n",
              " ['o_codec_vp8', 'o_bitrate', 'o_framerate', 'o_width', 'o_height'],\n",
              " ['o_codec_vp8', 'o_bitrate', 'o_framerate', 'o_width', 'umem'],\n",
              " ['o_codec_vp8', 'o_bitrate', 'o_framerate', 'o_height', 'umem'],\n",
              " ['o_codec_vp8', 'o_bitrate', 'o_width', 'o_height', 'umem'],\n",
              " ['o_codec_vp8', 'o_framerate', 'o_width', 'o_height', 'umem'],\n",
              " ['width', 'bitrate', 'size', 'o_bitrate', 'o_framerate'],\n",
              " ['width', 'bitrate', 'size', 'o_bitrate', 'o_width'],\n",
              " ['width', 'bitrate', 'size', 'o_bitrate', 'o_height'],\n",
              " ['width', 'bitrate', 'size', 'o_bitrate', 'umem'],\n",
              " ['width', 'bitrate', 'size', 'o_framerate', 'o_width'],\n",
              " ['width', 'bitrate', 'size', 'o_framerate', 'o_height'],\n",
              " ['width', 'bitrate', 'size', 'o_framerate', 'umem'],\n",
              " ['width', 'bitrate', 'size', 'o_width', 'o_height'],\n",
              " ['width', 'bitrate', 'size', 'o_width', 'umem'],\n",
              " ['width', 'bitrate', 'size', 'o_height', 'umem'],\n",
              " ['width', 'bitrate', 'o_bitrate', 'o_framerate', 'o_width'],\n",
              " ['width', 'bitrate', 'o_bitrate', 'o_framerate', 'o_height'],\n",
              " ['width', 'bitrate', 'o_bitrate', 'o_framerate', 'umem'],\n",
              " ['width', 'bitrate', 'o_bitrate', 'o_width', 'o_height'],\n",
              " ['width', 'bitrate', 'o_bitrate', 'o_width', 'umem'],\n",
              " ['width', 'bitrate', 'o_bitrate', 'o_height', 'umem'],\n",
              " ['width', 'bitrate', 'o_framerate', 'o_width', 'o_height'],\n",
              " ['width', 'bitrate', 'o_framerate', 'o_width', 'umem'],\n",
              " ['width', 'bitrate', 'o_framerate', 'o_height', 'umem'],\n",
              " ['width', 'bitrate', 'o_width', 'o_height', 'umem'],\n",
              " ['width', 'size', 'o_bitrate', 'o_framerate', 'o_width'],\n",
              " ['width', 'size', 'o_bitrate', 'o_framerate', 'o_height'],\n",
              " ['width', 'size', 'o_bitrate', 'o_framerate', 'umem'],\n",
              " ['width', 'size', 'o_bitrate', 'o_width', 'o_height'],\n",
              " ['width', 'size', 'o_bitrate', 'o_width', 'umem'],\n",
              " ['width', 'size', 'o_bitrate', 'o_height', 'umem'],\n",
              " ['width', 'size', 'o_framerate', 'o_width', 'o_height'],\n",
              " ['width', 'size', 'o_framerate', 'o_width', 'umem'],\n",
              " ['width', 'size', 'o_framerate', 'o_height', 'umem'],\n",
              " ['width', 'size', 'o_width', 'o_height', 'umem'],\n",
              " ['width', 'o_bitrate', 'o_framerate', 'o_width', 'o_height'],\n",
              " ['width', 'o_bitrate', 'o_framerate', 'o_width', 'umem'],\n",
              " ['width', 'o_bitrate', 'o_framerate', 'o_height', 'umem'],\n",
              " ['width', 'o_bitrate', 'o_width', 'o_height', 'umem'],\n",
              " ['width', 'o_framerate', 'o_width', 'o_height', 'umem'],\n",
              " ['bitrate', 'size', 'o_bitrate', 'o_framerate', 'o_width'],\n",
              " ['bitrate', 'size', 'o_bitrate', 'o_framerate', 'o_height'],\n",
              " ['bitrate', 'size', 'o_bitrate', 'o_framerate', 'umem'],\n",
              " ['bitrate', 'size', 'o_bitrate', 'o_width', 'o_height'],\n",
              " ['bitrate', 'size', 'o_bitrate', 'o_width', 'umem'],\n",
              " ['bitrate', 'size', 'o_bitrate', 'o_height', 'umem'],\n",
              " ['bitrate', 'size', 'o_framerate', 'o_width', 'o_height'],\n",
              " ['bitrate', 'size', 'o_framerate', 'o_width', 'umem'],\n",
              " ['bitrate', 'size', 'o_framerate', 'o_height', 'umem'],\n",
              " ['bitrate', 'size', 'o_width', 'o_height', 'umem'],\n",
              " ['bitrate', 'o_bitrate', 'o_framerate', 'o_width', 'o_height'],\n",
              " ['bitrate', 'o_bitrate', 'o_framerate', 'o_width', 'umem'],\n",
              " ['bitrate', 'o_bitrate', 'o_framerate', 'o_height', 'umem'],\n",
              " ['bitrate', 'o_bitrate', 'o_width', 'o_height', 'umem'],\n",
              " ['bitrate', 'o_framerate', 'o_width', 'o_height', 'umem'],\n",
              " ['size', 'o_bitrate', 'o_framerate', 'o_width', 'o_height'],\n",
              " ['size', 'o_bitrate', 'o_framerate', 'o_width', 'umem'],\n",
              " ['size', 'o_bitrate', 'o_framerate', 'o_height', 'umem'],\n",
              " ['size', 'o_bitrate', 'o_width', 'o_height', 'umem'],\n",
              " ['size', 'o_framerate', 'o_width', 'o_height', 'umem'],\n",
              " ['o_bitrate', 'o_framerate', 'o_width', 'o_height', 'umem'],\n",
              " ['o_codec_h264', 'o_codec_vp8', 'width', 'bitrate', 'size', 'o_bitrate'],\n",
              " ['o_codec_h264', 'o_codec_vp8', 'width', 'bitrate', 'size', 'o_framerate'],\n",
              " ['o_codec_h264', 'o_codec_vp8', 'width', 'bitrate', 'size', 'o_width'],\n",
              " ['o_codec_h264', 'o_codec_vp8', 'width', 'bitrate', 'size', 'o_height'],\n",
              " ['o_codec_h264', 'o_codec_vp8', 'width', 'bitrate', 'size', 'umem'],\n",
              " ['o_codec_h264',\n",
              "  'o_codec_vp8',\n",
              "  'width',\n",
              "  'bitrate',\n",
              "  'o_bitrate',\n",
              "  'o_framerate'],\n",
              " ['o_codec_h264', 'o_codec_vp8', 'width', 'bitrate', 'o_bitrate', 'o_width'],\n",
              " ['o_codec_h264', 'o_codec_vp8', 'width', 'bitrate', 'o_bitrate', 'o_height'],\n",
              " ['o_codec_h264', 'o_codec_vp8', 'width', 'bitrate', 'o_bitrate', 'umem'],\n",
              " ['o_codec_h264', 'o_codec_vp8', 'width', 'bitrate', 'o_framerate', 'o_width'],\n",
              " ['o_codec_h264',\n",
              "  'o_codec_vp8',\n",
              "  'width',\n",
              "  'bitrate',\n",
              "  'o_framerate',\n",
              "  'o_height'],\n",
              " ['o_codec_h264', 'o_codec_vp8', 'width', 'bitrate', 'o_framerate', 'umem'],\n",
              " ['o_codec_h264', 'o_codec_vp8', 'width', 'bitrate', 'o_width', 'o_height'],\n",
              " ['o_codec_h264', 'o_codec_vp8', 'width', 'bitrate', 'o_width', 'umem'],\n",
              " ['o_codec_h264', 'o_codec_vp8', 'width', 'bitrate', 'o_height', 'umem'],\n",
              " ['o_codec_h264', 'o_codec_vp8', 'width', 'size', 'o_bitrate', 'o_framerate'],\n",
              " ['o_codec_h264', 'o_codec_vp8', 'width', 'size', 'o_bitrate', 'o_width'],\n",
              " ['o_codec_h264', 'o_codec_vp8', 'width', 'size', 'o_bitrate', 'o_height'],\n",
              " ['o_codec_h264', 'o_codec_vp8', 'width', 'size', 'o_bitrate', 'umem'],\n",
              " ['o_codec_h264', 'o_codec_vp8', 'width', 'size', 'o_framerate', 'o_width'],\n",
              " ['o_codec_h264', 'o_codec_vp8', 'width', 'size', 'o_framerate', 'o_height'],\n",
              " ['o_codec_h264', 'o_codec_vp8', 'width', 'size', 'o_framerate', 'umem'],\n",
              " ['o_codec_h264', 'o_codec_vp8', 'width', 'size', 'o_width', 'o_height'],\n",
              " ['o_codec_h264', 'o_codec_vp8', 'width', 'size', 'o_width', 'umem'],\n",
              " ['o_codec_h264', 'o_codec_vp8', 'width', 'size', 'o_height', 'umem'],\n",
              " ['o_codec_h264',\n",
              "  'o_codec_vp8',\n",
              "  'width',\n",
              "  'o_bitrate',\n",
              "  'o_framerate',\n",
              "  'o_width'],\n",
              " ['o_codec_h264',\n",
              "  'o_codec_vp8',\n",
              "  'width',\n",
              "  'o_bitrate',\n",
              "  'o_framerate',\n",
              "  'o_height'],\n",
              " ['o_codec_h264', 'o_codec_vp8', 'width', 'o_bitrate', 'o_framerate', 'umem'],\n",
              " ['o_codec_h264', 'o_codec_vp8', 'width', 'o_bitrate', 'o_width', 'o_height'],\n",
              " ['o_codec_h264', 'o_codec_vp8', 'width', 'o_bitrate', 'o_width', 'umem'],\n",
              " ['o_codec_h264', 'o_codec_vp8', 'width', 'o_bitrate', 'o_height', 'umem'],\n",
              " ['o_codec_h264',\n",
              "  'o_codec_vp8',\n",
              "  'width',\n",
              "  'o_framerate',\n",
              "  'o_width',\n",
              "  'o_height'],\n",
              " ['o_codec_h264', 'o_codec_vp8', 'width', 'o_framerate', 'o_width', 'umem'],\n",
              " ['o_codec_h264', 'o_codec_vp8', 'width', 'o_framerate', 'o_height', 'umem'],\n",
              " ['o_codec_h264', 'o_codec_vp8', 'width', 'o_width', 'o_height', 'umem'],\n",
              " ['o_codec_h264',\n",
              "  'o_codec_vp8',\n",
              "  'bitrate',\n",
              "  'size',\n",
              "  'o_bitrate',\n",
              "  'o_framerate'],\n",
              " ['o_codec_h264', 'o_codec_vp8', 'bitrate', 'size', 'o_bitrate', 'o_width'],\n",
              " ['o_codec_h264', 'o_codec_vp8', 'bitrate', 'size', 'o_bitrate', 'o_height'],\n",
              " ['o_codec_h264', 'o_codec_vp8', 'bitrate', 'size', 'o_bitrate', 'umem'],\n",
              " ['o_codec_h264', 'o_codec_vp8', 'bitrate', 'size', 'o_framerate', 'o_width'],\n",
              " ['o_codec_h264', 'o_codec_vp8', 'bitrate', 'size', 'o_framerate', 'o_height'],\n",
              " ['o_codec_h264', 'o_codec_vp8', 'bitrate', 'size', 'o_framerate', 'umem'],\n",
              " ['o_codec_h264', 'o_codec_vp8', 'bitrate', 'size', 'o_width', 'o_height'],\n",
              " ['o_codec_h264', 'o_codec_vp8', 'bitrate', 'size', 'o_width', 'umem'],\n",
              " ['o_codec_h264', 'o_codec_vp8', 'bitrate', 'size', 'o_height', 'umem'],\n",
              " ['o_codec_h264',\n",
              "  'o_codec_vp8',\n",
              "  'bitrate',\n",
              "  'o_bitrate',\n",
              "  'o_framerate',\n",
              "  'o_width'],\n",
              " ['o_codec_h264',\n",
              "  'o_codec_vp8',\n",
              "  'bitrate',\n",
              "  'o_bitrate',\n",
              "  'o_framerate',\n",
              "  'o_height'],\n",
              " ['o_codec_h264',\n",
              "  'o_codec_vp8',\n",
              "  'bitrate',\n",
              "  'o_bitrate',\n",
              "  'o_framerate',\n",
              "  'umem'],\n",
              " ['o_codec_h264',\n",
              "  'o_codec_vp8',\n",
              "  'bitrate',\n",
              "  'o_bitrate',\n",
              "  'o_width',\n",
              "  'o_height'],\n",
              " ['o_codec_h264', 'o_codec_vp8', 'bitrate', 'o_bitrate', 'o_width', 'umem'],\n",
              " ['o_codec_h264', 'o_codec_vp8', 'bitrate', 'o_bitrate', 'o_height', 'umem'],\n",
              " ['o_codec_h264',\n",
              "  'o_codec_vp8',\n",
              "  'bitrate',\n",
              "  'o_framerate',\n",
              "  'o_width',\n",
              "  'o_height'],\n",
              " ['o_codec_h264', 'o_codec_vp8', 'bitrate', 'o_framerate', 'o_width', 'umem'],\n",
              " ['o_codec_h264', 'o_codec_vp8', 'bitrate', 'o_framerate', 'o_height', 'umem'],\n",
              " ['o_codec_h264', 'o_codec_vp8', 'bitrate', 'o_width', 'o_height', 'umem'],\n",
              " ['o_codec_h264',\n",
              "  'o_codec_vp8',\n",
              "  'size',\n",
              "  'o_bitrate',\n",
              "  'o_framerate',\n",
              "  'o_width'],\n",
              " ['o_codec_h264',\n",
              "  'o_codec_vp8',\n",
              "  'size',\n",
              "  'o_bitrate',\n",
              "  'o_framerate',\n",
              "  'o_height'],\n",
              " ['o_codec_h264', 'o_codec_vp8', 'size', 'o_bitrate', 'o_framerate', 'umem'],\n",
              " ['o_codec_h264', 'o_codec_vp8', 'size', 'o_bitrate', 'o_width', 'o_height'],\n",
              " ['o_codec_h264', 'o_codec_vp8', 'size', 'o_bitrate', 'o_width', 'umem'],\n",
              " ['o_codec_h264', 'o_codec_vp8', 'size', 'o_bitrate', 'o_height', 'umem'],\n",
              " ['o_codec_h264', 'o_codec_vp8', 'size', 'o_framerate', 'o_width', 'o_height'],\n",
              " ['o_codec_h264', 'o_codec_vp8', 'size', 'o_framerate', 'o_width', 'umem'],\n",
              " ['o_codec_h264', 'o_codec_vp8', 'size', 'o_framerate', 'o_height', 'umem'],\n",
              " ['o_codec_h264', 'o_codec_vp8', 'size', 'o_width', 'o_height', 'umem'],\n",
              " ['o_codec_h264',\n",
              "  'o_codec_vp8',\n",
              "  'o_bitrate',\n",
              "  'o_framerate',\n",
              "  'o_width',\n",
              "  'o_height'],\n",
              " ['o_codec_h264',\n",
              "  'o_codec_vp8',\n",
              "  'o_bitrate',\n",
              "  'o_framerate',\n",
              "  'o_width',\n",
              "  'umem'],\n",
              " ['o_codec_h264',\n",
              "  'o_codec_vp8',\n",
              "  'o_bitrate',\n",
              "  'o_framerate',\n",
              "  'o_height',\n",
              "  'umem'],\n",
              " ['o_codec_h264', 'o_codec_vp8', 'o_bitrate', 'o_width', 'o_height', 'umem'],\n",
              " ['o_codec_h264', 'o_codec_vp8', 'o_framerate', 'o_width', 'o_height', 'umem'],\n",
              " ['o_codec_h264', 'width', 'bitrate', 'size', 'o_bitrate', 'o_framerate'],\n",
              " ['o_codec_h264', 'width', 'bitrate', 'size', 'o_bitrate', 'o_width'],\n",
              " ['o_codec_h264', 'width', 'bitrate', 'size', 'o_bitrate', 'o_height'],\n",
              " ['o_codec_h264', 'width', 'bitrate', 'size', 'o_bitrate', 'umem'],\n",
              " ['o_codec_h264', 'width', 'bitrate', 'size', 'o_framerate', 'o_width'],\n",
              " ['o_codec_h264', 'width', 'bitrate', 'size', 'o_framerate', 'o_height'],\n",
              " ['o_codec_h264', 'width', 'bitrate', 'size', 'o_framerate', 'umem'],\n",
              " ['o_codec_h264', 'width', 'bitrate', 'size', 'o_width', 'o_height'],\n",
              " ['o_codec_h264', 'width', 'bitrate', 'size', 'o_width', 'umem'],\n",
              " ['o_codec_h264', 'width', 'bitrate', 'size', 'o_height', 'umem'],\n",
              " ['o_codec_h264', 'width', 'bitrate', 'o_bitrate', 'o_framerate', 'o_width'],\n",
              " ['o_codec_h264', 'width', 'bitrate', 'o_bitrate', 'o_framerate', 'o_height'],\n",
              " ['o_codec_h264', 'width', 'bitrate', 'o_bitrate', 'o_framerate', 'umem'],\n",
              " ['o_codec_h264', 'width', 'bitrate', 'o_bitrate', 'o_width', 'o_height'],\n",
              " ['o_codec_h264', 'width', 'bitrate', 'o_bitrate', 'o_width', 'umem'],\n",
              " ['o_codec_h264', 'width', 'bitrate', 'o_bitrate', 'o_height', 'umem'],\n",
              " ['o_codec_h264', 'width', 'bitrate', 'o_framerate', 'o_width', 'o_height'],\n",
              " ['o_codec_h264', 'width', 'bitrate', 'o_framerate', 'o_width', 'umem'],\n",
              " ['o_codec_h264', 'width', 'bitrate', 'o_framerate', 'o_height', 'umem'],\n",
              " ['o_codec_h264', 'width', 'bitrate', 'o_width', 'o_height', 'umem'],\n",
              " ['o_codec_h264', 'width', 'size', 'o_bitrate', 'o_framerate', 'o_width'],\n",
              " ['o_codec_h264', 'width', 'size', 'o_bitrate', 'o_framerate', 'o_height'],\n",
              " ['o_codec_h264', 'width', 'size', 'o_bitrate', 'o_framerate', 'umem'],\n",
              " ['o_codec_h264', 'width', 'size', 'o_bitrate', 'o_width', 'o_height'],\n",
              " ['o_codec_h264', 'width', 'size', 'o_bitrate', 'o_width', 'umem'],\n",
              " ['o_codec_h264', 'width', 'size', 'o_bitrate', 'o_height', 'umem'],\n",
              " ['o_codec_h264', 'width', 'size', 'o_framerate', 'o_width', 'o_height'],\n",
              " ['o_codec_h264', 'width', 'size', 'o_framerate', 'o_width', 'umem'],\n",
              " ['o_codec_h264', 'width', 'size', 'o_framerate', 'o_height', 'umem'],\n",
              " ['o_codec_h264', 'width', 'size', 'o_width', 'o_height', 'umem'],\n",
              " ['o_codec_h264', 'width', 'o_bitrate', 'o_framerate', 'o_width', 'o_height'],\n",
              " ['o_codec_h264', 'width', 'o_bitrate', 'o_framerate', 'o_width', 'umem'],\n",
              " ['o_codec_h264', 'width', 'o_bitrate', 'o_framerate', 'o_height', 'umem'],\n",
              " ['o_codec_h264', 'width', 'o_bitrate', 'o_width', 'o_height', 'umem'],\n",
              " ['o_codec_h264', 'width', 'o_framerate', 'o_width', 'o_height', 'umem'],\n",
              " ['o_codec_h264', 'bitrate', 'size', 'o_bitrate', 'o_framerate', 'o_width'],\n",
              " ['o_codec_h264', 'bitrate', 'size', 'o_bitrate', 'o_framerate', 'o_height'],\n",
              " ['o_codec_h264', 'bitrate', 'size', 'o_bitrate', 'o_framerate', 'umem'],\n",
              " ['o_codec_h264', 'bitrate', 'size', 'o_bitrate', 'o_width', 'o_height'],\n",
              " ['o_codec_h264', 'bitrate', 'size', 'o_bitrate', 'o_width', 'umem'],\n",
              " ['o_codec_h264', 'bitrate', 'size', 'o_bitrate', 'o_height', 'umem'],\n",
              " ['o_codec_h264', 'bitrate', 'size', 'o_framerate', 'o_width', 'o_height'],\n",
              " ['o_codec_h264', 'bitrate', 'size', 'o_framerate', 'o_width', 'umem'],\n",
              " ['o_codec_h264', 'bitrate', 'size', 'o_framerate', 'o_height', 'umem'],\n",
              " ['o_codec_h264', 'bitrate', 'size', 'o_width', 'o_height', 'umem'],\n",
              " ['o_codec_h264',\n",
              "  'bitrate',\n",
              "  'o_bitrate',\n",
              "  'o_framerate',\n",
              "  'o_width',\n",
              "  'o_height'],\n",
              " ['o_codec_h264', 'bitrate', 'o_bitrate', 'o_framerate', 'o_width', 'umem'],\n",
              " ['o_codec_h264', 'bitrate', 'o_bitrate', 'o_framerate', 'o_height', 'umem'],\n",
              " ['o_codec_h264', 'bitrate', 'o_bitrate', 'o_width', 'o_height', 'umem'],\n",
              " ['o_codec_h264', 'bitrate', 'o_framerate', 'o_width', 'o_height', 'umem'],\n",
              " ['o_codec_h264', 'size', 'o_bitrate', 'o_framerate', 'o_width', 'o_height'],\n",
              " ['o_codec_h264', 'size', 'o_bitrate', 'o_framerate', 'o_width', 'umem'],\n",
              " ['o_codec_h264', 'size', 'o_bitrate', 'o_framerate', 'o_height', 'umem'],\n",
              " ['o_codec_h264', 'size', 'o_bitrate', 'o_width', 'o_height', 'umem'],\n",
              " ['o_codec_h264', 'size', 'o_framerate', 'o_width', 'o_height', 'umem'],\n",
              " ['o_codec_h264', 'o_bitrate', 'o_framerate', 'o_width', 'o_height', 'umem'],\n",
              " ['o_codec_vp8', 'width', 'bitrate', 'size', 'o_bitrate', 'o_framerate'],\n",
              " ['o_codec_vp8', 'width', 'bitrate', 'size', 'o_bitrate', 'o_width'],\n",
              " ['o_codec_vp8', 'width', 'bitrate', 'size', 'o_bitrate', 'o_height'],\n",
              " ['o_codec_vp8', 'width', 'bitrate', 'size', 'o_bitrate', 'umem'],\n",
              " ['o_codec_vp8', 'width', 'bitrate', 'size', 'o_framerate', 'o_width'],\n",
              " ['o_codec_vp8', 'width', 'bitrate', 'size', 'o_framerate', 'o_height'],\n",
              " ['o_codec_vp8', 'width', 'bitrate', 'size', 'o_framerate', 'umem'],\n",
              " ['o_codec_vp8', 'width', 'bitrate', 'size', 'o_width', 'o_height'],\n",
              " ['o_codec_vp8', 'width', 'bitrate', 'size', 'o_width', 'umem'],\n",
              " ['o_codec_vp8', 'width', 'bitrate', 'size', 'o_height', 'umem'],\n",
              " ['o_codec_vp8', 'width', 'bitrate', 'o_bitrate', 'o_framerate', 'o_width'],\n",
              " ['o_codec_vp8', 'width', 'bitrate', 'o_bitrate', 'o_framerate', 'o_height'],\n",
              " ['o_codec_vp8', 'width', 'bitrate', 'o_bitrate', 'o_framerate', 'umem'],\n",
              " ['o_codec_vp8', 'width', 'bitrate', 'o_bitrate', 'o_width', 'o_height'],\n",
              " ['o_codec_vp8', 'width', 'bitrate', 'o_bitrate', 'o_width', 'umem'],\n",
              " ['o_codec_vp8', 'width', 'bitrate', 'o_bitrate', 'o_height', 'umem'],\n",
              " ['o_codec_vp8', 'width', 'bitrate', 'o_framerate', 'o_width', 'o_height'],\n",
              " ['o_codec_vp8', 'width', 'bitrate', 'o_framerate', 'o_width', 'umem'],\n",
              " ['o_codec_vp8', 'width', 'bitrate', 'o_framerate', 'o_height', 'umem'],\n",
              " ['o_codec_vp8', 'width', 'bitrate', 'o_width', 'o_height', 'umem'],\n",
              " ['o_codec_vp8', 'width', 'size', 'o_bitrate', 'o_framerate', 'o_width'],\n",
              " ['o_codec_vp8', 'width', 'size', 'o_bitrate', 'o_framerate', 'o_height'],\n",
              " ['o_codec_vp8', 'width', 'size', 'o_bitrate', 'o_framerate', 'umem'],\n",
              " ['o_codec_vp8', 'width', 'size', 'o_bitrate', 'o_width', 'o_height'],\n",
              " ['o_codec_vp8', 'width', 'size', 'o_bitrate', 'o_width', 'umem'],\n",
              " ['o_codec_vp8', 'width', 'size', 'o_bitrate', 'o_height', 'umem'],\n",
              " ['o_codec_vp8', 'width', 'size', 'o_framerate', 'o_width', 'o_height'],\n",
              " ['o_codec_vp8', 'width', 'size', 'o_framerate', 'o_width', 'umem'],\n",
              " ['o_codec_vp8', 'width', 'size', 'o_framerate', 'o_height', 'umem'],\n",
              " ['o_codec_vp8', 'width', 'size', 'o_width', 'o_height', 'umem'],\n",
              " ['o_codec_vp8', 'width', 'o_bitrate', 'o_framerate', 'o_width', 'o_height'],\n",
              " ['o_codec_vp8', 'width', 'o_bitrate', 'o_framerate', 'o_width', 'umem'],\n",
              " ['o_codec_vp8', 'width', 'o_bitrate', 'o_framerate', 'o_height', 'umem'],\n",
              " ['o_codec_vp8', 'width', 'o_bitrate', 'o_width', 'o_height', 'umem'],\n",
              " ['o_codec_vp8', 'width', 'o_framerate', 'o_width', 'o_height', 'umem'],\n",
              " ['o_codec_vp8', 'bitrate', 'size', 'o_bitrate', 'o_framerate', 'o_width'],\n",
              " ['o_codec_vp8', 'bitrate', 'size', 'o_bitrate', 'o_framerate', 'o_height'],\n",
              " ['o_codec_vp8', 'bitrate', 'size', 'o_bitrate', 'o_framerate', 'umem'],\n",
              " ['o_codec_vp8', 'bitrate', 'size', 'o_bitrate', 'o_width', 'o_height'],\n",
              " ['o_codec_vp8', 'bitrate', 'size', 'o_bitrate', 'o_width', 'umem'],\n",
              " ['o_codec_vp8', 'bitrate', 'size', 'o_bitrate', 'o_height', 'umem'],\n",
              " ['o_codec_vp8', 'bitrate', 'size', 'o_framerate', 'o_width', 'o_height'],\n",
              " ['o_codec_vp8', 'bitrate', 'size', 'o_framerate', 'o_width', 'umem'],\n",
              " ['o_codec_vp8', 'bitrate', 'size', 'o_framerate', 'o_height', 'umem'],\n",
              " ['o_codec_vp8', 'bitrate', 'size', 'o_width', 'o_height', 'umem'],\n",
              " ['o_codec_vp8', 'bitrate', 'o_bitrate', 'o_framerate', 'o_width', 'o_height'],\n",
              " ['o_codec_vp8', 'bitrate', 'o_bitrate', 'o_framerate', 'o_width', 'umem'],\n",
              " ['o_codec_vp8', 'bitrate', 'o_bitrate', 'o_framerate', 'o_height', 'umem'],\n",
              " ['o_codec_vp8', 'bitrate', 'o_bitrate', 'o_width', 'o_height', 'umem'],\n",
              " ['o_codec_vp8', 'bitrate', 'o_framerate', 'o_width', 'o_height', 'umem'],\n",
              " ['o_codec_vp8', 'size', 'o_bitrate', 'o_framerate', 'o_width', 'o_height'],\n",
              " ['o_codec_vp8', 'size', 'o_bitrate', 'o_framerate', 'o_width', 'umem'],\n",
              " ['o_codec_vp8', 'size', 'o_bitrate', 'o_framerate', 'o_height', 'umem'],\n",
              " ['o_codec_vp8', 'size', 'o_bitrate', 'o_width', 'o_height', 'umem'],\n",
              " ['o_codec_vp8', 'size', 'o_framerate', 'o_width', 'o_height', 'umem'],\n",
              " ['o_codec_vp8', 'o_bitrate', 'o_framerate', 'o_width', 'o_height', 'umem'],\n",
              " ['width', 'bitrate', 'size', 'o_bitrate', 'o_framerate', 'o_width'],\n",
              " ['width', 'bitrate', 'size', 'o_bitrate', 'o_framerate', 'o_height'],\n",
              " ['width', 'bitrate', 'size', 'o_bitrate', 'o_framerate', 'umem'],\n",
              " ['width', 'bitrate', 'size', 'o_bitrate', 'o_width', 'o_height'],\n",
              " ['width', 'bitrate', 'size', 'o_bitrate', 'o_width', 'umem'],\n",
              " ['width', 'bitrate', 'size', 'o_bitrate', 'o_height', 'umem'],\n",
              " ['width', 'bitrate', 'size', 'o_framerate', 'o_width', 'o_height'],\n",
              " ['width', 'bitrate', 'size', 'o_framerate', 'o_width', 'umem'],\n",
              " ['width', 'bitrate', 'size', 'o_framerate', 'o_height', 'umem'],\n",
              " ['width', 'bitrate', 'size', 'o_width', 'o_height', 'umem'],\n",
              " ['width', 'bitrate', 'o_bitrate', 'o_framerate', 'o_width', 'o_height'],\n",
              " ['width', 'bitrate', 'o_bitrate', 'o_framerate', 'o_width', 'umem'],\n",
              " ['width', 'bitrate', 'o_bitrate', 'o_framerate', 'o_height', 'umem'],\n",
              " ['width', 'bitrate', 'o_bitrate', 'o_width', 'o_height', 'umem'],\n",
              " ['width', 'bitrate', 'o_framerate', 'o_width', 'o_height', 'umem'],\n",
              " ['width', 'size', 'o_bitrate', 'o_framerate', 'o_width', 'o_height'],\n",
              " ['width', 'size', 'o_bitrate', 'o_framerate', 'o_width', 'umem'],\n",
              " ['width', 'size', 'o_bitrate', 'o_framerate', 'o_height', 'umem'],\n",
              " ['width', 'size', 'o_bitrate', 'o_width', 'o_height', 'umem'],\n",
              " ['width', 'size', 'o_framerate', 'o_width', 'o_height', 'umem'],\n",
              " ['width', 'o_bitrate', 'o_framerate', 'o_width', 'o_height', 'umem'],\n",
              " ['bitrate', 'size', 'o_bitrate', 'o_framerate', 'o_width', 'o_height'],\n",
              " ['bitrate', 'size', 'o_bitrate', 'o_framerate', 'o_width', 'umem'],\n",
              " ['bitrate', 'size', 'o_bitrate', 'o_framerate', 'o_height', 'umem'],\n",
              " ['bitrate', 'size', 'o_bitrate', 'o_width', 'o_height', 'umem'],\n",
              " ['bitrate', 'size', 'o_framerate', 'o_width', 'o_height', 'umem'],\n",
              " ['bitrate', 'o_bitrate', 'o_framerate', 'o_width', 'o_height', 'umem'],\n",
              " ['size', 'o_bitrate', 'o_framerate', 'o_width', 'o_height', 'umem'],\n",
              " ['o_codec_h264',\n",
              "  'o_codec_vp8',\n",
              "  'width',\n",
              "  'bitrate',\n",
              "  'size',\n",
              "  'o_bitrate',\n",
              "  'o_framerate'],\n",
              " ['o_codec_h264',\n",
              "  'o_codec_vp8',\n",
              "  'width',\n",
              "  'bitrate',\n",
              "  'size',\n",
              "  'o_bitrate',\n",
              "  'o_width'],\n",
              " ['o_codec_h264',\n",
              "  'o_codec_vp8',\n",
              "  'width',\n",
              "  'bitrate',\n",
              "  'size',\n",
              "  'o_bitrate',\n",
              "  'o_height'],\n",
              " ['o_codec_h264',\n",
              "  'o_codec_vp8',\n",
              "  'width',\n",
              "  'bitrate',\n",
              "  'size',\n",
              "  'o_bitrate',\n",
              "  'umem'],\n",
              " ['o_codec_h264',\n",
              "  'o_codec_vp8',\n",
              "  'width',\n",
              "  'bitrate',\n",
              "  'size',\n",
              "  'o_framerate',\n",
              "  'o_width'],\n",
              " ['o_codec_h264',\n",
              "  'o_codec_vp8',\n",
              "  'width',\n",
              "  'bitrate',\n",
              "  'size',\n",
              "  'o_framerate',\n",
              "  'o_height'],\n",
              " ['o_codec_h264',\n",
              "  'o_codec_vp8',\n",
              "  'width',\n",
              "  'bitrate',\n",
              "  'size',\n",
              "  'o_framerate',\n",
              "  'umem'],\n",
              " ['o_codec_h264',\n",
              "  'o_codec_vp8',\n",
              "  'width',\n",
              "  'bitrate',\n",
              "  'size',\n",
              "  'o_width',\n",
              "  'o_height'],\n",
              " ['o_codec_h264',\n",
              "  'o_codec_vp8',\n",
              "  'width',\n",
              "  'bitrate',\n",
              "  'size',\n",
              "  'o_width',\n",
              "  'umem'],\n",
              " ['o_codec_h264',\n",
              "  'o_codec_vp8',\n",
              "  'width',\n",
              "  'bitrate',\n",
              "  'size',\n",
              "  'o_height',\n",
              "  'umem'],\n",
              " ['o_codec_h264',\n",
              "  'o_codec_vp8',\n",
              "  'width',\n",
              "  'bitrate',\n",
              "  'o_bitrate',\n",
              "  'o_framerate',\n",
              "  'o_width'],\n",
              " ['o_codec_h264',\n",
              "  'o_codec_vp8',\n",
              "  'width',\n",
              "  'bitrate',\n",
              "  'o_bitrate',\n",
              "  'o_framerate',\n",
              "  'o_height'],\n",
              " ['o_codec_h264',\n",
              "  'o_codec_vp8',\n",
              "  'width',\n",
              "  'bitrate',\n",
              "  'o_bitrate',\n",
              "  'o_framerate',\n",
              "  'umem'],\n",
              " ['o_codec_h264',\n",
              "  'o_codec_vp8',\n",
              "  'width',\n",
              "  'bitrate',\n",
              "  'o_bitrate',\n",
              "  'o_width',\n",
              "  'o_height'],\n",
              " ['o_codec_h264',\n",
              "  'o_codec_vp8',\n",
              "  'width',\n",
              "  'bitrate',\n",
              "  'o_bitrate',\n",
              "  'o_width',\n",
              "  'umem'],\n",
              " ['o_codec_h264',\n",
              "  'o_codec_vp8',\n",
              "  'width',\n",
              "  'bitrate',\n",
              "  'o_bitrate',\n",
              "  'o_height',\n",
              "  'umem'],\n",
              " ['o_codec_h264',\n",
              "  'o_codec_vp8',\n",
              "  'width',\n",
              "  'bitrate',\n",
              "  'o_framerate',\n",
              "  'o_width',\n",
              "  'o_height'],\n",
              " ['o_codec_h264',\n",
              "  'o_codec_vp8',\n",
              "  'width',\n",
              "  'bitrate',\n",
              "  'o_framerate',\n",
              "  'o_width',\n",
              "  'umem'],\n",
              " ['o_codec_h264',\n",
              "  'o_codec_vp8',\n",
              "  'width',\n",
              "  'bitrate',\n",
              "  'o_framerate',\n",
              "  'o_height',\n",
              "  'umem'],\n",
              " ['o_codec_h264',\n",
              "  'o_codec_vp8',\n",
              "  'width',\n",
              "  'bitrate',\n",
              "  'o_width',\n",
              "  'o_height',\n",
              "  'umem'],\n",
              " ['o_codec_h264',\n",
              "  'o_codec_vp8',\n",
              "  'width',\n",
              "  'size',\n",
              "  'o_bitrate',\n",
              "  'o_framerate',\n",
              "  'o_width'],\n",
              " ['o_codec_h264',\n",
              "  'o_codec_vp8',\n",
              "  'width',\n",
              "  'size',\n",
              "  'o_bitrate',\n",
              "  'o_framerate',\n",
              "  'o_height'],\n",
              " ['o_codec_h264',\n",
              "  'o_codec_vp8',\n",
              "  'width',\n",
              "  'size',\n",
              "  'o_bitrate',\n",
              "  'o_framerate',\n",
              "  'umem'],\n",
              " ['o_codec_h264',\n",
              "  'o_codec_vp8',\n",
              "  'width',\n",
              "  'size',\n",
              "  'o_bitrate',\n",
              "  'o_width',\n",
              "  'o_height'],\n",
              " ['o_codec_h264',\n",
              "  'o_codec_vp8',\n",
              "  'width',\n",
              "  'size',\n",
              "  'o_bitrate',\n",
              "  'o_width',\n",
              "  'umem'],\n",
              " ['o_codec_h264',\n",
              "  'o_codec_vp8',\n",
              "  'width',\n",
              "  'size',\n",
              "  'o_bitrate',\n",
              "  'o_height',\n",
              "  'umem'],\n",
              " ['o_codec_h264',\n",
              "  'o_codec_vp8',\n",
              "  'width',\n",
              "  'size',\n",
              "  'o_framerate',\n",
              "  'o_width',\n",
              "  'o_height'],\n",
              " ['o_codec_h264',\n",
              "  'o_codec_vp8',\n",
              "  'width',\n",
              "  'size',\n",
              "  'o_framerate',\n",
              "  'o_width',\n",
              "  'umem'],\n",
              " ['o_codec_h264',\n",
              "  'o_codec_vp8',\n",
              "  'width',\n",
              "  'size',\n",
              "  'o_framerate',\n",
              "  'o_height',\n",
              "  'umem'],\n",
              " ['o_codec_h264',\n",
              "  'o_codec_vp8',\n",
              "  'width',\n",
              "  'size',\n",
              "  'o_width',\n",
              "  'o_height',\n",
              "  'umem'],\n",
              " ['o_codec_h264',\n",
              "  'o_codec_vp8',\n",
              "  'width',\n",
              "  'o_bitrate',\n",
              "  'o_framerate',\n",
              "  'o_width',\n",
              "  'o_height'],\n",
              " ['o_codec_h264',\n",
              "  'o_codec_vp8',\n",
              "  'width',\n",
              "  'o_bitrate',\n",
              "  'o_framerate',\n",
              "  'o_width',\n",
              "  'umem'],\n",
              " ['o_codec_h264',\n",
              "  'o_codec_vp8',\n",
              "  'width',\n",
              "  'o_bitrate',\n",
              "  'o_framerate',\n",
              "  'o_height',\n",
              "  'umem'],\n",
              " ['o_codec_h264',\n",
              "  'o_codec_vp8',\n",
              "  'width',\n",
              "  'o_bitrate',\n",
              "  'o_width',\n",
              "  'o_height',\n",
              "  'umem'],\n",
              " ['o_codec_h264',\n",
              "  'o_codec_vp8',\n",
              "  'width',\n",
              "  'o_framerate',\n",
              "  'o_width',\n",
              "  'o_height',\n",
              "  'umem'],\n",
              " ['o_codec_h264',\n",
              "  'o_codec_vp8',\n",
              "  'bitrate',\n",
              "  'size',\n",
              "  'o_bitrate',\n",
              "  'o_framerate',\n",
              "  'o_width'],\n",
              " ['o_codec_h264',\n",
              "  'o_codec_vp8',\n",
              "  'bitrate',\n",
              "  'size',\n",
              "  'o_bitrate',\n",
              "  'o_framerate',\n",
              "  'o_height'],\n",
              " ['o_codec_h264',\n",
              "  'o_codec_vp8',\n",
              "  'bitrate',\n",
              "  'size',\n",
              "  'o_bitrate',\n",
              "  'o_framerate',\n",
              "  'umem'],\n",
              " ['o_codec_h264',\n",
              "  'o_codec_vp8',\n",
              "  'bitrate',\n",
              "  'size',\n",
              "  'o_bitrate',\n",
              "  'o_width',\n",
              "  'o_height'],\n",
              " ['o_codec_h264',\n",
              "  'o_codec_vp8',\n",
              "  'bitrate',\n",
              "  'size',\n",
              "  'o_bitrate',\n",
              "  'o_width',\n",
              "  'umem'],\n",
              " ['o_codec_h264',\n",
              "  'o_codec_vp8',\n",
              "  'bitrate',\n",
              "  'size',\n",
              "  'o_bitrate',\n",
              "  'o_height',\n",
              "  'umem'],\n",
              " ['o_codec_h264',\n",
              "  'o_codec_vp8',\n",
              "  'bitrate',\n",
              "  'size',\n",
              "  'o_framerate',\n",
              "  'o_width',\n",
              "  'o_height'],\n",
              " ['o_codec_h264',\n",
              "  'o_codec_vp8',\n",
              "  'bitrate',\n",
              "  'size',\n",
              "  'o_framerate',\n",
              "  'o_width',\n",
              "  'umem'],\n",
              " ['o_codec_h264',\n",
              "  'o_codec_vp8',\n",
              "  'bitrate',\n",
              "  'size',\n",
              "  'o_framerate',\n",
              "  'o_height',\n",
              "  'umem'],\n",
              " ['o_codec_h264',\n",
              "  'o_codec_vp8',\n",
              "  'bitrate',\n",
              "  'size',\n",
              "  'o_width',\n",
              "  'o_height',\n",
              "  'umem'],\n",
              " ['o_codec_h264',\n",
              "  'o_codec_vp8',\n",
              "  'bitrate',\n",
              "  'o_bitrate',\n",
              "  'o_framerate',\n",
              "  'o_width',\n",
              "  'o_height'],\n",
              " ['o_codec_h264',\n",
              "  'o_codec_vp8',\n",
              "  'bitrate',\n",
              "  'o_bitrate',\n",
              "  'o_framerate',\n",
              "  'o_width',\n",
              "  'umem'],\n",
              " ['o_codec_h264',\n",
              "  'o_codec_vp8',\n",
              "  'bitrate',\n",
              "  'o_bitrate',\n",
              "  'o_framerate',\n",
              "  'o_height',\n",
              "  'umem'],\n",
              " ['o_codec_h264',\n",
              "  'o_codec_vp8',\n",
              "  'bitrate',\n",
              "  'o_bitrate',\n",
              "  'o_width',\n",
              "  'o_height',\n",
              "  'umem'],\n",
              " ['o_codec_h264',\n",
              "  'o_codec_vp8',\n",
              "  'bitrate',\n",
              "  'o_framerate',\n",
              "  'o_width',\n",
              "  'o_height',\n",
              "  'umem'],\n",
              " ['o_codec_h264',\n",
              "  'o_codec_vp8',\n",
              "  'size',\n",
              "  'o_bitrate',\n",
              "  'o_framerate',\n",
              "  'o_width',\n",
              "  'o_height'],\n",
              " ['o_codec_h264',\n",
              "  'o_codec_vp8',\n",
              "  'size',\n",
              "  'o_bitrate',\n",
              "  'o_framerate',\n",
              "  'o_width',\n",
              "  'umem'],\n",
              " ['o_codec_h264',\n",
              "  'o_codec_vp8',\n",
              "  'size',\n",
              "  'o_bitrate',\n",
              "  'o_framerate',\n",
              "  'o_height',\n",
              "  'umem'],\n",
              " ['o_codec_h264',\n",
              "  'o_codec_vp8',\n",
              "  'size',\n",
              "  'o_bitrate',\n",
              "  'o_width',\n",
              "  'o_height',\n",
              "  'umem'],\n",
              " ['o_codec_h264',\n",
              "  'o_codec_vp8',\n",
              "  'size',\n",
              "  'o_framerate',\n",
              "  'o_width',\n",
              "  'o_height',\n",
              "  'umem'],\n",
              " ['o_codec_h264',\n",
              "  'o_codec_vp8',\n",
              "  'o_bitrate',\n",
              "  'o_framerate',\n",
              "  'o_width',\n",
              "  'o_height',\n",
              "  'umem'],\n",
              " ['o_codec_h264',\n",
              "  'width',\n",
              "  'bitrate',\n",
              "  'size',\n",
              "  'o_bitrate',\n",
              "  'o_framerate',\n",
              "  'o_width'],\n",
              " ['o_codec_h264',\n",
              "  'width',\n",
              "  'bitrate',\n",
              "  'size',\n",
              "  'o_bitrate',\n",
              "  'o_framerate',\n",
              "  'o_height'],\n",
              " ['o_codec_h264',\n",
              "  'width',\n",
              "  'bitrate',\n",
              "  'size',\n",
              "  'o_bitrate',\n",
              "  'o_framerate',\n",
              "  'umem'],\n",
              " ['o_codec_h264',\n",
              "  'width',\n",
              "  'bitrate',\n",
              "  'size',\n",
              "  'o_bitrate',\n",
              "  'o_width',\n",
              "  'o_height'],\n",
              " ['o_codec_h264', 'width', 'bitrate', 'size', 'o_bitrate', 'o_width', 'umem'],\n",
              " ['o_codec_h264', 'width', 'bitrate', 'size', 'o_bitrate', 'o_height', 'umem'],\n",
              " ['o_codec_h264',\n",
              "  'width',\n",
              "  'bitrate',\n",
              "  'size',\n",
              "  'o_framerate',\n",
              "  'o_width',\n",
              "  'o_height'],\n",
              " ['o_codec_h264',\n",
              "  'width',\n",
              "  'bitrate',\n",
              "  'size',\n",
              "  'o_framerate',\n",
              "  'o_width',\n",
              "  'umem'],\n",
              " ['o_codec_h264',\n",
              "  'width',\n",
              "  'bitrate',\n",
              "  'size',\n",
              "  'o_framerate',\n",
              "  'o_height',\n",
              "  'umem'],\n",
              " ['o_codec_h264', 'width', 'bitrate', 'size', 'o_width', 'o_height', 'umem'],\n",
              " ['o_codec_h264',\n",
              "  'width',\n",
              "  'bitrate',\n",
              "  'o_bitrate',\n",
              "  'o_framerate',\n",
              "  'o_width',\n",
              "  'o_height'],\n",
              " ['o_codec_h264',\n",
              "  'width',\n",
              "  'bitrate',\n",
              "  'o_bitrate',\n",
              "  'o_framerate',\n",
              "  'o_width',\n",
              "  'umem'],\n",
              " ['o_codec_h264',\n",
              "  'width',\n",
              "  'bitrate',\n",
              "  'o_bitrate',\n",
              "  'o_framerate',\n",
              "  'o_height',\n",
              "  'umem'],\n",
              " ['o_codec_h264',\n",
              "  'width',\n",
              "  'bitrate',\n",
              "  'o_bitrate',\n",
              "  'o_width',\n",
              "  'o_height',\n",
              "  'umem'],\n",
              " ['o_codec_h264',\n",
              "  'width',\n",
              "  'bitrate',\n",
              "  'o_framerate',\n",
              "  'o_width',\n",
              "  'o_height',\n",
              "  'umem'],\n",
              " ['o_codec_h264',\n",
              "  'width',\n",
              "  'size',\n",
              "  'o_bitrate',\n",
              "  'o_framerate',\n",
              "  'o_width',\n",
              "  'o_height'],\n",
              " ['o_codec_h264',\n",
              "  'width',\n",
              "  'size',\n",
              "  'o_bitrate',\n",
              "  'o_framerate',\n",
              "  'o_width',\n",
              "  'umem'],\n",
              " ['o_codec_h264',\n",
              "  'width',\n",
              "  'size',\n",
              "  'o_bitrate',\n",
              "  'o_framerate',\n",
              "  'o_height',\n",
              "  'umem'],\n",
              " ['o_codec_h264', 'width', 'size', 'o_bitrate', 'o_width', 'o_height', 'umem'],\n",
              " ['o_codec_h264',\n",
              "  'width',\n",
              "  'size',\n",
              "  'o_framerate',\n",
              "  'o_width',\n",
              "  'o_height',\n",
              "  'umem'],\n",
              " ['o_codec_h264',\n",
              "  'width',\n",
              "  'o_bitrate',\n",
              "  'o_framerate',\n",
              "  'o_width',\n",
              "  'o_height',\n",
              "  'umem'],\n",
              " ['o_codec_h264',\n",
              "  'bitrate',\n",
              "  'size',\n",
              "  'o_bitrate',\n",
              "  'o_framerate',\n",
              "  'o_width',\n",
              "  'o_height'],\n",
              " ['o_codec_h264',\n",
              "  'bitrate',\n",
              "  'size',\n",
              "  'o_bitrate',\n",
              "  'o_framerate',\n",
              "  'o_width',\n",
              "  'umem'],\n",
              " ['o_codec_h264',\n",
              "  'bitrate',\n",
              "  'size',\n",
              "  'o_bitrate',\n",
              "  'o_framerate',\n",
              "  'o_height',\n",
              "  'umem'],\n",
              " ['o_codec_h264',\n",
              "  'bitrate',\n",
              "  'size',\n",
              "  'o_bitrate',\n",
              "  'o_width',\n",
              "  'o_height',\n",
              "  'umem'],\n",
              " ['o_codec_h264',\n",
              "  'bitrate',\n",
              "  'size',\n",
              "  'o_framerate',\n",
              "  'o_width',\n",
              "  'o_height',\n",
              "  'umem'],\n",
              " ['o_codec_h264',\n",
              "  'bitrate',\n",
              "  'o_bitrate',\n",
              "  'o_framerate',\n",
              "  'o_width',\n",
              "  'o_height',\n",
              "  'umem'],\n",
              " ['o_codec_h264',\n",
              "  'size',\n",
              "  'o_bitrate',\n",
              "  'o_framerate',\n",
              "  'o_width',\n",
              "  'o_height',\n",
              "  'umem'],\n",
              " ['o_codec_vp8',\n",
              "  'width',\n",
              "  'bitrate',\n",
              "  'size',\n",
              "  'o_bitrate',\n",
              "  'o_framerate',\n",
              "  'o_width'],\n",
              " ['o_codec_vp8',\n",
              "  'width',\n",
              "  'bitrate',\n",
              "  'size',\n",
              "  'o_bitrate',\n",
              "  'o_framerate',\n",
              "  'o_height'],\n",
              " ['o_codec_vp8',\n",
              "  'width',\n",
              "  'bitrate',\n",
              "  'size',\n",
              "  'o_bitrate',\n",
              "  'o_framerate',\n",
              "  'umem'],\n",
              " ['o_codec_vp8',\n",
              "  'width',\n",
              "  'bitrate',\n",
              "  'size',\n",
              "  'o_bitrate',\n",
              "  'o_width',\n",
              "  'o_height'],\n",
              " ['o_codec_vp8', 'width', 'bitrate', 'size', 'o_bitrate', 'o_width', 'umem'],\n",
              " ['o_codec_vp8', 'width', 'bitrate', 'size', 'o_bitrate', 'o_height', 'umem'],\n",
              " ['o_codec_vp8',\n",
              "  'width',\n",
              "  'bitrate',\n",
              "  'size',\n",
              "  'o_framerate',\n",
              "  'o_width',\n",
              "  'o_height'],\n",
              " ['o_codec_vp8', 'width', 'bitrate', 'size', 'o_framerate', 'o_width', 'umem'],\n",
              " ['o_codec_vp8',\n",
              "  'width',\n",
              "  'bitrate',\n",
              "  'size',\n",
              "  'o_framerate',\n",
              "  'o_height',\n",
              "  'umem'],\n",
              " ['o_codec_vp8', 'width', 'bitrate', 'size', 'o_width', 'o_height', 'umem'],\n",
              " ['o_codec_vp8',\n",
              "  'width',\n",
              "  'bitrate',\n",
              "  'o_bitrate',\n",
              "  'o_framerate',\n",
              "  'o_width',\n",
              "  'o_height'],\n",
              " ['o_codec_vp8',\n",
              "  'width',\n",
              "  'bitrate',\n",
              "  'o_bitrate',\n",
              "  'o_framerate',\n",
              "  'o_width',\n",
              "  'umem'],\n",
              " ['o_codec_vp8',\n",
              "  'width',\n",
              "  'bitrate',\n",
              "  'o_bitrate',\n",
              "  'o_framerate',\n",
              "  'o_height',\n",
              "  'umem'],\n",
              " ['o_codec_vp8',\n",
              "  'width',\n",
              "  'bitrate',\n",
              "  'o_bitrate',\n",
              "  'o_width',\n",
              "  'o_height',\n",
              "  'umem'],\n",
              " ['o_codec_vp8',\n",
              "  'width',\n",
              "  'bitrate',\n",
              "  'o_framerate',\n",
              "  'o_width',\n",
              "  'o_height',\n",
              "  'umem'],\n",
              " ['o_codec_vp8',\n",
              "  'width',\n",
              "  'size',\n",
              "  'o_bitrate',\n",
              "  'o_framerate',\n",
              "  'o_width',\n",
              "  'o_height'],\n",
              " ['o_codec_vp8',\n",
              "  'width',\n",
              "  'size',\n",
              "  'o_bitrate',\n",
              "  'o_framerate',\n",
              "  'o_width',\n",
              "  'umem'],\n",
              " ['o_codec_vp8',\n",
              "  'width',\n",
              "  'size',\n",
              "  'o_bitrate',\n",
              "  'o_framerate',\n",
              "  'o_height',\n",
              "  'umem'],\n",
              " ['o_codec_vp8', 'width', 'size', 'o_bitrate', 'o_width', 'o_height', 'umem'],\n",
              " ['o_codec_vp8',\n",
              "  'width',\n",
              "  'size',\n",
              "  'o_framerate',\n",
              "  'o_width',\n",
              "  'o_height',\n",
              "  'umem'],\n",
              " ['o_codec_vp8',\n",
              "  'width',\n",
              "  'o_bitrate',\n",
              "  'o_framerate',\n",
              "  'o_width',\n",
              "  'o_height',\n",
              "  'umem'],\n",
              " ['o_codec_vp8',\n",
              "  'bitrate',\n",
              "  'size',\n",
              "  'o_bitrate',\n",
              "  'o_framerate',\n",
              "  'o_width',\n",
              "  'o_height'],\n",
              " ['o_codec_vp8',\n",
              "  'bitrate',\n",
              "  'size',\n",
              "  'o_bitrate',\n",
              "  'o_framerate',\n",
              "  'o_width',\n",
              "  'umem'],\n",
              " ['o_codec_vp8',\n",
              "  'bitrate',\n",
              "  'size',\n",
              "  'o_bitrate',\n",
              "  'o_framerate',\n",
              "  'o_height',\n",
              "  'umem'],\n",
              " ['o_codec_vp8',\n",
              "  'bitrate',\n",
              "  'size',\n",
              "  'o_bitrate',\n",
              "  'o_width',\n",
              "  'o_height',\n",
              "  'umem'],\n",
              " ['o_codec_vp8',\n",
              "  'bitrate',\n",
              "  'size',\n",
              "  'o_framerate',\n",
              "  'o_width',\n",
              "  'o_height',\n",
              "  'umem'],\n",
              " ['o_codec_vp8',\n",
              "  'bitrate',\n",
              "  'o_bitrate',\n",
              "  'o_framerate',\n",
              "  'o_width',\n",
              "  'o_height',\n",
              "  'umem'],\n",
              " ['o_codec_vp8',\n",
              "  'size',\n",
              "  'o_bitrate',\n",
              "  'o_framerate',\n",
              "  'o_width',\n",
              "  'o_height',\n",
              "  'umem'],\n",
              " ['width',\n",
              "  'bitrate',\n",
              "  'size',\n",
              "  'o_bitrate',\n",
              "  'o_framerate',\n",
              "  'o_width',\n",
              "  'o_height'],\n",
              " ['width', 'bitrate', 'size', 'o_bitrate', 'o_framerate', 'o_width', 'umem'],\n",
              " ['width', 'bitrate', 'size', 'o_bitrate', 'o_framerate', 'o_height', 'umem'],\n",
              " ['width', 'bitrate', 'size', 'o_bitrate', 'o_width', 'o_height', 'umem'],\n",
              " ['width', 'bitrate', 'size', 'o_framerate', 'o_width', 'o_height', 'umem'],\n",
              " ['width',\n",
              "  'bitrate',\n",
              "  'o_bitrate',\n",
              "  'o_framerate',\n",
              "  'o_width',\n",
              "  'o_height',\n",
              "  'umem'],\n",
              " ['width', 'size', 'o_bitrate', 'o_framerate', 'o_width', 'o_height', 'umem'],\n",
              " ['bitrate',\n",
              "  'size',\n",
              "  'o_bitrate',\n",
              "  'o_framerate',\n",
              "  'o_width',\n",
              "  'o_height',\n",
              "  'umem'],\n",
              " ['o_codec_h264',\n",
              "  'o_codec_vp8',\n",
              "  'width',\n",
              "  'bitrate',\n",
              "  'size',\n",
              "  'o_bitrate',\n",
              "  'o_framerate',\n",
              "  'o_width'],\n",
              " ['o_codec_h264',\n",
              "  'o_codec_vp8',\n",
              "  'width',\n",
              "  'bitrate',\n",
              "  'size',\n",
              "  'o_bitrate',\n",
              "  'o_framerate',\n",
              "  'o_height'],\n",
              " ['o_codec_h264',\n",
              "  'o_codec_vp8',\n",
              "  'width',\n",
              "  'bitrate',\n",
              "  'size',\n",
              "  'o_bitrate',\n",
              "  'o_framerate',\n",
              "  'umem'],\n",
              " ['o_codec_h264',\n",
              "  'o_codec_vp8',\n",
              "  'width',\n",
              "  'bitrate',\n",
              "  'size',\n",
              "  'o_bitrate',\n",
              "  'o_width',\n",
              "  'o_height'],\n",
              " ['o_codec_h264',\n",
              "  'o_codec_vp8',\n",
              "  'width',\n",
              "  'bitrate',\n",
              "  'size',\n",
              "  'o_bitrate',\n",
              "  'o_width',\n",
              "  'umem'],\n",
              " ['o_codec_h264',\n",
              "  'o_codec_vp8',\n",
              "  'width',\n",
              "  'bitrate',\n",
              "  'size',\n",
              "  'o_bitrate',\n",
              "  'o_height',\n",
              "  'umem'],\n",
              " ['o_codec_h264',\n",
              "  'o_codec_vp8',\n",
              "  'width',\n",
              "  'bitrate',\n",
              "  'size',\n",
              "  'o_framerate',\n",
              "  'o_width',\n",
              "  'o_height'],\n",
              " ['o_codec_h264',\n",
              "  'o_codec_vp8',\n",
              "  'width',\n",
              "  'bitrate',\n",
              "  'size',\n",
              "  'o_framerate',\n",
              "  'o_width',\n",
              "  'umem'],\n",
              " ['o_codec_h264',\n",
              "  'o_codec_vp8',\n",
              "  'width',\n",
              "  'bitrate',\n",
              "  'size',\n",
              "  'o_framerate',\n",
              "  'o_height',\n",
              "  'umem'],\n",
              " ['o_codec_h264',\n",
              "  'o_codec_vp8',\n",
              "  'width',\n",
              "  'bitrate',\n",
              "  'size',\n",
              "  'o_width',\n",
              "  'o_height',\n",
              "  'umem'],\n",
              " ['o_codec_h264',\n",
              "  'o_codec_vp8',\n",
              "  'width',\n",
              "  'bitrate',\n",
              "  'o_bitrate',\n",
              "  'o_framerate',\n",
              "  'o_width',\n",
              "  'o_height'],\n",
              " ['o_codec_h264',\n",
              "  'o_codec_vp8',\n",
              "  'width',\n",
              "  'bitrate',\n",
              "  'o_bitrate',\n",
              "  'o_framerate',\n",
              "  'o_width',\n",
              "  'umem'],\n",
              " ['o_codec_h264',\n",
              "  'o_codec_vp8',\n",
              "  'width',\n",
              "  'bitrate',\n",
              "  'o_bitrate',\n",
              "  'o_framerate',\n",
              "  'o_height',\n",
              "  'umem'],\n",
              " ['o_codec_h264',\n",
              "  'o_codec_vp8',\n",
              "  'width',\n",
              "  'bitrate',\n",
              "  'o_bitrate',\n",
              "  'o_width',\n",
              "  'o_height',\n",
              "  'umem'],\n",
              " ['o_codec_h264',\n",
              "  'o_codec_vp8',\n",
              "  'width',\n",
              "  'bitrate',\n",
              "  'o_framerate',\n",
              "  'o_width',\n",
              "  'o_height',\n",
              "  'umem'],\n",
              " ['o_codec_h264',\n",
              "  'o_codec_vp8',\n",
              "  'width',\n",
              "  'size',\n",
              "  'o_bitrate',\n",
              "  'o_framerate',\n",
              "  'o_width',\n",
              "  'o_height'],\n",
              " ['o_codec_h264',\n",
              "  'o_codec_vp8',\n",
              "  'width',\n",
              "  'size',\n",
              "  'o_bitrate',\n",
              "  'o_framerate',\n",
              "  'o_width',\n",
              "  'umem'],\n",
              " ['o_codec_h264',\n",
              "  'o_codec_vp8',\n",
              "  'width',\n",
              "  'size',\n",
              "  'o_bitrate',\n",
              "  'o_framerate',\n",
              "  'o_height',\n",
              "  'umem'],\n",
              " ['o_codec_h264',\n",
              "  'o_codec_vp8',\n",
              "  'width',\n",
              "  'size',\n",
              "  'o_bitrate',\n",
              "  'o_width',\n",
              "  'o_height',\n",
              "  'umem'],\n",
              " ['o_codec_h264',\n",
              "  'o_codec_vp8',\n",
              "  'width',\n",
              "  'size',\n",
              "  'o_framerate',\n",
              "  'o_width',\n",
              "  'o_height',\n",
              "  'umem'],\n",
              " ['o_codec_h264',\n",
              "  'o_codec_vp8',\n",
              "  'width',\n",
              "  'o_bitrate',\n",
              "  'o_framerate',\n",
              "  'o_width',\n",
              "  'o_height',\n",
              "  'umem'],\n",
              " ['o_codec_h264',\n",
              "  'o_codec_vp8',\n",
              "  'bitrate',\n",
              "  'size',\n",
              "  'o_bitrate',\n",
              "  'o_framerate',\n",
              "  'o_width',\n",
              "  'o_height'],\n",
              " ['o_codec_h264',\n",
              "  'o_codec_vp8',\n",
              "  'bitrate',\n",
              "  'size',\n",
              "  'o_bitrate',\n",
              "  'o_framerate',\n",
              "  'o_width',\n",
              "  'umem'],\n",
              " ['o_codec_h264',\n",
              "  'o_codec_vp8',\n",
              "  'bitrate',\n",
              "  'size',\n",
              "  'o_bitrate',\n",
              "  'o_framerate',\n",
              "  'o_height',\n",
              "  'umem'],\n",
              " ['o_codec_h264',\n",
              "  'o_codec_vp8',\n",
              "  'bitrate',\n",
              "  'size',\n",
              "  'o_bitrate',\n",
              "  'o_width',\n",
              "  'o_height',\n",
              "  'umem'],\n",
              " ['o_codec_h264',\n",
              "  'o_codec_vp8',\n",
              "  'bitrate',\n",
              "  'size',\n",
              "  'o_framerate',\n",
              "  'o_width',\n",
              "  'o_height',\n",
              "  'umem'],\n",
              " ['o_codec_h264',\n",
              "  'o_codec_vp8',\n",
              "  'bitrate',\n",
              "  'o_bitrate',\n",
              "  'o_framerate',\n",
              "  'o_width',\n",
              "  'o_height',\n",
              "  'umem'],\n",
              " ['o_codec_h264',\n",
              "  'o_codec_vp8',\n",
              "  'size',\n",
              "  'o_bitrate',\n",
              "  'o_framerate',\n",
              "  'o_width',\n",
              "  'o_height',\n",
              "  'umem'],\n",
              " ['o_codec_h264',\n",
              "  'width',\n",
              "  'bitrate',\n",
              "  'size',\n",
              "  'o_bitrate',\n",
              "  'o_framerate',\n",
              "  'o_width',\n",
              "  'o_height'],\n",
              " ['o_codec_h264',\n",
              "  'width',\n",
              "  'bitrate',\n",
              "  'size',\n",
              "  'o_bitrate',\n",
              "  'o_framerate',\n",
              "  'o_width',\n",
              "  'umem'],\n",
              " ['o_codec_h264',\n",
              "  'width',\n",
              "  'bitrate',\n",
              "  'size',\n",
              "  'o_bitrate',\n",
              "  'o_framerate',\n",
              "  'o_height',\n",
              "  'umem'],\n",
              " ['o_codec_h264',\n",
              "  'width',\n",
              "  'bitrate',\n",
              "  'size',\n",
              "  'o_bitrate',\n",
              "  'o_width',\n",
              "  'o_height',\n",
              "  'umem'],\n",
              " ['o_codec_h264',\n",
              "  'width',\n",
              "  'bitrate',\n",
              "  'size',\n",
              "  'o_framerate',\n",
              "  'o_width',\n",
              "  'o_height',\n",
              "  'umem'],\n",
              " ...]"
            ]
          },
          "metadata": {
            "tags": []
          },
          "execution_count": 318
        }
      ]
    },
    {
      "cell_type": "code",
      "metadata": {
        "id": "NKKjiriTFAyi",
        "colab": {
          "base_uri": "https://localhost:8080/",
          "height": 204
        },
        "outputId": "1cb35a60-c7f4-4941-d137-6a5a48275fa4"
      },
      "source": [
        "# Let us write a function that does subset selection\n",
        "# this function takes combo, which is a list of feature_list\n",
        "def fit_and_record(combo):\n",
        "  record = {'subset':None,'score':-1,'model':None}\n",
        "  record_feature_count_wise = {}\n",
        "  for i,subset in enumerate(combo):\n",
        "    if i%100==0:\n",
        "      print(f'{i} of {len(combo)}')\n",
        "    # Create a model\n",
        "    model = LinearRegression()\n",
        "    # Select columns corr to subset and extract values from train, and test df \n",
        "    # and assign to xtrain and xtest\n",
        "    xtrain = train[subset].values\n",
        "    xtest = test[subset].values\n",
        "\n",
        "    # Fit model with xtrain and ytrain\n",
        "    model.fit(xtrain, ytrain)\n",
        "\n",
        "    # calculate score\n",
        "    score = model.score(xtest,ytest)\n",
        "\n",
        "    if len(subset) in record_feature_count_wise:\n",
        "      record_feature_count_wise[len(subset)].append(score)\n",
        "    else:\n",
        "      record_feature_count_wise[len(subset)] = [score,]\n",
        "\n",
        "    # Write a condition where if current score is greater update subset, model and score in record\n",
        "    if record.get('score')<score:\n",
        "      record['subset'] = subset\n",
        "      record['model'] = model\n",
        "      record['score'] = score\n",
        "  record_feature_count_wise = {i:np.array(j).mean() for i,j in record_feature_count_wise.items()}\n",
        "  return record,record_feature_count_wise\n",
        "\n",
        "result,count_wise_score = fit_and_record(all_feature_combinations)"
      ],
      "execution_count": null,
      "outputs": [
        {
          "output_type": "stream",
          "text": [
            "0 of 1023\n",
            "100 of 1023\n",
            "200 of 1023\n",
            "300 of 1023\n",
            "400 of 1023\n",
            "500 of 1023\n",
            "600 of 1023\n",
            "700 of 1023\n",
            "800 of 1023\n",
            "900 of 1023\n",
            "1000 of 1023\n"
          ],
          "name": "stdout"
        }
      ]
    },
    {
      "cell_type": "code",
      "metadata": {
        "id": "s_fIkGRUFu2D",
        "colab": {
          "base_uri": "https://localhost:8080/",
          "height": 54
        },
        "outputId": "963d6739-c694-471d-be5f-557d62471563"
      },
      "source": [
        "# Print the result\n",
        "print(result)"
      ],
      "execution_count": null,
      "outputs": [
        {
          "output_type": "stream",
          "text": [
            "{'subset': ['o_codec_h264', 'o_codec_vp8', 'width', 'bitrate', 'o_bitrate', 'o_framerate', 'o_width', 'umem'], 'score': 0.6521765032351732, 'model': LinearRegression(copy_X=True, fit_intercept=True, n_jobs=None, normalize=False)}\n"
          ],
          "name": "stdout"
        }
      ]
    },
    {
      "cell_type": "code",
      "metadata": {
        "id": "tP47cOf0Lruo",
        "colab": {
          "base_uri": "https://localhost:8080/",
          "height": 54
        },
        "outputId": "8b69a81f-4ee2-4bbc-cf6e-9831d7409b04"
      },
      "source": [
        "# Print count_wise_score\n",
        "print(count_wise_score)"
      ],
      "execution_count": null,
      "outputs": [
        {
          "output_type": "stream",
          "text": [
            "{1: 0.12552000175782665, 2: 0.23289998122792147, 3: 0.3238712748492312, 4: 0.4003708617194407, 5: 0.46426605928350767, 6: 0.5173252373608258, 7: 0.5611977833640889, 8: 0.5973985740221434, 9: 0.6272927396076297, 10: 0.6520771043049365}\n"
          ],
          "name": "stdout"
        }
      ]
    },
    {
      "cell_type": "code",
      "metadata": {
        "id": "yVPXHa8XFxFU",
        "colab": {
          "base_uri": "https://localhost:8080/",
          "height": 581
        },
        "outputId": "dba45656-a1f2-4fcb-ec3f-eb1880202ad0"
      },
      "source": [
        "# Let us visualize importance of these coef_\n",
        "plt.bar(x=result['subset'], height=np.abs(result['model'].coef_), label='Feature Importance')\n",
        "plt.xticks(rotation='vertical')\n",
        "plt.legend()"
      ],
      "execution_count": null,
      "outputs": [
        {
          "output_type": "execute_result",
          "data": {
            "text/plain": [
              "<matplotlib.legend.Legend at 0x7fc2111d6ac8>"
            ]
          },
          "metadata": {
            "tags": []
          },
          "execution_count": 322
        },
        {
          "output_type": "display_data",
          "data": {
            "image/png": "[encoded data removed]",
            "text/plain": [
              "<Figure size 1152x576 with 1 Axes>"
            ]
          },
          "metadata": {
            "tags": []
          }
        }
      ]
    },
    {
      "cell_type": "code",
      "metadata": {
        "id": "5jMaFvo-M6e0",
        "colab": {
          "base_uri": "https://localhost:8080/",
          "height": 522
        },
        "outputId": "66f6bd35-faf1-4a8c-8526-d038f04a1f9a"
      },
      "source": [
        "# Let us visualize count_wise_score\n",
        "plt.scatter(x=count_wise_score.keys(), y=count_wise_score.values(), label='Count Wise Score')\n",
        "plt.xticks(rotation='vertical')\n",
        "plt.legend()"
      ],
      "execution_count": null,
      "outputs": [
        {
          "output_type": "execute_result",
          "data": {
            "text/plain": [
              "<matplotlib.legend.Legend at 0x7fc211148780>"
            ]
          },
          "metadata": {
            "tags": []
          },
          "execution_count": 323
        },
        {
          "output_type": "display_data",
          "data": {
            "image/png": "[encoded data removed]",
            "text/plain": [
              "<Figure size 1152x576 with 1 Axes>"
            ]
          },
          "metadata": {
            "tags": []
          }
        }
      ]
    },
    {
      "cell_type": "markdown",
      "metadata": {
        "id": "bjj40t3dfGMA"
      },
      "source": [
        "***EXERCISE NO. 3***\n",
        "\n",
        "  > **Task-2 | Score :15** "
      ]
    },
    {
      "cell_type": "code",
      "metadata": {
        "id": "Ym1y_hbYIuFp",
        "colab": {
          "base_uri": "https://localhost:8080/",
          "height": 34
        },
        "outputId": "68ba8c5b-5417-41e5-b984-dad50f2a4f6d"
      },
      "source": [
        "# Now answer following\n",
        "\n",
        "\"\"\"\n",
        "Q1. What important difference did you notice in two feature importance plots? How does this importance change?\n",
        "Much less feature. Second plot just shows increase.\n",
        "\n",
        "Q2. What important trend do you notice in feature_count_wise_score?\n",
        "It increases nearly linearly\n",
        "\n",
        "Q3. Why do you think this method is not a good approach? Write two important points.\n",
        "Less features are needed. Less features could lead to less confusing model.\n",
        "\n",
        "\"\"\"\n",
        "print()"
      ],
      "execution_count": null,
      "outputs": [
        {
          "output_type": "stream",
          "text": [
            "\n"
          ],
          "name": "stdout"
        }
      ]
    },
    {
      "cell_type": "markdown",
      "metadata": {
        "id": "jtM7BgxJVkqw"
      },
      "source": [
        "***EXERCISE NO. 3***\n",
        "\n",
        "  > **Task-3 | Score :10** "
      ]
    },
    {
      "cell_type": "code",
      "metadata": {
        "id": "IxiL3L-XOr_d"
      },
      "source": [
        "# IMPORTANT!!!!!!!!!!!!!! PLEASE PAY ATTENTION ONLY IN INSTRUCTIONS\n",
        "# YOU DON'T HAVE TO CODE VERYTHING\n",
        "# JUST TRY TO FIGURE OUT FEW THINGS AS INSTRUCTED\n",
        "\n",
        "\n",
        "# Since you have now realized the above method is not a good one\n",
        "# Recall lecture from class, where we talked about forward feature selection\n",
        "# Now we will sequentially increase our feature space\n",
        "# We will start with best_feature = []\n",
        "# We will add first feature, store its score\n",
        "# We then add next feature, and see if score is high or less\n",
        "# If score is high we will consider it in our best_feature otherwise we will drop(pop) it\n",
        "# We will continue this until we finished iterating over all the feature space\n",
        "\n",
        "# Since you have now realized above method is not a good one\n",
        "# Recall lecture from class, where we talked about forward feature selection\n",
        "# Now we will sequentially increase our feature space\n",
        "# We will start with best_feature = []\n",
        "# We will add first feature, store its score\n",
        "# We then add next feature, and see if score is high or less\n",
        "# If score is high we will consider it in our best_feature otherwise we will drop(pop) it\n",
        "# We will continue this until we finished iterating over all the feature space\n",
        "\n",
        "# FOLLOWING FUNCTION WILL fit the given candidate features and return score and model coefficient\n",
        "# example candidate_best_features = ['feature1', 'feature2',...] from feature_names\n",
        "from graphviz import Digraph\n",
        "\n",
        "def fit_and_return_score(candidate_best_features):\n",
        "  xtrain = train[candidate_best_features].values\n",
        "  xtest = test[candidate_best_features].values\n",
        "  if len(xtrain.shape) == 1:\n",
        "    xtrain = xtrain.reshape(-1,1)\n",
        "    xtest = xtest.reshape(-1,1)\n",
        "  model = LinearRegression()\n",
        "  model.fit(xtrain,ytrain)\n",
        "  return model.score(xtest,ytest), model.coef_\n",
        "\n",
        "\n",
        "# This will take existing best features, candidate features that could be possible best feature and weird network graph object \n",
        "# You will understand why we use this network graph object later\n",
        "# You don't need to implement everything inside the greedy function\n",
        "# Try to fill the remaining code section as instructed\n",
        "\n",
        "\n",
        "def greedy(existing_best_feature, candidate_feature_list,process):\n",
        "  best_feature = None\n",
        "  if existing_best_feature:  \n",
        "    score, coef_ = fit_and_return_score(existing_best_feature)\n",
        "  else:\n",
        "    score = -1\n",
        "\n",
        "  best_candidate = None\n",
        "  for i,feature in enumerate(candidate_feature_list):\n",
        "    score_, coef_ = fit_and_return_score(existing_best_feature + [feature])\n",
        "    \n",
        "    # Do not pay attention here, \n",
        "    # You are welcome to explore what I am doing here\n",
        "    # But this is just for recording our search in terms of graph\n",
        "    # You will play with this graph later\n",
        "    \n",
        "    if existing_best_feature:  \n",
        "      process.edge(existing_best_feature[-1]+'_'+str(len(existing_best_feature)+1),feature+'_'+str(len(existing_best_feature)+1))\n",
        "      process.edge(feature+'_'+str(len(existing_best_feature)+1), f'Score = {score_:.6f}')\n",
        "    else:\n",
        "      process.edge(feature, f'Score = {score_:.6f}')\n",
        "    \n",
        "    # Here if current score that is newly calculated is less than old one get inside a condition block and do as instructed\n",
        "    if score < score_:\n",
        "      # if above condition as instructed is true\n",
        "      # do following\n",
        "      #1. update old score to new score\n",
        "      #2. update best_feature to current feature\n",
        "      \n",
        "      score = score_\n",
        "      best_feature = feature\n",
        "\n",
        "  \n",
        "  if best_feature:\n",
        "    # If we were able to get our best feature we have to do something here\n",
        "    # Do following\n",
        "    # 1. remove best_feature from candidate_feature_list (use .remove method, see this method from list)\n",
        "    # 2. append best_feature to existing_best_feature \n",
        "\n",
        "    \n",
        "    candidate_feature_list.remove(best_feature)\n",
        "    existing_best_feature.append(best_feature)\n",
        "\n",
        "    #Please do not pay attention on following code\n",
        "    process.edge(f'Score = {score:.6f}',best_feature+'_'+str(len(existing_best_feature)+1))\n",
        "\n",
        "  else:\n",
        "    # If we are not able to get any best_feature than we have to terminate our search\n",
        "    # Best way to do this is make our candidate_feature_list None or empty list\n",
        "    # Do following\n",
        "    # 1. make candidate_feature_list None\n",
        "    candidate_feature_list = None\n",
        "    # We need to reset our model with old existing_best_feature\n",
        "    score_, coef_ = fit_and_return_score(existing_best_feature)\n",
        "\n",
        "  return existing_best_feature, candidate_feature_list, coef_, process\n",
        "\n",
        "\n",
        "def forward_stepwise_selection(features):\n",
        "  best_feature = []\n",
        "  coef = None\n",
        "  score = -1\n",
        "  process = Digraph('FSW')\n",
        "  process.node(f'Score = {0}')\n",
        "  process.edges([(f'Score = {0}',f) for f in features])\n",
        "  \n",
        "  # Here we will run our while loop unless we run out of features(which infact is candidate_feature_list)\n",
        "  # Or unless our search is terminated explicitly during greedy search\n",
        "  # So run while loop unless we have something in features\n",
        "  # complete while ?? , ?? should be a condition that is true if there is something in features\n",
        "  while features:\n",
        "    best_feature, features, coef,process = greedy(best_feature.copy(), features.copy(), process)\n",
        "  return best_feature, coef,process\n",
        "  \n",
        "best_feature, coef,_ = forward_stepwise_selection(feature_names.copy())\n"
      ],
      "execution_count": null,
      "outputs": []
    },
    {
      "cell_type": "code",
      "metadata": {
        "id": "Vv-5JLNklLBa",
        "colab": {
          "base_uri": "https://localhost:8080/",
          "height": 1000
        },
        "outputId": "3cd66fdf-b3e8-4cbf-d709-51518c483543"
      },
      "source": [
        "# You might be wondering how things workout in above example\n",
        "# Now we will play with our graph object called as process\n",
        "# You don't have to code anything here\n",
        "# Just play with given code\n",
        "# You can tweak number of features \n",
        "# We have 25 feature names choose number from 1 to 25 to play with the graph\n",
        "# If you choose smaller number graph will be smaller\n",
        "# If you choose larger number graph will be larger\n",
        "# You have to scroll right-left top-down to see whats going on in graph\n",
        "# This graph is basically showing tree traversal\n",
        "# Where we are looping over each combination of features one by one progressively from 0 to 1 to 2 to 3 to 4..... and so on\n",
        "# You will see we will pick up only the max score generating feature sets \n",
        "\n",
        "# You can run this cell as many times as you like and will get different results\n",
        "import random\n",
        "number_of_feature_you_want_to_play_with = 15\n",
        "best_feature_, _,process = forward_stepwise_selection(random.sample(feature_names.copy(),number_of_feature_you_want_to_play_with))\n",
        "print(best_feature_)\n",
        "# You might see '_someNumber' in feature names, these number represents tree level or height\n",
        "process"
      ],
      "execution_count": null,
      "outputs": [
        {
          "output_type": "stream",
          "text": [
            "['umem', 'o_width', 'o_bitrate', 'o_codec_vp8', 'width', 'o_framerate', 'i_size', 'p_size', 'codec_vp8', 'height', 'frames', 'o_height', 'b', 'duration']\n"
          ],
          "name": "stdout"
        },
        {
          "output_type": "execute_result",
          "data": {
            "text/plain": [
              "<graphviz.dot.Digraph at 0x7fc2110d9dd8>"
            ],
            "image/svg+xml": "<?xml version=\"1.0\" encoding=\"UTF-8\" standalone=\"no\"?>\n<!DOCTYPE svg PUBLIC \"-//W3C//DTD SVG 1.1//EN\"\n \"http://www.w3.org/Graphics/SVG/1.1/DTD/svg11.dtd\">\n<!-- Generated by graphviz version 2.40.1 (20161225.0304)\n -->\n<!-- Title: FSW Pages: 1 -->\n<svg width=\"3583pt\" height=\"3212pt\"\n viewBox=\"0.00 0.00 3582.64 3212.00\" xmlns=\"http://www.w3.org/2000/svg\" xmlns:xlink=\"http://www.w3.org/1999/xlink\">\n<g id=\"graph0\" class=\"graph\" transform=\"scale(1 1) rotate(0) translate(4 3208)\">\n<title>FSW</title>\n<polygon fill=\"#ffffff\" stroke=\"transparent\" points=\"-4,4 -4,-3208 3578.6361,-3208 3578.6361,4 -4,4\"/>\n<!-- Score = 0 -->\n<g id=\"node1\" class=\"node\">\n<title>Score = 0</title>\n<ellipse fill=\"none\" stroke=\"#000000\" cx=\"2259.9931\" cy=\"-3186\" rx=\"46.5926\" ry=\"18\"/>\n<text text-anchor=\"middle\" x=\"2259.9931\" y=\"-3182.3\" font-family=\"Times,serif\" font-size=\"14.00\" fill=\"#000000\">Score = 0</text>\n</g>\n<!-- o_height -->\n<g id=\"node2\" class=\"node\">\n<title>o_height</title>\n<ellipse fill=\"none\" stroke=\"#000000\" cx=\"1106.9931\" cy=\"-3114\" rx=\"44.393\" ry=\"18\"/>\n<text text-anchor=\"middle\" x=\"1106.9931\" y=\"-3110.3\" font-family=\"Times,serif\" font-size=\"14.00\" fill=\"#000000\">o_height</text>\n</g>\n<!-- Score = 0&#45;&gt;o_height -->\n<g id=\"edge1\" class=\"edge\">\n<title>Score = 0&#45;&gt;o_height</title>\n<path fill=\"none\" stroke=\"#000000\" d=\"M2213.1287,-3184.489C2035.0739,-3178.6118 1400.5172,-3156.3911 1199.9931,-3132 1185.5428,-3130.2423 1169.9668,-3127.5482 1155.7713,-3124.7753\"/>\n<polygon fill=\"#000000\" stroke=\"#000000\" points=\"1156.208,-3121.2932 1145.7145,-3122.7545 1154.829,-3128.156 1156.208,-3121.2932\"/>\n</g>\n<!-- umem -->\n<g id=\"node3\" class=\"node\">\n<title>umem</title>\n<ellipse fill=\"none\" stroke=\"#000000\" cx=\"1242.9931\" cy=\"-3114\" rx=\"34.394\" ry=\"18\"/>\n<text text-anchor=\"middle\" x=\"1242.9931\" y=\"-3110.3\" font-family=\"Times,serif\" font-size=\"14.00\" fill=\"#000000\">umem</text>\n</g>\n<!-- Score = 0&#45;&gt;umem -->\n<g id=\"edge2\" class=\"edge\">\n<title>Score = 0&#45;&gt;umem</title>\n<path fill=\"none\" stroke=\"#000000\" d=\"M2213.0855,-3184.4802C2080.457,-3179.8973 1691.4971,-3164.4844 1369.9931,-3132 1341.9794,-3129.1695 1310.6578,-3124.7442 1286.1294,-3120.9898\"/>\n<polygon fill=\"#000000\" stroke=\"#000000\" points=\"1286.4809,-3117.5025 1276.0626,-3119.4285 1285.408,-3124.4198 1286.4809,-3117.5025\"/>\n</g>\n<!-- width -->\n<g id=\"node4\" class=\"node\">\n<title>width</title>\n<ellipse fill=\"none\" stroke=\"#000000\" cx=\"1410.9931\" cy=\"-3114\" rx=\"32.4942\" ry=\"18\"/>\n<text text-anchor=\"middle\" x=\"1410.9931\" y=\"-3110.3\" font-family=\"Times,serif\" font-size=\"14.00\" fill=\"#000000\">width</text>\n</g>\n<!-- Score = 0&#45;&gt;width -->\n<g id=\"edge3\" class=\"edge\">\n<title>Score = 0&#45;&gt;width</title>\n<path fill=\"none\" stroke=\"#000000\" d=\"M2213.2669,-3183.8092C2097.2186,-3178.0944 1786.6355,-3161.1224 1528.9931,-3132 1503.4574,-3129.1136 1474.9725,-3124.7999 1452.3874,-3121.119\"/>\n<polygon fill=\"#000000\" stroke=\"#000000\" points=\"1452.894,-3117.6553 1442.4574,-3119.4797 1451.7538,-3124.5618 1452.894,-3117.6553\"/>\n</g>\n<!-- codec_vp8 -->\n<g id=\"node5\" class=\"node\">\n<title>codec_vp8</title>\n<ellipse fill=\"none\" stroke=\"#000000\" cx=\"1589.9931\" cy=\"-3114\" rx=\"51.9908\" ry=\"18\"/>\n<text text-anchor=\"middle\" x=\"1589.9931\" y=\"-3110.3\" font-family=\"Times,serif\" font-size=\"14.00\" fill=\"#000000\">codec_vp8</text>\n</g>\n<!-- Score = 0&#45;&gt;codec_vp8 -->\n<g id=\"edge4\" class=\"edge\">\n<title>Score = 0&#45;&gt;codec_vp8</title>\n<path fill=\"none\" stroke=\"#000000\" d=\"M2213.7495,-3182.8991C2116.6308,-3176.1038 1884.436,-3158.3717 1690.9931,-3132 1676.1524,-3129.9768 1660.1632,-3127.3405 1645.3815,-3124.7122\"/>\n<polygon fill=\"#000000\" stroke=\"#000000\" points=\"1645.8332,-3121.2372 1635.3699,-3122.9015 1644.5873,-3128.1254 1645.8332,-3121.2372\"/>\n</g>\n<!-- o_framerate -->\n<g id=\"node6\" class=\"node\">\n<title>o_framerate</title>\n<ellipse fill=\"none\" stroke=\"#000000\" cx=\"1754.9931\" cy=\"-3114\" rx=\"54.6905\" ry=\"18\"/>\n<text text-anchor=\"middle\" x=\"1754.9931\" y=\"-3110.3\" font-family=\"Times,serif\" font-size=\"14.00\" fill=\"#000000\">o_framerate</text>\n</g>\n<!-- Score = 0&#45;&gt;o_framerate -->\n<g id=\"edge5\" class=\"edge\">\n<title>Score = 0&#45;&gt;o_framerate</title>\n<path fill=\"none\" stroke=\"#000000\" d=\"M2216.0611,-3179.7364C2125.4897,-3166.8233 1917.8974,-3137.226 1815.0314,-3122.5599\"/>\n<polygon fill=\"#000000\" stroke=\"#000000\" points=\"1815.5057,-3119.0922 1805.1118,-3121.1456 1814.5176,-3126.0222 1815.5057,-3119.0922\"/>\n</g>\n<!-- b -->\n<g id=\"node7\" class=\"node\">\n<title>b</title>\n<ellipse fill=\"none\" stroke=\"#000000\" cx=\"1954.9931\" cy=\"-3114\" rx=\"27\" ry=\"18\"/>\n<text text-anchor=\"middle\" x=\"1954.9931\" y=\"-3110.3\" font-family=\"Times,serif\" font-size=\"14.00\" fill=\"#000000\">b</text>\n</g>\n<!-- Score = 0&#45;&gt;b -->\n<g id=\"edge6\" class=\"edge\">\n<title>Score = 0&#45;&gt;b</title>\n<path fill=\"none\" stroke=\"#000000\" d=\"M2219.806,-3176.5132C2159.8073,-3162.3496 2047.7618,-3135.8995 1990.5674,-3122.3979\"/>\n<polygon fill=\"#000000\" stroke=\"#000000\" points=\"1991.0879,-3118.9246 1980.5512,-3120.0334 1989.4796,-3125.7374 1991.0879,-3118.9246\"/>\n</g>\n<!-- o_codec_vp8 -->\n<g id=\"node8\" class=\"node\">\n<title>o_codec_vp8</title>\n<ellipse fill=\"none\" stroke=\"#000000\" cx=\"2111.9931\" cy=\"-3114\" rx=\"61.99\" ry=\"18\"/>\n<text text-anchor=\"middle\" x=\"2111.9931\" y=\"-3110.3\" font-family=\"Times,serif\" font-size=\"14.00\" fill=\"#000000\">o_codec_vp8</text>\n</g>\n<!-- Score = 0&#45;&gt;o_codec_vp8 -->\n<g id=\"edge7\" class=\"edge\">\n<title>Score = 0&#45;&gt;o_codec_vp8</title>\n<path fill=\"none\" stroke=\"#000000\" d=\"M2230.753,-3171.7751C2208.4928,-3160.9458 2177.577,-3145.9057 2152.8689,-3133.8855\"/>\n<polygon fill=\"#000000\" stroke=\"#000000\" points=\"2154.2578,-3130.669 2143.7343,-3129.4417 2151.1955,-3136.9637 2154.2578,-3130.669\"/>\n</g>\n<!-- o_bitrate -->\n<g id=\"node9\" class=\"node\">\n<title>o_bitrate</title>\n<ellipse fill=\"none\" stroke=\"#000000\" cx=\"2259.9931\" cy=\"-3114\" rx=\"43.5923\" ry=\"18\"/>\n<text text-anchor=\"middle\" x=\"2259.9931\" y=\"-3110.3\" font-family=\"Times,serif\" font-size=\"14.00\" fill=\"#000000\">o_bitrate</text>\n</g>\n<!-- Score = 0&#45;&gt;o_bitrate -->\n<g id=\"edge8\" class=\"edge\">\n<title>Score = 0&#45;&gt;o_bitrate</title>\n<path fill=\"none\" stroke=\"#000000\" d=\"M2259.9931,-3167.8314C2259.9931,-3160.131 2259.9931,-3150.9743 2259.9931,-3142.4166\"/>\n<polygon fill=\"#000000\" stroke=\"#000000\" points=\"2263.4932,-3142.4132 2259.9931,-3132.4133 2256.4932,-3142.4133 2263.4932,-3142.4132\"/>\n</g>\n<!-- i_size -->\n<g id=\"node10\" class=\"node\">\n<title>i_size</title>\n<ellipse fill=\"none\" stroke=\"#000000\" cx=\"2393.9931\" cy=\"-3114\" rx=\"31.6951\" ry=\"18\"/>\n<text text-anchor=\"middle\" x=\"2393.9931\" y=\"-3110.3\" font-family=\"Times,serif\" font-size=\"14.00\" fill=\"#000000\">i_size</text>\n</g>\n<!-- Score = 0&#45;&gt;i_size -->\n<g id=\"edge9\" class=\"edge\">\n<title>Score = 0&#45;&gt;i_size</title>\n<path fill=\"none\" stroke=\"#000000\" d=\"M2287.4333,-3171.256C2308.9684,-3159.6849 2338.9986,-3143.5493 2361.6927,-3131.3554\"/>\n<polygon fill=\"#000000\" stroke=\"#000000\" points=\"2363.4614,-3134.3784 2370.6138,-3126.562 2360.1482,-3128.2121 2363.4614,-3134.3784\"/>\n</g>\n<!-- frames -->\n<g id=\"node11\" class=\"node\">\n<title>frames</title>\n<ellipse fill=\"none\" stroke=\"#000000\" cx=\"2543.9931\" cy=\"-3114\" rx=\"35.194\" ry=\"18\"/>\n<text text-anchor=\"middle\" x=\"2543.9931\" y=\"-3110.3\" font-family=\"Times,serif\" font-size=\"14.00\" fill=\"#000000\">frames</text>\n</g>\n<!-- Score = 0&#45;&gt;frames -->\n<g id=\"edge10\" class=\"edge\">\n<title>Score = 0&#45;&gt;frames</title>\n<path fill=\"none\" stroke=\"#000000\" d=\"M2299.1839,-3176.0643C2352.6159,-3162.5182 2447.9063,-3138.36 2502.5073,-3124.5175\"/>\n<polygon fill=\"#000000\" stroke=\"#000000\" points=\"2503.3765,-3127.908 2512.2097,-3122.0577 2501.6563,-3121.1226 2503.3765,-3127.908\"/>\n</g>\n<!-- p_size -->\n<g id=\"node12\" class=\"node\">\n<title>p_size</title>\n<ellipse fill=\"none\" stroke=\"#000000\" cx=\"2707.9931\" cy=\"-3114\" rx=\"34.394\" ry=\"18\"/>\n<text text-anchor=\"middle\" x=\"2707.9931\" y=\"-3110.3\" font-family=\"Times,serif\" font-size=\"14.00\" fill=\"#000000\">p_size</text>\n</g>\n<!-- Score = 0&#45;&gt;p_size -->\n<g id=\"edge11\" class=\"edge\">\n<title>Score = 0&#45;&gt;p_size</title>\n<path fill=\"none\" stroke=\"#000000\" d=\"M2303.3563,-3179.0309C2389.1333,-3165.2453 2579.5512,-3134.6424 2665.0145,-3120.9073\"/>\n<polygon fill=\"#000000\" stroke=\"#000000\" points=\"2665.5845,-3124.3607 2674.9024,-3119.3181 2664.4737,-3117.4493 2665.5845,-3124.3607\"/>\n</g>\n<!-- codec_flv -->\n<g id=\"node13\" class=\"node\">\n<title>codec_flv</title>\n<ellipse fill=\"none\" stroke=\"#000000\" cx=\"2884.9931\" cy=\"-3114\" rx=\"47.3916\" ry=\"18\"/>\n<text text-anchor=\"middle\" x=\"2884.9931\" y=\"-3110.3\" font-family=\"Times,serif\" font-size=\"14.00\" fill=\"#000000\">codec_flv</text>\n</g>\n<!-- Score = 0&#45;&gt;codec_flv -->\n<g id=\"edge12\" class=\"edge\">\n<title>Score = 0&#45;&gt;codec_flv</title>\n<path fill=\"none\" stroke=\"#000000\" d=\"M2305.3894,-3181.375C2392.073,-3172.4621 2587.1285,-3152.0138 2750.9931,-3132 2777.0887,-3128.8128 2805.9991,-3124.9691 2830.2665,-3121.6533\"/>\n<polygon fill=\"#000000\" stroke=\"#000000\" points=\"2830.9295,-3125.0952 2840.3608,-3120.2681 2829.9778,-3118.1602 2830.9295,-3125.0952\"/>\n</g>\n<!-- duration -->\n<g id=\"node14\" class=\"node\">\n<title>duration</title>\n<ellipse fill=\"none\" stroke=\"#000000\" cx=\"3067.9931\" cy=\"-3114\" rx=\"42.4939\" ry=\"18\"/>\n<text text-anchor=\"middle\" x=\"3067.9931\" y=\"-3110.3\" font-family=\"Times,serif\" font-size=\"14.00\" fill=\"#000000\">duration</text>\n</g>\n<!-- Score = 0&#45;&gt;duration -->\n<g id=\"edge13\" class=\"edge\">\n<title>Score = 0&#45;&gt;duration</title>\n<path fill=\"none\" stroke=\"#000000\" d=\"M2306.3265,-3183.3149C2416.5299,-3176.7129 2702.8675,-3158.2908 2940.9931,-3132 2966.5407,-3129.1794 2994.8673,-3125.2432 3018.2739,-3121.7708\"/>\n<polygon fill=\"#000000\" stroke=\"#000000\" points=\"3018.9467,-3125.2091 3028.317,-3120.2648 3017.9086,-3118.2865 3018.9467,-3125.2091\"/>\n</g>\n<!-- o_width -->\n<g id=\"node15\" class=\"node\">\n<title>o_width</title>\n<ellipse fill=\"none\" stroke=\"#000000\" cx=\"3244.9931\" cy=\"-3114\" rx=\"42.4939\" ry=\"18\"/>\n<text text-anchor=\"middle\" x=\"3244.9931\" y=\"-3110.3\" font-family=\"Times,serif\" font-size=\"14.00\" fill=\"#000000\">o_width</text>\n</g>\n<!-- Score = 0&#45;&gt;o_width -->\n<g id=\"edge14\" class=\"edge\">\n<title>Score = 0&#45;&gt;o_width</title>\n<path fill=\"none\" stroke=\"#000000\" d=\"M2306.6571,-3184.3655C2435.9761,-3179.5555 2809.8125,-3163.7522 3118.9931,-3132 3144.2683,-3129.4043 3172.258,-3125.509 3195.4246,-3122.0052\"/>\n<polygon fill=\"#000000\" stroke=\"#000000\" points=\"3196.0139,-3125.4558 3205.368,-3120.4809 3194.9531,-3118.5366 3196.0139,-3125.4558\"/>\n</g>\n<!-- height -->\n<g id=\"node16\" class=\"node\">\n<title>height</title>\n<ellipse fill=\"none\" stroke=\"#000000\" cx=\"3417.9931\" cy=\"-3114\" rx=\"34.394\" ry=\"18\"/>\n<text text-anchor=\"middle\" x=\"3417.9931\" y=\"-3110.3\" font-family=\"Times,serif\" font-size=\"14.00\" fill=\"#000000\">height</text>\n</g>\n<!-- Score = 0&#45;&gt;height -->\n<g id=\"edge15\" class=\"edge\">\n<title>Score = 0&#45;&gt;height</title>\n<path fill=\"none\" stroke=\"#000000\" d=\"M2306.8359,-3185.1329C2453.2765,-3182.0851 2915.378,-3169.9122 3295.9931,-3132 3322.4384,-3129.3658 3351.9218,-3125.0541 3375.2793,-3121.3111\"/>\n<polygon fill=\"#000000\" stroke=\"#000000\" points=\"3375.9087,-3124.7548 3385.2166,-3119.694 3374.7843,-3117.8457 3375.9087,-3124.7548\"/>\n</g>\n<!-- Score = 0.278934 -->\n<g id=\"node17\" class=\"node\">\n<title>Score = 0.278934</title>\n<ellipse fill=\"none\" stroke=\"#000000\" cx=\"1022.9931\" cy=\"-3042\" rx=\"78.7863\" ry=\"18\"/>\n<text text-anchor=\"middle\" x=\"1022.9931\" y=\"-3038.3\" font-family=\"Times,serif\" font-size=\"14.00\" fill=\"#000000\">Score = 0.278934</text>\n</g>\n<!-- o_height&#45;&gt;Score = 0.278934 -->\n<g id=\"edge16\" class=\"edge\">\n<title>o_height&#45;&gt;Score = 0.278934</title>\n<path fill=\"none\" stroke=\"#000000\" d=\"M1087.9322,-3097.6621C1077.0523,-3088.3365 1063.21,-3076.4717 1051.103,-3066.0942\"/>\n<polygon fill=\"#000000\" stroke=\"#000000\" points=\"1053.3165,-3063.3817 1043.4461,-3059.5312 1048.7609,-3068.6965 1053.3165,-3063.3817\"/>\n</g>\n<!-- Score = 0.449195 -->\n<g id=\"node18\" class=\"node\">\n<title>Score = 0.449195</title>\n<ellipse fill=\"none\" stroke=\"#000000\" cx=\"1197.9931\" cy=\"-3042\" rx=\"78.7863\" ry=\"18\"/>\n<text text-anchor=\"middle\" x=\"1197.9931\" y=\"-3038.3\" font-family=\"Times,serif\" font-size=\"14.00\" fill=\"#000000\">Score = 0.449195</text>\n</g>\n<!-- umem&#45;&gt;Score = 0.449195 -->\n<g id=\"edge17\" class=\"edge\">\n<title>umem&#45;&gt;Score = 0.449195</title>\n<path fill=\"none\" stroke=\"#000000\" d=\"M1232.0998,-3096.5708C1226.8565,-3088.1815 1220.4551,-3077.9392 1214.6203,-3068.6035\"/>\n<polygon fill=\"#000000\" stroke=\"#000000\" points=\"1217.524,-3066.6456 1209.2559,-3060.0206 1211.588,-3070.3556 1217.524,-3066.6456\"/>\n</g>\n<!-- Score = 0.017143 -->\n<g id=\"node19\" class=\"node\">\n<title>Score = 0.017143</title>\n<ellipse fill=\"none\" stroke=\"#000000\" cx=\"1372.9931\" cy=\"-3042\" rx=\"78.7863\" ry=\"18\"/>\n<text text-anchor=\"middle\" x=\"1372.9931\" y=\"-3038.3\" font-family=\"Times,serif\" font-size=\"14.00\" fill=\"#000000\">Score = 0.017143</text>\n</g>\n<!-- width&#45;&gt;Score = 0.017143 -->\n<g id=\"edge18\" class=\"edge\">\n<title>width&#45;&gt;Score = 0.017143</title>\n<path fill=\"none\" stroke=\"#000000\" d=\"M1401.7943,-3096.5708C1397.4123,-3088.2679 1392.0724,-3078.1502 1387.1864,-3068.8925\"/>\n<polygon fill=\"#000000\" stroke=\"#000000\" points=\"1390.2669,-3067.2308 1382.5039,-3060.0206 1384.0762,-3070.4981 1390.2669,-3067.2308\"/>\n</g>\n<!-- Score = &#45;0.000012 -->\n<g id=\"node20\" class=\"node\">\n<title>Score = &#45;0.000012</title>\n<ellipse fill=\"none\" stroke=\"#000000\" cx=\"1550.9931\" cy=\"-3042\" rx=\"81.4863\" ry=\"18\"/>\n<text text-anchor=\"middle\" x=\"1550.9931\" y=\"-3038.3\" font-family=\"Times,serif\" font-size=\"14.00\" fill=\"#000000\">Score = &#45;0.000012</text>\n</g>\n<!-- codec_vp8&#45;&gt;Score = &#45;0.000012 -->\n<g id=\"edge19\" class=\"edge\">\n<title>codec_vp8&#45;&gt;Score = &#45;0.000012</title>\n<path fill=\"none\" stroke=\"#000000\" d=\"M1580.3526,-3096.2022C1575.9329,-3088.0428 1570.5962,-3078.1904 1565.6916,-3069.1358\"/>\n<polygon fill=\"#000000\" stroke=\"#000000\" points=\"1568.6339,-3067.219 1560.7935,-3060.0931 1562.4789,-3070.5531 1568.6339,-3067.219\"/>\n</g>\n<!-- Score = 0.009521 -->\n<g id=\"node21\" class=\"node\">\n<title>Score = 0.009521</title>\n<ellipse fill=\"none\" stroke=\"#000000\" cx=\"1728.9931\" cy=\"-3042\" rx=\"78.7863\" ry=\"18\"/>\n<text text-anchor=\"middle\" x=\"1728.9931\" y=\"-3038.3\" font-family=\"Times,serif\" font-size=\"14.00\" fill=\"#000000\">Score = 0.009521</text>\n</g>\n<!-- o_framerate&#45;&gt;Score = 0.009521 -->\n<g id=\"edge20\" class=\"edge\">\n<title>o_framerate&#45;&gt;Score = 0.009521</title>\n<path fill=\"none\" stroke=\"#000000\" d=\"M1748.4322,-3095.8314C1745.5904,-3087.9617 1742.1993,-3078.5712 1739.0512,-3069.8533\"/>\n<polygon fill=\"#000000\" stroke=\"#000000\" points=\"1742.3308,-3068.63 1735.6423,-3060.4133 1735.7469,-3071.0076 1742.3308,-3068.63\"/>\n</g>\n<!-- Score = &#45;0.000163 -->\n<g id=\"node22\" class=\"node\">\n<title>Score = &#45;0.000163</title>\n<ellipse fill=\"none\" stroke=\"#000000\" cx=\"1906.9931\" cy=\"-3042\" rx=\"81.4863\" ry=\"18\"/>\n<text text-anchor=\"middle\" x=\"1906.9931\" y=\"-3038.3\" font-family=\"Times,serif\" font-size=\"14.00\" fill=\"#000000\">Score = &#45;0.000163</text>\n</g>\n<!-- b&#45;&gt;Score = &#45;0.000163 -->\n<g id=\"edge21\" class=\"edge\">\n<title>b&#45;&gt;Score = &#45;0.000163</title>\n<path fill=\"none\" stroke=\"#000000\" d=\"M1943.8603,-3097.3008C1938.1353,-3088.7133 1931.0234,-3078.0454 1924.5777,-3068.377\"/>\n<polygon fill=\"#000000\" stroke=\"#000000\" points=\"1927.3637,-3066.2462 1918.9045,-3059.8671 1921.5394,-3070.1291 1927.3637,-3066.2462\"/>\n</g>\n<!-- Score = 0.001212 -->\n<g id=\"node23\" class=\"node\">\n<title>Score = 0.001212</title>\n<ellipse fill=\"none\" stroke=\"#000000\" cx=\"2084.9931\" cy=\"-3042\" rx=\"78.7863\" ry=\"18\"/>\n<text text-anchor=\"middle\" x=\"2084.9931\" y=\"-3038.3\" font-family=\"Times,serif\" font-size=\"14.00\" fill=\"#000000\">Score = 0.001212</text>\n</g>\n<!-- o_codec_vp8&#45;&gt;Score = 0.001212 -->\n<g id=\"edge22\" class=\"edge\">\n<title>o_codec_vp8&#45;&gt;Score = 0.001212</title>\n<path fill=\"none\" stroke=\"#000000\" d=\"M2105.1798,-3095.8314C2102.2287,-3087.9617 2098.7073,-3078.5712 2095.4381,-3069.8533\"/>\n<polygon fill=\"#000000\" stroke=\"#000000\" points=\"2098.6865,-3068.5476 2091.8981,-3060.4133 2092.1322,-3071.0055 2098.6865,-3068.5476\"/>\n</g>\n<!-- Score = 0.025707 -->\n<g id=\"node24\" class=\"node\">\n<title>Score = 0.025707</title>\n<ellipse fill=\"none\" stroke=\"#000000\" cx=\"2259.9931\" cy=\"-3042\" rx=\"78.7863\" ry=\"18\"/>\n<text text-anchor=\"middle\" x=\"2259.9931\" y=\"-3038.3\" font-family=\"Times,serif\" font-size=\"14.00\" fill=\"#000000\">Score = 0.025707</text>\n</g>\n<!-- o_bitrate&#45;&gt;Score = 0.025707 -->\n<g id=\"edge23\" class=\"edge\">\n<title>o_bitrate&#45;&gt;Score = 0.025707</title>\n<path fill=\"none\" stroke=\"#000000\" d=\"M2259.9931,-3095.8314C2259.9931,-3088.131 2259.9931,-3078.9743 2259.9931,-3070.4166\"/>\n<polygon fill=\"#000000\" stroke=\"#000000\" points=\"2263.4932,-3070.4132 2259.9931,-3060.4133 2256.4932,-3070.4133 2263.4932,-3070.4132\"/>\n</g>\n<!-- Score = 0.002506 -->\n<g id=\"node25\" class=\"node\">\n<title>Score = 0.002506</title>\n<ellipse fill=\"none\" stroke=\"#000000\" cx=\"2434.9931\" cy=\"-3042\" rx=\"78.7863\" ry=\"18\"/>\n<text text-anchor=\"middle\" x=\"2434.9931\" y=\"-3038.3\" font-family=\"Times,serif\" font-size=\"14.00\" fill=\"#000000\">Score = 0.002506</text>\n</g>\n<!-- i_size&#45;&gt;Score = 0.002506 -->\n<g id=\"edge24\" class=\"edge\">\n<title>i_size&#45;&gt;Score = 0.002506</title>\n<path fill=\"none\" stroke=\"#000000\" d=\"M2403.918,-3096.5708C2408.6461,-3088.2679 2414.4075,-3078.1502 2419.6793,-3068.8925\"/>\n<polygon fill=\"#000000\" stroke=\"#000000\" points=\"2422.8244,-3070.4424 2424.7314,-3060.0206 2416.7415,-3066.9785 2422.8244,-3070.4424\"/>\n</g>\n<!-- Score = 0.000615 -->\n<g id=\"node26\" class=\"node\">\n<title>Score = 0.000615</title>\n<ellipse fill=\"none\" stroke=\"#000000\" cx=\"2609.9931\" cy=\"-3042\" rx=\"78.7863\" ry=\"18\"/>\n<text text-anchor=\"middle\" x=\"2609.9931\" y=\"-3038.3\" font-family=\"Times,serif\" font-size=\"14.00\" fill=\"#000000\">Score = 0.000615</text>\n</g>\n<!-- frames&#45;&gt;Score = 0.000615 -->\n<g id=\"edge25\" class=\"edge\">\n<title>frames&#45;&gt;Score = 0.000615</title>\n<path fill=\"none\" stroke=\"#000000\" d=\"M2558.9695,-3097.6621C2567.2131,-3088.6691 2577.6213,-3077.3147 2586.884,-3067.21\"/>\n<polygon fill=\"#000000\" stroke=\"#000000\" points=\"2589.5118,-3069.5228 2593.6891,-3059.7862 2584.3517,-3064.7927 2589.5118,-3069.5228\"/>\n</g>\n<!-- Score = 0.006018 -->\n<g id=\"node27\" class=\"node\">\n<title>Score = 0.006018</title>\n<ellipse fill=\"none\" stroke=\"#000000\" cx=\"2784.9931\" cy=\"-3042\" rx=\"78.7863\" ry=\"18\"/>\n<text text-anchor=\"middle\" x=\"2784.9931\" y=\"-3038.3\" font-family=\"Times,serif\" font-size=\"14.00\" fill=\"#000000\">Score = 0.006018</text>\n</g>\n<!-- p_size&#45;&gt;Score = 0.006018 -->\n<g id=\"edge26\" class=\"edge\">\n<title>p_size&#45;&gt;Score = 0.006018</title>\n<path fill=\"none\" stroke=\"#000000\" d=\"M2725.0819,-3098.0209C2734.9456,-3088.7977 2747.5585,-3077.0037 2758.6651,-3066.6184\"/>\n<polygon fill=\"#000000\" stroke=\"#000000\" points=\"2761.1474,-3069.089 2766.0612,-3059.7025 2756.3665,-3063.976 2761.1474,-3069.089\"/>\n</g>\n<!-- Score = &#45;0.000258 -->\n<g id=\"node28\" class=\"node\">\n<title>Score = &#45;0.000258</title>\n<ellipse fill=\"none\" stroke=\"#000000\" cx=\"2962.9931\" cy=\"-3042\" rx=\"81.4863\" ry=\"18\"/>\n<text text-anchor=\"middle\" x=\"2962.9931\" y=\"-3038.3\" font-family=\"Times,serif\" font-size=\"14.00\" fill=\"#000000\">Score = &#45;0.000258</text>\n</g>\n<!-- codec_flv&#45;&gt;Score = &#45;0.000258 -->\n<g id=\"edge27\" class=\"edge\">\n<title>codec_flv&#45;&gt;Score = &#45;0.000258</title>\n<path fill=\"none\" stroke=\"#000000\" d=\"M2903.0839,-3097.3008C2912.9341,-3088.2083 2925.3109,-3076.7836 2936.2539,-3066.6823\"/>\n<polygon fill=\"#000000\" stroke=\"#000000\" points=\"2938.9381,-3068.9678 2943.9121,-3059.6132 2934.1901,-3063.8242 2938.9381,-3068.9678\"/>\n</g>\n<!-- Score = &#45;0.000280 -->\n<g id=\"node29\" class=\"node\">\n<title>Score = &#45;0.000280</title>\n<ellipse fill=\"none\" stroke=\"#000000\" cx=\"3142.9931\" cy=\"-3042\" rx=\"81.4863\" ry=\"18\"/>\n<text text-anchor=\"middle\" x=\"3142.9931\" y=\"-3038.3\" font-family=\"Times,serif\" font-size=\"14.00\" fill=\"#000000\">Score = &#45;0.000280</text>\n</g>\n<!-- duration&#45;&gt;Score = &#45;0.000280 -->\n<g id=\"edge28\" class=\"edge\">\n<title>duration&#45;&gt;Score = &#45;0.000280</title>\n<path fill=\"none\" stroke=\"#000000\" d=\"M3085.3881,-3097.3008C3094.8595,-3088.2083 3106.7602,-3076.7836 3117.2823,-3066.6823\"/>\n<polygon fill=\"#000000\" stroke=\"#000000\" points=\"3119.856,-3069.0634 3124.646,-3059.6132 3115.0082,-3064.0137 3119.856,-3069.0634\"/>\n</g>\n<!-- Score = 0.283132 -->\n<g id=\"node30\" class=\"node\">\n<title>Score = 0.283132</title>\n<ellipse fill=\"none\" stroke=\"#000000\" cx=\"3320.9931\" cy=\"-3042\" rx=\"78.7863\" ry=\"18\"/>\n<text text-anchor=\"middle\" x=\"3320.9931\" y=\"-3038.3\" font-family=\"Times,serif\" font-size=\"14.00\" fill=\"#000000\">Score = 0.283132</text>\n</g>\n<!-- o_width&#45;&gt;Score = 0.283132 -->\n<g id=\"edge29\" class=\"edge\">\n<title>o_width&#45;&gt;Score = 0.283132</title>\n<path fill=\"none\" stroke=\"#000000\" d=\"M3262.62,-3097.3008C3272.2177,-3088.2083 3284.2771,-3076.7836 3294.9395,-3066.6823\"/>\n<polygon fill=\"#000000\" stroke=\"#000000\" points=\"3297.549,-3069.0315 3302.4014,-3059.6132 3292.7347,-3063.9498 3297.549,-3069.0315\"/>\n</g>\n<!-- Score = 0.016594 -->\n<g id=\"node31\" class=\"node\">\n<title>Score = 0.016594</title>\n<ellipse fill=\"none\" stroke=\"#000000\" cx=\"3495.9931\" cy=\"-3042\" rx=\"78.7863\" ry=\"18\"/>\n<text text-anchor=\"middle\" x=\"3495.9931\" y=\"-3038.3\" font-family=\"Times,serif\" font-size=\"14.00\" fill=\"#000000\">Score = 0.016594</text>\n</g>\n<!-- height&#45;&gt;Score = 0.016594 -->\n<g id=\"edge30\" class=\"edge\">\n<title>height&#45;&gt;Score = 0.016594</title>\n<path fill=\"none\" stroke=\"#000000\" d=\"M3435.3038,-3098.0209C3445.2956,-3088.7977 3458.0724,-3077.0037 3469.3231,-3066.6184\"/>\n<polygon fill=\"#000000\" stroke=\"#000000\" points=\"3471.8413,-3069.0572 3476.8154,-3059.7025 3467.0933,-3063.9135 3471.8413,-3069.0572\"/>\n</g>\n<!-- umem_2 -->\n<g id=\"node32\" class=\"node\">\n<title>umem_2</title>\n<ellipse fill=\"none\" stroke=\"#000000\" cx=\"1197.9931\" cy=\"-2970\" rx=\"44.393\" ry=\"18\"/>\n<text text-anchor=\"middle\" x=\"1197.9931\" y=\"-2966.3\" font-family=\"Times,serif\" font-size=\"14.00\" fill=\"#000000\">umem_2</text>\n</g>\n<!-- Score = 0.449195&#45;&gt;umem_2 -->\n<g id=\"edge31\" class=\"edge\">\n<title>Score = 0.449195&#45;&gt;umem_2</title>\n<path fill=\"none\" stroke=\"#000000\" d=\"M1197.9931,-3023.8314C1197.9931,-3016.131 1197.9931,-3006.9743 1197.9931,-2998.4166\"/>\n<polygon fill=\"#000000\" stroke=\"#000000\" points=\"1201.4932,-2998.4132 1197.9931,-2988.4133 1194.4932,-2998.4133 1201.4932,-2998.4132\"/>\n</g>\n<!-- o_height_2 -->\n<g id=\"node33\" class=\"node\">\n<title>o_height_2</title>\n<ellipse fill=\"none\" stroke=\"#000000\" cx=\"141.9931\" cy=\"-2898\" rx=\"53.8905\" ry=\"18\"/>\n<text text-anchor=\"middle\" x=\"141.9931\" y=\"-2894.3\" font-family=\"Times,serif\" font-size=\"14.00\" fill=\"#000000\">o_height_2</text>\n</g>\n<!-- umem_2&#45;&gt;o_height_2 -->\n<g id=\"edge32\" class=\"edge\">\n<title>umem_2&#45;&gt;o_height_2</title>\n<path fill=\"none\" stroke=\"#000000\" d=\"M1153.6488,-2969.6414C1016.5082,-2968.0772 587.2792,-2959.7658 234.9931,-2916 222.7531,-2914.4794 209.7027,-2912.3048 197.3673,-2909.9899\"/>\n<polygon fill=\"#000000\" stroke=\"#000000\" points=\"197.6901,-2906.4876 187.2073,-2908.0238 196.3601,-2913.36 197.6901,-2906.4876\"/>\n</g>\n<!-- width_2 -->\n<g id=\"node35\" class=\"node\">\n<title>width_2</title>\n<ellipse fill=\"none\" stroke=\"#000000\" cx=\"285.9931\" cy=\"-2898\" rx=\"42.4939\" ry=\"18\"/>\n<text text-anchor=\"middle\" x=\"285.9931\" y=\"-2894.3\" font-family=\"Times,serif\" font-size=\"14.00\" fill=\"#000000\">width_2</text>\n</g>\n<!-- umem_2&#45;&gt;width_2 -->\n<g id=\"edge34\" class=\"edge\">\n<title>umem_2&#45;&gt;width_2</title>\n<path fill=\"none\" stroke=\"#000000\" d=\"M1154.0407,-2967.9408C1035.4063,-2962.1684 698.8195,-2944.3741 419.9931,-2916 392.1825,-2913.1699 361.2476,-2909.0775 336.1139,-2905.5097\"/>\n<polygon fill=\"#000000\" stroke=\"#000000\" points=\"336.4748,-2902.0258 326.079,-2904.0696 335.4804,-2908.9548 336.4748,-2902.0258\"/>\n</g>\n<!-- codec_vp8_2 -->\n<g id=\"node37\" class=\"node\">\n<title>codec_vp8_2</title>\n<ellipse fill=\"none\" stroke=\"#000000\" cx=\"490.9931\" cy=\"-2898\" rx=\"61.99\" ry=\"18\"/>\n<text text-anchor=\"middle\" x=\"490.9931\" y=\"-2894.3\" font-family=\"Times,serif\" font-size=\"14.00\" fill=\"#000000\">codec_vp8_2</text>\n</g>\n<!-- umem_2&#45;&gt;codec_vp8_2 -->\n<g id=\"edge36\" class=\"edge\">\n<title>umem_2&#45;&gt;codec_vp8_2</title>\n<path fill=\"none\" stroke=\"#000000\" d=\"M1153.735,-2967.9724C1051.6386,-2962.8983 791.9152,-2947.7201 576.9931,-2916 568.0165,-2914.6752 558.5683,-2912.9942 549.3522,-2911.194\"/>\n<polygon fill=\"#000000\" stroke=\"#000000\" points=\"549.9705,-2907.7483 539.4763,-2909.2052 548.5885,-2914.6106 549.9705,-2907.7483\"/>\n</g>\n<!-- o_framerate_2 -->\n<g id=\"node39\" class=\"node\">\n<title>o_framerate_2</title>\n<ellipse fill=\"none\" stroke=\"#000000\" cx=\"649.9931\" cy=\"-2898\" rx=\"64.189\" ry=\"18\"/>\n<text text-anchor=\"middle\" x=\"649.9931\" y=\"-2894.3\" font-family=\"Times,serif\" font-size=\"14.00\" fill=\"#000000\">o_framerate_2</text>\n</g>\n<!-- umem_2&#45;&gt;o_framerate_2 -->\n<g id=\"edge38\" class=\"edge\">\n<title>umem_2&#45;&gt;o_framerate_2</title>\n<path fill=\"none\" stroke=\"#000000\" d=\"M1155.9024,-2964.4698C1061.7513,-2952.0996 833.4103,-2922.0986 718.4787,-2906.9981\"/>\n<polygon fill=\"#000000\" stroke=\"#000000\" points=\"718.7599,-2903.5051 708.3892,-2905.6725 717.848,-2910.4454 718.7599,-2903.5051\"/>\n</g>\n<!-- b_2 -->\n<g id=\"node41\" class=\"node\">\n<title>b_2</title>\n<ellipse fill=\"none\" stroke=\"#000000\" cx=\"822.9931\" cy=\"-2898\" rx=\"27\" ry=\"18\"/>\n<text text-anchor=\"middle\" x=\"822.9931\" y=\"-2894.3\" font-family=\"Times,serif\" font-size=\"14.00\" fill=\"#000000\">b_2</text>\n</g>\n<!-- umem_2&#45;&gt;b_2 -->\n<g id=\"edge40\" class=\"edge\">\n<title>umem_2&#45;&gt;b_2</title>\n<path fill=\"none\" stroke=\"#000000\" d=\"M1156.1194,-2964.0346C1096.3106,-2955.2137 983.1291,-2937.405 887.9931,-2916 878.0731,-2913.7681 867.4041,-2910.9792 857.6355,-2908.2681\"/>\n<polygon fill=\"#000000\" stroke=\"#000000\" points=\"858.4261,-2904.8544 847.8508,-2905.4976 856.519,-2911.5896 858.4261,-2904.8544\"/>\n</g>\n<!-- o_codec_vp8_2 -->\n<g id=\"node43\" class=\"node\">\n<title>o_codec_vp8_2</title>\n<ellipse fill=\"none\" stroke=\"#000000\" cx=\"967.9931\" cy=\"-2898\" rx=\"71.4873\" ry=\"18\"/>\n<text text-anchor=\"middle\" x=\"967.9931\" y=\"-2894.3\" font-family=\"Times,serif\" font-size=\"14.00\" fill=\"#000000\">o_codec_vp8_2</text>\n</g>\n<!-- umem_2&#45;&gt;o_codec_vp8_2 -->\n<g id=\"edge42\" class=\"edge\">\n<title>umem_2&#45;&gt;o_codec_vp8_2</title>\n<path fill=\"none\" stroke=\"#000000\" d=\"M1162.8107,-2958.9864C1125.4904,-2947.3035 1066.0401,-2928.693 1022.6185,-2915.1001\"/>\n<polygon fill=\"#000000\" stroke=\"#000000\" points=\"1023.6471,-2911.7547 1013.0581,-2912.1073 1021.5558,-2918.435 1023.6471,-2911.7547\"/>\n</g>\n<!-- o_bitrate_2 -->\n<g id=\"node45\" class=\"node\">\n<title>o_bitrate_2</title>\n<ellipse fill=\"none\" stroke=\"#000000\" cx=\"1141.9931\" cy=\"-2898\" rx=\"53.0913\" ry=\"18\"/>\n<text text-anchor=\"middle\" x=\"1141.9931\" y=\"-2894.3\" font-family=\"Times,serif\" font-size=\"14.00\" fill=\"#000000\">o_bitrate_2</text>\n</g>\n<!-- umem_2&#45;&gt;o_bitrate_2 -->\n<g id=\"edge44\" class=\"edge\">\n<title>umem_2&#45;&gt;o_bitrate_2</title>\n<path fill=\"none\" stroke=\"#000000\" d=\"M1184.437,-2952.5708C1177.6773,-2943.8797 1169.3709,-2933.2001 1161.9041,-2923.5998\"/>\n<polygon fill=\"#000000\" stroke=\"#000000\" points=\"1164.5206,-2921.263 1155.6184,-2915.5182 1158.9951,-2925.5606 1164.5206,-2921.263\"/>\n</g>\n<!-- i_size_2 -->\n<g id=\"node47\" class=\"node\">\n<title>i_size_2</title>\n<ellipse fill=\"none\" stroke=\"#000000\" cx=\"1285.9931\" cy=\"-2898\" rx=\"41.6928\" ry=\"18\"/>\n<text text-anchor=\"middle\" x=\"1285.9931\" y=\"-2894.3\" font-family=\"Times,serif\" font-size=\"14.00\" fill=\"#000000\">i_size_2</text>\n</g>\n<!-- umem_2&#45;&gt;i_size_2 -->\n<g id=\"edge46\" class=\"edge\">\n<title>umem_2&#45;&gt;i_size_2</title>\n<path fill=\"none\" stroke=\"#000000\" d=\"M1217.9616,-2953.6621C1229.9721,-2943.8354 1245.4285,-2931.1892 1258.5728,-2920.4348\"/>\n<polygon fill=\"#000000\" stroke=\"#000000\" points=\"1260.8834,-2923.0665 1266.4067,-2914.0252 1256.4507,-2917.6488 1260.8834,-2923.0665\"/>\n</g>\n<!-- frames_2 -->\n<g id=\"node49\" class=\"node\">\n<title>frames_2</title>\n<ellipse fill=\"none\" stroke=\"#000000\" cx=\"1440.9931\" cy=\"-2898\" rx=\"44.6926\" ry=\"18\"/>\n<text text-anchor=\"middle\" x=\"1440.9931\" y=\"-2894.3\" font-family=\"Times,serif\" font-size=\"14.00\" fill=\"#000000\">frames_2</text>\n</g>\n<!-- umem_2&#45;&gt;frames_2 -->\n<g id=\"edge48\" class=\"edge\">\n<title>umem_2&#45;&gt;frames_2</title>\n<path fill=\"none\" stroke=\"#000000\" d=\"M1233.8486,-2959.3762C1276.6176,-2946.7039 1348.1936,-2925.4961 1395.0002,-2911.6275\"/>\n<polygon fill=\"#000000\" stroke=\"#000000\" points=\"1395.9993,-2914.982 1404.593,-2908.7852 1394.0107,-2908.2704 1395.9993,-2914.982\"/>\n</g>\n<!-- p_size_2 -->\n<g id=\"node51\" class=\"node\">\n<title>p_size_2</title>\n<ellipse fill=\"none\" stroke=\"#000000\" cx=\"1606.9931\" cy=\"-2898\" rx=\"44.393\" ry=\"18\"/>\n<text text-anchor=\"middle\" x=\"1606.9931\" y=\"-2894.3\" font-family=\"Times,serif\" font-size=\"14.00\" fill=\"#000000\">p_size_2</text>\n</g>\n<!-- umem_2&#45;&gt;p_size_2 -->\n<g id=\"edge50\" class=\"edge\">\n<title>umem_2&#45;&gt;p_size_2</title>\n<path fill=\"none\" stroke=\"#000000\" d=\"M1238.7048,-2962.8331C1313.8659,-2949.6018 1474.214,-2921.3743 1556.293,-2906.9252\"/>\n<polygon fill=\"#000000\" stroke=\"#000000\" points=\"1556.9012,-2910.372 1566.1429,-2905.1912 1555.6875,-2903.478 1556.9012,-2910.372\"/>\n</g>\n<!-- codec_flv_2 -->\n<g id=\"node53\" class=\"node\">\n<title>codec_flv_2</title>\n<ellipse fill=\"none\" stroke=\"#000000\" cx=\"1783.9931\" cy=\"-2898\" rx=\"57.3905\" ry=\"18\"/>\n<text text-anchor=\"middle\" x=\"1783.9931\" y=\"-2894.3\" font-family=\"Times,serif\" font-size=\"14.00\" fill=\"#000000\">codec_flv_2</text>\n</g>\n<!-- umem_2&#45;&gt;codec_flv_2 -->\n<g id=\"edge52\" class=\"edge\">\n<title>umem_2&#45;&gt;codec_flv_2</title>\n<path fill=\"none\" stroke=\"#000000\" d=\"M1241.0359,-2965.3732C1322.774,-2956.4972 1506.058,-2936.165 1659.9931,-2916 1680.2891,-2913.3413 1702.418,-2910.2052 1722.2903,-2907.3018\"/>\n<polygon fill=\"#000000\" stroke=\"#000000\" points=\"1723.0698,-2910.725 1732.4548,-2905.8085 1722.0523,-2903.7993 1723.0698,-2910.725\"/>\n</g>\n<!-- duration_2 -->\n<g id=\"node55\" class=\"node\">\n<title>duration_2</title>\n<ellipse fill=\"none\" stroke=\"#000000\" cx=\"1963.9931\" cy=\"-2898\" rx=\"51.9908\" ry=\"18\"/>\n<text text-anchor=\"middle\" x=\"1963.9931\" y=\"-2894.3\" font-family=\"Times,serif\" font-size=\"14.00\" fill=\"#000000\">duration_2</text>\n</g>\n<!-- umem_2&#45;&gt;duration_2 -->\n<g id=\"edge54\" class=\"edge\">\n<title>umem_2&#45;&gt;duration_2</title>\n<path fill=\"none\" stroke=\"#000000\" d=\"M1241.9875,-2967.4835C1347.2646,-2961.2161 1621.915,-2943.413 1849.9931,-2916 1868.7926,-2913.7405 1889.247,-2910.6963 1907.5728,-2907.7547\"/>\n<polygon fill=\"#000000\" stroke=\"#000000\" points=\"1908.2031,-2911.1983 1917.5107,-2906.1367 1907.0782,-2904.2893 1908.2031,-2911.1983\"/>\n</g>\n<!-- o_width_2 -->\n<g id=\"node57\" class=\"node\">\n<title>o_width_2</title>\n<ellipse fill=\"none\" stroke=\"#000000\" cx=\"2138.9931\" cy=\"-2898\" rx=\"51.9908\" ry=\"18\"/>\n<text text-anchor=\"middle\" x=\"2138.9931\" y=\"-2894.3\" font-family=\"Times,serif\" font-size=\"14.00\" fill=\"#000000\">o_width_2</text>\n</g>\n<!-- umem_2&#45;&gt;o_width_2 -->\n<g id=\"edge56\" class=\"edge\">\n<title>umem_2&#45;&gt;o_width_2</title>\n<path fill=\"none\" stroke=\"#000000\" d=\"M1242.0485,-2968.5418C1365.7739,-2964.1411 1726.8418,-2949.202 2024.9931,-2916 2043.8956,-2913.895 2064.4536,-2910.8763 2082.8407,-2907.9109\"/>\n<polygon fill=\"#000000\" stroke=\"#000000\" points=\"2083.507,-2911.3485 2092.8081,-2906.2751 2082.3732,-2904.4409 2083.507,-2911.3485\"/>\n</g>\n<!-- height_2 -->\n<g id=\"node59\" class=\"node\">\n<title>height_2</title>\n<ellipse fill=\"none\" stroke=\"#000000\" cx=\"2309.9931\" cy=\"-2898\" rx=\"44.393\" ry=\"18\"/>\n<text text-anchor=\"middle\" x=\"2309.9931\" y=\"-2894.3\" font-family=\"Times,serif\" font-size=\"14.00\" fill=\"#000000\">height_2</text>\n</g>\n<!-- umem_2&#45;&gt;height_2 -->\n<g id=\"edge58\" class=\"edge\">\n<title>umem_2&#45;&gt;height_2</title>\n<path fill=\"none\" stroke=\"#000000\" d=\"M1242.5769,-2969.3184C1383.4562,-2966.7966 1831.5199,-2955.9578 2199.9931,-2916 2219.6343,-2913.8701 2241.1044,-2910.5762 2259.8209,-2907.3855\"/>\n<polygon fill=\"#000000\" stroke=\"#000000\" points=\"2260.6541,-2910.7932 2269.9065,-2905.6315 2259.4547,-2903.8967 2260.6541,-2910.7932\"/>\n</g>\n<!-- Score = 0.530119 -->\n<g id=\"node34\" class=\"node\">\n<title>Score = 0.530119</title>\n<ellipse fill=\"none\" stroke=\"#000000\" cx=\"77.9931\" cy=\"-2826\" rx=\"77.9862\" ry=\"18\"/>\n<text text-anchor=\"middle\" x=\"77.9931\" y=\"-2822.3\" font-family=\"Times,serif\" font-size=\"14.00\" fill=\"#000000\">Score = 0.530119</text>\n</g>\n<!-- o_height_2&#45;&gt;Score = 0.530119 -->\n<g id=\"edge33\" class=\"edge\">\n<title>o_height_2&#45;&gt;Score = 0.530119</title>\n<path fill=\"none\" stroke=\"#000000\" d=\"M126.5005,-2880.5708C118.7548,-2871.857 109.2323,-2861.1441 100.6815,-2851.5244\"/>\n<polygon fill=\"#000000\" stroke=\"#000000\" points=\"103.0473,-2848.9177 93.7876,-2843.7689 97.8154,-2853.5683 103.0473,-2848.9177\"/>\n</g>\n<!-- Score = 0.461144 -->\n<g id=\"node36\" class=\"node\">\n<title>Score = 0.461144</title>\n<ellipse fill=\"none\" stroke=\"#000000\" cx=\"251.9931\" cy=\"-2826\" rx=\"77.9862\" ry=\"18\"/>\n<text text-anchor=\"middle\" x=\"251.9931\" y=\"-2822.3\" font-family=\"Times,serif\" font-size=\"14.00\" fill=\"#000000\">Score = 0.461144</text>\n</g>\n<!-- width_2&#45;&gt;Score = 0.461144 -->\n<g id=\"edge35\" class=\"edge\">\n<title>width_2&#45;&gt;Score = 0.461144</title>\n<path fill=\"none\" stroke=\"#000000\" d=\"M277.5886,-2880.2022C273.7355,-2872.0428 269.083,-2862.1904 264.8072,-2853.1358\"/>\n<polygon fill=\"#000000\" stroke=\"#000000\" points=\"267.972,-2851.6411 260.5371,-2844.0931 261.6423,-2854.6302 267.972,-2851.6411\"/>\n</g>\n<!-- Score = 0.449273 -->\n<g id=\"node38\" class=\"node\">\n<title>Score = 0.449273</title>\n<ellipse fill=\"none\" stroke=\"#000000\" cx=\"426.9931\" cy=\"-2826\" rx=\"78.7863\" ry=\"18\"/>\n<text text-anchor=\"middle\" x=\"426.9931\" y=\"-2822.3\" font-family=\"Times,serif\" font-size=\"14.00\" fill=\"#000000\">Score = 0.449273</text>\n</g>\n<!-- codec_vp8_2&#45;&gt;Score = 0.449273 -->\n<g id=\"edge37\" class=\"edge\">\n<title>codec_vp8_2&#45;&gt;Score = 0.449273</title>\n<path fill=\"none\" stroke=\"#000000\" d=\"M475.5005,-2880.5708C467.7548,-2871.857 458.2323,-2861.1441 449.6815,-2851.5244\"/>\n<polygon fill=\"#000000\" stroke=\"#000000\" points=\"452.0473,-2848.9177 442.7876,-2843.7689 446.8154,-2853.5683 452.0473,-2848.9177\"/>\n</g>\n<!-- Score = 0.459698 -->\n<g id=\"node40\" class=\"node\">\n<title>Score = 0.459698</title>\n<ellipse fill=\"none\" stroke=\"#000000\" cx=\"601.9931\" cy=\"-2826\" rx=\"78.7863\" ry=\"18\"/>\n<text text-anchor=\"middle\" x=\"601.9931\" y=\"-2822.3\" font-family=\"Times,serif\" font-size=\"14.00\" fill=\"#000000\">Score = 0.459698</text>\n</g>\n<!-- o_framerate_2&#45;&gt;Score = 0.459698 -->\n<g id=\"edge39\" class=\"edge\">\n<title>o_framerate_2&#45;&gt;Score = 0.459698</title>\n<path fill=\"none\" stroke=\"#000000\" d=\"M638.1279,-2880.2022C632.5317,-2871.8079 625.7409,-2861.6218 619.5636,-2852.3558\"/>\n<polygon fill=\"#000000\" stroke=\"#000000\" points=\"622.3473,-2850.2216 613.8881,-2843.8425 616.523,-2854.1045 622.3473,-2850.2216\"/>\n</g>\n<!-- Score = 0.449199 -->\n<g id=\"node42\" class=\"node\">\n<title>Score = 0.449199</title>\n<ellipse fill=\"none\" stroke=\"#000000\" cx=\"776.9931\" cy=\"-2826\" rx=\"78.7863\" ry=\"18\"/>\n<text text-anchor=\"middle\" x=\"776.9931\" y=\"-2822.3\" font-family=\"Times,serif\" font-size=\"14.00\" fill=\"#000000\">Score = 0.449199</text>\n</g>\n<!-- b_2&#45;&gt;Score = 0.449199 -->\n<g id=\"edge41\" class=\"edge\">\n<title>b_2&#45;&gt;Score = 0.449199</title>\n<path fill=\"none\" stroke=\"#000000\" d=\"M812.3241,-2881.3008C806.8377,-2872.7133 800.0221,-2862.0454 793.845,-2852.377\"/>\n<polygon fill=\"#000000\" stroke=\"#000000\" points=\"796.7416,-2850.4097 788.4082,-2843.8671 790.8427,-2854.1785 796.7416,-2850.4097\"/>\n</g>\n<!-- Score = 0.467611 -->\n<g id=\"node44\" class=\"node\">\n<title>Score = 0.467611</title>\n<ellipse fill=\"none\" stroke=\"#000000\" cx=\"951.9931\" cy=\"-2826\" rx=\"77.9862\" ry=\"18\"/>\n<text text-anchor=\"middle\" x=\"951.9931\" y=\"-2822.3\" font-family=\"Times,serif\" font-size=\"14.00\" fill=\"#000000\">Score = 0.467611</text>\n</g>\n<!-- o_codec_vp8_2&#45;&gt;Score = 0.467611 -->\n<g id=\"edge43\" class=\"edge\">\n<title>o_codec_vp8_2&#45;&gt;Score = 0.467611</title>\n<path fill=\"none\" stroke=\"#000000\" d=\"M963.9556,-2879.8314C962.2444,-2872.131 960.2096,-2862.9743 958.3079,-2854.4166\"/>\n<polygon fill=\"#000000\" stroke=\"#000000\" points=\"961.671,-2853.4159 956.0849,-2844.4133 954.8376,-2854.9344 961.671,-2853.4159\"/>\n</g>\n<!-- Score = 0.473606 -->\n<g id=\"node46\" class=\"node\">\n<title>Score = 0.473606</title>\n<ellipse fill=\"none\" stroke=\"#000000\" cx=\"1126.9931\" cy=\"-2826\" rx=\"78.7863\" ry=\"18\"/>\n<text text-anchor=\"middle\" x=\"1126.9931\" y=\"-2822.3\" font-family=\"Times,serif\" font-size=\"14.00\" fill=\"#000000\">Score = 0.473606</text>\n</g>\n<!-- o_bitrate_2&#45;&gt;Score = 0.473606 -->\n<g id=\"edge45\" class=\"edge\">\n<title>o_bitrate_2&#45;&gt;Score = 0.473606</title>\n<path fill=\"none\" stroke=\"#000000\" d=\"M1138.2079,-2879.8314C1136.6037,-2872.131 1134.6961,-2862.9743 1132.9132,-2854.4166\"/>\n<polygon fill=\"#000000\" stroke=\"#000000\" points=\"1136.2952,-2853.4892 1130.8292,-2844.4133 1129.4424,-2854.9169 1136.2952,-2853.4892\"/>\n</g>\n<!-- Score = 0.450372 -->\n<g id=\"node48\" class=\"node\">\n<title>Score = 0.450372</title>\n<ellipse fill=\"none\" stroke=\"#000000\" cx=\"1301.9931\" cy=\"-2826\" rx=\"78.7863\" ry=\"18\"/>\n<text text-anchor=\"middle\" x=\"1301.9931\" y=\"-2822.3\" font-family=\"Times,serif\" font-size=\"14.00\" fill=\"#000000\">Score = 0.450372</text>\n</g>\n<!-- i_size_2&#45;&gt;Score = 0.450372 -->\n<g id=\"edge47\" class=\"edge\">\n<title>i_size_2&#45;&gt;Score = 0.450372</title>\n<path fill=\"none\" stroke=\"#000000\" d=\"M1290.0306,-2879.8314C1291.7418,-2872.131 1293.7766,-2862.9743 1295.6783,-2854.4166\"/>\n<polygon fill=\"#000000\" stroke=\"#000000\" points=\"1299.1485,-2854.9344 1297.9012,-2844.4133 1292.3152,-2853.4159 1299.1485,-2854.9344\"/>\n</g>\n<!-- Score = 0.449397 -->\n<g id=\"node50\" class=\"node\">\n<title>Score = 0.449397</title>\n<ellipse fill=\"none\" stroke=\"#000000\" cx=\"1476.9931\" cy=\"-2826\" rx=\"78.7863\" ry=\"18\"/>\n<text text-anchor=\"middle\" x=\"1476.9931\" y=\"-2822.3\" font-family=\"Times,serif\" font-size=\"14.00\" fill=\"#000000\">Score = 0.449397</text>\n</g>\n<!-- frames_2&#45;&gt;Score = 0.449397 -->\n<g id=\"edge49\" class=\"edge\">\n<title>frames_2&#45;&gt;Score = 0.449397</title>\n<path fill=\"none\" stroke=\"#000000\" d=\"M1449.892,-2880.2022C1453.9717,-2872.0428 1458.8979,-2862.1904 1463.4252,-2853.1358\"/>\n<polygon fill=\"#000000\" stroke=\"#000000\" points=\"1466.6048,-2854.6027 1467.9465,-2844.0931 1460.3438,-2851.4721 1466.6048,-2854.6027\"/>\n</g>\n<!-- Score = 0.453589 -->\n<g id=\"node52\" class=\"node\">\n<title>Score = 0.453589</title>\n<ellipse fill=\"none\" stroke=\"#000000\" cx=\"1651.9931\" cy=\"-2826\" rx=\"78.7863\" ry=\"18\"/>\n<text text-anchor=\"middle\" x=\"1651.9931\" y=\"-2822.3\" font-family=\"Times,serif\" font-size=\"14.00\" fill=\"#000000\">Score = 0.453589</text>\n</g>\n<!-- p_size_2&#45;&gt;Score = 0.453589 -->\n<g id=\"edge51\" class=\"edge\">\n<title>p_size_2&#45;&gt;Score = 0.453589</title>\n<path fill=\"none\" stroke=\"#000000\" d=\"M1618.1167,-2880.2022C1623.3631,-2871.8079 1629.7295,-2861.6218 1635.5207,-2852.3558\"/>\n<polygon fill=\"#000000\" stroke=\"#000000\" points=\"1638.5095,-2854.1776 1640.8415,-2843.8425 1632.5735,-2850.4675 1638.5095,-2854.1776\"/>\n</g>\n<!-- Score = 0.449510 -->\n<g id=\"node54\" class=\"node\">\n<title>Score = 0.449510</title>\n<ellipse fill=\"none\" stroke=\"#000000\" cx=\"1826.9931\" cy=\"-2826\" rx=\"78.7863\" ry=\"18\"/>\n<text text-anchor=\"middle\" x=\"1826.9931\" y=\"-2822.3\" font-family=\"Times,serif\" font-size=\"14.00\" fill=\"#000000\">Score = 0.449510</text>\n</g>\n<!-- codec_flv_2&#45;&gt;Score = 0.449510 -->\n<g id=\"edge53\" class=\"edge\">\n<title>codec_flv_2&#45;&gt;Score = 0.449510</title>\n<path fill=\"none\" stroke=\"#000000\" d=\"M1794.6223,-2880.2022C1799.5839,-2871.8944 1805.5937,-2861.8316 1811.0815,-2852.6427\"/>\n<polygon fill=\"#000000\" stroke=\"#000000\" points=\"1814.2146,-2854.2226 1816.3371,-2843.8425 1808.2047,-2850.6334 1814.2146,-2854.2226\"/>\n</g>\n<!-- Score = 0.449174 -->\n<g id=\"node56\" class=\"node\">\n<title>Score = 0.449174</title>\n<ellipse fill=\"none\" stroke=\"#000000\" cx=\"2001.9931\" cy=\"-2826\" rx=\"78.7863\" ry=\"18\"/>\n<text text-anchor=\"middle\" x=\"2001.9931\" y=\"-2822.3\" font-family=\"Times,serif\" font-size=\"14.00\" fill=\"#000000\">Score = 0.449174</text>\n</g>\n<!-- duration_2&#45;&gt;Score = 0.449174 -->\n<g id=\"edge55\" class=\"edge\">\n<title>duration_2&#45;&gt;Score = 0.449174</title>\n<path fill=\"none\" stroke=\"#000000\" d=\"M1973.3863,-2880.2022C1977.6927,-2872.0428 1982.8926,-2862.1904 1987.6714,-2853.1358\"/>\n<polygon fill=\"#000000\" stroke=\"#000000\" points=\"1990.8716,-2854.5707 1992.4439,-2844.0931 1984.6809,-2851.3033 1990.8716,-2854.5707\"/>\n</g>\n<!-- Score = 0.530551 -->\n<g id=\"node58\" class=\"node\">\n<title>Score = 0.530551</title>\n<ellipse fill=\"none\" stroke=\"#000000\" cx=\"2176.9931\" cy=\"-2826\" rx=\"78.7863\" ry=\"18\"/>\n<text text-anchor=\"middle\" x=\"2176.9931\" y=\"-2822.3\" font-family=\"Times,serif\" font-size=\"14.00\" fill=\"#000000\">Score = 0.530551</text>\n</g>\n<!-- o_width_2&#45;&gt;Score = 0.530551 -->\n<g id=\"edge57\" class=\"edge\">\n<title>o_width_2&#45;&gt;Score = 0.530551</title>\n<path fill=\"none\" stroke=\"#000000\" d=\"M2148.3863,-2880.2022C2152.6927,-2872.0428 2157.8926,-2862.1904 2162.6714,-2853.1358\"/>\n<polygon fill=\"#000000\" stroke=\"#000000\" points=\"2165.8716,-2854.5707 2167.4439,-2844.0931 2159.6809,-2851.3033 2165.8716,-2854.5707\"/>\n</g>\n<!-- o_width_3 -->\n<g id=\"node61\" class=\"node\">\n<title>o_width_3</title>\n<ellipse fill=\"none\" stroke=\"#000000\" cx=\"2176.9931\" cy=\"-2754\" rx=\"51.9908\" ry=\"18\"/>\n<text text-anchor=\"middle\" x=\"2176.9931\" y=\"-2750.3\" font-family=\"Times,serif\" font-size=\"14.00\" fill=\"#000000\">o_width_3</text>\n</g>\n<!-- Score = 0.530551&#45;&gt;o_width_3 -->\n<g id=\"edge60\" class=\"edge\">\n<title>Score = 0.530551&#45;&gt;o_width_3</title>\n<path fill=\"none\" stroke=\"#000000\" d=\"M2176.9931,-2807.8314C2176.9931,-2800.131 2176.9931,-2790.9743 2176.9931,-2782.4166\"/>\n<polygon fill=\"#000000\" stroke=\"#000000\" points=\"2180.4932,-2782.4132 2176.9931,-2772.4133 2173.4932,-2782.4133 2180.4932,-2782.4132\"/>\n</g>\n<!-- Score = 0.459898 -->\n<g id=\"node60\" class=\"node\">\n<title>Score = 0.459898</title>\n<ellipse fill=\"none\" stroke=\"#000000\" cx=\"2351.9931\" cy=\"-2826\" rx=\"78.7863\" ry=\"18\"/>\n<text text-anchor=\"middle\" x=\"2351.9931\" y=\"-2822.3\" font-family=\"Times,serif\" font-size=\"14.00\" fill=\"#000000\">Score = 0.459898</text>\n</g>\n<!-- height_2&#45;&gt;Score = 0.459898 -->\n<g id=\"edge59\" class=\"edge\">\n<title>height_2&#45;&gt;Score = 0.459898</title>\n<path fill=\"none\" stroke=\"#000000\" d=\"M2320.3751,-2880.2022C2325.2213,-2871.8944 2331.0913,-2861.8316 2336.4515,-2852.6427\"/>\n<polygon fill=\"#000000\" stroke=\"#000000\" points=\"2339.5694,-2854.2439 2341.5849,-2843.8425 2333.5229,-2850.7168 2339.5694,-2854.2439\"/>\n</g>\n<!-- o_height_3 -->\n<g id=\"node62\" class=\"node\">\n<title>o_height_3</title>\n<ellipse fill=\"none\" stroke=\"#000000\" cx=\"1189.9931\" cy=\"-2682\" rx=\"53.8905\" ry=\"18\"/>\n<text text-anchor=\"middle\" x=\"1189.9931\" y=\"-2678.3\" font-family=\"Times,serif\" font-size=\"14.00\" fill=\"#000000\">o_height_3</text>\n</g>\n<!-- o_width_3&#45;&gt;o_height_3 -->\n<g id=\"edge61\" class=\"edge\">\n<title>o_width_3&#45;&gt;o_height_3</title>\n<path fill=\"none\" stroke=\"#000000\" d=\"M2125.0683,-2752.3367C1990.2653,-2747.6782 1618.1881,-2732.6503 1309.9931,-2700 1289.8344,-2697.8644 1267.8757,-2694.791 1248.3183,-2691.7867\"/>\n<polygon fill=\"#000000\" stroke=\"#000000\" points=\"1248.7525,-2688.3121 1238.3322,-2690.2272 1247.6724,-2695.2283 1248.7525,-2688.3121\"/>\n</g>\n<!-- width_3 -->\n<g id=\"node64\" class=\"node\">\n<title>width_3</title>\n<ellipse fill=\"none\" stroke=\"#000000\" cx=\"1360.9931\" cy=\"-2682\" rx=\"42.4939\" ry=\"18\"/>\n<text text-anchor=\"middle\" x=\"1360.9931\" y=\"-2678.3\" font-family=\"Times,serif\" font-size=\"14.00\" fill=\"#000000\">width_3</text>\n</g>\n<!-- o_width_3&#45;&gt;width_3 -->\n<g id=\"edge63\" class=\"edge\">\n<title>o_width_3&#45;&gt;width_3</title>\n<path fill=\"none\" stroke=\"#000000\" d=\"M2124.7139,-2752.9898C2003.3989,-2750.0344 1693.6073,-2738.9702 1437.9931,-2700 1427.8144,-2698.4482 1416.9908,-2696.2607 1406.7738,-2693.9432\"/>\n<polygon fill=\"#000000\" stroke=\"#000000\" points=\"1407.3409,-2690.4812 1396.8054,-2691.601 1405.7397,-2697.2956 1407.3409,-2690.4812\"/>\n</g>\n<!-- codec_vp8_3 -->\n<g id=\"node66\" class=\"node\">\n<title>codec_vp8_3</title>\n<ellipse fill=\"none\" stroke=\"#000000\" cx=\"1508.9931\" cy=\"-2682\" rx=\"61.99\" ry=\"18\"/>\n<text text-anchor=\"middle\" x=\"1508.9931\" y=\"-2678.3\" font-family=\"Times,serif\" font-size=\"14.00\" fill=\"#000000\">codec_vp8_3</text>\n</g>\n<!-- o_width_3&#45;&gt;codec_vp8_3 -->\n<g id=\"edge65\" class=\"edge\">\n<title>o_width_3&#45;&gt;codec_vp8_3</title>\n<path fill=\"none\" stroke=\"#000000\" d=\"M2126.3069,-2749.4916C2031.1017,-2740.8907 1819.0839,-2721.107 1640.9931,-2700 1619.3798,-2697.4384 1595.8204,-2694.3279 1574.6658,-2691.4182\"/>\n<polygon fill=\"#000000\" stroke=\"#000000\" points=\"1574.8788,-2687.9143 1564.4931,-2690.0091 1573.9183,-2694.8481 1574.8788,-2687.9143\"/>\n</g>\n<!-- o_framerate_3 -->\n<g id=\"node68\" class=\"node\">\n<title>o_framerate_3</title>\n<ellipse fill=\"none\" stroke=\"#000000\" cx=\"1713.9931\" cy=\"-2682\" rx=\"64.189\" ry=\"18\"/>\n<text text-anchor=\"middle\" x=\"1713.9931\" y=\"-2678.3\" font-family=\"Times,serif\" font-size=\"14.00\" fill=\"#000000\">o_framerate_3</text>\n</g>\n<!-- o_width_3&#45;&gt;o_framerate_3 -->\n<g id=\"edge67\" class=\"edge\">\n<title>o_width_3&#45;&gt;o_framerate_3</title>\n<path fill=\"none\" stroke=\"#000000\" d=\"M2129.0229,-2747.0253C2060.4495,-2736.9911 1930.4701,-2717.734 1819.9931,-2700 1806.7017,-2697.8664 1792.4868,-2695.5065 1778.9235,-2693.217\"/>\n<polygon fill=\"#000000\" stroke=\"#000000\" points=\"1779.149,-2689.7054 1768.7047,-2691.4849 1777.9791,-2696.6069 1779.149,-2689.7054\"/>\n</g>\n<!-- b_3 -->\n<g id=\"node70\" class=\"node\">\n<title>b_3</title>\n<ellipse fill=\"none\" stroke=\"#000000\" cx=\"1855.9931\" cy=\"-2682\" rx=\"27\" ry=\"18\"/>\n<text text-anchor=\"middle\" x=\"1855.9931\" y=\"-2678.3\" font-family=\"Times,serif\" font-size=\"14.00\" fill=\"#000000\">b_3</text>\n</g>\n<!-- o_width_3&#45;&gt;b_3 -->\n<g id=\"edge69\" class=\"edge\">\n<title>o_width_3&#45;&gt;b_3</title>\n<path fill=\"none\" stroke=\"#000000\" d=\"M2133.0325,-2744.1397C2068.8879,-2729.7521 1950.8624,-2703.2791 1891.7302,-2690.0158\"/>\n<polygon fill=\"#000000\" stroke=\"#000000\" points=\"1892.2639,-2686.5486 1881.7403,-2687.7751 1890.7319,-2693.3789 1892.2639,-2686.5486\"/>\n</g>\n<!-- o_codec_vp8_3 -->\n<g id=\"node72\" class=\"node\">\n<title>o_codec_vp8_3</title>\n<ellipse fill=\"none\" stroke=\"#000000\" cx=\"2017.9931\" cy=\"-2682\" rx=\"71.4873\" ry=\"18\"/>\n<text text-anchor=\"middle\" x=\"2017.9931\" y=\"-2678.3\" font-family=\"Times,serif\" font-size=\"14.00\" fill=\"#000000\">o_codec_vp8_3</text>\n</g>\n<!-- o_width_3&#45;&gt;o_codec_vp8_3 -->\n<g id=\"edge71\" class=\"edge\">\n<title>o_width_3&#45;&gt;o_codec_vp8_3</title>\n<path fill=\"none\" stroke=\"#000000\" d=\"M2145.1992,-2739.6028C2121.3888,-2728.8207 2088.5184,-2713.936 2062.1564,-2701.9985\"/>\n<polygon fill=\"#000000\" stroke=\"#000000\" points=\"2063.3206,-2698.6836 2052.7673,-2697.7468 2060.4331,-2705.0603 2063.3206,-2698.6836\"/>\n</g>\n<!-- o_bitrate_3 -->\n<g id=\"node74\" class=\"node\">\n<title>o_bitrate_3</title>\n<ellipse fill=\"none\" stroke=\"#000000\" cx=\"2176.9931\" cy=\"-2682\" rx=\"53.0913\" ry=\"18\"/>\n<text text-anchor=\"middle\" x=\"2176.9931\" y=\"-2678.3\" font-family=\"Times,serif\" font-size=\"14.00\" fill=\"#000000\">o_bitrate_3</text>\n</g>\n<!-- o_width_3&#45;&gt;o_bitrate_3 -->\n<g id=\"edge73\" class=\"edge\">\n<title>o_width_3&#45;&gt;o_bitrate_3</title>\n<path fill=\"none\" stroke=\"#000000\" d=\"M2176.9931,-2735.8314C2176.9931,-2728.131 2176.9931,-2718.9743 2176.9931,-2710.4166\"/>\n<polygon fill=\"#000000\" stroke=\"#000000\" points=\"2180.4932,-2710.4132 2176.9931,-2700.4133 2173.4932,-2710.4133 2180.4932,-2710.4132\"/>\n</g>\n<!-- i_size_3 -->\n<g id=\"node76\" class=\"node\">\n<title>i_size_3</title>\n<ellipse fill=\"none\" stroke=\"#000000\" cx=\"2320.9931\" cy=\"-2682\" rx=\"41.6928\" ry=\"18\"/>\n<text text-anchor=\"middle\" x=\"2320.9931\" y=\"-2678.3\" font-family=\"Times,serif\" font-size=\"14.00\" fill=\"#000000\">i_size_3</text>\n</g>\n<!-- o_width_3&#45;&gt;i_size_3 -->\n<g id=\"edge75\" class=\"edge\">\n<title>o_width_3&#45;&gt;i_size_3</title>\n<path fill=\"none\" stroke=\"#000000\" d=\"M2206.83,-2739.0816C2229.375,-2727.809 2260.4359,-2712.2786 2284.4676,-2700.2627\"/>\n<polygon fill=\"#000000\" stroke=\"#000000\" points=\"2286.2508,-2703.2843 2293.6298,-2695.6816 2283.1203,-2697.0233 2286.2508,-2703.2843\"/>\n</g>\n<!-- frames_3 -->\n<g id=\"node78\" class=\"node\">\n<title>frames_3</title>\n<ellipse fill=\"none\" stroke=\"#000000\" cx=\"2475.9931\" cy=\"-2682\" rx=\"44.6926\" ry=\"18\"/>\n<text text-anchor=\"middle\" x=\"2475.9931\" y=\"-2678.3\" font-family=\"Times,serif\" font-size=\"14.00\" fill=\"#000000\">frames_3</text>\n</g>\n<!-- o_width_3&#45;&gt;frames_3 -->\n<g id=\"edge77\" class=\"edge\">\n<title>o_width_3&#45;&gt;frames_3</title>\n<path fill=\"none\" stroke=\"#000000\" d=\"M2219.8325,-2743.6842C2274.8239,-2730.4421 2369.9901,-2707.5258 2427.5583,-2693.6632\"/>\n<polygon fill=\"#000000\" stroke=\"#000000\" points=\"2428.6016,-2697.0121 2437.5043,-2691.2682 2426.9627,-2690.2067 2428.6016,-2697.0121\"/>\n</g>\n<!-- p_size_3 -->\n<g id=\"node80\" class=\"node\">\n<title>p_size_3</title>\n<ellipse fill=\"none\" stroke=\"#000000\" cx=\"2641.9931\" cy=\"-2682\" rx=\"44.393\" ry=\"18\"/>\n<text text-anchor=\"middle\" x=\"2641.9931\" y=\"-2678.3\" font-family=\"Times,serif\" font-size=\"14.00\" fill=\"#000000\">p_size_3</text>\n</g>\n<!-- o_width_3&#45;&gt;p_size_3 -->\n<g id=\"edge79\" class=\"edge\">\n<title>o_width_3&#45;&gt;p_size_3</title>\n<path fill=\"none\" stroke=\"#000000\" d=\"M2224.6861,-2746.821C2292.5362,-2736.5813 2420.817,-2717.1234 2529.9931,-2700 2549.8661,-2696.8831 2571.7106,-2693.3879 2590.7898,-2690.3125\"/>\n<polygon fill=\"#000000\" stroke=\"#000000\" points=\"2591.4668,-2693.7486 2600.7812,-2688.6996 2590.3512,-2686.8381 2591.4668,-2693.7486\"/>\n</g>\n<!-- codec_flv_3 -->\n<g id=\"node82\" class=\"node\">\n<title>codec_flv_3</title>\n<ellipse fill=\"none\" stroke=\"#000000\" cx=\"2818.9931\" cy=\"-2682\" rx=\"57.3905\" ry=\"18\"/>\n<text text-anchor=\"middle\" x=\"2818.9931\" y=\"-2678.3\" font-family=\"Times,serif\" font-size=\"14.00\" fill=\"#000000\">codec_flv_3</text>\n</g>\n<!-- o_width_3&#45;&gt;codec_flv_3 -->\n<g id=\"edge81\" class=\"edge\">\n<title>o_width_3&#45;&gt;codec_flv_3</title>\n<path fill=\"none\" stroke=\"#000000\" d=\"M2227.4385,-2749.4219C2320.1545,-2740.8561 2523.8455,-2721.334 2694.9931,-2700 2715.3053,-2697.468 2737.4385,-2694.3655 2757.3097,-2691.4539\"/>\n<polygon fill=\"#000000\" stroke=\"#000000\" points=\"2758.092,-2694.8764 2767.4732,-2689.9528 2757.0691,-2687.9515 2758.092,-2694.8764\"/>\n</g>\n<!-- duration_3 -->\n<g id=\"node84\" class=\"node\">\n<title>duration_3</title>\n<ellipse fill=\"none\" stroke=\"#000000\" cx=\"2998.9931\" cy=\"-2682\" rx=\"51.9908\" ry=\"18\"/>\n<text text-anchor=\"middle\" x=\"2998.9931\" y=\"-2678.3\" font-family=\"Times,serif\" font-size=\"14.00\" fill=\"#000000\">duration_3</text>\n</g>\n<!-- o_width_3&#45;&gt;duration_3 -->\n<g id=\"edge83\" class=\"edge\">\n<title>o_width_3&#45;&gt;duration_3</title>\n<path fill=\"none\" stroke=\"#000000\" d=\"M2228.6541,-2751.4877C2345.7291,-2745.4821 2640.113,-2728.6242 2884.9931,-2700 2903.7999,-2697.8017 2924.2561,-2694.7735 2942.5814,-2691.8278\"/>\n<polygon fill=\"#000000\" stroke=\"#000000\" points=\"2943.2134,-2695.2711 2952.5189,-2690.2056 2942.0856,-2688.3625 2943.2134,-2695.2711\"/>\n</g>\n<!-- height_3 -->\n<g id=\"node86\" class=\"node\">\n<title>height_3</title>\n<ellipse fill=\"none\" stroke=\"#000000\" cx=\"3169.9931\" cy=\"-2682\" rx=\"44.393\" ry=\"18\"/>\n<text text-anchor=\"middle\" x=\"3169.9931\" y=\"-2678.3\" font-family=\"Times,serif\" font-size=\"14.00\" fill=\"#000000\">height_3</text>\n</g>\n<!-- o_width_3&#45;&gt;height_3 -->\n<g id=\"edge85\" class=\"edge\">\n<title>o_width_3&#45;&gt;height_3</title>\n<path fill=\"none\" stroke=\"#000000\" d=\"M2228.9047,-2752.6586C2365.4126,-2748.7348 2745.5775,-2735.2476 3059.9931,-2700 3079.5453,-2697.8081 3100.9176,-2694.5181 3119.5802,-2691.3479\"/>\n<polygon fill=\"#000000\" stroke=\"#000000\" points=\"3120.3841,-2694.7609 3129.6408,-2689.6067 3119.1904,-2687.8634 3120.3841,-2694.7609\"/>\n</g>\n<!-- Score = 0.530627 -->\n<g id=\"node63\" class=\"node\">\n<title>Score = 0.530627</title>\n<ellipse fill=\"none\" stroke=\"#000000\" cx=\"1126.9931\" cy=\"-2610\" rx=\"78.7863\" ry=\"18\"/>\n<text text-anchor=\"middle\" x=\"1126.9931\" y=\"-2606.3\" font-family=\"Times,serif\" font-size=\"14.00\" fill=\"#000000\">Score = 0.530627</text>\n</g>\n<!-- o_height_3&#45;&gt;Score = 0.530627 -->\n<g id=\"edge62\" class=\"edge\">\n<title>o_height_3&#45;&gt;Score = 0.530627</title>\n<path fill=\"none\" stroke=\"#000000\" d=\"M1174.7425,-2664.5708C1167.1179,-2655.857 1157.7442,-2645.1441 1149.327,-2635.5244\"/>\n<polygon fill=\"#000000\" stroke=\"#000000\" points=\"1151.76,-2632.9899 1142.5408,-2627.7689 1146.4919,-2637.5994 1151.76,-2632.9899\"/>\n</g>\n<!-- Score = 0.543451 -->\n<g id=\"node65\" class=\"node\">\n<title>Score = 0.543451</title>\n<ellipse fill=\"none\" stroke=\"#000000\" cx=\"1301.9931\" cy=\"-2610\" rx=\"78.7863\" ry=\"18\"/>\n<text text-anchor=\"middle\" x=\"1301.9931\" y=\"-2606.3\" font-family=\"Times,serif\" font-size=\"14.00\" fill=\"#000000\">Score = 0.543451</text>\n</g>\n<!-- width_3&#45;&gt;Score = 0.543451 -->\n<g id=\"edge64\" class=\"edge\">\n<title>width_3&#45;&gt;Score = 0.543451</title>\n<path fill=\"none\" stroke=\"#000000\" d=\"M1347.0109,-2664.937C1339.8229,-2656.1652 1330.9166,-2645.2965 1322.9279,-2635.5476\"/>\n<polygon fill=\"#000000\" stroke=\"#000000\" points=\"1325.5365,-2633.2088 1316.491,-2627.6924 1320.1221,-2637.6456 1325.5365,-2633.2088\"/>\n</g>\n<!-- Score = 0.530630 -->\n<g id=\"node67\" class=\"node\">\n<title>Score = 0.530630</title>\n<ellipse fill=\"none\" stroke=\"#000000\" cx=\"1476.9931\" cy=\"-2610\" rx=\"78.7863\" ry=\"18\"/>\n<text text-anchor=\"middle\" x=\"1476.9931\" y=\"-2606.3\" font-family=\"Times,serif\" font-size=\"14.00\" fill=\"#000000\">Score = 0.530630</text>\n</g>\n<!-- codec_vp8_3&#45;&gt;Score = 0.530630 -->\n<g id=\"edge66\" class=\"edge\">\n<title>codec_vp8_3&#45;&gt;Score = 0.530630</title>\n<path fill=\"none\" stroke=\"#000000\" d=\"M1500.9181,-2663.8314C1497.3285,-2655.7547 1493.0269,-2646.0761 1489.0672,-2637.1668\"/>\n<polygon fill=\"#000000\" stroke=\"#000000\" points=\"1492.2144,-2635.63 1484.9546,-2627.9134 1485.8177,-2638.473 1492.2144,-2635.63\"/>\n</g>\n<!-- Score = 0.541214 -->\n<g id=\"node69\" class=\"node\">\n<title>Score = 0.541214</title>\n<ellipse fill=\"none\" stroke=\"#000000\" cx=\"1651.9931\" cy=\"-2610\" rx=\"78.7863\" ry=\"18\"/>\n<text text-anchor=\"middle\" x=\"1651.9931\" y=\"-2606.3\" font-family=\"Times,serif\" font-size=\"14.00\" fill=\"#000000\">Score = 0.541214</text>\n</g>\n<!-- o_framerate_3&#45;&gt;Score = 0.541214 -->\n<g id=\"edge68\" class=\"edge\">\n<title>o_framerate_3&#45;&gt;Score = 0.541214</title>\n<path fill=\"none\" stroke=\"#000000\" d=\"M1698.6672,-2664.2022C1691.2152,-2655.5483 1682.1233,-2644.99 1673.9504,-2635.4988\"/>\n<polygon fill=\"#000000\" stroke=\"#000000\" points=\"1676.535,-2633.1364 1667.3575,-2627.8425 1671.2306,-2637.7041 1676.535,-2633.1364\"/>\n</g>\n<!-- Score = 0.530558 -->\n<g id=\"node71\" class=\"node\">\n<title>Score = 0.530558</title>\n<ellipse fill=\"none\" stroke=\"#000000\" cx=\"1826.9931\" cy=\"-2610\" rx=\"78.7863\" ry=\"18\"/>\n<text text-anchor=\"middle\" x=\"1826.9931\" y=\"-2606.3\" font-family=\"Times,serif\" font-size=\"14.00\" fill=\"#000000\">Score = 0.530558</text>\n</g>\n<!-- b_3&#45;&gt;Score = 0.530558 -->\n<g id=\"edge70\" class=\"edge\">\n<title>b_3&#45;&gt;Score = 0.530558</title>\n<path fill=\"none\" stroke=\"#000000\" d=\"M1848.973,-2664.5708C1845.6985,-2656.4409 1841.7231,-2646.571 1838.0583,-2637.4722\"/>\n<polygon fill=\"#000000\" stroke=\"#000000\" points=\"1841.2341,-2635.9888 1834.2514,-2628.0206 1834.741,-2638.6041 1841.2341,-2635.9888\"/>\n</g>\n<!-- Score = 0.544830 -->\n<g id=\"node73\" class=\"node\">\n<title>Score = 0.544830</title>\n<ellipse fill=\"none\" stroke=\"#000000\" cx=\"2001.9931\" cy=\"-2610\" rx=\"78.7863\" ry=\"18\"/>\n<text text-anchor=\"middle\" x=\"2001.9931\" y=\"-2606.3\" font-family=\"Times,serif\" font-size=\"14.00\" fill=\"#000000\">Score = 0.544830</text>\n</g>\n<!-- o_codec_vp8_3&#45;&gt;Score = 0.544830 -->\n<g id=\"edge72\" class=\"edge\">\n<title>o_codec_vp8_3&#45;&gt;Score = 0.544830</title>\n<path fill=\"none\" stroke=\"#000000\" d=\"M2013.9556,-2663.8314C2012.2444,-2656.131 2010.2096,-2646.9743 2008.3079,-2638.4166\"/>\n<polygon fill=\"#000000\" stroke=\"#000000\" points=\"2011.671,-2637.4159 2006.0849,-2628.4133 2004.8376,-2638.9344 2011.671,-2637.4159\"/>\n</g>\n<!-- Score = 0.554759 -->\n<g id=\"node75\" class=\"node\">\n<title>Score = 0.554759</title>\n<ellipse fill=\"none\" stroke=\"#000000\" cx=\"2176.9931\" cy=\"-2610\" rx=\"78.7863\" ry=\"18\"/>\n<text text-anchor=\"middle\" x=\"2176.9931\" y=\"-2606.3\" font-family=\"Times,serif\" font-size=\"14.00\" fill=\"#000000\">Score = 0.554759</text>\n</g>\n<!-- o_bitrate_3&#45;&gt;Score = 0.554759 -->\n<g id=\"edge74\" class=\"edge\">\n<title>o_bitrate_3&#45;&gt;Score = 0.554759</title>\n<path fill=\"none\" stroke=\"#000000\" d=\"M2176.9931,-2663.8314C2176.9931,-2656.131 2176.9931,-2646.9743 2176.9931,-2638.4166\"/>\n<polygon fill=\"#000000\" stroke=\"#000000\" points=\"2180.4932,-2638.4132 2176.9931,-2628.4133 2173.4932,-2638.4133 2180.4932,-2638.4132\"/>\n</g>\n<!-- o_bitrate_4 -->\n<g id=\"node88\" class=\"node\">\n<title>o_bitrate_4</title>\n<ellipse fill=\"none\" stroke=\"#000000\" cx=\"2015.9931\" cy=\"-2538\" rx=\"53.0913\" ry=\"18\"/>\n<text text-anchor=\"middle\" x=\"2015.9931\" y=\"-2534.3\" font-family=\"Times,serif\" font-size=\"14.00\" fill=\"#000000\">o_bitrate_4</text>\n</g>\n<!-- Score = 0.554759&#45;&gt;o_bitrate_4 -->\n<g id=\"edge87\" class=\"edge\">\n<title>Score = 0.554759&#45;&gt;o_bitrate_4</title>\n<path fill=\"none\" stroke=\"#000000\" d=\"M2140.8615,-2593.8418C2116.0903,-2582.764 2083.1676,-2568.0408 2057.3471,-2556.4937\"/>\n<polygon fill=\"#000000\" stroke=\"#000000\" points=\"2058.7415,-2553.2833 2048.1839,-2552.3959 2055.8837,-2559.6734 2058.7415,-2553.2833\"/>\n</g>\n<!-- Score = 0.532031 -->\n<g id=\"node77\" class=\"node\">\n<title>Score = 0.532031</title>\n<ellipse fill=\"none\" stroke=\"#000000\" cx=\"2351.9931\" cy=\"-2610\" rx=\"78.7863\" ry=\"18\"/>\n<text text-anchor=\"middle\" x=\"2351.9931\" y=\"-2606.3\" font-family=\"Times,serif\" font-size=\"14.00\" fill=\"#000000\">Score = 0.532031</text>\n</g>\n<!-- i_size_3&#45;&gt;Score = 0.532031 -->\n<g id=\"edge76\" class=\"edge\">\n<title>i_size_3&#45;&gt;Score = 0.532031</title>\n<path fill=\"none\" stroke=\"#000000\" d=\"M2328.656,-2664.2022C2332.1321,-2656.1287 2336.3219,-2646.3976 2340.1864,-2637.422\"/>\n<polygon fill=\"#000000\" stroke=\"#000000\" points=\"2343.463,-2638.6621 2344.203,-2628.0931 2337.0336,-2635.8938 2343.463,-2638.6621\"/>\n</g>\n<!-- Score = 0.530806 -->\n<g id=\"node79\" class=\"node\">\n<title>Score = 0.530806</title>\n<ellipse fill=\"none\" stroke=\"#000000\" cx=\"2526.9931\" cy=\"-2610\" rx=\"78.7863\" ry=\"18\"/>\n<text text-anchor=\"middle\" x=\"2526.9931\" y=\"-2606.3\" font-family=\"Times,serif\" font-size=\"14.00\" fill=\"#000000\">Score = 0.530806</text>\n</g>\n<!-- frames_3&#45;&gt;Score = 0.530806 -->\n<g id=\"edge78\" class=\"edge\">\n<title>frames_3&#45;&gt;Score = 0.530806</title>\n<path fill=\"none\" stroke=\"#000000\" d=\"M2488.3388,-2664.5708C2494.3876,-2656.0312 2501.7964,-2645.5719 2508.5035,-2636.1029\"/>\n<polygon fill=\"#000000\" stroke=\"#000000\" points=\"2511.4827,-2637.9522 2514.4068,-2627.7689 2505.7705,-2633.9061 2511.4827,-2637.9522\"/>\n</g>\n<!-- Score = 0.535435 -->\n<g id=\"node81\" class=\"node\">\n<title>Score = 0.535435</title>\n<ellipse fill=\"none\" stroke=\"#000000\" cx=\"2701.9931\" cy=\"-2610\" rx=\"78.7863\" ry=\"18\"/>\n<text text-anchor=\"middle\" x=\"2701.9931\" y=\"-2606.3\" font-family=\"Times,serif\" font-size=\"14.00\" fill=\"#000000\">Score = 0.535435</text>\n</g>\n<!-- p_size_3&#45;&gt;Score = 0.535435 -->\n<g id=\"edge80\" class=\"edge\">\n<title>p_size_3&#45;&gt;Score = 0.535435</title>\n<path fill=\"none\" stroke=\"#000000\" d=\"M2656.2122,-2664.937C2663.5221,-2656.1652 2672.5793,-2645.2965 2680.7034,-2635.5476\"/>\n<polygon fill=\"#000000\" stroke=\"#000000\" points=\"2683.5363,-2637.6153 2687.2494,-2627.6924 2678.1587,-2633.134 2683.5363,-2637.6153\"/>\n</g>\n<!-- Score = 0.530664 -->\n<g id=\"node83\" class=\"node\">\n<title>Score = 0.530664</title>\n<ellipse fill=\"none\" stroke=\"#000000\" cx=\"2876.9931\" cy=\"-2610\" rx=\"78.7863\" ry=\"18\"/>\n<text text-anchor=\"middle\" x=\"2876.9931\" y=\"-2606.3\" font-family=\"Times,serif\" font-size=\"14.00\" fill=\"#000000\">Score = 0.530664</text>\n</g>\n<!-- codec_flv_3&#45;&gt;Score = 0.530664 -->\n<g id=\"edge82\" class=\"edge\">\n<title>codec_flv_3&#45;&gt;Score = 0.530664</title>\n<path fill=\"none\" stroke=\"#000000\" d=\"M2833.3302,-2664.2022C2840.2317,-2655.6348 2848.6368,-2645.2009 2856.2227,-2635.7839\"/>\n<polygon fill=\"#000000\" stroke=\"#000000\" points=\"2859.0722,-2637.8258 2862.6199,-2627.8425 2853.6209,-2633.4344 2859.0722,-2637.8258\"/>\n</g>\n<!-- Score = 0.530549 -->\n<g id=\"node85\" class=\"node\">\n<title>Score = 0.530549</title>\n<ellipse fill=\"none\" stroke=\"#000000\" cx=\"3051.9931\" cy=\"-2610\" rx=\"78.7863\" ry=\"18\"/>\n<text text-anchor=\"middle\" x=\"3051.9931\" y=\"-2606.3\" font-family=\"Times,serif\" font-size=\"14.00\" fill=\"#000000\">Score = 0.530549</text>\n</g>\n<!-- duration_3&#45;&gt;Score = 0.530549 -->\n<g id=\"edge84\" class=\"edge\">\n<title>duration_3&#45;&gt;Score = 0.530549</title>\n<path fill=\"none\" stroke=\"#000000\" d=\"M3012.0942,-2664.2022C3018.3371,-2655.7214 3025.9263,-2645.4115 3032.803,-2636.0696\"/>\n<polygon fill=\"#000000\" stroke=\"#000000\" points=\"3035.7495,-2637.9708 3038.859,-2627.8425 3030.1121,-2633.8211 3035.7495,-2637.9708\"/>\n</g>\n<!-- Score = 0.542373 -->\n<g id=\"node87\" class=\"node\">\n<title>Score = 0.542373</title>\n<ellipse fill=\"none\" stroke=\"#000000\" cx=\"3226.9931\" cy=\"-2610\" rx=\"78.7863\" ry=\"18\"/>\n<text text-anchor=\"middle\" x=\"3226.9931\" y=\"-2606.3\" font-family=\"Times,serif\" font-size=\"14.00\" fill=\"#000000\">Score = 0.542373</text>\n</g>\n<!-- height_3&#45;&gt;Score = 0.542373 -->\n<g id=\"edge86\" class=\"edge\">\n<title>height_3&#45;&gt;Score = 0.542373</title>\n<path fill=\"none\" stroke=\"#000000\" d=\"M3183.7912,-2664.5708C3190.6207,-2655.9441 3199.0012,-2645.3582 3206.5575,-2635.8134\"/>\n<polygon fill=\"#000000\" stroke=\"#000000\" points=\"3209.4632,-2637.7818 3212.9261,-2627.7689 3203.9748,-2633.4369 3209.4632,-2637.7818\"/>\n</g>\n<!-- o_height_4 -->\n<g id=\"node89\" class=\"node\">\n<title>o_height_4</title>\n<ellipse fill=\"none\" stroke=\"#000000\" cx=\"1066.9931\" cy=\"-2466\" rx=\"53.8905\" ry=\"18\"/>\n<text text-anchor=\"middle\" x=\"1066.9931\" y=\"-2462.3\" font-family=\"Times,serif\" font-size=\"14.00\" fill=\"#000000\">o_height_4</text>\n</g>\n<!-- o_bitrate_4&#45;&gt;o_height_4 -->\n<g id=\"edge88\" class=\"edge\">\n<title>o_bitrate_4&#45;&gt;o_height_4</title>\n<path fill=\"none\" stroke=\"#000000\" d=\"M1962.6769,-2537.0092C1827.7603,-2533.9882 1462.0509,-2522.5973 1159.9931,-2484 1147.7585,-2482.4366 1134.7103,-2480.2444 1122.3754,-2477.9259\"/>\n<polygon fill=\"#000000\" stroke=\"#000000\" points=\"1122.6982,-2474.4235 1112.2154,-2475.9597 1121.3682,-2481.296 1122.6982,-2474.4235\"/>\n</g>\n<!-- width_4 -->\n<g id=\"node91\" class=\"node\">\n<title>width_4</title>\n<ellipse fill=\"none\" stroke=\"#000000\" cx=\"1210.9931\" cy=\"-2466\" rx=\"42.4939\" ry=\"18\"/>\n<text text-anchor=\"middle\" x=\"1210.9931\" y=\"-2462.3\" font-family=\"Times,serif\" font-size=\"14.00\" fill=\"#000000\">width_4</text>\n</g>\n<!-- o_bitrate_4&#45;&gt;width_4 -->\n<g id=\"edge90\" class=\"edge\">\n<title>o_bitrate_4&#45;&gt;width_4</title>\n<path fill=\"none\" stroke=\"#000000\" d=\"M1962.6295,-2536.0603C1843.8475,-2531.2822 1548.7997,-2516.8626 1303.9931,-2484 1289.3034,-2482.0281 1273.4303,-2479.2137 1259.0277,-2476.3944\"/>\n<polygon fill=\"#000000\" stroke=\"#000000\" points=\"1259.331,-2472.8856 1248.8383,-2474.3526 1257.9557,-2479.7492 1259.331,-2472.8856\"/>\n</g>\n<!-- codec_vp8_4 -->\n<g id=\"node93\" class=\"node\">\n<title>codec_vp8_4</title>\n<ellipse fill=\"none\" stroke=\"#000000\" cx=\"1374.9931\" cy=\"-2466\" rx=\"61.99\" ry=\"18\"/>\n<text text-anchor=\"middle\" x=\"1374.9931\" y=\"-2462.3\" font-family=\"Times,serif\" font-size=\"14.00\" fill=\"#000000\">codec_vp8_4</text>\n</g>\n<!-- o_bitrate_4&#45;&gt;codec_vp8_4 -->\n<g id=\"edge92\" class=\"edge\">\n<title>o_bitrate_4&#45;&gt;codec_vp8_4</title>\n<path fill=\"none\" stroke=\"#000000\" d=\"M1964.1394,-2533.4154C1870.3635,-2524.9484 1666.3998,-2505.7269 1494.9931,-2484 1476.9145,-2481.7084 1457.352,-2478.9103 1439.3726,-2476.2096\"/>\n<polygon fill=\"#000000\" stroke=\"#000000\" points=\"1439.6924,-2472.7181 1429.2807,-2474.6793 1438.643,-2479.639 1439.6924,-2472.7181\"/>\n</g>\n<!-- o_framerate_4 -->\n<g id=\"node95\" class=\"node\">\n<title>o_framerate_4</title>\n<ellipse fill=\"none\" stroke=\"#000000\" cx=\"1567.9931\" cy=\"-2466\" rx=\"64.189\" ry=\"18\"/>\n<text text-anchor=\"middle\" x=\"1567.9931\" y=\"-2462.3\" font-family=\"Times,serif\" font-size=\"14.00\" fill=\"#000000\">o_framerate_4</text>\n</g>\n<!-- o_bitrate_4&#45;&gt;o_framerate_4 -->\n<g id=\"edge94\" class=\"edge\">\n<title>o_bitrate_4&#45;&gt;o_framerate_4</title>\n<path fill=\"none\" stroke=\"#000000\" d=\"M1967.6236,-2530.2263C1886.9338,-2517.2583 1724.7616,-2491.1949 1633.7679,-2476.5709\"/>\n<polygon fill=\"#000000\" stroke=\"#000000\" points=\"1634.2713,-2473.107 1623.8426,-2474.9758 1633.1605,-2480.0183 1634.2713,-2473.107\"/>\n</g>\n<!-- b_4 -->\n<g id=\"node97\" class=\"node\">\n<title>b_4</title>\n<ellipse fill=\"none\" stroke=\"#000000\" cx=\"1738.9931\" cy=\"-2466\" rx=\"27\" ry=\"18\"/>\n<text text-anchor=\"middle\" x=\"1738.9931\" y=\"-2462.3\" font-family=\"Times,serif\" font-size=\"14.00\" fill=\"#000000\">b_4</text>\n</g>\n<!-- o_bitrate_4&#45;&gt;b_4 -->\n<g id=\"edge96\" class=\"edge\">\n<title>o_bitrate_4&#45;&gt;b_4</title>\n<path fill=\"none\" stroke=\"#000000\" d=\"M1973.1053,-2527.2339C1930.4365,-2516.4733 1863.119,-2499.3632 1804.9931,-2484 1794.831,-2481.3141 1783.8074,-2478.334 1773.7323,-2475.5842\"/>\n<polygon fill=\"#000000\" stroke=\"#000000\" points=\"1774.6098,-2472.1957 1764.0405,-2472.9306 1772.7612,-2478.9472 1774.6098,-2472.1957\"/>\n</g>\n<!-- o_codec_vp8_4 -->\n<g id=\"node99\" class=\"node\">\n<title>o_codec_vp8_4</title>\n<ellipse fill=\"none\" stroke=\"#000000\" cx=\"1884.9931\" cy=\"-2466\" rx=\"71.4873\" ry=\"18\"/>\n<text text-anchor=\"middle\" x=\"1884.9931\" y=\"-2462.3\" font-family=\"Times,serif\" font-size=\"14.00\" fill=\"#000000\">o_codec_vp8_4</text>\n</g>\n<!-- o_bitrate_4&#45;&gt;o_codec_vp8_4 -->\n<g id=\"edge98\" class=\"edge\">\n<title>o_bitrate_4&#45;&gt;o_codec_vp8_4</title>\n<path fill=\"none\" stroke=\"#000000\" d=\"M1987.8903,-2522.5542C1969.1605,-2512.26 1944.2954,-2498.5936 1923.7003,-2487.2742\"/>\n<polygon fill=\"#000000\" stroke=\"#000000\" points=\"1925.3208,-2484.1711 1914.8714,-2482.4217 1921.9491,-2490.3056 1925.3208,-2484.1711\"/>\n</g>\n<!-- i_size_4 -->\n<g id=\"node101\" class=\"node\">\n<title>i_size_4</title>\n<ellipse fill=\"none\" stroke=\"#000000\" cx=\"2015.9931\" cy=\"-2466\" rx=\"41.6928\" ry=\"18\"/>\n<text text-anchor=\"middle\" x=\"2015.9931\" y=\"-2462.3\" font-family=\"Times,serif\" font-size=\"14.00\" fill=\"#000000\">i_size_4</text>\n</g>\n<!-- o_bitrate_4&#45;&gt;i_size_4 -->\n<g id=\"edge100\" class=\"edge\">\n<title>o_bitrate_4&#45;&gt;i_size_4</title>\n<path fill=\"none\" stroke=\"#000000\" d=\"M2015.9931,-2519.8314C2015.9931,-2512.131 2015.9931,-2502.9743 2015.9931,-2494.4166\"/>\n<polygon fill=\"#000000\" stroke=\"#000000\" points=\"2019.4932,-2494.4132 2015.9931,-2484.4133 2012.4932,-2494.4133 2019.4932,-2494.4132\"/>\n</g>\n<!-- frames_4 -->\n<g id=\"node103\" class=\"node\">\n<title>frames_4</title>\n<ellipse fill=\"none\" stroke=\"#000000\" cx=\"2119.9931\" cy=\"-2466\" rx=\"44.6926\" ry=\"18\"/>\n<text text-anchor=\"middle\" x=\"2119.9931\" y=\"-2462.3\" font-family=\"Times,serif\" font-size=\"14.00\" fill=\"#000000\">frames_4</text>\n</g>\n<!-- o_bitrate_4&#45;&gt;frames_4 -->\n<g id=\"edge102\" class=\"edge\">\n<title>o_bitrate_4&#45;&gt;frames_4</title>\n<path fill=\"none\" stroke=\"#000000\" d=\"M2039.5923,-2521.6621C2054.1554,-2511.5799 2073.0055,-2498.5299 2088.793,-2487.6001\"/>\n<polygon fill=\"#000000\" stroke=\"#000000\" points=\"2090.9723,-2490.3483 2097.202,-2481.7784 2086.9878,-2484.5929 2090.9723,-2490.3483\"/>\n</g>\n<!-- p_size_4 -->\n<g id=\"node105\" class=\"node\">\n<title>p_size_4</title>\n<ellipse fill=\"none\" stroke=\"#000000\" cx=\"2226.9931\" cy=\"-2466\" rx=\"44.393\" ry=\"18\"/>\n<text text-anchor=\"middle\" x=\"2226.9931\" y=\"-2462.3\" font-family=\"Times,serif\" font-size=\"14.00\" fill=\"#000000\">p_size_4</text>\n</g>\n<!-- o_bitrate_4&#45;&gt;p_size_4 -->\n<g id=\"edge104\" class=\"edge\">\n<title>o_bitrate_4&#45;&gt;p_size_4</title>\n<path fill=\"none\" stroke=\"#000000\" d=\"M2053.7157,-2525.1278C2090.0594,-2512.7262 2145.0127,-2493.9744 2183.2547,-2480.9249\"/>\n<polygon fill=\"#000000\" stroke=\"#000000\" points=\"2184.7475,-2484.1138 2193.0813,-2477.5718 2182.4868,-2477.4889 2184.7475,-2484.1138\"/>\n</g>\n<!-- codec_flv_4 -->\n<g id=\"node107\" class=\"node\">\n<title>codec_flv_4</title>\n<ellipse fill=\"none\" stroke=\"#000000\" cx=\"2345.9931\" cy=\"-2466\" rx=\"57.3905\" ry=\"18\"/>\n<text text-anchor=\"middle\" x=\"2345.9931\" y=\"-2462.3\" font-family=\"Times,serif\" font-size=\"14.00\" fill=\"#000000\">codec_flv_4</text>\n</g>\n<!-- o_bitrate_4&#45;&gt;codec_flv_4 -->\n<g id=\"edge106\" class=\"edge\">\n<title>o_bitrate_4&#45;&gt;codec_flv_4</title>\n<path fill=\"none\" stroke=\"#000000\" d=\"M2062.9286,-2529.3471C2115.8732,-2519.3668 2204.451,-2502.0073 2279.9931,-2484 2284.3345,-2482.9651 2288.8235,-2481.8462 2293.3232,-2480.6902\"/>\n<polygon fill=\"#000000\" stroke=\"#000000\" points=\"2294.3515,-2484.039 2303.1378,-2478.1186 2292.5772,-2477.2676 2294.3515,-2484.039\"/>\n</g>\n<!-- duration_4 -->\n<g id=\"node109\" class=\"node\">\n<title>duration_4</title>\n<ellipse fill=\"none\" stroke=\"#000000\" cx=\"2578.9931\" cy=\"-2466\" rx=\"51.9908\" ry=\"18\"/>\n<text text-anchor=\"middle\" x=\"2578.9931\" y=\"-2462.3\" font-family=\"Times,serif\" font-size=\"14.00\" fill=\"#000000\">duration_4</text>\n</g>\n<!-- o_bitrate_4&#45;&gt;duration_4 -->\n<g id=\"edge108\" class=\"edge\">\n<title>o_bitrate_4&#45;&gt;duration_4</title>\n<path fill=\"none\" stroke=\"#000000\" d=\"M2068.861,-2535.4434C2160.8907,-2530.2991 2356.1747,-2516.3052 2517.9931,-2484 2522.1957,-2483.161 2526.5262,-2482.1626 2530.8491,-2481.0725\"/>\n<polygon fill=\"#000000\" stroke=\"#000000\" points=\"2532.103,-2484.3602 2540.8585,-2478.3943 2530.2936,-2477.5981 2532.103,-2484.3602\"/>\n</g>\n<!-- height_4 -->\n<g id=\"node110\" class=\"node\">\n<title>height_4</title>\n<ellipse fill=\"none\" stroke=\"#000000\" cx=\"2464.9931\" cy=\"-2466\" rx=\"44.393\" ry=\"18\"/>\n<text text-anchor=\"middle\" x=\"2464.9931\" y=\"-2462.3\" font-family=\"Times,serif\" font-size=\"14.00\" fill=\"#000000\">height_4</text>\n</g>\n<!-- o_bitrate_4&#45;&gt;height_4 -->\n<g id=\"edge110\" class=\"edge\">\n<title>o_bitrate_4&#45;&gt;height_4</title>\n<path fill=\"none\" stroke=\"#000000\" d=\"M2068.1502,-2534.0967C2144.4444,-2527.6666 2290.5974,-2512.6115 2411.9931,-2484 2415.407,-2483.1954 2418.9118,-2482.2598 2422.414,-2481.2463\"/>\n<polygon fill=\"#000000\" stroke=\"#000000\" points=\"2423.6758,-2484.5199 2432.1995,-2478.2272 2421.612,-2477.831 2423.6758,-2484.5199\"/>\n</g>\n<!-- Score = 0.554821 -->\n<g id=\"node90\" class=\"node\">\n<title>Score = 0.554821</title>\n<ellipse fill=\"none\" stroke=\"#000000\" cx=\"1009.9931\" cy=\"-2394\" rx=\"78.7863\" ry=\"18\"/>\n<text text-anchor=\"middle\" x=\"1009.9931\" y=\"-2390.3\" font-family=\"Times,serif\" font-size=\"14.00\" fill=\"#000000\">Score = 0.554821</text>\n</g>\n<!-- o_height_4&#45;&gt;Score = 0.554821 -->\n<g id=\"edge89\" class=\"edge\">\n<title>o_height_4&#45;&gt;Score = 0.554821</title>\n<path fill=\"none\" stroke=\"#000000\" d=\"M1053.195,-2448.5708C1046.3655,-2439.9441 1037.985,-2429.3582 1030.4287,-2419.8134\"/>\n<polygon fill=\"#000000\" stroke=\"#000000\" points=\"1033.0113,-2417.4369 1024.0601,-2411.7689 1027.523,-2421.7818 1033.0113,-2417.4369\"/>\n</g>\n<!-- Score = 0.567740 -->\n<g id=\"node92\" class=\"node\">\n<title>Score = 0.567740</title>\n<ellipse fill=\"none\" stroke=\"#000000\" cx=\"1184.9931\" cy=\"-2394\" rx=\"78.7863\" ry=\"18\"/>\n<text text-anchor=\"middle\" x=\"1184.9931\" y=\"-2390.3\" font-family=\"Times,serif\" font-size=\"14.00\" fill=\"#000000\">Score = 0.567740</text>\n</g>\n<!-- width_4&#45;&gt;Score = 0.567740 -->\n<g id=\"edge91\" class=\"edge\">\n<title>width_4&#45;&gt;Score = 0.567740</title>\n<path fill=\"none\" stroke=\"#000000\" d=\"M1204.5661,-2448.2022C1201.6817,-2440.2146 1198.2114,-2430.6045 1194.999,-2421.7087\"/>\n<polygon fill=\"#000000\" stroke=\"#000000\" points=\"1198.2152,-2420.3099 1191.5267,-2412.0931 1191.6313,-2422.6874 1198.2152,-2420.3099\"/>\n</g>\n<!-- Score = 0.554828 -->\n<g id=\"node94\" class=\"node\">\n<title>Score = 0.554828</title>\n<ellipse fill=\"none\" stroke=\"#000000\" cx=\"1359.9931\" cy=\"-2394\" rx=\"78.7863\" ry=\"18\"/>\n<text text-anchor=\"middle\" x=\"1359.9931\" y=\"-2390.3\" font-family=\"Times,serif\" font-size=\"14.00\" fill=\"#000000\">Score = 0.554828</text>\n</g>\n<!-- codec_vp8_4&#45;&gt;Score = 0.554828 -->\n<g id=\"edge93\" class=\"edge\">\n<title>codec_vp8_4&#45;&gt;Score = 0.554828</title>\n<path fill=\"none\" stroke=\"#000000\" d=\"M1371.2079,-2447.8314C1369.6037,-2440.131 1367.6961,-2430.9743 1365.9132,-2422.4166\"/>\n<polygon fill=\"#000000\" stroke=\"#000000\" points=\"1369.2952,-2421.4892 1363.8292,-2412.4133 1362.4424,-2422.9169 1369.2952,-2421.4892\"/>\n</g>\n<!-- Score = 0.565351 -->\n<g id=\"node96\" class=\"node\">\n<title>Score = 0.565351</title>\n<ellipse fill=\"none\" stroke=\"#000000\" cx=\"1534.9931\" cy=\"-2394\" rx=\"78.7863\" ry=\"18\"/>\n<text text-anchor=\"middle\" x=\"1534.9931\" y=\"-2390.3\" font-family=\"Times,serif\" font-size=\"14.00\" fill=\"#000000\">Score = 0.565351</text>\n</g>\n<!-- o_framerate_4&#45;&gt;Score = 0.565351 -->\n<g id=\"edge95\" class=\"edge\">\n<title>o_framerate_4&#45;&gt;Score = 0.565351</title>\n<path fill=\"none\" stroke=\"#000000\" d=\"M1559.6658,-2447.8314C1555.964,-2439.7547 1551.528,-2430.0761 1547.4445,-2421.1668\"/>\n<polygon fill=\"#000000\" stroke=\"#000000\" points=\"1550.5517,-2419.5458 1543.2034,-2411.9134 1544.1883,-2422.4624 1550.5517,-2419.5458\"/>\n</g>\n<!-- Score = 0.554763 -->\n<g id=\"node98\" class=\"node\">\n<title>Score = 0.554763</title>\n<ellipse fill=\"none\" stroke=\"#000000\" cx=\"1709.9931\" cy=\"-2394\" rx=\"78.7863\" ry=\"18\"/>\n<text text-anchor=\"middle\" x=\"1709.9931\" y=\"-2390.3\" font-family=\"Times,serif\" font-size=\"14.00\" fill=\"#000000\">Score = 0.554763</text>\n</g>\n<!-- b_4&#45;&gt;Score = 0.554763 -->\n<g id=\"edge97\" class=\"edge\">\n<title>b_4&#45;&gt;Score = 0.554763</title>\n<path fill=\"none\" stroke=\"#000000\" d=\"M1731.973,-2448.5708C1728.6985,-2440.4409 1724.7231,-2430.571 1721.0583,-2421.4722\"/>\n<polygon fill=\"#000000\" stroke=\"#000000\" points=\"1724.2341,-2419.9888 1717.2514,-2412.0206 1717.741,-2422.6041 1724.2341,-2419.9888\"/>\n</g>\n<!-- Score = 0.568786 -->\n<g id=\"node100\" class=\"node\">\n<title>Score = 0.568786</title>\n<ellipse fill=\"none\" stroke=\"#000000\" cx=\"1884.9931\" cy=\"-2394\" rx=\"78.7863\" ry=\"18\"/>\n<text text-anchor=\"middle\" x=\"1884.9931\" y=\"-2390.3\" font-family=\"Times,serif\" font-size=\"14.00\" fill=\"#000000\">Score = 0.568786</text>\n</g>\n<!-- o_codec_vp8_4&#45;&gt;Score = 0.568786 -->\n<g id=\"edge99\" class=\"edge\">\n<title>o_codec_vp8_4&#45;&gt;Score = 0.568786</title>\n<path fill=\"none\" stroke=\"#000000\" d=\"M1884.9931,-2447.8314C1884.9931,-2440.131 1884.9931,-2430.9743 1884.9931,-2422.4166\"/>\n<polygon fill=\"#000000\" stroke=\"#000000\" points=\"1888.4932,-2422.4132 1884.9931,-2412.4133 1881.4932,-2422.4133 1888.4932,-2422.4132\"/>\n</g>\n<!-- o_codec_vp8_5 -->\n<g id=\"node112\" class=\"node\">\n<title>o_codec_vp8_5</title>\n<ellipse fill=\"none\" stroke=\"#000000\" cx=\"1884.9931\" cy=\"-2322\" rx=\"71.4873\" ry=\"18\"/>\n<text text-anchor=\"middle\" x=\"1884.9931\" y=\"-2318.3\" font-family=\"Times,serif\" font-size=\"14.00\" fill=\"#000000\">o_codec_vp8_5</text>\n</g>\n<!-- Score = 0.568786&#45;&gt;o_codec_vp8_5 -->\n<g id=\"edge112\" class=\"edge\">\n<title>Score = 0.568786&#45;&gt;o_codec_vp8_5</title>\n<path fill=\"none\" stroke=\"#000000\" d=\"M1884.9931,-2375.8314C1884.9931,-2368.131 1884.9931,-2358.9743 1884.9931,-2350.4166\"/>\n<polygon fill=\"#000000\" stroke=\"#000000\" points=\"1888.4932,-2350.4132 1884.9931,-2340.4133 1881.4932,-2350.4133 1888.4932,-2350.4132\"/>\n</g>\n<!-- Score = 0.556224 -->\n<g id=\"node102\" class=\"node\">\n<title>Score = 0.556224</title>\n<ellipse fill=\"none\" stroke=\"#000000\" cx=\"2059.9931\" cy=\"-2394\" rx=\"78.7863\" ry=\"18\"/>\n<text text-anchor=\"middle\" x=\"2059.9931\" y=\"-2390.3\" font-family=\"Times,serif\" font-size=\"14.00\" fill=\"#000000\">Score = 0.556224</text>\n</g>\n<!-- i_size_4&#45;&gt;Score = 0.556224 -->\n<g id=\"edge101\" class=\"edge\">\n<title>i_size_4&#45;&gt;Score = 0.556224</title>\n<path fill=\"none\" stroke=\"#000000\" d=\"M2026.6443,-2448.5708C2031.7711,-2440.1815 2038.0302,-2429.9392 2043.7354,-2420.6035\"/>\n<polygon fill=\"#000000\" stroke=\"#000000\" points=\"2046.7524,-2422.3785 2048.9805,-2412.0206 2040.7795,-2418.7283 2046.7524,-2422.3785\"/>\n</g>\n<!-- Score = 0.554978 -->\n<g id=\"node104\" class=\"node\">\n<title>Score = 0.554978</title>\n<ellipse fill=\"none\" stroke=\"#000000\" cx=\"2234.9931\" cy=\"-2394\" rx=\"78.7863\" ry=\"18\"/>\n<text text-anchor=\"middle\" x=\"2234.9931\" y=\"-2390.3\" font-family=\"Times,serif\" font-size=\"14.00\" fill=\"#000000\">Score = 0.554978</text>\n</g>\n<!-- frames_4&#45;&gt;Score = 0.554978 -->\n<g id=\"edge103\" class=\"edge\">\n<title>frames_4&#45;&gt;Score = 0.554978</title>\n<path fill=\"none\" stroke=\"#000000\" d=\"M2144.3816,-2450.7307C2160.2146,-2440.8178 2181.1285,-2427.7239 2198.8742,-2416.6135\"/>\n<polygon fill=\"#000000\" stroke=\"#000000\" points=\"2201.2031,-2419.2849 2207.8216,-2411.0117 2197.4884,-2413.3518 2201.2031,-2419.2849\"/>\n</g>\n<!-- Score = 0.559680 -->\n<g id=\"node106\" class=\"node\">\n<title>Score = 0.559680</title>\n<ellipse fill=\"none\" stroke=\"#000000\" cx=\"2409.9931\" cy=\"-2394\" rx=\"78.7863\" ry=\"18\"/>\n<text text-anchor=\"middle\" x=\"2409.9931\" y=\"-2390.3\" font-family=\"Times,serif\" font-size=\"14.00\" fill=\"#000000\">Score = 0.559680</text>\n</g>\n<!-- p_size_4&#45;&gt;Score = 0.559680 -->\n<g id=\"edge105\" class=\"edge\">\n<title>p_size_4&#45;&gt;Score = 0.559680</title>\n<path fill=\"none\" stroke=\"#000000\" d=\"M2258.8692,-2453.4586C2286.8959,-2442.4317 2328.1415,-2426.2039 2360.4655,-2413.4863\"/>\n<polygon fill=\"#000000\" stroke=\"#000000\" points=\"2362.1619,-2416.58 2370.1861,-2409.6618 2359.599,-2410.0661 2362.1619,-2416.58\"/>\n</g>\n<!-- Score = 0.554948 -->\n<g id=\"node108\" class=\"node\">\n<title>Score = 0.554948</title>\n<ellipse fill=\"none\" stroke=\"#000000\" cx=\"2584.9931\" cy=\"-2394\" rx=\"78.7863\" ry=\"18\"/>\n<text text-anchor=\"middle\" x=\"2584.9931\" y=\"-2390.3\" font-family=\"Times,serif\" font-size=\"14.00\" fill=\"#000000\">Score = 0.554948</text>\n</g>\n<!-- codec_flv_4&#45;&gt;Score = 0.554948 -->\n<g id=\"edge107\" class=\"edge\">\n<title>codec_flv_4&#45;&gt;Score = 0.554948</title>\n<path fill=\"none\" stroke=\"#000000\" d=\"M2387.3509,-2453.5408C2426.0228,-2441.8906 2484.1371,-2424.3834 2527.351,-2411.365\"/>\n<polygon fill=\"#000000\" stroke=\"#000000\" points=\"2528.5966,-2414.6452 2537.162,-2408.4094 2526.5774,-2407.9427 2528.5966,-2414.6452\"/>\n</g>\n<!-- duration_4&#45;&gt;Score = 0.554759 -->\n<g id=\"edge109\" class=\"edge\">\n<title>duration_4&#45;&gt;Score = 0.554759</title>\n<path fill=\"none\" stroke=\"#000000\" d=\"M2542.6489,-2479.0188C2471.107,-2504.6458 2311.7996,-2561.7111 2229.0878,-2591.3392\"/>\n<polygon fill=\"#000000\" stroke=\"#000000\" points=\"2227.8675,-2588.0585 2219.6335,-2594.7258 2230.2281,-2594.6485 2227.8675,-2588.0585\"/>\n</g>\n<!-- Score = 0.566633 -->\n<g id=\"node111\" class=\"node\">\n<title>Score = 0.566633</title>\n<ellipse fill=\"none\" stroke=\"#000000\" cx=\"2759.9931\" cy=\"-2394\" rx=\"78.7863\" ry=\"18\"/>\n<text text-anchor=\"middle\" x=\"2759.9931\" y=\"-2390.3\" font-family=\"Times,serif\" font-size=\"14.00\" fill=\"#000000\">Score = 0.566633</text>\n</g>\n<!-- height_4&#45;&gt;Score = 0.566633 -->\n<g id=\"edge111\" class=\"edge\">\n<title>height_4&#45;&gt;Score = 0.566633</title>\n<path fill=\"none\" stroke=\"#000000\" d=\"M2498.4673,-2454.0228C2504.9088,-2451.8912 2511.6307,-2449.7846 2517.9931,-2448 2550.1214,-2438.988 2632.0876,-2421.0872 2691.7462,-2408.3686\"/>\n<polygon fill=\"#000000\" stroke=\"#000000\" points=\"2692.8097,-2411.7208 2701.8623,-2406.216 2691.3528,-2404.8741 2692.8097,-2411.7208\"/>\n</g>\n<!-- o_height_5 -->\n<g id=\"node113\" class=\"node\">\n<title>o_height_5</title>\n<ellipse fill=\"none\" stroke=\"#000000\" cx=\"1066.9931\" cy=\"-2250\" rx=\"53.8905\" ry=\"18\"/>\n<text text-anchor=\"middle\" x=\"1066.9931\" y=\"-2246.3\" font-family=\"Times,serif\" font-size=\"14.00\" fill=\"#000000\">o_height_5</text>\n</g>\n<!-- o_codec_vp8_5&#45;&gt;o_height_5 -->\n<g id=\"edge113\" class=\"edge\">\n<title>o_codec_vp8_5&#45;&gt;o_height_5</title>\n<path fill=\"none\" stroke=\"#000000\" d=\"M1813.9575,-2319.465C1683.7889,-2314.2084 1398.4763,-2299.8496 1159.9931,-2268 1147.7675,-2266.3673 1134.7231,-2264.1463 1122.389,-2261.8218\"/>\n<polygon fill=\"#000000\" stroke=\"#000000\" points=\"1122.7118,-2258.3194 1112.229,-2259.8556 1121.3818,-2265.1919 1122.7118,-2258.3194\"/>\n</g>\n<!-- width_5 -->\n<g id=\"node115\" class=\"node\">\n<title>width_5</title>\n<ellipse fill=\"none\" stroke=\"#000000\" cx=\"1210.9931\" cy=\"-2250\" rx=\"42.4939\" ry=\"18\"/>\n<text text-anchor=\"middle\" x=\"1210.9931\" y=\"-2246.3\" font-family=\"Times,serif\" font-size=\"14.00\" fill=\"#000000\">width_5</text>\n</g>\n<!-- o_codec_vp8_5&#45;&gt;width_5 -->\n<g id=\"edge115\" class=\"edge\">\n<title>o_codec_vp8_5&#45;&gt;width_5</title>\n<path fill=\"none\" stroke=\"#000000\" d=\"M1816.1831,-2316.7592C1710.2385,-2308.3782 1500.8821,-2290.5798 1323.9931,-2268 1303.0175,-2265.3225 1279.9486,-2261.7595 1260.1536,-2258.5104\"/>\n<polygon fill=\"#000000\" stroke=\"#000000\" points=\"1260.5672,-2255.0313 1250.129,-2256.8463 1259.4208,-2261.9368 1260.5672,-2255.0313\"/>\n</g>\n<!-- codec_vp8_5 -->\n<g id=\"node117\" class=\"node\">\n<title>codec_vp8_5</title>\n<ellipse fill=\"none\" stroke=\"#000000\" cx=\"1394.9931\" cy=\"-2250\" rx=\"61.99\" ry=\"18\"/>\n<text text-anchor=\"middle\" x=\"1394.9931\" y=\"-2246.3\" font-family=\"Times,serif\" font-size=\"14.00\" fill=\"#000000\">codec_vp8_5</text>\n</g>\n<!-- o_codec_vp8_5&#45;&gt;codec_vp8_5 -->\n<g id=\"edge117\" class=\"edge\">\n<title>o_codec_vp8_5&#45;&gt;codec_vp8_5</title>\n<path fill=\"none\" stroke=\"#000000\" d=\"M1821.381,-2313.6193C1745.1482,-2303.4455 1613.5889,-2285.4733 1500.9931,-2268 1487.1151,-2265.8463 1472.2386,-2263.4038 1458.1492,-2261.0282\"/>\n<polygon fill=\"#000000\" stroke=\"#000000\" points=\"1458.4993,-2257.5377 1448.0547,-2259.3154 1457.3282,-2264.439 1458.4993,-2257.5377\"/>\n</g>\n<!-- o_framerate_5 -->\n<g id=\"node119\" class=\"node\">\n<title>o_framerate_5</title>\n<ellipse fill=\"none\" stroke=\"#000000\" cx=\"1573.9931\" cy=\"-2250\" rx=\"64.189\" ry=\"18\"/>\n<text text-anchor=\"middle\" x=\"1573.9931\" y=\"-2246.3\" font-family=\"Times,serif\" font-size=\"14.00\" fill=\"#000000\">o_framerate_5</text>\n</g>\n<!-- o_codec_vp8_5&#45;&gt;o_framerate_5 -->\n<g id=\"edge119\" class=\"edge\">\n<title>o_codec_vp8_5&#45;&gt;o_framerate_5</title>\n<path fill=\"none\" stroke=\"#000000\" d=\"M1832.2362,-2309.7862C1777.2237,-2297.0502 1691.1579,-2277.125 1633.6918,-2263.8209\"/>\n<polygon fill=\"#000000\" stroke=\"#000000\" points=\"1634.1947,-2260.3448 1623.6629,-2261.4991 1632.6158,-2267.1645 1634.1947,-2260.3448\"/>\n</g>\n<!-- b_5 -->\n<g id=\"node121\" class=\"node\">\n<title>b_5</title>\n<ellipse fill=\"none\" stroke=\"#000000\" cx=\"1759.9931\" cy=\"-2250\" rx=\"27\" ry=\"18\"/>\n<text text-anchor=\"middle\" x=\"1759.9931\" y=\"-2246.3\" font-family=\"Times,serif\" font-size=\"14.00\" fill=\"#000000\">b_5</text>\n</g>\n<!-- o_codec_vp8_5&#45;&gt;b_5 -->\n<g id=\"edge121\" class=\"edge\">\n<title>o_codec_vp8_5&#45;&gt;b_5</title>\n<path fill=\"none\" stroke=\"#000000\" d=\"M1856.3156,-2305.4817C1836.3137,-2293.9607 1809.6983,-2278.6302 1789.514,-2267.004\"/>\n<polygon fill=\"#000000\" stroke=\"#000000\" points=\"1791.1518,-2263.9083 1780.7395,-2261.9499 1787.6579,-2269.9741 1791.1518,-2263.9083\"/>\n</g>\n<!-- i_size_5 -->\n<g id=\"node123\" class=\"node\">\n<title>i_size_5</title>\n<ellipse fill=\"none\" stroke=\"#000000\" cx=\"1884.9931\" cy=\"-2250\" rx=\"41.6928\" ry=\"18\"/>\n<text text-anchor=\"middle\" x=\"1884.9931\" y=\"-2246.3\" font-family=\"Times,serif\" font-size=\"14.00\" fill=\"#000000\">i_size_5</text>\n</g>\n<!-- o_codec_vp8_5&#45;&gt;i_size_5 -->\n<g id=\"edge123\" class=\"edge\">\n<title>o_codec_vp8_5&#45;&gt;i_size_5</title>\n<path fill=\"none\" stroke=\"#000000\" d=\"M1884.9931,-2303.8314C1884.9931,-2296.131 1884.9931,-2286.9743 1884.9931,-2278.4166\"/>\n<polygon fill=\"#000000\" stroke=\"#000000\" points=\"1888.4932,-2278.4132 1884.9931,-2268.4133 1881.4932,-2278.4133 1888.4932,-2278.4132\"/>\n</g>\n<!-- frames_5 -->\n<g id=\"node125\" class=\"node\">\n<title>frames_5</title>\n<ellipse fill=\"none\" stroke=\"#000000\" cx=\"2023.9931\" cy=\"-2250\" rx=\"44.6926\" ry=\"18\"/>\n<text text-anchor=\"middle\" x=\"2023.9931\" y=\"-2246.3\" font-family=\"Times,serif\" font-size=\"14.00\" fill=\"#000000\">frames_5</text>\n</g>\n<!-- o_codec_vp8_5&#45;&gt;frames_5 -->\n<g id=\"edge125\" class=\"edge\">\n<title>o_codec_vp8_5&#45;&gt;frames_5</title>\n<path fill=\"none\" stroke=\"#000000\" d=\"M1916.5343,-2305.6621C1937.5604,-2294.7709 1965.2728,-2280.4163 1987.2885,-2269.0124\"/>\n<polygon fill=\"#000000\" stroke=\"#000000\" points=\"1989.0693,-2272.0318 1996.339,-2264.3244 1985.8497,-2265.8161 1989.0693,-2272.0318\"/>\n</g>\n<!-- p_size_5 -->\n<g id=\"node127\" class=\"node\">\n<title>p_size_5</title>\n<ellipse fill=\"none\" stroke=\"#000000\" cx=\"2182.9931\" cy=\"-2250\" rx=\"44.393\" ry=\"18\"/>\n<text text-anchor=\"middle\" x=\"2182.9931\" y=\"-2246.3\" font-family=\"Times,serif\" font-size=\"14.00\" fill=\"#000000\">p_size_5</text>\n</g>\n<!-- o_codec_vp8_5&#45;&gt;p_size_5 -->\n<g id=\"edge127\" class=\"edge\">\n<title>o_codec_vp8_5&#45;&gt;p_size_5</title>\n<path fill=\"none\" stroke=\"#000000\" d=\"M1936.9007,-2309.4586C1992.6714,-2295.9838 2080.5864,-2274.7426 2134.8548,-2261.6307\"/>\n<polygon fill=\"#000000\" stroke=\"#000000\" points=\"2136.0123,-2264.9519 2144.9106,-2259.2011 2134.3683,-2258.1476 2136.0123,-2264.9519\"/>\n</g>\n<!-- codec_flv_5 -->\n<g id=\"node129\" class=\"node\">\n<title>codec_flv_5</title>\n<ellipse fill=\"none\" stroke=\"#000000\" cx=\"2355.9931\" cy=\"-2250\" rx=\"57.3905\" ry=\"18\"/>\n<text text-anchor=\"middle\" x=\"2355.9931\" y=\"-2246.3\" font-family=\"Times,serif\" font-size=\"14.00\" fill=\"#000000\">codec_flv_5</text>\n</g>\n<!-- o_codec_vp8_5&#45;&gt;codec_flv_5 -->\n<g id=\"edge129\" class=\"edge\">\n<title>o_codec_vp8_5&#45;&gt;codec_flv_5</title>\n<path fill=\"none\" stroke=\"#000000\" d=\"M1946.5681,-2312.5873C2036.8466,-2298.7867 2204.1709,-2273.2085 2294.438,-2259.4097\"/>\n<polygon fill=\"#000000\" stroke=\"#000000\" points=\"2295.1661,-2262.8391 2304.5224,-2257.8681 2294.1083,-2255.9195 2295.1661,-2262.8391\"/>\n</g>\n<!-- duration_5 -->\n<g id=\"node131\" class=\"node\">\n<title>duration_5</title>\n<ellipse fill=\"none\" stroke=\"#000000\" cx=\"2533.9931\" cy=\"-2250\" rx=\"51.9908\" ry=\"18\"/>\n<text text-anchor=\"middle\" x=\"2533.9931\" y=\"-2246.3\" font-family=\"Times,serif\" font-size=\"14.00\" fill=\"#000000\">duration_5</text>\n</g>\n<!-- o_codec_vp8_5&#45;&gt;duration_5 -->\n<g id=\"edge131\" class=\"edge\">\n<title>o_codec_vp8_5&#45;&gt;duration_5</title>\n<path fill=\"none\" stroke=\"#000000\" d=\"M1953.381,-2316.4273C2055.5628,-2307.8058 2254.0559,-2289.9192 2421.9931,-2268 2440.0316,-2265.6456 2459.6344,-2262.6468 2477.3241,-2259.7751\"/>\n<polygon fill=\"#000000\" stroke=\"#000000\" points=\"2478.1918,-2263.1795 2487.4922,-2258.1048 2477.0571,-2256.2721 2478.1918,-2263.1795\"/>\n</g>\n<!-- height_5 -->\n<g id=\"node133\" class=\"node\">\n<title>height_5</title>\n<ellipse fill=\"none\" stroke=\"#000000\" cx=\"2703.9931\" cy=\"-2250\" rx=\"44.393\" ry=\"18\"/>\n<text text-anchor=\"middle\" x=\"2703.9931\" y=\"-2246.3\" font-family=\"Times,serif\" font-size=\"14.00\" fill=\"#000000\">height_5</text>\n</g>\n<!-- o_codec_vp8_5&#45;&gt;height_5 -->\n<g id=\"edge133\" class=\"edge\">\n<title>o_codec_vp8_5&#45;&gt;height_5</title>\n<path fill=\"none\" stroke=\"#000000\" d=\"M1955.4834,-2318.6925C2083.288,-2312.2391 2361.6449,-2296.0862 2594.9931,-2268 2614.2736,-2265.6794 2635.3534,-2262.3787 2653.7932,-2259.2363\"/>\n<polygon fill=\"#000000\" stroke=\"#000000\" points=\"2654.4818,-2262.6692 2663.7378,-2257.514 2653.2872,-2255.7719 2654.4818,-2262.6692\"/>\n</g>\n<!-- Score = 0.568854 -->\n<g id=\"node114\" class=\"node\">\n<title>Score = 0.568854</title>\n<ellipse fill=\"none\" stroke=\"#000000\" cx=\"1009.9931\" cy=\"-2178\" rx=\"78.7863\" ry=\"18\"/>\n<text text-anchor=\"middle\" x=\"1009.9931\" y=\"-2174.3\" font-family=\"Times,serif\" font-size=\"14.00\" fill=\"#000000\">Score = 0.568854</text>\n</g>\n<!-- o_height_5&#45;&gt;Score = 0.568854 -->\n<g id=\"edge114\" class=\"edge\">\n<title>o_height_5&#45;&gt;Score = 0.568854</title>\n<path fill=\"none\" stroke=\"#000000\" d=\"M1053.195,-2232.5708C1046.3655,-2223.9441 1037.985,-2213.3582 1030.4287,-2203.8134\"/>\n<polygon fill=\"#000000\" stroke=\"#000000\" points=\"1033.0113,-2201.4369 1024.0601,-2195.7689 1027.523,-2205.7818 1033.0113,-2201.4369\"/>\n</g>\n<!-- Score = 0.581486 -->\n<g id=\"node116\" class=\"node\">\n<title>Score = 0.581486</title>\n<ellipse fill=\"none\" stroke=\"#000000\" cx=\"1184.9931\" cy=\"-2178\" rx=\"78.7863\" ry=\"18\"/>\n<text text-anchor=\"middle\" x=\"1184.9931\" y=\"-2174.3\" font-family=\"Times,serif\" font-size=\"14.00\" fill=\"#000000\">Score = 0.581486</text>\n</g>\n<!-- width_5&#45;&gt;Score = 0.581486 -->\n<g id=\"edge116\" class=\"edge\">\n<title>width_5&#45;&gt;Score = 0.581486</title>\n<path fill=\"none\" stroke=\"#000000\" d=\"M1204.5661,-2232.2022C1201.6817,-2224.2146 1198.2114,-2214.6045 1194.999,-2205.7087\"/>\n<polygon fill=\"#000000\" stroke=\"#000000\" points=\"1198.2152,-2204.3099 1191.5267,-2196.0931 1191.6313,-2206.6874 1198.2152,-2204.3099\"/>\n</g>\n<!-- width_6 -->\n<g id=\"node135\" class=\"node\">\n<title>width_6</title>\n<ellipse fill=\"none\" stroke=\"#000000\" cx=\"1184.9931\" cy=\"-2106\" rx=\"42.4939\" ry=\"18\"/>\n<text text-anchor=\"middle\" x=\"1184.9931\" y=\"-2102.3\" font-family=\"Times,serif\" font-size=\"14.00\" fill=\"#000000\">width_6</text>\n</g>\n<!-- Score = 0.581486&#45;&gt;width_6 -->\n<g id=\"edge135\" class=\"edge\">\n<title>Score = 0.581486&#45;&gt;width_6</title>\n<path fill=\"none\" stroke=\"#000000\" d=\"M1184.9931,-2159.8314C1184.9931,-2152.131 1184.9931,-2142.9743 1184.9931,-2134.4166\"/>\n<polygon fill=\"#000000\" stroke=\"#000000\" points=\"1188.4932,-2134.4132 1184.9931,-2124.4133 1181.4932,-2134.4133 1188.4932,-2134.4132\"/>\n</g>\n<!-- Score = 0.568845 -->\n<g id=\"node118\" class=\"node\">\n<title>Score = 0.568845</title>\n<ellipse fill=\"none\" stroke=\"#000000\" cx=\"1359.9931\" cy=\"-2178\" rx=\"78.7863\" ry=\"18\"/>\n<text text-anchor=\"middle\" x=\"1359.9931\" y=\"-2174.3\" font-family=\"Times,serif\" font-size=\"14.00\" fill=\"#000000\">Score = 0.568845</text>\n</g>\n<!-- codec_vp8_5&#45;&gt;Score = 0.568845 -->\n<g id=\"edge118\" class=\"edge\">\n<title>codec_vp8_5&#45;&gt;Score = 0.568845</title>\n<path fill=\"none\" stroke=\"#000000\" d=\"M1386.1611,-2231.8314C1382.235,-2223.7547 1377.5301,-2214.0761 1373.1992,-2205.1668\"/>\n<polygon fill=\"#000000\" stroke=\"#000000\" points=\"1376.2208,-2203.3769 1368.701,-2195.9134 1369.9252,-2206.4373 1376.2208,-2203.3769\"/>\n</g>\n<!-- Score = 0.579234 -->\n<g id=\"node120\" class=\"node\">\n<title>Score = 0.579234</title>\n<ellipse fill=\"none\" stroke=\"#000000\" cx=\"1534.9931\" cy=\"-2178\" rx=\"78.7863\" ry=\"18\"/>\n<text text-anchor=\"middle\" x=\"1534.9931\" y=\"-2174.3\" font-family=\"Times,serif\" font-size=\"14.00\" fill=\"#000000\">Score = 0.579234</text>\n</g>\n<!-- o_framerate_5&#45;&gt;Score = 0.579234 -->\n<g id=\"edge120\" class=\"edge\">\n<title>o_framerate_5&#45;&gt;Score = 0.579234</title>\n<path fill=\"none\" stroke=\"#000000\" d=\"M1564.3526,-2232.2022C1559.9329,-2224.0428 1554.5962,-2214.1904 1549.6916,-2205.1358\"/>\n<polygon fill=\"#000000\" stroke=\"#000000\" points=\"1552.6339,-2203.219 1544.7935,-2196.0931 1546.4789,-2206.5531 1552.6339,-2203.219\"/>\n</g>\n<!-- Score = 0.568792 -->\n<g id=\"node122\" class=\"node\">\n<title>Score = 0.568792</title>\n<ellipse fill=\"none\" stroke=\"#000000\" cx=\"1709.9931\" cy=\"-2178\" rx=\"78.7863\" ry=\"18\"/>\n<text text-anchor=\"middle\" x=\"1709.9931\" y=\"-2174.3\" font-family=\"Times,serif\" font-size=\"14.00\" fill=\"#000000\">Score = 0.568792</text>\n</g>\n<!-- b_5&#45;&gt;Score = 0.568792 -->\n<g id=\"edge122\" class=\"edge\">\n<title>b_5&#45;&gt;Score = 0.568792</title>\n<path fill=\"none\" stroke=\"#000000\" d=\"M1748.6473,-2233.6621C1742.5858,-2224.9336 1734.9796,-2213.9805 1728.1213,-2204.1047\"/>\n<polygon fill=\"#000000\" stroke=\"#000000\" points=\"1730.9234,-2202.0035 1722.3446,-2195.7862 1725.1738,-2205.9963 1730.9234,-2202.0035\"/>\n</g>\n<!-- Score = 0.570008 -->\n<g id=\"node124\" class=\"node\">\n<title>Score = 0.570008</title>\n<ellipse fill=\"none\" stroke=\"#000000\" cx=\"1884.9931\" cy=\"-2178\" rx=\"78.7863\" ry=\"18\"/>\n<text text-anchor=\"middle\" x=\"1884.9931\" y=\"-2174.3\" font-family=\"Times,serif\" font-size=\"14.00\" fill=\"#000000\">Score = 0.570008</text>\n</g>\n<!-- i_size_5&#45;&gt;Score = 0.570008 -->\n<g id=\"edge124\" class=\"edge\">\n<title>i_size_5&#45;&gt;Score = 0.570008</title>\n<path fill=\"none\" stroke=\"#000000\" d=\"M1884.9931,-2231.8314C1884.9931,-2224.131 1884.9931,-2214.9743 1884.9931,-2206.4166\"/>\n<polygon fill=\"#000000\" stroke=\"#000000\" points=\"1888.4932,-2206.4132 1884.9931,-2196.4133 1881.4932,-2206.4133 1888.4932,-2206.4132\"/>\n</g>\n<!-- Score = 0.568897 -->\n<g id=\"node126\" class=\"node\">\n<title>Score = 0.568897</title>\n<ellipse fill=\"none\" stroke=\"#000000\" cx=\"2059.9931\" cy=\"-2178\" rx=\"78.7863\" ry=\"18\"/>\n<text text-anchor=\"middle\" x=\"2059.9931\" y=\"-2174.3\" font-family=\"Times,serif\" font-size=\"14.00\" fill=\"#000000\">Score = 0.568897</text>\n</g>\n<!-- frames_5&#45;&gt;Score = 0.568897 -->\n<g id=\"edge126\" class=\"edge\">\n<title>frames_5&#45;&gt;Score = 0.568897</title>\n<path fill=\"none\" stroke=\"#000000\" d=\"M2032.892,-2232.2022C2036.9717,-2224.0428 2041.8979,-2214.1904 2046.4252,-2205.1358\"/>\n<polygon fill=\"#000000\" stroke=\"#000000\" points=\"2049.6048,-2206.6027 2050.9465,-2196.0931 2043.3438,-2203.4721 2049.6048,-2206.6027\"/>\n</g>\n<!-- Score = 0.573360 -->\n<g id=\"node128\" class=\"node\">\n<title>Score = 0.573360</title>\n<ellipse fill=\"none\" stroke=\"#000000\" cx=\"2234.9931\" cy=\"-2178\" rx=\"78.7863\" ry=\"18\"/>\n<text text-anchor=\"middle\" x=\"2234.9931\" y=\"-2174.3\" font-family=\"Times,serif\" font-size=\"14.00\" fill=\"#000000\">Score = 0.573360</text>\n</g>\n<!-- p_size_5&#45;&gt;Score = 0.573360 -->\n<g id=\"edge128\" class=\"edge\">\n<title>p_size_5&#45;&gt;Score = 0.573360</title>\n<path fill=\"none\" stroke=\"#000000\" d=\"M2195.5808,-2232.5708C2201.7483,-2224.0312 2209.3023,-2213.5719 2216.141,-2204.1029\"/>\n<polygon fill=\"#000000\" stroke=\"#000000\" points=\"2219.1424,-2205.9249 2222.16,-2195.7689 2213.4677,-2201.8265 2219.1424,-2205.9249\"/>\n</g>\n<!-- Score = 0.568951 -->\n<g id=\"node130\" class=\"node\">\n<title>Score = 0.568951</title>\n<ellipse fill=\"none\" stroke=\"#000000\" cx=\"2409.9931\" cy=\"-2178\" rx=\"78.7863\" ry=\"18\"/>\n<text text-anchor=\"middle\" x=\"2409.9931\" y=\"-2174.3\" font-family=\"Times,serif\" font-size=\"14.00\" fill=\"#000000\">Score = 0.568951</text>\n</g>\n<!-- codec_flv_5&#45;&gt;Score = 0.568951 -->\n<g id=\"edge130\" class=\"edge\">\n<title>codec_flv_5&#45;&gt;Score = 0.568951</title>\n<path fill=\"none\" stroke=\"#000000\" d=\"M2369.3414,-2232.2022C2375.7021,-2223.7214 2383.4344,-2213.4115 2390.4409,-2204.0696\"/>\n<polygon fill=\"#000000\" stroke=\"#000000\" points=\"2393.4111,-2205.9426 2396.6112,-2195.8425 2387.8111,-2201.7426 2393.4111,-2205.9426\"/>\n</g>\n<!-- Score = 0.568787 -->\n<g id=\"node132\" class=\"node\">\n<title>Score = 0.568787</title>\n<ellipse fill=\"none\" stroke=\"#000000\" cx=\"2584.9931\" cy=\"-2178\" rx=\"78.7863\" ry=\"18\"/>\n<text text-anchor=\"middle\" x=\"2584.9931\" y=\"-2174.3\" font-family=\"Times,serif\" font-size=\"14.00\" fill=\"#000000\">Score = 0.568787</text>\n</g>\n<!-- duration_5&#45;&gt;Score = 0.568787 -->\n<g id=\"edge132\" class=\"edge\">\n<title>duration_5&#45;&gt;Score = 0.568787</title>\n<path fill=\"none\" stroke=\"#000000\" d=\"M2546.5998,-2232.2022C2552.6071,-2223.7214 2559.9099,-2213.4115 2566.5271,-2204.0696\"/>\n<polygon fill=\"#000000\" stroke=\"#000000\" points=\"2569.4305,-2206.0259 2572.3546,-2195.8425 2563.7183,-2201.9797 2569.4305,-2206.0259\"/>\n</g>\n<!-- Score = 0.580357 -->\n<g id=\"node134\" class=\"node\">\n<title>Score = 0.580357</title>\n<ellipse fill=\"none\" stroke=\"#000000\" cx=\"2759.9931\" cy=\"-2178\" rx=\"78.7863\" ry=\"18\"/>\n<text text-anchor=\"middle\" x=\"2759.9931\" y=\"-2174.3\" font-family=\"Times,serif\" font-size=\"14.00\" fill=\"#000000\">Score = 0.580357</text>\n</g>\n<!-- height_5&#45;&gt;Score = 0.580357 -->\n<g id=\"edge134\" class=\"edge\">\n<title>height_5&#45;&gt;Score = 0.580357</title>\n<path fill=\"none\" stroke=\"#000000\" d=\"M2717.5491,-2232.5708C2724.2588,-2223.9441 2732.4923,-2213.3582 2739.916,-2203.8134\"/>\n<polygon fill=\"#000000\" stroke=\"#000000\" points=\"2742.7961,-2205.8112 2746.1728,-2195.7689 2737.2707,-2201.5136 2742.7961,-2205.8112\"/>\n</g>\n<!-- o_height_6 -->\n<g id=\"node136\" class=\"node\">\n<title>o_height_6</title>\n<ellipse fill=\"none\" stroke=\"#000000\" cx=\"617.9931\" cy=\"-2034\" rx=\"53.8905\" ry=\"18\"/>\n<text text-anchor=\"middle\" x=\"617.9931\" y=\"-2030.3\" font-family=\"Times,serif\" font-size=\"14.00\" fill=\"#000000\">o_height_6</text>\n</g>\n<!-- width_6&#45;&gt;o_height_6 -->\n<g id=\"edge136\" class=\"edge\">\n<title>width_6&#45;&gt;o_height_6</title>\n<path fill=\"none\" stroke=\"#000000\" d=\"M1142.765,-2103.7198C1056.1259,-2098.5439 852.2615,-2083.8052 683.9931,-2052 678.8728,-2051.0322 673.5689,-2049.8674 668.2949,-2048.6016\"/>\n<polygon fill=\"#000000\" stroke=\"#000000\" points=\"668.7976,-2045.1188 658.2453,-2046.068 667.0863,-2051.9065 668.7976,-2045.1188\"/>\n</g>\n<!-- codec_vp8_6 -->\n<g id=\"node138\" class=\"node\">\n<title>codec_vp8_6</title>\n<ellipse fill=\"none\" stroke=\"#000000\" cx=\"887.9931\" cy=\"-2034\" rx=\"61.99\" ry=\"18\"/>\n<text text-anchor=\"middle\" x=\"887.9931\" y=\"-2030.3\" font-family=\"Times,serif\" font-size=\"14.00\" fill=\"#000000\">codec_vp8_6</text>\n</g>\n<!-- width_6&#45;&gt;codec_vp8_6 -->\n<g id=\"edge138\" class=\"edge\">\n<title>width_6&#45;&gt;codec_vp8_6</title>\n<path fill=\"none\" stroke=\"#000000\" d=\"M1147.9399,-2097.2204C1103.3235,-2086.6225 1026.1283,-2068.2028 959.9931,-2052 955.0361,-2050.7856 949.8894,-2049.516 944.7304,-2048.2375\"/>\n<polygon fill=\"#000000\" stroke=\"#000000\" points=\"945.3896,-2044.795 934.8407,-2045.7799 943.7014,-2051.5883 945.3896,-2044.795\"/>\n</g>\n<!-- o_framerate_6 -->\n<g id=\"node140\" class=\"node\">\n<title>o_framerate_6</title>\n<ellipse fill=\"none\" stroke=\"#000000\" cx=\"1032.9931\" cy=\"-2034\" rx=\"64.189\" ry=\"18\"/>\n<text text-anchor=\"middle\" x=\"1032.9931\" y=\"-2030.3\" font-family=\"Times,serif\" font-size=\"14.00\" fill=\"#000000\">o_framerate_6</text>\n</g>\n<!-- width_6&#45;&gt;o_framerate_6 -->\n<g id=\"edge140\" class=\"edge\">\n<title>width_6&#45;&gt;o_framerate_6</title>\n<path fill=\"none\" stroke=\"#000000\" d=\"M1156.403,-2092.4574C1133.5022,-2081.6096 1101.039,-2066.2323 1075.1555,-2053.9717\"/>\n<polygon fill=\"#000000\" stroke=\"#000000\" points=\"1076.4827,-2050.7276 1065.947,-2049.6098 1073.4861,-2057.0538 1076.4827,-2050.7276\"/>\n</g>\n<!-- b_6 -->\n<g id=\"node142\" class=\"node\">\n<title>b_6</title>\n<ellipse fill=\"none\" stroke=\"#000000\" cx=\"1141.9931\" cy=\"-2034\" rx=\"27\" ry=\"18\"/>\n<text text-anchor=\"middle\" x=\"1141.9931\" y=\"-2030.3\" font-family=\"Times,serif\" font-size=\"14.00\" fill=\"#000000\">b_6</text>\n</g>\n<!-- width_6&#45;&gt;b_6 -->\n<g id=\"edge142\" class=\"edge\">\n<title>width_6&#45;&gt;b_6</title>\n<path fill=\"none\" stroke=\"#000000\" d=\"M1174.3639,-2088.2022C1169.2375,-2079.6186 1162.9922,-2069.1613 1157.3598,-2059.7303\"/>\n<polygon fill=\"#000000\" stroke=\"#000000\" points=\"1160.3363,-2057.8881 1152.2039,-2051.0972 1154.3265,-2061.4773 1160.3363,-2057.8881\"/>\n</g>\n<!-- i_size_6 -->\n<g id=\"node144\" class=\"node\">\n<title>i_size_6</title>\n<ellipse fill=\"none\" stroke=\"#000000\" cx=\"1272.9931\" cy=\"-2034\" rx=\"41.6928\" ry=\"18\"/>\n<text text-anchor=\"middle\" x=\"1272.9931\" y=\"-2030.3\" font-family=\"Times,serif\" font-size=\"14.00\" fill=\"#000000\">i_size_6</text>\n</g>\n<!-- width_6&#45;&gt;i_size_6 -->\n<g id=\"edge144\" class=\"edge\">\n<title>width_6&#45;&gt;i_size_6</title>\n<path fill=\"none\" stroke=\"#000000\" d=\"M1204.5231,-2090.0209C1216.5998,-2080.14 1232.2825,-2067.3086 1245.5913,-2056.4197\"/>\n<polygon fill=\"#000000\" stroke=\"#000000\" points=\"1247.9944,-2058.9757 1253.5176,-2049.9345 1243.5617,-2053.558 1247.9944,-2058.9757\"/>\n</g>\n<!-- frames_6 -->\n<g id=\"node146\" class=\"node\">\n<title>frames_6</title>\n<ellipse fill=\"none\" stroke=\"#000000\" cx=\"1433.9931\" cy=\"-2034\" rx=\"44.6926\" ry=\"18\"/>\n<text text-anchor=\"middle\" x=\"1433.9931\" y=\"-2030.3\" font-family=\"Times,serif\" font-size=\"14.00\" fill=\"#000000\">frames_6</text>\n</g>\n<!-- width_6&#45;&gt;frames_6 -->\n<g id=\"edge146\" class=\"edge\">\n<title>width_6&#45;&gt;frames_6</title>\n<path fill=\"none\" stroke=\"#000000\" d=\"M1220.1406,-2095.8369C1264.0363,-2083.1441 1339.2529,-2061.3948 1387.7753,-2047.3642\"/>\n<polygon fill=\"#000000\" stroke=\"#000000\" points=\"1388.7707,-2050.7198 1397.4049,-2044.5797 1386.8262,-2043.9953 1388.7707,-2050.7198\"/>\n</g>\n<!-- p_size_6 -->\n<g id=\"node148\" class=\"node\">\n<title>p_size_6</title>\n<ellipse fill=\"none\" stroke=\"#000000\" cx=\"1603.9931\" cy=\"-2034\" rx=\"44.393\" ry=\"18\"/>\n<text text-anchor=\"middle\" x=\"1603.9931\" y=\"-2030.3\" font-family=\"Times,serif\" font-size=\"14.00\" fill=\"#000000\">p_size_6</text>\n</g>\n<!-- width_6&#45;&gt;p_size_6 -->\n<g id=\"edge148\" class=\"edge\">\n<title>width_6&#45;&gt;p_size_6</title>\n<path fill=\"none\" stroke=\"#000000\" d=\"M1224.4116,-2099.2264C1300.7586,-2086.1071 1468.708,-2057.2471 1553.2559,-2042.7186\"/>\n<polygon fill=\"#000000\" stroke=\"#000000\" points=\"1553.8786,-2046.1629 1563.1414,-2041.0199 1552.6931,-2039.2641 1553.8786,-2046.1629\"/>\n</g>\n<!-- codec_flv_6 -->\n<g id=\"node150\" class=\"node\">\n<title>codec_flv_6</title>\n<ellipse fill=\"none\" stroke=\"#000000\" cx=\"749.9931\" cy=\"-2034\" rx=\"57.3905\" ry=\"18\"/>\n<text text-anchor=\"middle\" x=\"749.9931\" y=\"-2030.3\" font-family=\"Times,serif\" font-size=\"14.00\" fill=\"#000000\">codec_flv_6</text>\n</g>\n<!-- width_6&#45;&gt;codec_flv_6 -->\n<g id=\"edge150\" class=\"edge\">\n<title>width_6&#45;&gt;codec_flv_6</title>\n<path fill=\"none\" stroke=\"#000000\" d=\"M1143.8774,-2101.5554C1075.5776,-2093.8179 934.6065,-2076.3413 816.9931,-2052 812.2311,-2051.0145 807.3046,-2049.892 802.3839,-2048.7005\"/>\n<polygon fill=\"#000000\" stroke=\"#000000\" points=\"802.8979,-2045.2209 792.3465,-2046.1791 801.1925,-2052.01 802.8979,-2045.2209\"/>\n</g>\n<!-- duration_6 -->\n<g id=\"node151\" class=\"node\">\n<title>duration_6</title>\n<ellipse fill=\"none\" stroke=\"#000000\" cx=\"1779.9931\" cy=\"-2034\" rx=\"51.9908\" ry=\"18\"/>\n<text text-anchor=\"middle\" x=\"1779.9931\" y=\"-2030.3\" font-family=\"Times,serif\" font-size=\"14.00\" fill=\"#000000\">duration_6</text>\n</g>\n<!-- width_6&#45;&gt;duration_6 -->\n<g id=\"edge152\" class=\"edge\">\n<title>width_6&#45;&gt;duration_6</title>\n<path fill=\"none\" stroke=\"#000000\" d=\"M1226.0839,-2101.7378C1308.1029,-2093.1333 1497.917,-2072.7342 1656.9931,-2052 1678.3214,-2049.22 1701.6849,-2045.8765 1722.2666,-2042.8296\"/>\n<polygon fill=\"#000000\" stroke=\"#000000\" points=\"1723.0617,-2046.2499 1732.4369,-2041.3148 1722.0304,-2039.3262 1723.0617,-2046.2499\"/>\n</g>\n<!-- height_6 -->\n<g id=\"node153\" class=\"node\">\n<title>height_6</title>\n<ellipse fill=\"none\" stroke=\"#000000\" cx=\"1954.9931\" cy=\"-2034\" rx=\"44.393\" ry=\"18\"/>\n<text text-anchor=\"middle\" x=\"1954.9931\" y=\"-2030.3\" font-family=\"Times,serif\" font-size=\"14.00\" fill=\"#000000\">height_6</text>\n</g>\n<!-- width_6&#45;&gt;height_6 -->\n<g id=\"edge154\" class=\"edge\">\n<title>width_6&#45;&gt;height_6</title>\n<path fill=\"none\" stroke=\"#000000\" d=\"M1226.9292,-2103.6348C1331.08,-2097.5246 1609.8164,-2079.7267 1840.9931,-2052 1861.7461,-2049.5109 1884.5151,-2046.0616 1904.2112,-2042.8479\"/>\n<polygon fill=\"#000000\" stroke=\"#000000\" points=\"1904.9091,-2046.2801 1914.2039,-2041.1951 1903.7668,-2039.3739 1904.9091,-2046.2801\"/>\n</g>\n<!-- Score = 0.581537 -->\n<g id=\"node137\" class=\"node\">\n<title>Score = 0.581537</title>\n<ellipse fill=\"none\" stroke=\"#000000\" cx=\"594.9931\" cy=\"-1962\" rx=\"78.7863\" ry=\"18\"/>\n<text text-anchor=\"middle\" x=\"594.9931\" y=\"-1958.3\" font-family=\"Times,serif\" font-size=\"14.00\" fill=\"#000000\">Score = 0.581537</text>\n</g>\n<!-- o_height_6&#45;&gt;Score = 0.581537 -->\n<g id=\"edge137\" class=\"edge\">\n<title>o_height_6&#45;&gt;Score = 0.581537</title>\n<path fill=\"none\" stroke=\"#000000\" d=\"M612.1892,-2015.8314C609.7023,-2008.0463 606.74,-1998.7729 603.9806,-1990.1347\"/>\n<polygon fill=\"#000000\" stroke=\"#000000\" points=\"607.2521,-1988.874 600.8751,-1980.4133 600.5841,-1991.0041 607.2521,-1988.874\"/>\n</g>\n<!-- Score = 0.582459 -->\n<g id=\"node139\" class=\"node\">\n<title>Score = 0.582459</title>\n<ellipse fill=\"none\" stroke=\"#000000\" cx=\"769.9931\" cy=\"-1962\" rx=\"78.7863\" ry=\"18\"/>\n<text text-anchor=\"middle\" x=\"769.9931\" y=\"-1958.3\" font-family=\"Times,serif\" font-size=\"14.00\" fill=\"#000000\">Score = 0.582459</text>\n</g>\n<!-- codec_vp8_6&#45;&gt;Score = 0.582459 -->\n<g id=\"edge139\" class=\"edge\">\n<title>codec_vp8_6&#45;&gt;Score = 0.582459</title>\n<path fill=\"none\" stroke=\"#000000\" d=\"M861.2171,-2017.6621C845.1196,-2007.8399 824.4056,-1995.2009 806.7856,-1984.4497\"/>\n<polygon fill=\"#000000\" stroke=\"#000000\" points=\"808.2538,-1981.2455 797.8944,-1979.0245 804.6077,-1987.2209 808.2538,-1981.2455\"/>\n</g>\n<!-- Score = 0.592141 -->\n<g id=\"node141\" class=\"node\">\n<title>Score = 0.592141</title>\n<ellipse fill=\"none\" stroke=\"#000000\" cx=\"944.9931\" cy=\"-1962\" rx=\"78.7863\" ry=\"18\"/>\n<text text-anchor=\"middle\" x=\"944.9931\" y=\"-1958.3\" font-family=\"Times,serif\" font-size=\"14.00\" fill=\"#000000\">Score = 0.592141</text>\n</g>\n<!-- o_framerate_6&#45;&gt;Score = 0.592141 -->\n<g id=\"edge141\" class=\"edge\">\n<title>o_framerate_6&#45;&gt;Score = 0.592141</title>\n<path fill=\"none\" stroke=\"#000000\" d=\"M1012.1383,-2016.937C1000.7978,-2007.6584 986.5897,-1996.0336 974.167,-1985.8696\"/>\n<polygon fill=\"#000000\" stroke=\"#000000\" points=\"976.2654,-1983.0642 966.3095,-1979.4407 971.8327,-1988.4819 976.2654,-1983.0642\"/>\n</g>\n<!-- o_framerate_7 -->\n<g id=\"node155\" class=\"node\">\n<title>o_framerate_7</title>\n<ellipse fill=\"none\" stroke=\"#000000\" cx=\"944.9931\" cy=\"-1890\" rx=\"64.189\" ry=\"18\"/>\n<text text-anchor=\"middle\" x=\"944.9931\" y=\"-1886.3\" font-family=\"Times,serif\" font-size=\"14.00\" fill=\"#000000\">o_framerate_7</text>\n</g>\n<!-- Score = 0.592141&#45;&gt;o_framerate_7 -->\n<g id=\"edge156\" class=\"edge\">\n<title>Score = 0.592141&#45;&gt;o_framerate_7</title>\n<path fill=\"none\" stroke=\"#000000\" d=\"M944.9931,-1943.8314C944.9931,-1936.131 944.9931,-1926.9743 944.9931,-1918.4166\"/>\n<polygon fill=\"#000000\" stroke=\"#000000\" points=\"948.4932,-1918.4132 944.9931,-1908.4133 941.4932,-1918.4133 948.4932,-1918.4132\"/>\n</g>\n<!-- Score = 0.581600 -->\n<g id=\"node143\" class=\"node\">\n<title>Score = 0.581600</title>\n<ellipse fill=\"none\" stroke=\"#000000\" cx=\"1119.9931\" cy=\"-1962\" rx=\"78.7863\" ry=\"18\"/>\n<text text-anchor=\"middle\" x=\"1119.9931\" y=\"-1958.3\" font-family=\"Times,serif\" font-size=\"14.00\" fill=\"#000000\">Score = 0.581600</text>\n</g>\n<!-- b_6&#45;&gt;Score = 0.581600 -->\n<g id=\"edge143\" class=\"edge\">\n<title>b_6&#45;&gt;Score = 0.581600</title>\n<path fill=\"none\" stroke=\"#000000\" d=\"M1136.5549,-2016.2022C1134.1142,-2008.2146 1131.1778,-1998.6045 1128.4596,-1989.7087\"/>\n<polygon fill=\"#000000\" stroke=\"#000000\" points=\"1131.791,-1988.6339 1125.5215,-1980.0931 1125.0966,-1990.6794 1131.791,-1988.6339\"/>\n</g>\n<!-- Score = 0.582782 -->\n<g id=\"node145\" class=\"node\">\n<title>Score = 0.582782</title>\n<ellipse fill=\"none\" stroke=\"#000000\" cx=\"1294.9931\" cy=\"-1962\" rx=\"78.7863\" ry=\"18\"/>\n<text text-anchor=\"middle\" x=\"1294.9931\" y=\"-1958.3\" font-family=\"Times,serif\" font-size=\"14.00\" fill=\"#000000\">Score = 0.582782</text>\n</g>\n<!-- i_size_6&#45;&gt;Score = 0.582782 -->\n<g id=\"edge145\" class=\"edge\">\n<title>i_size_6&#45;&gt;Score = 0.582782</title>\n<path fill=\"none\" stroke=\"#000000\" d=\"M1278.5446,-2015.8314C1280.9234,-2008.0463 1283.7569,-1998.7729 1286.3964,-1990.1347\"/>\n<polygon fill=\"#000000\" stroke=\"#000000\" points=\"1289.7918,-1990.9996 1289.3668,-1980.4133 1283.0973,-1988.954 1289.7918,-1990.9996\"/>\n</g>\n<!-- Score = 0.581650 -->\n<g id=\"node147\" class=\"node\">\n<title>Score = 0.581650</title>\n<ellipse fill=\"none\" stroke=\"#000000\" cx=\"1469.9931\" cy=\"-1962\" rx=\"78.7863\" ry=\"18\"/>\n<text text-anchor=\"middle\" x=\"1469.9931\" y=\"-1958.3\" font-family=\"Times,serif\" font-size=\"14.00\" fill=\"#000000\">Score = 0.581650</text>\n</g>\n<!-- frames_6&#45;&gt;Score = 0.581650 -->\n<g id=\"edge147\" class=\"edge\">\n<title>frames_6&#45;&gt;Score = 0.581650</title>\n<path fill=\"none\" stroke=\"#000000\" d=\"M1442.892,-2016.2022C1446.9717,-2008.0428 1451.8979,-1998.1904 1456.4252,-1989.1358\"/>\n<polygon fill=\"#000000\" stroke=\"#000000\" points=\"1459.6048,-1990.6027 1460.9465,-1980.0931 1453.3438,-1987.4721 1459.6048,-1990.6027\"/>\n</g>\n<!-- Score = 0.581249 -->\n<g id=\"node149\" class=\"node\">\n<title>Score = 0.581249</title>\n<ellipse fill=\"none\" stroke=\"#000000\" cx=\"1644.9931\" cy=\"-1962\" rx=\"78.7863\" ry=\"18\"/>\n<text text-anchor=\"middle\" x=\"1644.9931\" y=\"-1958.3\" font-family=\"Times,serif\" font-size=\"14.00\" fill=\"#000000\">Score = 0.581249</text>\n</g>\n<!-- p_size_6&#45;&gt;Score = 0.581249 -->\n<g id=\"edge149\" class=\"edge\">\n<title>p_size_6&#45;&gt;Score = 0.581249</title>\n<path fill=\"none\" stroke=\"#000000\" d=\"M1614.1279,-2016.2022C1618.8232,-2007.9569 1624.5029,-1997.9828 1629.7034,-1988.8501\"/>\n<polygon fill=\"#000000\" stroke=\"#000000\" points=\"1632.7831,-1990.5149 1634.6901,-1980.0931 1626.7002,-1987.051 1632.7831,-1990.5149\"/>\n</g>\n<!-- codec_flv_6&#45;&gt;Score = 0.581537 -->\n<g id=\"edge151\" class=\"edge\">\n<title>codec_flv_6&#45;&gt;Score = 0.581537</title>\n<path fill=\"none\" stroke=\"#000000\" d=\"M717.877,-2019.0816C695.0749,-2008.4896 664.18,-1994.1384 639.0731,-1982.4759\"/>\n<polygon fill=\"#000000\" stroke=\"#000000\" points=\"640.3068,-1979.1898 629.763,-1978.1512 637.3578,-1985.5383 640.3068,-1979.1898\"/>\n</g>\n<!-- Score = 0.581493 -->\n<g id=\"node152\" class=\"node\">\n<title>Score = 0.581493</title>\n<ellipse fill=\"none\" stroke=\"#000000\" cx=\"1819.9931\" cy=\"-1962\" rx=\"78.7863\" ry=\"18\"/>\n<text text-anchor=\"middle\" x=\"1819.9931\" y=\"-1958.3\" font-family=\"Times,serif\" font-size=\"14.00\" fill=\"#000000\">Score = 0.581493</text>\n</g>\n<!-- duration_6&#45;&gt;Score = 0.581493 -->\n<g id=\"edge153\" class=\"edge\">\n<title>duration_6&#45;&gt;Score = 0.581493</title>\n<path fill=\"none\" stroke=\"#000000\" d=\"M1789.8807,-2016.2022C1794.4615,-2007.9569 1800.0026,-1997.9828 1805.0763,-1988.8501\"/>\n<polygon fill=\"#000000\" stroke=\"#000000\" points=\"1808.1444,-1990.5345 1809.9413,-1980.0931 1802.0253,-1987.1349 1808.1444,-1990.5345\"/>\n</g>\n<!-- Score = 0.582324 -->\n<g id=\"node154\" class=\"node\">\n<title>Score = 0.582324</title>\n<ellipse fill=\"none\" stroke=\"#000000\" cx=\"1994.9931\" cy=\"-1962\" rx=\"78.7863\" ry=\"18\"/>\n<text text-anchor=\"middle\" x=\"1994.9931\" y=\"-1958.3\" font-family=\"Times,serif\" font-size=\"14.00\" fill=\"#000000\">Score = 0.582324</text>\n</g>\n<!-- height_6&#45;&gt;Score = 0.582324 -->\n<g id=\"edge155\" class=\"edge\">\n<title>height_6&#45;&gt;Score = 0.582324</title>\n<path fill=\"none\" stroke=\"#000000\" d=\"M1964.8807,-2016.2022C1969.4615,-2007.9569 1975.0026,-1997.9828 1980.0763,-1988.8501\"/>\n<polygon fill=\"#000000\" stroke=\"#000000\" points=\"1983.1444,-1990.5345 1984.9413,-1980.0931 1977.0253,-1987.1349 1983.1444,-1990.5345\"/>\n</g>\n<!-- o_height_7 -->\n<g id=\"node156\" class=\"node\">\n<title>o_height_7</title>\n<ellipse fill=\"none\" stroke=\"#000000\" cx=\"299.9931\" cy=\"-1818\" rx=\"53.8905\" ry=\"18\"/>\n<text text-anchor=\"middle\" x=\"299.9931\" y=\"-1814.3\" font-family=\"Times,serif\" font-size=\"14.00\" fill=\"#000000\">o_height_7</text>\n</g>\n<!-- o_framerate_7&#45;&gt;o_height_7 -->\n<g id=\"edge157\" class=\"edge\">\n<title>o_framerate_7&#45;&gt;o_height_7</title>\n<path fill=\"none\" stroke=\"#000000\" d=\"M881.8989,-1886.3693C777.6042,-1879.8241 562.8894,-1864.0497 382.9931,-1836 373.5861,-1834.5332 363.6441,-1832.6613 354.0355,-1830.6818\"/>\n<polygon fill=\"#000000\" stroke=\"#000000\" points=\"354.6879,-1827.2424 344.1794,-1828.5925 353.2362,-1834.0902 354.6879,-1827.2424\"/>\n</g>\n<!-- codec_vp8_7 -->\n<g id=\"node158\" class=\"node\">\n<title>codec_vp8_7</title>\n<ellipse fill=\"none\" stroke=\"#000000\" cx=\"453.9931\" cy=\"-1818\" rx=\"61.99\" ry=\"18\"/>\n<text text-anchor=\"middle\" x=\"453.9931\" y=\"-1814.3\" font-family=\"Times,serif\" font-size=\"14.00\" fill=\"#000000\">codec_vp8_7</text>\n</g>\n<!-- o_framerate_7&#45;&gt;codec_vp8_7 -->\n<g id=\"edge159\" class=\"edge\">\n<title>o_framerate_7&#45;&gt;codec_vp8_7</title>\n<path fill=\"none\" stroke=\"#000000\" d=\"M887.7082,-1881.5998C795.8427,-1868.1287 616.1038,-1841.7718 519.359,-1827.5852\"/>\n<polygon fill=\"#000000\" stroke=\"#000000\" points=\"519.8092,-1824.1139 509.4072,-1826.1259 518.7935,-1831.0398 519.8092,-1824.1139\"/>\n</g>\n<!-- b_7 -->\n<g id=\"node160\" class=\"node\">\n<title>b_7</title>\n<ellipse fill=\"none\" stroke=\"#000000\" cx=\"638.9931\" cy=\"-1818\" rx=\"27\" ry=\"18\"/>\n<text text-anchor=\"middle\" x=\"638.9931\" y=\"-1814.3\" font-family=\"Times,serif\" font-size=\"14.00\" fill=\"#000000\">b_7</text>\n</g>\n<!-- o_framerate_7&#45;&gt;b_7 -->\n<g id=\"edge161\" class=\"edge\">\n<title>o_framerate_7&#45;&gt;b_7</title>\n<path fill=\"none\" stroke=\"#000000\" d=\"M895.4888,-1878.3519C833.5146,-1863.7698 728.8909,-1839.1524 674.3935,-1826.3295\"/>\n<polygon fill=\"#000000\" stroke=\"#000000\" points=\"675.0419,-1822.8866 664.506,-1824.003 673.4385,-1829.7005 675.0419,-1822.8866\"/>\n</g>\n<!-- i_size_7 -->\n<g id=\"node162\" class=\"node\">\n<title>i_size_7</title>\n<ellipse fill=\"none\" stroke=\"#000000\" cx=\"804.9931\" cy=\"-1818\" rx=\"41.6928\" ry=\"18\"/>\n<text text-anchor=\"middle\" x=\"804.9931\" y=\"-1814.3\" font-family=\"Times,serif\" font-size=\"14.00\" fill=\"#000000\">i_size_7</text>\n</g>\n<!-- o_framerate_7&#45;&gt;i_size_7 -->\n<g id=\"edge163\" class=\"edge\">\n<title>o_framerate_7&#45;&gt;i_size_7</title>\n<path fill=\"none\" stroke=\"#000000\" d=\"M913.9225,-1874.0209C892.3987,-1862.9515 863.6748,-1848.1792 841.1271,-1836.5832\"/>\n<polygon fill=\"#000000\" stroke=\"#000000\" points=\"842.6877,-1833.4501 832.194,-1831.9891 839.4862,-1839.6751 842.6877,-1833.4501\"/>\n</g>\n<!-- frames_7 -->\n<g id=\"node164\" class=\"node\">\n<title>frames_7</title>\n<ellipse fill=\"none\" stroke=\"#000000\" cx=\"944.9931\" cy=\"-1818\" rx=\"44.6926\" ry=\"18\"/>\n<text text-anchor=\"middle\" x=\"944.9931\" y=\"-1814.3\" font-family=\"Times,serif\" font-size=\"14.00\" fill=\"#000000\">frames_7</text>\n</g>\n<!-- o_framerate_7&#45;&gt;frames_7 -->\n<g id=\"edge165\" class=\"edge\">\n<title>o_framerate_7&#45;&gt;frames_7</title>\n<path fill=\"none\" stroke=\"#000000\" d=\"M944.9931,-1871.8314C944.9931,-1864.131 944.9931,-1854.9743 944.9931,-1846.4166\"/>\n<polygon fill=\"#000000\" stroke=\"#000000\" points=\"948.4932,-1846.4132 944.9931,-1836.4133 941.4932,-1846.4133 948.4932,-1846.4132\"/>\n</g>\n<!-- p_size_7 -->\n<g id=\"node166\" class=\"node\">\n<title>p_size_7</title>\n<ellipse fill=\"none\" stroke=\"#000000\" cx=\"1085.9931\" cy=\"-1818\" rx=\"44.393\" ry=\"18\"/>\n<text text-anchor=\"middle\" x=\"1085.9931\" y=\"-1814.3\" font-family=\"Times,serif\" font-size=\"14.00\" fill=\"#000000\">p_size_7</text>\n</g>\n<!-- o_framerate_7&#45;&gt;p_size_7 -->\n<g id=\"edge167\" class=\"edge\">\n<title>o_framerate_7&#45;&gt;p_size_7</title>\n<path fill=\"none\" stroke=\"#000000\" d=\"M975.9361,-1874.1993C997.4534,-1863.2118 1026.2393,-1848.5126 1048.9746,-1836.903\"/>\n<polygon fill=\"#000000\" stroke=\"#000000\" points=\"1050.6782,-1839.9631 1057.9925,-1832.2982 1047.4947,-1833.7289 1050.6782,-1839.9631\"/>\n</g>\n<!-- codec_flv_7 -->\n<g id=\"node168\" class=\"node\">\n<title>codec_flv_7</title>\n<ellipse fill=\"none\" stroke=\"#000000\" cx=\"1249.9931\" cy=\"-1818\" rx=\"57.3905\" ry=\"18\"/>\n<text text-anchor=\"middle\" x=\"1249.9931\" y=\"-1814.3\" font-family=\"Times,serif\" font-size=\"14.00\" fill=\"#000000\">codec_flv_7</text>\n</g>\n<!-- o_framerate_7&#45;&gt;codec_flv_7 -->\n<g id=\"edge169\" class=\"edge\">\n<title>o_framerate_7&#45;&gt;codec_flv_7</title>\n<path fill=\"none\" stroke=\"#000000\" d=\"M994.3356,-1878.3519C1049.0479,-1865.4362 1137.1093,-1844.648 1194.2658,-1831.1553\"/>\n<polygon fill=\"#000000\" stroke=\"#000000\" points=\"1195.2846,-1834.5111 1204.2129,-1828.8071 1193.6763,-1827.6983 1195.2846,-1834.5111\"/>\n</g>\n<!-- duration_7 -->\n<g id=\"node170\" class=\"node\">\n<title>duration_7</title>\n<ellipse fill=\"none\" stroke=\"#000000\" cx=\"1422.9931\" cy=\"-1818\" rx=\"51.9908\" ry=\"18\"/>\n<text text-anchor=\"middle\" x=\"1422.9931\" y=\"-1814.3\" font-family=\"Times,serif\" font-size=\"14.00\" fill=\"#000000\">duration_7</text>\n</g>\n<!-- o_framerate_7&#45;&gt;duration_7 -->\n<g id=\"edge171\" class=\"edge\">\n<title>o_framerate_7&#45;&gt;duration_7</title>\n<path fill=\"none\" stroke=\"#000000\" d=\"M1002.8886,-1881.9774C1075.9368,-1871.7621 1205.3935,-1853.3496 1315.9931,-1836 1332.4061,-1833.4253 1350.2098,-1830.4882 1366.498,-1827.7441\"/>\n<polygon fill=\"#000000\" stroke=\"#000000\" points=\"1367.1421,-1831.1849 1376.4179,-1826.0653 1365.9741,-1824.2831 1367.1421,-1831.1849\"/>\n</g>\n<!-- height_7 -->\n<g id=\"node172\" class=\"node\">\n<title>height_7</title>\n<ellipse fill=\"none\" stroke=\"#000000\" cx=\"1590.9931\" cy=\"-1818\" rx=\"44.393\" ry=\"18\"/>\n<text text-anchor=\"middle\" x=\"1590.9931\" y=\"-1814.3\" font-family=\"Times,serif\" font-size=\"14.00\" fill=\"#000000\">height_7</text>\n</g>\n<!-- o_framerate_7&#45;&gt;height_7 -->\n<g id=\"edge173\" class=\"edge\">\n<title>o_framerate_7&#45;&gt;height_7</title>\n<path fill=\"none\" stroke=\"#000000\" d=\"M1006.9898,-1885.1441C1107.4126,-1876.9743 1311.7856,-1859.0848 1483.9931,-1836 1502.5741,-1833.5092 1522.8792,-1830.2346 1540.7597,-1827.1622\"/>\n<polygon fill=\"#000000\" stroke=\"#000000\" points=\"1541.4438,-1830.5958 1550.6958,-1825.4333 1540.2438,-1823.6994 1541.4438,-1830.5958\"/>\n</g>\n<!-- Score = 0.592200 -->\n<g id=\"node157\" class=\"node\">\n<title>Score = 0.592200</title>\n<ellipse fill=\"none\" stroke=\"#000000\" cx=\"244.9931\" cy=\"-1746\" rx=\"78.7863\" ry=\"18\"/>\n<text text-anchor=\"middle\" x=\"244.9931\" y=\"-1742.3\" font-family=\"Times,serif\" font-size=\"14.00\" fill=\"#000000\">Score = 0.592200</text>\n</g>\n<!-- o_height_7&#45;&gt;Score = 0.592200 -->\n<g id=\"edge158\" class=\"edge\">\n<title>o_height_7&#45;&gt;Score = 0.592200</title>\n<path fill=\"none\" stroke=\"#000000\" d=\"M286.3976,-1800.2022C279.9191,-1791.7214 272.0436,-1781.4115 264.9073,-1772.0696\"/>\n<polygon fill=\"#000000\" stroke=\"#000000\" points=\"267.4746,-1769.6646 258.6228,-1763.8425 261.9119,-1773.9139 267.4746,-1769.6646\"/>\n</g>\n<!-- Score = 0.593065 -->\n<g id=\"node159\" class=\"node\">\n<title>Score = 0.593065</title>\n<ellipse fill=\"none\" stroke=\"#000000\" cx=\"419.9931\" cy=\"-1746\" rx=\"78.7863\" ry=\"18\"/>\n<text text-anchor=\"middle\" x=\"419.9931\" y=\"-1742.3\" font-family=\"Times,serif\" font-size=\"14.00\" fill=\"#000000\">Score = 0.593065</text>\n</g>\n<!-- codec_vp8_7&#45;&gt;Score = 0.593065 -->\n<g id=\"edge160\" class=\"edge\">\n<title>codec_vp8_7&#45;&gt;Score = 0.593065</title>\n<path fill=\"none\" stroke=\"#000000\" d=\"M445.4134,-1799.8314C441.5995,-1791.7547 437.029,-1782.0761 432.8218,-1773.1668\"/>\n<polygon fill=\"#000000\" stroke=\"#000000\" points=\"435.8872,-1771.4614 428.4522,-1763.9134 429.5574,-1774.4504 435.8872,-1771.4614\"/>\n</g>\n<!-- Score = 0.592248 -->\n<g id=\"node161\" class=\"node\">\n<title>Score = 0.592248</title>\n<ellipse fill=\"none\" stroke=\"#000000\" cx=\"594.9931\" cy=\"-1746\" rx=\"78.7863\" ry=\"18\"/>\n<text text-anchor=\"middle\" x=\"594.9931\" y=\"-1742.3\" font-family=\"Times,serif\" font-size=\"14.00\" fill=\"#000000\">Score = 0.592248</text>\n</g>\n<!-- b_7&#45;&gt;Score = 0.592248 -->\n<g id=\"edge162\" class=\"edge\">\n<title>b_7&#45;&gt;Score = 0.592248</title>\n<path fill=\"none\" stroke=\"#000000\" d=\"M628.788,-1801.3008C623.5936,-1792.8009 617.1538,-1782.2629 611.2934,-1772.6733\"/>\n<polygon fill=\"#000000\" stroke=\"#000000\" points=\"614.1129,-1770.5749 605.9119,-1763.8671 608.1399,-1774.225 614.1129,-1770.5749\"/>\n</g>\n<!-- Score = 0.593472 -->\n<g id=\"node163\" class=\"node\">\n<title>Score = 0.593472</title>\n<ellipse fill=\"none\" stroke=\"#000000\" cx=\"769.9931\" cy=\"-1746\" rx=\"78.7863\" ry=\"18\"/>\n<text text-anchor=\"middle\" x=\"769.9931\" y=\"-1742.3\" font-family=\"Times,serif\" font-size=\"14.00\" fill=\"#000000\">Score = 0.593472</text>\n</g>\n<!-- i_size_7&#45;&gt;Score = 0.593472 -->\n<g id=\"edge164\" class=\"edge\">\n<title>i_size_7&#45;&gt;Score = 0.593472</title>\n<path fill=\"none\" stroke=\"#000000\" d=\"M796.3414,-1800.2022C792.375,-1792.0428 787.5856,-1782.1904 783.1841,-1773.1358\"/>\n<polygon fill=\"#000000\" stroke=\"#000000\" points=\"786.3081,-1771.5566 778.7883,-1764.0931 780.0125,-1774.617 786.3081,-1771.5566\"/>\n</g>\n<!-- i_size_8 -->\n<g id=\"node174\" class=\"node\">\n<title>i_size_8</title>\n<ellipse fill=\"none\" stroke=\"#000000\" cx=\"769.9931\" cy=\"-1674\" rx=\"41.6928\" ry=\"18\"/>\n<text text-anchor=\"middle\" x=\"769.9931\" y=\"-1670.3\" font-family=\"Times,serif\" font-size=\"14.00\" fill=\"#000000\">i_size_8</text>\n</g>\n<!-- Score = 0.593472&#45;&gt;i_size_8 -->\n<g id=\"edge175\" class=\"edge\">\n<title>Score = 0.593472&#45;&gt;i_size_8</title>\n<path fill=\"none\" stroke=\"#000000\" d=\"M769.9931,-1727.8314C769.9931,-1720.131 769.9931,-1710.9743 769.9931,-1702.4166\"/>\n<polygon fill=\"#000000\" stroke=\"#000000\" points=\"773.4932,-1702.4132 769.9931,-1692.4133 766.4932,-1702.4133 773.4932,-1702.4132\"/>\n</g>\n<!-- Score = 0.592336 -->\n<g id=\"node165\" class=\"node\">\n<title>Score = 0.592336</title>\n<ellipse fill=\"none\" stroke=\"#000000\" cx=\"944.9931\" cy=\"-1746\" rx=\"78.7863\" ry=\"18\"/>\n<text text-anchor=\"middle\" x=\"944.9931\" y=\"-1742.3\" font-family=\"Times,serif\" font-size=\"14.00\" fill=\"#000000\">Score = 0.592336</text>\n</g>\n<!-- frames_7&#45;&gt;Score = 0.592336 -->\n<g id=\"edge166\" class=\"edge\">\n<title>frames_7&#45;&gt;Score = 0.592336</title>\n<path fill=\"none\" stroke=\"#000000\" d=\"M944.9931,-1799.8314C944.9931,-1792.131 944.9931,-1782.9743 944.9931,-1774.4166\"/>\n<polygon fill=\"#000000\" stroke=\"#000000\" points=\"948.4932,-1774.4132 944.9931,-1764.4133 941.4932,-1774.4133 948.4932,-1774.4132\"/>\n</g>\n<!-- Score = 0.591844 -->\n<g id=\"node167\" class=\"node\">\n<title>Score = 0.591844</title>\n<ellipse fill=\"none\" stroke=\"#000000\" cx=\"1119.9931\" cy=\"-1746\" rx=\"78.7863\" ry=\"18\"/>\n<text text-anchor=\"middle\" x=\"1119.9931\" y=\"-1742.3\" font-family=\"Times,serif\" font-size=\"14.00\" fill=\"#000000\">Score = 0.591844</text>\n</g>\n<!-- p_size_7&#45;&gt;Score = 0.591844 -->\n<g id=\"edge168\" class=\"edge\">\n<title>p_size_7&#45;&gt;Score = 0.591844</title>\n<path fill=\"none\" stroke=\"#000000\" d=\"M1094.3976,-1800.2022C1098.2506,-1792.0428 1102.9032,-1782.1904 1107.179,-1773.1358\"/>\n<polygon fill=\"#000000\" stroke=\"#000000\" points=\"1110.3439,-1774.6302 1111.4491,-1764.0931 1104.0141,-1771.6411 1110.3439,-1774.6302\"/>\n</g>\n<!-- Score = 0.592190 -->\n<g id=\"node169\" class=\"node\">\n<title>Score = 0.592190</title>\n<ellipse fill=\"none\" stroke=\"#000000\" cx=\"1294.9931\" cy=\"-1746\" rx=\"78.7863\" ry=\"18\"/>\n<text text-anchor=\"middle\" x=\"1294.9931\" y=\"-1742.3\" font-family=\"Times,serif\" font-size=\"14.00\" fill=\"#000000\">Score = 0.592190</text>\n</g>\n<!-- codec_flv_7&#45;&gt;Score = 0.592190 -->\n<g id=\"edge170\" class=\"edge\">\n<title>codec_flv_7&#45;&gt;Score = 0.592190</title>\n<path fill=\"none\" stroke=\"#000000\" d=\"M1261.1167,-1800.2022C1266.3631,-1791.8079 1272.7295,-1781.6218 1278.5207,-1772.3558\"/>\n<polygon fill=\"#000000\" stroke=\"#000000\" points=\"1281.5095,-1774.1776 1283.8415,-1763.8425 1275.5735,-1770.4675 1281.5095,-1774.1776\"/>\n</g>\n<!-- Score = 0.592177 -->\n<g id=\"node171\" class=\"node\">\n<title>Score = 0.592177</title>\n<ellipse fill=\"none\" stroke=\"#000000\" cx=\"1469.9931\" cy=\"-1746\" rx=\"78.7863\" ry=\"18\"/>\n<text text-anchor=\"middle\" x=\"1469.9931\" y=\"-1742.3\" font-family=\"Times,serif\" font-size=\"14.00\" fill=\"#000000\">Score = 0.592177</text>\n</g>\n<!-- duration_7&#45;&gt;Score = 0.592177 -->\n<g id=\"edge172\" class=\"edge\">\n<title>duration_7&#45;&gt;Score = 0.592177</title>\n<path fill=\"none\" stroke=\"#000000\" d=\"M1434.6111,-1800.2022C1440.0907,-1791.8079 1446.74,-1781.6218 1452.7886,-1772.3558\"/>\n<polygon fill=\"#000000\" stroke=\"#000000\" points=\"1455.8104,-1774.1295 1458.3459,-1763.8425 1449.9488,-1770.3032 1455.8104,-1774.1295\"/>\n</g>\n<!-- Score = 0.593014 -->\n<g id=\"node173\" class=\"node\">\n<title>Score = 0.593014</title>\n<ellipse fill=\"none\" stroke=\"#000000\" cx=\"1644.9931\" cy=\"-1746\" rx=\"78.7863\" ry=\"18\"/>\n<text text-anchor=\"middle\" x=\"1644.9931\" y=\"-1742.3\" font-family=\"Times,serif\" font-size=\"14.00\" fill=\"#000000\">Score = 0.593014</text>\n</g>\n<!-- height_7&#45;&gt;Score = 0.593014 -->\n<g id=\"edge174\" class=\"edge\">\n<title>height_7&#45;&gt;Score = 0.593014</title>\n<path fill=\"none\" stroke=\"#000000\" d=\"M1604.065,-1800.5708C1610.535,-1791.9441 1618.4744,-1781.3582 1625.6331,-1771.8134\"/>\n<polygon fill=\"#000000\" stroke=\"#000000\" points=\"1628.4664,-1773.8689 1631.6664,-1763.7689 1622.8664,-1769.6689 1628.4664,-1773.8689\"/>\n</g>\n<!-- o_height_8 -->\n<g id=\"node175\" class=\"node\">\n<title>o_height_8</title>\n<ellipse fill=\"none\" stroke=\"#000000\" cx=\"244.9931\" cy=\"-1602\" rx=\"53.8905\" ry=\"18\"/>\n<text text-anchor=\"middle\" x=\"244.9931\" y=\"-1598.3\" font-family=\"Times,serif\" font-size=\"14.00\" fill=\"#000000\">o_height_8</text>\n</g>\n<!-- i_size_8&#45;&gt;o_height_8 -->\n<g id=\"edge176\" class=\"edge\">\n<title>i_size_8&#45;&gt;o_height_8</title>\n<path fill=\"none\" stroke=\"#000000\" d=\"M729.995,-1668.9901C656.8711,-1659.7678 496.735,-1639.2793 361.9931,-1620 343.111,-1617.2983 322.5417,-1614.1896 303.9903,-1611.3242\"/>\n<polygon fill=\"#000000\" stroke=\"#000000\" points=\"304.3335,-1607.8357 293.9151,-1609.7615 303.2605,-1614.753 304.3335,-1607.8357\"/>\n</g>\n<!-- codec_vp8_8 -->\n<g id=\"node177\" class=\"node\">\n<title>codec_vp8_8</title>\n<ellipse fill=\"none\" stroke=\"#000000\" cx=\"432.9931\" cy=\"-1602\" rx=\"61.99\" ry=\"18\"/>\n<text text-anchor=\"middle\" x=\"432.9931\" y=\"-1598.3\" font-family=\"Times,serif\" font-size=\"14.00\" fill=\"#000000\">codec_vp8_8</text>\n</g>\n<!-- i_size_8&#45;&gt;codec_vp8_8 -->\n<g id=\"edge178\" class=\"edge\">\n<title>i_size_8&#45;&gt;codec_vp8_8</title>\n<path fill=\"none\" stroke=\"#000000\" d=\"M732.6406,-1666.0196C674.6555,-1653.6311 562.4441,-1629.6572 493.0023,-1614.821\"/>\n<polygon fill=\"#000000\" stroke=\"#000000\" points=\"493.5892,-1611.3674 483.0787,-1612.7008 492.1267,-1618.213 493.5892,-1611.3674\"/>\n</g>\n<!-- b_8 -->\n<g id=\"node179\" class=\"node\">\n<title>b_8</title>\n<ellipse fill=\"none\" stroke=\"#000000\" cx=\"566.9931\" cy=\"-1602\" rx=\"27\" ry=\"18\"/>\n<text text-anchor=\"middle\" x=\"566.9931\" y=\"-1598.3\" font-family=\"Times,serif\" font-size=\"14.00\" fill=\"#000000\">b_8</text>\n</g>\n<!-- i_size_8&#45;&gt;b_8 -->\n<g id=\"edge180\" class=\"edge\">\n<title>i_size_8&#45;&gt;b_8</title>\n<path fill=\"none\" stroke=\"#000000\" d=\"M737.3776,-1662.432C699.8253,-1649.1129 638.4544,-1627.3459 600.5212,-1613.8917\"/>\n<polygon fill=\"#000000\" stroke=\"#000000\" points=\"601.5418,-1610.5402 590.947,-1610.496 599.2018,-1617.1375 601.5418,-1610.5402\"/>\n</g>\n<!-- frames_8 -->\n<g id=\"node181\" class=\"node\">\n<title>frames_8</title>\n<ellipse fill=\"none\" stroke=\"#000000\" cx=\"716.9931\" cy=\"-1602\" rx=\"44.6926\" ry=\"18\"/>\n<text text-anchor=\"middle\" x=\"716.9931\" y=\"-1598.3\" font-family=\"Times,serif\" font-size=\"14.00\" fill=\"#000000\">frames_8</text>\n</g>\n<!-- i_size_8&#45;&gt;frames_8 -->\n<g id=\"edge182\" class=\"edge\">\n<title>i_size_8&#45;&gt;frames_8</title>\n<path fill=\"none\" stroke=\"#000000\" d=\"M757.1633,-1656.5708C750.7183,-1647.8153 742.7877,-1637.0418 735.6805,-1627.3867\"/>\n<polygon fill=\"#000000\" stroke=\"#000000\" points=\"738.4517,-1625.2472 729.7048,-1619.2687 732.8143,-1629.3969 738.4517,-1625.2472\"/>\n</g>\n<!-- p_size_8 -->\n<g id=\"node183\" class=\"node\">\n<title>p_size_8</title>\n<ellipse fill=\"none\" stroke=\"#000000\" cx=\"857.9931\" cy=\"-1602\" rx=\"44.393\" ry=\"18\"/>\n<text text-anchor=\"middle\" x=\"857.9931\" y=\"-1598.3\" font-family=\"Times,serif\" font-size=\"14.00\" fill=\"#000000\">p_size_8</text>\n</g>\n<!-- i_size_8&#45;&gt;p_size_8 -->\n<g id=\"edge184\" class=\"edge\">\n<title>i_size_8&#45;&gt;p_size_8</title>\n<path fill=\"none\" stroke=\"#000000\" d=\"M789.5231,-1658.0209C801.5159,-1648.2086 817.0649,-1635.4867 830.3137,-1624.6468\"/>\n<polygon fill=\"#000000\" stroke=\"#000000\" points=\"832.6901,-1627.2247 838.2133,-1618.1834 828.2574,-1621.807 832.6901,-1627.2247\"/>\n</g>\n<!-- codec_flv_8 -->\n<g id=\"node185\" class=\"node\">\n<title>codec_flv_8</title>\n<ellipse fill=\"none\" stroke=\"#000000\" cx=\"1021.9931\" cy=\"-1602\" rx=\"57.3905\" ry=\"18\"/>\n<text text-anchor=\"middle\" x=\"1021.9931\" y=\"-1598.3\" font-family=\"Times,serif\" font-size=\"14.00\" fill=\"#000000\">codec_flv_8</text>\n</g>\n<!-- i_size_8&#45;&gt;codec_flv_8 -->\n<g id=\"edge186\" class=\"edge\">\n<title>i_size_8&#45;&gt;codec_flv_8</title>\n<path fill=\"none\" stroke=\"#000000\" d=\"M804.768,-1664.0643C847.4633,-1651.8656 920.2788,-1631.0612 969.7239,-1616.934\"/>\n<polygon fill=\"#000000\" stroke=\"#000000\" points=\"970.9393,-1620.2269 979.593,-1614.1143 969.0162,-1613.4962 970.9393,-1620.2269\"/>\n</g>\n<!-- duration_8 -->\n<g id=\"node187\" class=\"node\">\n<title>duration_8</title>\n<ellipse fill=\"none\" stroke=\"#000000\" cx=\"1194.9931\" cy=\"-1602\" rx=\"51.9908\" ry=\"18\"/>\n<text text-anchor=\"middle\" x=\"1194.9931\" y=\"-1598.3\" font-family=\"Times,serif\" font-size=\"14.00\" fill=\"#000000\">duration_8</text>\n</g>\n<!-- i_size_8&#45;&gt;duration_8 -->\n<g id=\"edge188\" class=\"edge\">\n<title>i_size_8&#45;&gt;duration_8</title>\n<path fill=\"none\" stroke=\"#000000\" d=\"M808.8357,-1667.4196C884.1317,-1654.6636 1050.246,-1626.5219 1138.04,-1611.6485\"/>\n<polygon fill=\"#000000\" stroke=\"#000000\" points=\"1138.8146,-1615.0673 1148.0894,-1609.946 1137.6453,-1608.1656 1138.8146,-1615.0673\"/>\n</g>\n<!-- height_8 -->\n<g id=\"node189\" class=\"node\">\n<title>height_8</title>\n<ellipse fill=\"none\" stroke=\"#000000\" cx=\"1362.9931\" cy=\"-1602\" rx=\"44.393\" ry=\"18\"/>\n<text text-anchor=\"middle\" x=\"1362.9931\" y=\"-1598.3\" font-family=\"Times,serif\" font-size=\"14.00\" fill=\"#000000\">height_8</text>\n</g>\n<!-- i_size_8&#45;&gt;height_8 -->\n<g id=\"edge190\" class=\"edge\">\n<title>i_size_8&#45;&gt;height_8</title>\n<path fill=\"none\" stroke=\"#000000\" d=\"M810.7317,-1670.2514C894.3642,-1662.3846 1091.4076,-1642.9689 1255.9931,-1620 1274.3961,-1617.4318 1294.5032,-1614.1703 1312.269,-1611.131\"/>\n<polygon fill=\"#000000\" stroke=\"#000000\" points=\"1313.1707,-1614.5271 1322.428,-1609.3742 1311.9778,-1607.6295 1313.1707,-1614.5271\"/>\n</g>\n<!-- Score = 0.593527 -->\n<g id=\"node176\" class=\"node\">\n<title>Score = 0.593527</title>\n<ellipse fill=\"none\" stroke=\"#000000\" cx=\"174.9931\" cy=\"-1530\" rx=\"78.7863\" ry=\"18\"/>\n<text text-anchor=\"middle\" x=\"174.9931\" y=\"-1526.3\" font-family=\"Times,serif\" font-size=\"14.00\" fill=\"#000000\">Score = 0.593527</text>\n</g>\n<!-- o_height_8&#45;&gt;Score = 0.593527 -->\n<g id=\"edge177\" class=\"edge\">\n<title>o_height_8&#45;&gt;Score = 0.593527</title>\n<path fill=\"none\" stroke=\"#000000\" d=\"M228.048,-1584.5708C219.4068,-1575.6827 208.7436,-1564.7148 199.2487,-1554.9486\"/>\n<polygon fill=\"#000000\" stroke=\"#000000\" points=\"201.7487,-1552.4991 192.2684,-1547.7689 196.7297,-1557.3786 201.7487,-1552.4991\"/>\n</g>\n<!-- Score = 0.594267 -->\n<g id=\"node178\" class=\"node\">\n<title>Score = 0.594267</title>\n<ellipse fill=\"none\" stroke=\"#000000\" cx=\"349.9931\" cy=\"-1530\" rx=\"78.7863\" ry=\"18\"/>\n<text text-anchor=\"middle\" x=\"349.9931\" y=\"-1526.3\" font-family=\"Times,serif\" font-size=\"14.00\" fill=\"#000000\">Score = 0.594267</text>\n</g>\n<!-- codec_vp8_8&#45;&gt;Score = 0.594267 -->\n<g id=\"edge179\" class=\"edge\">\n<title>codec_vp8_8&#45;&gt;Score = 0.594267</title>\n<path fill=\"none\" stroke=\"#000000\" d=\"M413.3232,-1584.937C402.729,-1575.7468 389.4812,-1564.2548 377.8446,-1554.1604\"/>\n<polygon fill=\"#000000\" stroke=\"#000000\" points=\"379.9457,-1551.3496 370.0983,-1547.4407 375.3587,-1556.6373 379.9457,-1551.3496\"/>\n</g>\n<!-- Score = 0.593586 -->\n<g id=\"node180\" class=\"node\">\n<title>Score = 0.593586</title>\n<ellipse fill=\"none\" stroke=\"#000000\" cx=\"524.9931\" cy=\"-1530\" rx=\"78.7863\" ry=\"18\"/>\n<text text-anchor=\"middle\" x=\"524.9931\" y=\"-1526.3\" font-family=\"Times,serif\" font-size=\"14.00\" fill=\"#000000\">Score = 0.593586</text>\n</g>\n<!-- b_8&#45;&gt;Score = 0.593586 -->\n<g id=\"edge181\" class=\"edge\">\n<title>b_8&#45;&gt;Score = 0.593586</title>\n<path fill=\"none\" stroke=\"#000000\" d=\"M557.0397,-1584.937C552.1131,-1576.4914 546.0525,-1566.1019 540.5328,-1556.6396\"/>\n<polygon fill=\"#000000\" stroke=\"#000000\" points=\"543.5231,-1554.8195 535.4611,-1547.9453 537.4767,-1558.3466 543.5231,-1554.8195\"/>\n</g>\n<!-- Score = 0.593655 -->\n<g id=\"node182\" class=\"node\">\n<title>Score = 0.593655</title>\n<ellipse fill=\"none\" stroke=\"#000000\" cx=\"699.9931\" cy=\"-1530\" rx=\"78.7863\" ry=\"18\"/>\n<text text-anchor=\"middle\" x=\"699.9931\" y=\"-1526.3\" font-family=\"Times,serif\" font-size=\"14.00\" fill=\"#000000\">Score = 0.593655</text>\n</g>\n<!-- frames_8&#45;&gt;Score = 0.593655 -->\n<g id=\"edge183\" class=\"edge\">\n<title>frames_8&#45;&gt;Score = 0.593655</title>\n<path fill=\"none\" stroke=\"#000000\" d=\"M712.7033,-1583.8314C710.8851,-1576.131 708.7231,-1566.9743 706.7026,-1558.4166\"/>\n<polygon fill=\"#000000\" stroke=\"#000000\" points=\"710.045,-1557.3414 704.3407,-1548.4133 703.2323,-1558.95 710.045,-1557.3414\"/>\n</g>\n<!-- Score = 0.594642 -->\n<g id=\"node184\" class=\"node\">\n<title>Score = 0.594642</title>\n<ellipse fill=\"none\" stroke=\"#000000\" cx=\"874.9931\" cy=\"-1530\" rx=\"78.7863\" ry=\"18\"/>\n<text text-anchor=\"middle\" x=\"874.9931\" y=\"-1526.3\" font-family=\"Times,serif\" font-size=\"14.00\" fill=\"#000000\">Score = 0.594642</text>\n</g>\n<!-- p_size_8&#45;&gt;Score = 0.594642 -->\n<g id=\"edge185\" class=\"edge\">\n<title>p_size_8&#45;&gt;Score = 0.594642</title>\n<path fill=\"none\" stroke=\"#000000\" d=\"M862.2829,-1583.8314C864.101,-1576.131 866.263,-1566.9743 868.2836,-1558.4166\"/>\n<polygon fill=\"#000000\" stroke=\"#000000\" points=\"871.7538,-1558.95 870.6455,-1548.4133 864.9412,-1557.3414 871.7538,-1558.95\"/>\n</g>\n<!-- p_size_9 -->\n<g id=\"node191\" class=\"node\">\n<title>p_size_9</title>\n<ellipse fill=\"none\" stroke=\"#000000\" cx=\"874.9931\" cy=\"-1458\" rx=\"44.393\" ry=\"18\"/>\n<text text-anchor=\"middle\" x=\"874.9931\" y=\"-1454.3\" font-family=\"Times,serif\" font-size=\"14.00\" fill=\"#000000\">p_size_9</text>\n</g>\n<!-- Score = 0.594642&#45;&gt;p_size_9 -->\n<g id=\"edge192\" class=\"edge\">\n<title>Score = 0.594642&#45;&gt;p_size_9</title>\n<path fill=\"none\" stroke=\"#000000\" d=\"M874.9931,-1511.8314C874.9931,-1504.131 874.9931,-1494.9743 874.9931,-1486.4166\"/>\n<polygon fill=\"#000000\" stroke=\"#000000\" points=\"878.4932,-1486.4132 874.9931,-1476.4133 871.4932,-1486.4133 878.4932,-1486.4132\"/>\n</g>\n<!-- Score = 0.593496 -->\n<g id=\"node186\" class=\"node\">\n<title>Score = 0.593496</title>\n<ellipse fill=\"none\" stroke=\"#000000\" cx=\"1049.9931\" cy=\"-1530\" rx=\"78.7863\" ry=\"18\"/>\n<text text-anchor=\"middle\" x=\"1049.9931\" y=\"-1526.3\" font-family=\"Times,serif\" font-size=\"14.00\" fill=\"#000000\">Score = 0.593496</text>\n</g>\n<!-- codec_flv_8&#45;&gt;Score = 0.593496 -->\n<g id=\"edge187\" class=\"edge\">\n<title>codec_flv_8&#45;&gt;Score = 0.593496</title>\n<path fill=\"none\" stroke=\"#000000\" d=\"M1029.0587,-1583.8314C1032.1191,-1575.9617 1035.771,-1566.5712 1039.1612,-1557.8533\"/>\n<polygon fill=\"#000000\" stroke=\"#000000\" points=\"1042.4699,-1559.0019 1042.8324,-1548.4133 1035.9458,-1556.4647 1042.4699,-1559.0019\"/>\n</g>\n<!-- Score = 0.593541 -->\n<g id=\"node188\" class=\"node\">\n<title>Score = 0.593541</title>\n<ellipse fill=\"none\" stroke=\"#000000\" cx=\"1224.9931\" cy=\"-1530\" rx=\"78.7863\" ry=\"18\"/>\n<text text-anchor=\"middle\" x=\"1224.9931\" y=\"-1526.3\" font-family=\"Times,serif\" font-size=\"14.00\" fill=\"#000000\">Score = 0.593541</text>\n</g>\n<!-- duration_8&#45;&gt;Score = 0.593541 -->\n<g id=\"edge189\" class=\"edge\">\n<title>duration_8&#45;&gt;Score = 0.593541</title>\n<path fill=\"none\" stroke=\"#000000\" d=\"M1202.5633,-1583.8314C1205.8424,-1575.9617 1209.7551,-1566.5712 1213.3875,-1557.8533\"/>\n<polygon fill=\"#000000\" stroke=\"#000000\" points=\"1216.7054,-1558.9902 1217.3209,-1548.4133 1210.2439,-1556.2979 1216.7054,-1558.9902\"/>\n</g>\n<!-- Score = 0.594425 -->\n<g id=\"node190\" class=\"node\">\n<title>Score = 0.594425</title>\n<ellipse fill=\"none\" stroke=\"#000000\" cx=\"1399.9931\" cy=\"-1530\" rx=\"78.7863\" ry=\"18\"/>\n<text text-anchor=\"middle\" x=\"1399.9931\" y=\"-1526.3\" font-family=\"Times,serif\" font-size=\"14.00\" fill=\"#000000\">Score = 0.594425</text>\n</g>\n<!-- height_8&#45;&gt;Score = 0.594425 -->\n<g id=\"edge191\" class=\"edge\">\n<title>height_8&#45;&gt;Score = 0.594425</title>\n<path fill=\"none\" stroke=\"#000000\" d=\"M1372.1391,-1584.2022C1376.3322,-1576.0428 1381.3952,-1566.1904 1386.0483,-1557.1358\"/>\n<polygon fill=\"#000000\" stroke=\"#000000\" points=\"1389.2375,-1558.5872 1390.6952,-1548.0931 1383.0115,-1555.3877 1389.2375,-1558.5872\"/>\n</g>\n<!-- o_height_9 -->\n<g id=\"node192\" class=\"node\">\n<title>o_height_9</title>\n<ellipse fill=\"none\" stroke=\"#000000\" cx=\"374.9931\" cy=\"-1386\" rx=\"53.8905\" ry=\"18\"/>\n<text text-anchor=\"middle\" x=\"374.9931\" y=\"-1382.3\" font-family=\"Times,serif\" font-size=\"14.00\" fill=\"#000000\">o_height_9</text>\n</g>\n<!-- p_size_9&#45;&gt;o_height_9 -->\n<g id=\"edge193\" class=\"edge\">\n<title>p_size_9&#45;&gt;o_height_9</title>\n<path fill=\"none\" stroke=\"#000000\" d=\"M833.2234,-1451.9852C744.6135,-1439.2253 537.533,-1409.4057 434.8742,-1394.6229\"/>\n<polygon fill=\"#000000\" stroke=\"#000000\" points=\"435.0725,-1391.1154 424.6758,-1393.1543 434.0748,-1398.044 435.0725,-1391.1154\"/>\n</g>\n<!-- codec_vp8_9 -->\n<g id=\"node194\" class=\"node\">\n<title>codec_vp8_9</title>\n<ellipse fill=\"none\" stroke=\"#000000\" cx=\"605.9931\" cy=\"-1386\" rx=\"61.99\" ry=\"18\"/>\n<text text-anchor=\"middle\" x=\"605.9931\" y=\"-1382.3\" font-family=\"Times,serif\" font-size=\"14.00\" fill=\"#000000\">codec_vp8_9</text>\n</g>\n<!-- p_size_9&#45;&gt;codec_vp8_9 -->\n<g id=\"edge195\" class=\"edge\">\n<title>p_size_9&#45;&gt;codec_vp8_9</title>\n<path fill=\"none\" stroke=\"#000000\" d=\"M837.8722,-1448.0643C792.2418,-1435.8509 714.3818,-1415.0111 661.5977,-1400.883\"/>\n<polygon fill=\"#000000\" stroke=\"#000000\" points=\"662.2848,-1397.4438 651.7199,-1398.2391 660.4749,-1404.2058 662.2848,-1397.4438\"/>\n</g>\n<!-- b_9 -->\n<g id=\"node196\" class=\"node\">\n<title>b_9</title>\n<ellipse fill=\"none\" stroke=\"#000000\" cx=\"760.9931\" cy=\"-1386\" rx=\"27\" ry=\"18\"/>\n<text text-anchor=\"middle\" x=\"760.9931\" y=\"-1382.3\" font-family=\"Times,serif\" font-size=\"14.00\" fill=\"#000000\">b_9</text>\n</g>\n<!-- p_size_9&#45;&gt;b_9 -->\n<g id=\"edge197\" class=\"edge\">\n<title>p_size_9&#45;&gt;b_9</title>\n<path fill=\"none\" stroke=\"#000000\" d=\"M850.8166,-1442.7307C832.8741,-1431.3985 808.3492,-1415.9092 789.4589,-1403.9784\"/>\n<polygon fill=\"#000000\" stroke=\"#000000\" points=\"791.2802,-1400.9891 780.9563,-1398.6084 787.5422,-1406.9076 791.2802,-1400.9891\"/>\n</g>\n<!-- frames_9 -->\n<g id=\"node198\" class=\"node\">\n<title>frames_9</title>\n<ellipse fill=\"none\" stroke=\"#000000\" cx=\"874.9931\" cy=\"-1386\" rx=\"44.6926\" ry=\"18\"/>\n<text text-anchor=\"middle\" x=\"874.9931\" y=\"-1382.3\" font-family=\"Times,serif\" font-size=\"14.00\" fill=\"#000000\">frames_9</text>\n</g>\n<!-- p_size_9&#45;&gt;frames_9 -->\n<g id=\"edge199\" class=\"edge\">\n<title>p_size_9&#45;&gt;frames_9</title>\n<path fill=\"none\" stroke=\"#000000\" d=\"M874.9931,-1439.8314C874.9931,-1432.131 874.9931,-1422.9743 874.9931,-1414.4166\"/>\n<polygon fill=\"#000000\" stroke=\"#000000\" points=\"878.4932,-1414.4132 874.9931,-1404.4133 871.4932,-1414.4133 878.4932,-1414.4132\"/>\n</g>\n<!-- codec_flv_9 -->\n<g id=\"node200\" class=\"node\">\n<title>codec_flv_9</title>\n<ellipse fill=\"none\" stroke=\"#000000\" cx=\"1021.9931\" cy=\"-1386\" rx=\"57.3905\" ry=\"18\"/>\n<text text-anchor=\"middle\" x=\"1021.9931\" y=\"-1382.3\" font-family=\"Times,serif\" font-size=\"14.00\" fill=\"#000000\">codec_flv_9</text>\n</g>\n<!-- p_size_9&#45;&gt;codec_flv_9 -->\n<g id=\"edge201\" class=\"edge\">\n<title>p_size_9&#45;&gt;codec_flv_9</title>\n<path fill=\"none\" stroke=\"#000000\" d=\"M903.3362,-1444.1177C925.604,-1433.211 956.9003,-1417.8822 981.761,-1405.7055\"/>\n<polygon fill=\"#000000\" stroke=\"#000000\" points=\"983.5006,-1408.7508 990.9417,-1401.2088 980.4215,-1402.4644 983.5006,-1408.7508\"/>\n</g>\n<!-- duration_9 -->\n<g id=\"node202\" class=\"node\">\n<title>duration_9</title>\n<ellipse fill=\"none\" stroke=\"#000000\" cx=\"1186.9931\" cy=\"-1386\" rx=\"51.9908\" ry=\"18\"/>\n<text text-anchor=\"middle\" x=\"1186.9931\" y=\"-1382.3\" font-family=\"Times,serif\" font-size=\"14.00\" fill=\"#000000\">duration_9</text>\n</g>\n<!-- p_size_9&#45;&gt;duration_9 -->\n<g id=\"edge203\" class=\"edge\">\n<title>p_size_9&#45;&gt;duration_9</title>\n<path fill=\"none\" stroke=\"#000000\" d=\"M913.5633,-1449.0992C968.8532,-1436.34 1070.8552,-1412.801 1133.4344,-1398.3597\"/>\n<polygon fill=\"#000000\" stroke=\"#000000\" points=\"1134.5475,-1401.6949 1143.5044,-1396.0358 1132.9735,-1394.8741 1134.5475,-1401.6949\"/>\n</g>\n<!-- height_9 -->\n<g id=\"node204\" class=\"node\">\n<title>height_9</title>\n<ellipse fill=\"none\" stroke=\"#000000\" cx=\"1349.9931\" cy=\"-1386\" rx=\"44.393\" ry=\"18\"/>\n<text text-anchor=\"middle\" x=\"1349.9931\" y=\"-1382.3\" font-family=\"Times,serif\" font-size=\"14.00\" fill=\"#000000\">height_9</text>\n</g>\n<!-- p_size_9&#45;&gt;height_9 -->\n<g id=\"edge205\" class=\"edge\">\n<title>p_size_9&#45;&gt;height_9</title>\n<path fill=\"none\" stroke=\"#000000\" d=\"M917.0111,-1452.348C986.1399,-1442.9526 1128.1519,-1423.2443 1247.9931,-1404 1264.7544,-1401.3084 1283.0249,-1398.1541 1299.412,-1395.2444\"/>\n<polygon fill=\"#000000\" stroke=\"#000000\" points=\"1300.1129,-1398.6747 1309.3416,-1393.4706 1298.8819,-1391.7838 1300.1129,-1398.6747\"/>\n</g>\n<!-- Score = 0.594695 -->\n<g id=\"node193\" class=\"node\">\n<title>Score = 0.594695</title>\n<ellipse fill=\"none\" stroke=\"#000000\" cx=\"349.9931\" cy=\"-1314\" rx=\"78.7863\" ry=\"18\"/>\n<text text-anchor=\"middle\" x=\"349.9931\" y=\"-1310.3\" font-family=\"Times,serif\" font-size=\"14.00\" fill=\"#000000\">Score = 0.594695</text>\n</g>\n<!-- o_height_9&#45;&gt;Score = 0.594695 -->\n<g id=\"edge194\" class=\"edge\">\n<title>o_height_9&#45;&gt;Score = 0.594695</title>\n<path fill=\"none\" stroke=\"#000000\" d=\"M368.6845,-1367.8314C365.9814,-1360.0463 362.7615,-1350.7729 359.7621,-1342.1347\"/>\n<polygon fill=\"#000000\" stroke=\"#000000\" points=\"362.9731,-1340.7119 356.3866,-1332.4133 356.3604,-1343.0081 362.9731,-1340.7119\"/>\n</g>\n<!-- Score = 0.595791 -->\n<g id=\"node195\" class=\"node\">\n<title>Score = 0.595791</title>\n<ellipse fill=\"none\" stroke=\"#000000\" cx=\"524.9931\" cy=\"-1314\" rx=\"78.7863\" ry=\"18\"/>\n<text text-anchor=\"middle\" x=\"524.9931\" y=\"-1310.3\" font-family=\"Times,serif\" font-size=\"14.00\" fill=\"#000000\">Score = 0.595791</text>\n</g>\n<!-- codec_vp8_9&#45;&gt;Score = 0.595791 -->\n<g id=\"edge196\" class=\"edge\">\n<title>codec_vp8_9&#45;&gt;Score = 0.595791</title>\n<path fill=\"none\" stroke=\"#000000\" d=\"M586.3852,-1368.5708C576.2127,-1359.5286 563.6186,-1348.3338 552.49,-1338.4417\"/>\n<polygon fill=\"#000000\" stroke=\"#000000\" points=\"554.5005,-1335.546 544.7011,-1331.5182 549.8499,-1340.7778 554.5005,-1335.546\"/>\n</g>\n<!-- codec_vp8_10 -->\n<g id=\"node206\" class=\"node\">\n<title>codec_vp8_10</title>\n<ellipse fill=\"none\" stroke=\"#000000\" cx=\"524.9931\" cy=\"-1242\" rx=\"66.0889\" ry=\"18\"/>\n<text text-anchor=\"middle\" x=\"524.9931\" y=\"-1238.3\" font-family=\"Times,serif\" font-size=\"14.00\" fill=\"#000000\">codec_vp8_10</text>\n</g>\n<!-- Score = 0.595791&#45;&gt;codec_vp8_10 -->\n<g id=\"edge207\" class=\"edge\">\n<title>Score = 0.595791&#45;&gt;codec_vp8_10</title>\n<path fill=\"none\" stroke=\"#000000\" d=\"M524.9931,-1295.8314C524.9931,-1288.131 524.9931,-1278.9743 524.9931,-1270.4166\"/>\n<polygon fill=\"#000000\" stroke=\"#000000\" points=\"528.4932,-1270.4132 524.9931,-1260.4133 521.4932,-1270.4133 528.4932,-1270.4132\"/>\n</g>\n<!-- Score = 0.594749 -->\n<g id=\"node197\" class=\"node\">\n<title>Score = 0.594749</title>\n<ellipse fill=\"none\" stroke=\"#000000\" cx=\"699.9931\" cy=\"-1314\" rx=\"78.7863\" ry=\"18\"/>\n<text text-anchor=\"middle\" x=\"699.9931\" y=\"-1310.3\" font-family=\"Times,serif\" font-size=\"14.00\" fill=\"#000000\">Score = 0.594749</text>\n</g>\n<!-- b_9&#45;&gt;Score = 0.594749 -->\n<g id=\"edge198\" class=\"edge\">\n<title>b_9&#45;&gt;Score = 0.594749</title>\n<path fill=\"none\" stroke=\"#000000\" d=\"M747.4552,-1370.0209C739.8665,-1361.0637 730.2237,-1349.682 721.6147,-1339.5206\"/>\n<polygon fill=\"#000000\" stroke=\"#000000\" points=\"724.1257,-1337.0699 714.991,-1331.7025 718.7848,-1341.5948 724.1257,-1337.0699\"/>\n</g>\n<!-- Score = 0.594443 -->\n<g id=\"node199\" class=\"node\">\n<title>Score = 0.594443</title>\n<ellipse fill=\"none\" stroke=\"#000000\" cx=\"874.9931\" cy=\"-1314\" rx=\"78.7863\" ry=\"18\"/>\n<text text-anchor=\"middle\" x=\"874.9931\" y=\"-1310.3\" font-family=\"Times,serif\" font-size=\"14.00\" fill=\"#000000\">Score = 0.594443</text>\n</g>\n<!-- frames_9&#45;&gt;Score = 0.594443 -->\n<g id=\"edge200\" class=\"edge\">\n<title>frames_9&#45;&gt;Score = 0.594443</title>\n<path fill=\"none\" stroke=\"#000000\" d=\"M874.9931,-1367.8314C874.9931,-1360.131 874.9931,-1350.9743 874.9931,-1342.4166\"/>\n<polygon fill=\"#000000\" stroke=\"#000000\" points=\"878.4932,-1342.4132 874.9931,-1332.4133 871.4932,-1342.4133 878.4932,-1342.4132\"/>\n</g>\n<!-- Score = 0.594636 -->\n<g id=\"node201\" class=\"node\">\n<title>Score = 0.594636</title>\n<ellipse fill=\"none\" stroke=\"#000000\" cx=\"1049.9931\" cy=\"-1314\" rx=\"78.7863\" ry=\"18\"/>\n<text text-anchor=\"middle\" x=\"1049.9931\" y=\"-1310.3\" font-family=\"Times,serif\" font-size=\"14.00\" fill=\"#000000\">Score = 0.594636</text>\n</g>\n<!-- codec_flv_9&#45;&gt;Score = 0.594636 -->\n<g id=\"edge202\" class=\"edge\">\n<title>codec_flv_9&#45;&gt;Score = 0.594636</title>\n<path fill=\"none\" stroke=\"#000000\" d=\"M1029.0587,-1367.8314C1032.1191,-1359.9617 1035.771,-1350.5712 1039.1612,-1341.8533\"/>\n<polygon fill=\"#000000\" stroke=\"#000000\" points=\"1042.4699,-1343.0019 1042.8324,-1332.4133 1035.9458,-1340.4647 1042.4699,-1343.0019\"/>\n</g>\n<!-- Score = 0.594393 -->\n<g id=\"node203\" class=\"node\">\n<title>Score = 0.594393</title>\n<ellipse fill=\"none\" stroke=\"#000000\" cx=\"1224.9931\" cy=\"-1314\" rx=\"78.7863\" ry=\"18\"/>\n<text text-anchor=\"middle\" x=\"1224.9931\" y=\"-1310.3\" font-family=\"Times,serif\" font-size=\"14.00\" fill=\"#000000\">Score = 0.594393</text>\n</g>\n<!-- duration_9&#45;&gt;Score = 0.594393 -->\n<g id=\"edge204\" class=\"edge\">\n<title>duration_9&#45;&gt;Score = 0.594393</title>\n<path fill=\"none\" stroke=\"#000000\" d=\"M1196.3863,-1368.2022C1200.6927,-1360.0428 1205.8926,-1350.1904 1210.6714,-1341.1358\"/>\n<polygon fill=\"#000000\" stroke=\"#000000\" points=\"1213.8716,-1342.5707 1215.4439,-1332.0931 1207.6809,-1339.3033 1213.8716,-1342.5707\"/>\n</g>\n<!-- Score = 0.595213 -->\n<g id=\"node205\" class=\"node\">\n<title>Score = 0.595213</title>\n<ellipse fill=\"none\" stroke=\"#000000\" cx=\"1399.9931\" cy=\"-1314\" rx=\"78.7863\" ry=\"18\"/>\n<text text-anchor=\"middle\" x=\"1399.9931\" y=\"-1310.3\" font-family=\"Times,serif\" font-size=\"14.00\" fill=\"#000000\">Score = 0.595213</text>\n</g>\n<!-- height_9&#45;&gt;Score = 0.595213 -->\n<g id=\"edge206\" class=\"edge\">\n<title>height_9&#45;&gt;Score = 0.595213</title>\n<path fill=\"none\" stroke=\"#000000\" d=\"M1362.0967,-1368.5708C1367.9827,-1360.095 1375.1821,-1349.7279 1381.7187,-1340.3151\"/>\n<polygon fill=\"#000000\" stroke=\"#000000\" points=\"1384.6496,-1342.2307 1387.4788,-1332.0206 1378.9,-1338.2379 1384.6496,-1342.2307\"/>\n</g>\n<!-- o_height_10 -->\n<g id=\"node207\" class=\"node\">\n<title>o_height_10</title>\n<ellipse fill=\"none\" stroke=\"#000000\" cx=\"145.9931\" cy=\"-1170\" rx=\"58.4896\" ry=\"18\"/>\n<text text-anchor=\"middle\" x=\"145.9931\" y=\"-1166.3\" font-family=\"Times,serif\" font-size=\"14.00\" fill=\"#000000\">o_height_10</text>\n</g>\n<!-- codec_vp8_10&#45;&gt;o_height_10 -->\n<g id=\"edge208\" class=\"edge\">\n<title>codec_vp8_10&#45;&gt;o_height_10</title>\n<path fill=\"none\" stroke=\"#000000\" d=\"M470.288,-1231.6075C400.0012,-1218.2548 278.4185,-1195.1573 205.7641,-1181.3549\"/>\n<polygon fill=\"#000000\" stroke=\"#000000\" points=\"206.3249,-1177.8989 195.8474,-1179.471 205.0184,-1184.7759 206.3249,-1177.8989\"/>\n</g>\n<!-- b_10 -->\n<g id=\"node209\" class=\"node\">\n<title>b_10</title>\n<ellipse fill=\"none\" stroke=\"#000000\" cx=\"324.9931\" cy=\"-1170\" rx=\"30.5947\" ry=\"18\"/>\n<text text-anchor=\"middle\" x=\"324.9931\" y=\"-1166.3\" font-family=\"Times,serif\" font-size=\"14.00\" fill=\"#000000\">b_10</text>\n</g>\n<!-- codec_vp8_10&#45;&gt;b_10 -->\n<g id=\"edge210\" class=\"edge\">\n<title>codec_vp8_10&#45;&gt;b_10</title>\n<path fill=\"none\" stroke=\"#000000\" d=\"M485.0008,-1227.6028C448.7911,-1214.5673 395.9241,-1195.5352 361.0051,-1182.9643\"/>\n<polygon fill=\"#000000\" stroke=\"#000000\" points=\"361.8167,-1179.5367 351.2223,-1179.4425 359.4456,-1186.1229 361.8167,-1179.5367\"/>\n</g>\n<!-- frames_10 -->\n<g id=\"node211\" class=\"node\">\n<title>frames_10</title>\n<ellipse fill=\"none\" stroke=\"#000000\" cx=\"459.9931\" cy=\"-1170\" rx=\"50.0912\" ry=\"18\"/>\n<text text-anchor=\"middle\" x=\"459.9931\" y=\"-1166.3\" font-family=\"Times,serif\" font-size=\"14.00\" fill=\"#000000\">frames_10</text>\n</g>\n<!-- codec_vp8_10&#45;&gt;frames_10 -->\n<g id=\"edge212\" class=\"edge\">\n<title>codec_vp8_10&#45;&gt;frames_10</title>\n<path fill=\"none\" stroke=\"#000000\" d=\"M508.9257,-1224.2022C500.9163,-1215.3303 491.1,-1204.4569 482.3673,-1194.7837\"/>\n<polygon fill=\"#000000\" stroke=\"#000000\" points=\"484.9504,-1192.4219 475.6514,-1187.3446 479.7545,-1197.1127 484.9504,-1192.4219\"/>\n</g>\n<!-- codec_flv_10 -->\n<g id=\"node213\" class=\"node\">\n<title>codec_flv_10</title>\n<ellipse fill=\"none\" stroke=\"#000000\" cx=\"611.9931\" cy=\"-1170\" rx=\"61.99\" ry=\"18\"/>\n<text text-anchor=\"middle\" x=\"611.9931\" y=\"-1166.3\" font-family=\"Times,serif\" font-size=\"14.00\" fill=\"#000000\">codec_flv_10</text>\n</g>\n<!-- codec_vp8_10&#45;&gt;codec_flv_10 -->\n<g id=\"edge214\" class=\"edge\">\n<title>codec_vp8_10&#45;&gt;codec_flv_10</title>\n<path fill=\"none\" stroke=\"#000000\" d=\"M546.0534,-1224.5708C557.3566,-1215.2164 571.4434,-1203.5584 583.6915,-1193.422\"/>\n<polygon fill=\"#000000\" stroke=\"#000000\" points=\"585.9545,-1196.0923 591.427,-1187.0202 581.4915,-1190.6996 585.9545,-1196.0923\"/>\n</g>\n<!-- duration_10 -->\n<g id=\"node215\" class=\"node\">\n<title>duration_10</title>\n<ellipse fill=\"none\" stroke=\"#000000\" cx=\"778.9931\" cy=\"-1170\" rx=\"56.59\" ry=\"18\"/>\n<text text-anchor=\"middle\" x=\"778.9931\" y=\"-1166.3\" font-family=\"Times,serif\" font-size=\"14.00\" fill=\"#000000\">duration_10</text>\n</g>\n<!-- codec_vp8_10&#45;&gt;duration_10 -->\n<g id=\"edge216\" class=\"edge\">\n<title>codec_vp8_10&#45;&gt;duration_10</title>\n<path fill=\"none\" stroke=\"#000000\" d=\"M570.9906,-1228.9613C614.9426,-1216.5025 681.1094,-1197.7466 726.9646,-1184.7482\"/>\n<polygon fill=\"#000000\" stroke=\"#000000\" points=\"728.0473,-1188.0793 736.7137,-1181.9847 726.1382,-1181.3446 728.0473,-1188.0793\"/>\n</g>\n<!-- height_10 -->\n<g id=\"node217\" class=\"node\">\n<title>height_10</title>\n<ellipse fill=\"none\" stroke=\"#000000\" cx=\"942.9931\" cy=\"-1170\" rx=\"48.9926\" ry=\"18\"/>\n<text text-anchor=\"middle\" x=\"942.9931\" y=\"-1166.3\" font-family=\"Times,serif\" font-size=\"14.00\" fill=\"#000000\">height_10</text>\n</g>\n<!-- codec_vp8_10&#45;&gt;height_10 -->\n<g id=\"edge218\" class=\"edge\">\n<title>codec_vp8_10&#45;&gt;height_10</title>\n<path fill=\"none\" stroke=\"#000000\" d=\"M581.9734,-1232.6401C646.0023,-1222.0629 753.0246,-1204.205 844.9931,-1188 859.2501,-1185.4879 874.6587,-1182.6946 888.9423,-1180.0725\"/>\n<polygon fill=\"#000000\" stroke=\"#000000\" points=\"889.9109,-1183.453 899.1117,-1178.1999 888.6431,-1176.5688 889.9109,-1183.453\"/>\n</g>\n<!-- Score = 0.595846 -->\n<g id=\"node208\" class=\"node\">\n<title>Score = 0.595846</title>\n<ellipse fill=\"none\" stroke=\"#000000\" cx=\"98.9931\" cy=\"-1098\" rx=\"78.7863\" ry=\"18\"/>\n<text text-anchor=\"middle\" x=\"98.9931\" y=\"-1094.3\" font-family=\"Times,serif\" font-size=\"14.00\" fill=\"#000000\">Score = 0.595846</text>\n</g>\n<!-- o_height_10&#45;&gt;Score = 0.595846 -->\n<g id=\"edge209\" class=\"edge\">\n<title>o_height_10&#45;&gt;Score = 0.595846</title>\n<path fill=\"none\" stroke=\"#000000\" d=\"M134.3751,-1152.2022C128.8955,-1143.8079 122.2462,-1133.6218 116.1976,-1124.3558\"/>\n<polygon fill=\"#000000\" stroke=\"#000000\" points=\"119.0374,-1122.3032 110.6403,-1115.8425 113.1757,-1126.1295 119.0374,-1122.3032\"/>\n</g>\n<!-- Score = 0.595867 -->\n<g id=\"node210\" class=\"node\">\n<title>Score = 0.595867</title>\n<ellipse fill=\"none\" stroke=\"#000000\" cx=\"273.9931\" cy=\"-1098\" rx=\"78.7863\" ry=\"18\"/>\n<text text-anchor=\"middle\" x=\"273.9931\" y=\"-1094.3\" font-family=\"Times,serif\" font-size=\"14.00\" fill=\"#000000\">Score = 0.595867</text>\n</g>\n<!-- b_10&#45;&gt;Score = 0.595867 -->\n<g id=\"edge211\" class=\"edge\">\n<title>b_10&#45;&gt;Score = 0.595867</title>\n<path fill=\"none\" stroke=\"#000000\" d=\"M313.1645,-1153.3008C307.0196,-1144.6256 299.3709,-1133.8275 292.4674,-1124.0813\"/>\n<polygon fill=\"#000000\" stroke=\"#000000\" points=\"295.2853,-1122.0043 286.649,-1115.8671 289.5731,-1126.0505 295.2853,-1122.0043\"/>\n</g>\n<!-- Score = 0.595826 -->\n<g id=\"node212\" class=\"node\">\n<title>Score = 0.595826</title>\n<ellipse fill=\"none\" stroke=\"#000000\" cx=\"448.9931\" cy=\"-1098\" rx=\"78.7863\" ry=\"18\"/>\n<text text-anchor=\"middle\" x=\"448.9931\" y=\"-1094.3\" font-family=\"Times,serif\" font-size=\"14.00\" fill=\"#000000\">Score = 0.595826</text>\n</g>\n<!-- frames_10&#45;&gt;Score = 0.595826 -->\n<g id=\"edge213\" class=\"edge\">\n<title>frames_10&#45;&gt;Score = 0.595826</title>\n<path fill=\"none\" stroke=\"#000000\" d=\"M457.2173,-1151.8314C456.0409,-1144.131 454.6419,-1134.9743 453.3345,-1126.4166\"/>\n<polygon fill=\"#000000\" stroke=\"#000000\" points=\"456.7764,-1125.7699 451.8062,-1116.4133 449.8567,-1126.8272 456.7764,-1125.7699\"/>\n</g>\n<!-- Score = 0.595748 -->\n<g id=\"node214\" class=\"node\">\n<title>Score = 0.595748</title>\n<ellipse fill=\"none\" stroke=\"#000000\" cx=\"623.9931\" cy=\"-1098\" rx=\"78.7863\" ry=\"18\"/>\n<text text-anchor=\"middle\" x=\"623.9931\" y=\"-1094.3\" font-family=\"Times,serif\" font-size=\"14.00\" fill=\"#000000\">Score = 0.595748</text>\n</g>\n<!-- codec_flv_10&#45;&gt;Score = 0.595748 -->\n<g id=\"edge215\" class=\"edge\">\n<title>codec_flv_10&#45;&gt;Score = 0.595748</title>\n<path fill=\"none\" stroke=\"#000000\" d=\"M615.0212,-1151.8314C616.3046,-1144.131 617.8307,-1134.9743 619.257,-1126.4166\"/>\n<polygon fill=\"#000000\" stroke=\"#000000\" points=\"622.7325,-1126.8526 620.9242,-1116.4133 615.8278,-1125.7018 622.7325,-1126.8526\"/>\n</g>\n<!-- Score = 0.595727 -->\n<g id=\"node216\" class=\"node\">\n<title>Score = 0.595727</title>\n<ellipse fill=\"none\" stroke=\"#000000\" cx=\"798.9931\" cy=\"-1098\" rx=\"78.7863\" ry=\"18\"/>\n<text text-anchor=\"middle\" x=\"798.9931\" y=\"-1094.3\" font-family=\"Times,serif\" font-size=\"14.00\" fill=\"#000000\">Score = 0.595727</text>\n</g>\n<!-- duration_10&#45;&gt;Score = 0.595727 -->\n<g id=\"edge217\" class=\"edge\">\n<title>duration_10&#45;&gt;Score = 0.595727</title>\n<path fill=\"none\" stroke=\"#000000\" d=\"M784.0399,-1151.8314C786.2024,-1144.0463 788.7784,-1134.7729 791.1779,-1126.1347\"/>\n<polygon fill=\"#000000\" stroke=\"#000000\" points=\"794.5741,-1126.9852 793.8783,-1116.4133 787.8295,-1125.1117 794.5741,-1126.9852\"/>\n</g>\n<!-- Score = 0.596239 -->\n<g id=\"node218\" class=\"node\">\n<title>Score = 0.596239</title>\n<ellipse fill=\"none\" stroke=\"#000000\" cx=\"973.9931\" cy=\"-1098\" rx=\"78.7863\" ry=\"18\"/>\n<text text-anchor=\"middle\" x=\"973.9931\" y=\"-1094.3\" font-family=\"Times,serif\" font-size=\"14.00\" fill=\"#000000\">Score = 0.596239</text>\n</g>\n<!-- height_10&#45;&gt;Score = 0.596239 -->\n<g id=\"edge219\" class=\"edge\">\n<title>height_10&#45;&gt;Score = 0.596239</title>\n<path fill=\"none\" stroke=\"#000000\" d=\"M950.656,-1152.2022C954.1321,-1144.1287 958.3219,-1134.3976 962.1864,-1125.422\"/>\n<polygon fill=\"#000000\" stroke=\"#000000\" points=\"965.463,-1126.6621 966.203,-1116.0931 959.0336,-1123.8938 965.463,-1126.6621\"/>\n</g>\n<!-- height_11 -->\n<g id=\"node219\" class=\"node\">\n<title>height_11</title>\n<ellipse fill=\"none\" stroke=\"#000000\" cx=\"973.9931\" cy=\"-1026\" rx=\"48.1917\" ry=\"18\"/>\n<text text-anchor=\"middle\" x=\"973.9931\" y=\"-1022.3\" font-family=\"Times,serif\" font-size=\"14.00\" fill=\"#000000\">height_11</text>\n</g>\n<!-- Score = 0.596239&#45;&gt;height_11 -->\n<g id=\"edge220\" class=\"edge\">\n<title>Score = 0.596239&#45;&gt;height_11</title>\n<path fill=\"none\" stroke=\"#000000\" d=\"M973.9931,-1079.8314C973.9931,-1072.131 973.9931,-1062.9743 973.9931,-1054.4166\"/>\n<polygon fill=\"#000000\" stroke=\"#000000\" points=\"977.4932,-1054.4132 973.9931,-1044.4133 970.4932,-1054.4133 977.4932,-1054.4132\"/>\n</g>\n<!-- o_height_11 -->\n<g id=\"node220\" class=\"node\">\n<title>o_height_11</title>\n<ellipse fill=\"none\" stroke=\"#000000\" cx=\"660.9931\" cy=\"-954\" rx=\"57.6901\" ry=\"18\"/>\n<text text-anchor=\"middle\" x=\"660.9931\" y=\"-950.3\" font-family=\"Times,serif\" font-size=\"14.00\" fill=\"#000000\">o_height_11</text>\n</g>\n<!-- height_11&#45;&gt;o_height_11 -->\n<g id=\"edge221\" class=\"edge\">\n<title>height_11&#45;&gt;o_height_11</title>\n<path fill=\"none\" stroke=\"#000000\" d=\"M932.7519,-1016.5132C877.6365,-1003.8349 779.7243,-981.312 717.6969,-967.0437\"/>\n<polygon fill=\"#000000\" stroke=\"#000000\" points=\"718.215,-963.5715 707.6849,-964.7406 716.6457,-970.3934 718.215,-963.5715\"/>\n</g>\n<!-- b_11 -->\n<g id=\"node222\" class=\"node\">\n<title>b_11</title>\n<ellipse fill=\"none\" stroke=\"#000000\" cx=\"839.9931\" cy=\"-954\" rx=\"29.795\" ry=\"18\"/>\n<text text-anchor=\"middle\" x=\"839.9931\" y=\"-950.3\" font-family=\"Times,serif\" font-size=\"14.00\" fill=\"#000000\">b_11</text>\n</g>\n<!-- height_11&#45;&gt;b_11 -->\n<g id=\"edge223\" class=\"edge\">\n<title>height_11&#45;&gt;b_11</title>\n<path fill=\"none\" stroke=\"#000000\" d=\"M946.2282,-1011.0816C924.3983,-999.3521 893.9886,-983.0125 871.2957,-970.8193\"/>\n<polygon fill=\"#000000\" stroke=\"#000000\" points=\"872.8636,-967.6886 862.3981,-966.0385 869.5504,-973.8548 872.8636,-967.6886\"/>\n</g>\n<!-- frames_11 -->\n<g id=\"node224\" class=\"node\">\n<title>frames_11</title>\n<ellipse fill=\"none\" stroke=\"#000000\" cx=\"973.9931\" cy=\"-954\" rx=\"49.2915\" ry=\"18\"/>\n<text text-anchor=\"middle\" x=\"973.9931\" y=\"-950.3\" font-family=\"Times,serif\" font-size=\"14.00\" fill=\"#000000\">frames_11</text>\n</g>\n<!-- height_11&#45;&gt;frames_11 -->\n<g id=\"edge225\" class=\"edge\">\n<title>height_11&#45;&gt;frames_11</title>\n<path fill=\"none\" stroke=\"#000000\" d=\"M973.9931,-1007.8314C973.9931,-1000.131 973.9931,-990.9743 973.9931,-982.4166\"/>\n<polygon fill=\"#000000\" stroke=\"#000000\" points=\"977.4932,-982.4132 973.9931,-972.4133 970.4932,-982.4133 977.4932,-982.4132\"/>\n</g>\n<!-- codec_flv_11 -->\n<g id=\"node226\" class=\"node\">\n<title>codec_flv_11</title>\n<ellipse fill=\"none\" stroke=\"#000000\" cx=\"1125.9931\" cy=\"-954\" rx=\"61.99\" ry=\"18\"/>\n<text text-anchor=\"middle\" x=\"1125.9931\" y=\"-950.3\" font-family=\"Times,serif\" font-size=\"14.00\" fill=\"#000000\">codec_flv_11</text>\n</g>\n<!-- height_11&#45;&gt;codec_flv_11 -->\n<g id=\"edge227\" class=\"edge\">\n<title>height_11&#45;&gt;codec_flv_11</title>\n<path fill=\"none\" stroke=\"#000000\" d=\"M1004.0234,-1011.7751C1026.9859,-1000.8981 1058.9166,-985.7731 1084.3475,-973.7269\"/>\n<polygon fill=\"#000000\" stroke=\"#000000\" points=\"1085.8549,-976.8857 1093.394,-969.4417 1082.8583,-970.5595 1085.8549,-976.8857\"/>\n</g>\n<!-- duration_11 -->\n<g id=\"node228\" class=\"node\">\n<title>duration_11</title>\n<ellipse fill=\"none\" stroke=\"#000000\" cx=\"1292.9931\" cy=\"-954\" rx=\"55.7903\" ry=\"18\"/>\n<text text-anchor=\"middle\" x=\"1292.9931\" y=\"-950.3\" font-family=\"Times,serif\" font-size=\"14.00\" fill=\"#000000\">duration_11</text>\n</g>\n<!-- height_11&#45;&gt;duration_11 -->\n<g id=\"edge229\" class=\"edge\">\n<title>height_11&#45;&gt;duration_11</title>\n<path fill=\"none\" stroke=\"#000000\" d=\"M1015.3697,-1016.6611C1072.017,-1003.8755 1173.8886,-980.8825 1237.2241,-966.5873\"/>\n<polygon fill=\"#000000\" stroke=\"#000000\" points=\"1238.0614,-969.9865 1247.0454,-964.3706 1236.5202,-963.1583 1238.0614,-969.9865\"/>\n</g>\n<!-- Score = 0.596294 -->\n<g id=\"node221\" class=\"node\">\n<title>Score = 0.596294</title>\n<ellipse fill=\"none\" stroke=\"#000000\" cx=\"623.9931\" cy=\"-882\" rx=\"78.7863\" ry=\"18\"/>\n<text text-anchor=\"middle\" x=\"623.9931\" y=\"-878.3\" font-family=\"Times,serif\" font-size=\"14.00\" fill=\"#000000\">Score = 0.596294</text>\n</g>\n<!-- o_height_11&#45;&gt;Score = 0.596294 -->\n<g id=\"edge222\" class=\"edge\">\n<title>o_height_11&#45;&gt;Score = 0.596294</title>\n<path fill=\"none\" stroke=\"#000000\" d=\"M651.847,-936.2022C647.654,-928.0428 642.5909,-918.1904 637.9379,-909.1358\"/>\n<polygon fill=\"#000000\" stroke=\"#000000\" points=\"640.9747,-907.3877 633.2909,-900.0931 634.7487,-910.5872 640.9747,-907.3877\"/>\n</g>\n<!-- Score = 0.596300 -->\n<g id=\"node223\" class=\"node\">\n<title>Score = 0.596300</title>\n<ellipse fill=\"none\" stroke=\"#000000\" cx=\"798.9931\" cy=\"-882\" rx=\"78.7863\" ry=\"18\"/>\n<text text-anchor=\"middle\" x=\"798.9931\" y=\"-878.3\" font-family=\"Times,serif\" font-size=\"14.00\" fill=\"#000000\">Score = 0.596300</text>\n</g>\n<!-- b_11&#45;&gt;Score = 0.596300 -->\n<g id=\"edge224\" class=\"edge\">\n<title>b_11&#45;&gt;Score = 0.596300</title>\n<path fill=\"none\" stroke=\"#000000\" d=\"M830.2767,-936.937C825.4674,-928.4914 819.5511,-918.1019 814.1628,-908.6396\"/>\n<polygon fill=\"#000000\" stroke=\"#000000\" points=\"817.2018,-906.9032 809.2119,-899.9453 811.1189,-910.3671 817.2018,-906.9032\"/>\n</g>\n<!-- Score = 0.596311 -->\n<g id=\"node225\" class=\"node\">\n<title>Score = 0.596311</title>\n<ellipse fill=\"none\" stroke=\"#000000\" cx=\"973.9931\" cy=\"-882\" rx=\"77.9862\" ry=\"18\"/>\n<text text-anchor=\"middle\" x=\"973.9931\" y=\"-878.3\" font-family=\"Times,serif\" font-size=\"14.00\" fill=\"#000000\">Score = 0.596311</text>\n</g>\n<!-- frames_11&#45;&gt;Score = 0.596311 -->\n<g id=\"edge226\" class=\"edge\">\n<title>frames_11&#45;&gt;Score = 0.596311</title>\n<path fill=\"none\" stroke=\"#000000\" d=\"M973.9931,-935.8314C973.9931,-928.131 973.9931,-918.9743 973.9931,-910.4166\"/>\n<polygon fill=\"#000000\" stroke=\"#000000\" points=\"977.4932,-910.4132 973.9931,-900.4133 970.4932,-910.4133 977.4932,-910.4132\"/>\n</g>\n<!-- frames_12 -->\n<g id=\"node230\" class=\"node\">\n<title>frames_12</title>\n<ellipse fill=\"none\" stroke=\"#000000\" cx=\"832.9931\" cy=\"-810\" rx=\"50.0912\" ry=\"18\"/>\n<text text-anchor=\"middle\" x=\"832.9931\" y=\"-806.3\" font-family=\"Times,serif\" font-size=\"14.00\" fill=\"#000000\">frames_12</text>\n</g>\n<!-- Score = 0.596311&#45;&gt;frames_12 -->\n<g id=\"edge231\" class=\"edge\">\n<title>Score = 0.596311&#45;&gt;frames_12</title>\n<path fill=\"none\" stroke=\"#000000\" d=\"M941.6448,-865.4817C920.5869,-854.7288 893.0304,-840.6573 870.9386,-829.3764\"/>\n<polygon fill=\"#000000\" stroke=\"#000000\" points=\"872.3379,-826.1611 861.8401,-824.7304 869.1545,-832.3954 872.3379,-826.1611\"/>\n</g>\n<!-- Score = 0.596206 -->\n<g id=\"node227\" class=\"node\">\n<title>Score = 0.596206</title>\n<ellipse fill=\"none\" stroke=\"#000000\" cx=\"1148.9931\" cy=\"-882\" rx=\"78.7863\" ry=\"18\"/>\n<text text-anchor=\"middle\" x=\"1148.9931\" y=\"-878.3\" font-family=\"Times,serif\" font-size=\"14.00\" fill=\"#000000\">Score = 0.596206</text>\n</g>\n<!-- codec_flv_11&#45;&gt;Score = 0.596206 -->\n<g id=\"edge228\" class=\"edge\">\n<title>codec_flv_11&#45;&gt;Score = 0.596206</title>\n<path fill=\"none\" stroke=\"#000000\" d=\"M1131.797,-935.8314C1134.2838,-928.0463 1137.2462,-918.7729 1140.0056,-910.1347\"/>\n<polygon fill=\"#000000\" stroke=\"#000000\" points=\"1143.4021,-911.0041 1143.1111,-900.4133 1136.734,-908.874 1143.4021,-911.0041\"/>\n</g>\n<!-- Score = 0.596114 -->\n<g id=\"node229\" class=\"node\">\n<title>Score = 0.596114</title>\n<ellipse fill=\"none\" stroke=\"#000000\" cx=\"1323.9931\" cy=\"-882\" rx=\"77.9862\" ry=\"18\"/>\n<text text-anchor=\"middle\" x=\"1323.9931\" y=\"-878.3\" font-family=\"Times,serif\" font-size=\"14.00\" fill=\"#000000\">Score = 0.596114</text>\n</g>\n<!-- duration_11&#45;&gt;Score = 0.596114 -->\n<g id=\"edge230\" class=\"edge\">\n<title>duration_11&#45;&gt;Score = 0.596114</title>\n<path fill=\"none\" stroke=\"#000000\" d=\"M1300.8157,-935.8314C1304.2931,-927.7547 1308.4603,-918.0761 1312.2963,-909.1668\"/>\n<polygon fill=\"#000000\" stroke=\"#000000\" points=\"1315.5404,-910.4824 1316.2804,-899.9134 1309.111,-907.7141 1315.5404,-910.4824\"/>\n</g>\n<!-- o_height_12 -->\n<g id=\"node231\" class=\"node\">\n<title>o_height_12</title>\n<ellipse fill=\"none\" stroke=\"#000000\" cx=\"517.9931\" cy=\"-738\" rx=\"58.4896\" ry=\"18\"/>\n<text text-anchor=\"middle\" x=\"517.9931\" y=\"-734.3\" font-family=\"Times,serif\" font-size=\"14.00\" fill=\"#000000\">o_height_12</text>\n</g>\n<!-- frames_12&#45;&gt;o_height_12 -->\n<g id=\"edge232\" class=\"edge\">\n<title>frames_12&#45;&gt;o_height_12</title>\n<path fill=\"none\" stroke=\"#000000\" d=\"M790.5108,-800.2898C734.9134,-787.5818 637.2724,-765.2639 575.2065,-751.0774\"/>\n<polygon fill=\"#000000\" stroke=\"#000000\" points=\"575.7135,-747.603 565.185,-748.7867 574.1537,-754.4271 575.7135,-747.603\"/>\n</g>\n<!-- b_12 -->\n<g id=\"node233\" class=\"node\">\n<title>b_12</title>\n<ellipse fill=\"none\" stroke=\"#000000\" cx=\"690.9931\" cy=\"-738\" rx=\"30.5947\" ry=\"18\"/>\n<text text-anchor=\"middle\" x=\"690.9931\" y=\"-734.3\" font-family=\"Times,serif\" font-size=\"14.00\" fill=\"#000000\">b_12</text>\n</g>\n<!-- frames_12&#45;&gt;b_12 -->\n<g id=\"edge234\" class=\"edge\">\n<title>frames_12&#45;&gt;b_12</title>\n<path fill=\"none\" stroke=\"#000000\" d=\"M803.9146,-795.256C780.5626,-783.4155 747.7844,-766.7956 723.5553,-754.5104\"/>\n<polygon fill=\"#000000\" stroke=\"#000000\" points=\"724.9023,-751.2692 714.4005,-749.8685 721.7366,-757.5126 724.9023,-751.2692\"/>\n</g>\n<!-- codec_flv_12 -->\n<g id=\"node235\" class=\"node\">\n<title>codec_flv_12</title>\n<ellipse fill=\"none\" stroke=\"#000000\" cx=\"832.9931\" cy=\"-738\" rx=\"61.99\" ry=\"18\"/>\n<text text-anchor=\"middle\" x=\"832.9931\" y=\"-734.3\" font-family=\"Times,serif\" font-size=\"14.00\" fill=\"#000000\">codec_flv_12</text>\n</g>\n<!-- frames_12&#45;&gt;codec_flv_12 -->\n<g id=\"edge236\" class=\"edge\">\n<title>frames_12&#45;&gt;codec_flv_12</title>\n<path fill=\"none\" stroke=\"#000000\" d=\"M832.9931,-791.8314C832.9931,-784.131 832.9931,-774.9743 832.9931,-766.4166\"/>\n<polygon fill=\"#000000\" stroke=\"#000000\" points=\"836.4932,-766.4132 832.9931,-756.4133 829.4932,-766.4133 836.4932,-766.4132\"/>\n</g>\n<!-- duration_12 -->\n<g id=\"node237\" class=\"node\">\n<title>duration_12</title>\n<ellipse fill=\"none\" stroke=\"#000000\" cx=\"988.9931\" cy=\"-738\" rx=\"56.59\" ry=\"18\"/>\n<text text-anchor=\"middle\" x=\"988.9931\" y=\"-734.3\" font-family=\"Times,serif\" font-size=\"14.00\" fill=\"#000000\">duration_12</text>\n</g>\n<!-- frames_12&#45;&gt;duration_12 -->\n<g id=\"edge238\" class=\"edge\">\n<title>frames_12&#45;&gt;duration_12</title>\n<path fill=\"none\" stroke=\"#000000\" d=\"M863.8137,-795.7751C887.6968,-784.7521 921.0328,-769.3663 947.2989,-757.2435\"/>\n<polygon fill=\"#000000\" stroke=\"#000000\" points=\"949.0125,-760.3074 956.6254,-752.9389 946.0791,-753.9517 949.0125,-760.3074\"/>\n</g>\n<!-- Score = 0.596365 -->\n<g id=\"node232\" class=\"node\">\n<title>Score = 0.596365</title>\n<ellipse fill=\"none\" stroke=\"#000000\" cx=\"482.9931\" cy=\"-666\" rx=\"78.7863\" ry=\"18\"/>\n<text text-anchor=\"middle\" x=\"482.9931\" y=\"-662.3\" font-family=\"Times,serif\" font-size=\"14.00\" fill=\"#000000\">Score = 0.596365</text>\n</g>\n<!-- o_height_12&#45;&gt;Score = 0.596365 -->\n<g id=\"edge233\" class=\"edge\">\n<title>o_height_12&#45;&gt;Score = 0.596365</title>\n<path fill=\"none\" stroke=\"#000000\" d=\"M509.1611,-719.8314C505.235,-711.7547 500.5301,-702.0761 496.1992,-693.1668\"/>\n<polygon fill=\"#000000\" stroke=\"#000000\" points=\"499.2208,-691.3769 491.701,-683.9134 492.9252,-694.4373 499.2208,-691.3769\"/>\n</g>\n<!-- o_height_13 -->\n<g id=\"node239\" class=\"node\">\n<title>o_height_13</title>\n<ellipse fill=\"none\" stroke=\"#000000\" cx=\"703.9931\" cy=\"-594\" rx=\"58.4896\" ry=\"18\"/>\n<text text-anchor=\"middle\" x=\"703.9931\" y=\"-590.3\" font-family=\"Times,serif\" font-size=\"14.00\" fill=\"#000000\">o_height_13</text>\n</g>\n<!-- Score = 0.596365&#45;&gt;o_height_13 -->\n<g id=\"edge240\" class=\"edge\">\n<title>Score = 0.596365&#45;&gt;o_height_13</title>\n<path fill=\"none\" stroke=\"#000000\" d=\"M528.249,-651.256C564.7648,-639.3594 616.0903,-622.638 653.8503,-610.3361\"/>\n<polygon fill=\"#000000\" stroke=\"#000000\" points=\"655.2041,-613.5762 663.628,-607.1506 653.0356,-606.9205 655.2041,-613.5762\"/>\n</g>\n<!-- Score = 0.596344 -->\n<g id=\"node234\" class=\"node\">\n<title>Score = 0.596344</title>\n<ellipse fill=\"none\" stroke=\"#000000\" cx=\"657.9931\" cy=\"-666\" rx=\"78.7863\" ry=\"18\"/>\n<text text-anchor=\"middle\" x=\"657.9931\" y=\"-662.3\" font-family=\"Times,serif\" font-size=\"14.00\" fill=\"#000000\">Score = 0.596344</text>\n</g>\n<!-- b_12&#45;&gt;Score = 0.596344 -->\n<g id=\"edge235\" class=\"edge\">\n<title>b_12&#45;&gt;Score = 0.596344</title>\n<path fill=\"none\" stroke=\"#000000\" d=\"M683.0047,-720.5708C679.2389,-712.3544 674.6584,-702.3608 670.4515,-693.1821\"/>\n<polygon fill=\"#000000\" stroke=\"#000000\" points=\"673.6009,-691.6529 666.2525,-684.0206 667.2374,-694.5696 673.6009,-691.6529\"/>\n</g>\n<!-- Score = 0.596261 -->\n<g id=\"node236\" class=\"node\">\n<title>Score = 0.596261</title>\n<ellipse fill=\"none\" stroke=\"#000000\" cx=\"832.9931\" cy=\"-666\" rx=\"78.7863\" ry=\"18\"/>\n<text text-anchor=\"middle\" x=\"832.9931\" y=\"-662.3\" font-family=\"Times,serif\" font-size=\"14.00\" fill=\"#000000\">Score = 0.596261</text>\n</g>\n<!-- codec_flv_12&#45;&gt;Score = 0.596261 -->\n<g id=\"edge237\" class=\"edge\">\n<title>codec_flv_12&#45;&gt;Score = 0.596261</title>\n<path fill=\"none\" stroke=\"#000000\" d=\"M832.9931,-719.8314C832.9931,-712.131 832.9931,-702.9743 832.9931,-694.4166\"/>\n<polygon fill=\"#000000\" stroke=\"#000000\" points=\"836.4932,-694.4132 832.9931,-684.4133 829.4932,-694.4133 836.4932,-694.4132\"/>\n</g>\n<!-- Score = 0.596333 -->\n<g id=\"node238\" class=\"node\">\n<title>Score = 0.596333</title>\n<ellipse fill=\"none\" stroke=\"#000000\" cx=\"1007.9931\" cy=\"-666\" rx=\"78.7863\" ry=\"18\"/>\n<text text-anchor=\"middle\" x=\"1007.9931\" y=\"-662.3\" font-family=\"Times,serif\" font-size=\"14.00\" fill=\"#000000\">Score = 0.596333</text>\n</g>\n<!-- duration_12&#45;&gt;Score = 0.596333 -->\n<g id=\"edge239\" class=\"edge\">\n<title>duration_12&#45;&gt;Score = 0.596333</title>\n<path fill=\"none\" stroke=\"#000000\" d=\"M993.7876,-719.8314C995.842,-712.0463 998.2891,-702.7729 1000.5686,-694.1347\"/>\n<polygon fill=\"#000000\" stroke=\"#000000\" points=\"1003.9666,-694.9753 1003.134,-684.4133 997.1983,-693.1892 1003.9666,-694.9753\"/>\n</g>\n<!-- b_13 -->\n<g id=\"node240\" class=\"node\">\n<title>b_13</title>\n<ellipse fill=\"none\" stroke=\"#000000\" cx=\"651.9931\" cy=\"-522\" rx=\"30.5947\" ry=\"18\"/>\n<text text-anchor=\"middle\" x=\"651.9931\" y=\"-518.3\" font-family=\"Times,serif\" font-size=\"14.00\" fill=\"#000000\">b_13</text>\n</g>\n<!-- o_height_13&#45;&gt;b_13 -->\n<g id=\"edge241\" class=\"edge\">\n<title>o_height_13&#45;&gt;b_13</title>\n<path fill=\"none\" stroke=\"#000000\" d=\"M691.1391,-576.2022C684.719,-567.3127 676.8475,-556.4138 669.851,-546.7263\"/>\n<polygon fill=\"#000000\" stroke=\"#000000\" points=\"672.6785,-544.6634 663.9862,-538.6058 667.0037,-548.7619 672.6785,-544.6634\"/>\n</g>\n<!-- codec_flv_13 -->\n<g id=\"node242\" class=\"node\">\n<title>codec_flv_13</title>\n<ellipse fill=\"none\" stroke=\"#000000\" cx=\"1012.9931\" cy=\"-522\" rx=\"61.99\" ry=\"18\"/>\n<text text-anchor=\"middle\" x=\"1012.9931\" y=\"-518.3\" font-family=\"Times,serif\" font-size=\"14.00\" fill=\"#000000\">codec_flv_13</text>\n</g>\n<!-- o_height_13&#45;&gt;codec_flv_13 -->\n<g id=\"edge243\" class=\"edge\">\n<title>o_height_13&#45;&gt;codec_flv_13</title>\n<path fill=\"none\" stroke=\"#000000\" d=\"M750.9235,-583.0647C805.5063,-570.3464 895.6488,-549.3424 954.6805,-535.5874\"/>\n<polygon fill=\"#000000\" stroke=\"#000000\" points=\"955.6556,-538.954 964.6004,-533.276 954.067,-532.1367 955.6556,-538.954\"/>\n</g>\n<!-- duration_13 -->\n<g id=\"node243\" class=\"node\">\n<title>duration_13</title>\n<ellipse fill=\"none\" stroke=\"#000000\" cx=\"773.9931\" cy=\"-522\" rx=\"56.59\" ry=\"18\"/>\n<text text-anchor=\"middle\" x=\"773.9931\" y=\"-518.3\" font-family=\"Times,serif\" font-size=\"14.00\" fill=\"#000000\">duration_13</text>\n</g>\n<!-- o_height_13&#45;&gt;duration_13 -->\n<g id=\"edge245\" class=\"edge\">\n<title>o_height_13&#45;&gt;duration_13</title>\n<path fill=\"none\" stroke=\"#000000\" d=\"M720.9381,-576.5708C729.7083,-567.55 740.5613,-556.387 750.1619,-546.5121\"/>\n<polygon fill=\"#000000\" stroke=\"#000000\" points=\"752.7428,-548.8784 757.2041,-539.2687 747.7238,-543.9989 752.7428,-548.8784\"/>\n</g>\n<!-- Score = 0.596396 -->\n<g id=\"node241\" class=\"node\">\n<title>Score = 0.596396</title>\n<ellipse fill=\"none\" stroke=\"#000000\" cx=\"616.9931\" cy=\"-450\" rx=\"78.7863\" ry=\"18\"/>\n<text text-anchor=\"middle\" x=\"616.9931\" y=\"-446.3\" font-family=\"Times,serif\" font-size=\"14.00\" fill=\"#000000\">Score = 0.596396</text>\n</g>\n<!-- b_13&#45;&gt;Score = 0.596396 -->\n<g id=\"edge242\" class=\"edge\">\n<title>b_13&#45;&gt;Score = 0.596396</title>\n<path fill=\"none\" stroke=\"#000000\" d=\"M643.5206,-504.5708C639.5265,-496.3544 634.6685,-486.3608 630.2066,-477.1821\"/>\n<polygon fill=\"#000000\" stroke=\"#000000\" points=\"633.2729,-475.4841 625.7531,-468.0206 626.9773,-478.5445 633.2729,-475.4841\"/>\n</g>\n<!-- b_14 -->\n<g id=\"node245\" class=\"node\">\n<title>b_14</title>\n<ellipse fill=\"none\" stroke=\"#000000\" cx=\"616.9931\" cy=\"-378\" rx=\"30.5947\" ry=\"18\"/>\n<text text-anchor=\"middle\" x=\"616.9931\" y=\"-374.3\" font-family=\"Times,serif\" font-size=\"14.00\" fill=\"#000000\">b_14</text>\n</g>\n<!-- Score = 0.596396&#45;&gt;b_14 -->\n<g id=\"edge247\" class=\"edge\">\n<title>Score = 0.596396&#45;&gt;b_14</title>\n<path fill=\"none\" stroke=\"#000000\" d=\"M616.9931,-431.8314C616.9931,-424.131 616.9931,-414.9743 616.9931,-406.4166\"/>\n<polygon fill=\"#000000\" stroke=\"#000000\" points=\"620.4932,-406.4132 616.9931,-396.4133 613.4932,-406.4133 620.4932,-406.4132\"/>\n</g>\n<!-- codec_flv_13&#45;&gt;Score = 0.596311 -->\n<g id=\"edge244\" class=\"edge\">\n<title>codec_flv_13&#45;&gt;Score = 0.596311</title>\n<path fill=\"none\" stroke=\"#000000\" d=\"M1035.6302,-538.7707C1065.6802,-563.151 1114.9931,-611.4673 1114.9931,-666 1114.9931,-738 1114.9931,-738 1114.9931,-738 1114.9931,-794.5561 1058.7803,-837.1014 1017.3408,-860.7815\"/>\n<polygon fill=\"#000000\" stroke=\"#000000\" points=\"1015.5367,-857.7797 1008.4856,-865.6875 1018.929,-863.9028 1015.5367,-857.7797\"/>\n</g>\n<!-- Score = 0.596394 -->\n<g id=\"node244\" class=\"node\">\n<title>Score = 0.596394</title>\n<ellipse fill=\"none\" stroke=\"#000000\" cx=\"791.9931\" cy=\"-450\" rx=\"78.7863\" ry=\"18\"/>\n<text text-anchor=\"middle\" x=\"791.9931\" y=\"-446.3\" font-family=\"Times,serif\" font-size=\"14.00\" fill=\"#000000\">Score = 0.596394</text>\n</g>\n<!-- duration_13&#45;&gt;Score = 0.596394 -->\n<g id=\"edge246\" class=\"edge\">\n<title>duration_13&#45;&gt;Score = 0.596394</title>\n<path fill=\"none\" stroke=\"#000000\" d=\"M778.5352,-503.8314C780.4815,-496.0463 782.7998,-486.7729 784.9594,-478.1347\"/>\n<polygon fill=\"#000000\" stroke=\"#000000\" points=\"788.3598,-478.9636 787.3898,-468.4133 781.5688,-477.2658 788.3598,-478.9636\"/>\n</g>\n<!-- codec_flv_14 -->\n<g id=\"node246\" class=\"node\">\n<title>codec_flv_14</title>\n<ellipse fill=\"none\" stroke=\"#000000\" cx=\"548.9931\" cy=\"-306\" rx=\"61.99\" ry=\"18\"/>\n<text text-anchor=\"middle\" x=\"548.9931\" y=\"-302.3\" font-family=\"Times,serif\" font-size=\"14.00\" fill=\"#000000\">codec_flv_14</text>\n</g>\n<!-- b_14&#45;&gt;codec_flv_14 -->\n<g id=\"edge248\" class=\"edge\">\n<title>b_14&#45;&gt;codec_flv_14</title>\n<path fill=\"none\" stroke=\"#000000\" d=\"M601.9017,-362.0209C593.296,-352.909 582.3207,-341.2881 572.5996,-330.9951\"/>\n<polygon fill=\"#000000\" stroke=\"#000000\" points=\"574.8811,-328.3134 565.4702,-323.4464 569.792,-333.1198 574.8811,-328.3134\"/>\n</g>\n<!-- duration_14 -->\n<g id=\"node248\" class=\"node\">\n<title>duration_14</title>\n<ellipse fill=\"none\" stroke=\"#000000\" cx=\"694.9931\" cy=\"-306\" rx=\"56.59\" ry=\"18\"/>\n<text text-anchor=\"middle\" x=\"694.9931\" y=\"-302.3\" font-family=\"Times,serif\" font-size=\"14.00\" fill=\"#000000\">duration_14</text>\n</g>\n<!-- b_14&#45;&gt;duration_14 -->\n<g id=\"edge250\" class=\"edge\">\n<title>b_14&#45;&gt;duration_14</title>\n<path fill=\"none\" stroke=\"#000000\" d=\"M633.5349,-362.7307C643.8063,-353.2493 657.2305,-340.8578 668.9116,-330.0753\"/>\n<polygon fill=\"#000000\" stroke=\"#000000\" points=\"671.3113,-332.6233 676.2853,-323.2687 666.5633,-327.4797 671.3113,-332.6233\"/>\n</g>\n<!-- Score = 0.596340 -->\n<g id=\"node247\" class=\"node\">\n<title>Score = 0.596340</title>\n<ellipse fill=\"none\" stroke=\"#000000\" cx=\"529.9931\" cy=\"-234\" rx=\"78.7863\" ry=\"18\"/>\n<text text-anchor=\"middle\" x=\"529.9931\" y=\"-230.3\" font-family=\"Times,serif\" font-size=\"14.00\" fill=\"#000000\">Score = 0.596340</text>\n</g>\n<!-- codec_flv_14&#45;&gt;Score = 0.596340 -->\n<g id=\"edge249\" class=\"edge\">\n<title>codec_flv_14&#45;&gt;Score = 0.596340</title>\n<path fill=\"none\" stroke=\"#000000\" d=\"M544.1986,-287.8314C542.1442,-280.0463 539.697,-270.7729 537.4175,-262.1347\"/>\n<polygon fill=\"#000000\" stroke=\"#000000\" points=\"540.7879,-261.1892 534.8521,-252.4133 534.0196,-262.9753 540.7879,-261.1892\"/>\n</g>\n<!-- Score = 0.596411 -->\n<g id=\"node249\" class=\"node\">\n<title>Score = 0.596411</title>\n<ellipse fill=\"none\" stroke=\"#000000\" cx=\"704.9931\" cy=\"-234\" rx=\"77.9862\" ry=\"18\"/>\n<text text-anchor=\"middle\" x=\"704.9931\" y=\"-230.3\" font-family=\"Times,serif\" font-size=\"14.00\" fill=\"#000000\">Score = 0.596411</text>\n</g>\n<!-- duration_14&#45;&gt;Score = 0.596411 -->\n<g id=\"edge251\" class=\"edge\">\n<title>duration_14&#45;&gt;Score = 0.596411</title>\n<path fill=\"none\" stroke=\"#000000\" d=\"M697.5165,-287.8314C698.586,-280.131 699.8578,-270.9743 701.0463,-262.4166\"/>\n<polygon fill=\"#000000\" stroke=\"#000000\" points=\"704.5266,-262.7997 702.4357,-252.4133 697.5932,-261.8367 704.5266,-262.7997\"/>\n</g>\n<!-- duration_15 -->\n<g id=\"node250\" class=\"node\">\n<title>duration_15</title>\n<ellipse fill=\"none\" stroke=\"#000000\" cx=\"704.9931\" cy=\"-162\" rx=\"56.59\" ry=\"18\"/>\n<text text-anchor=\"middle\" x=\"704.9931\" y=\"-158.3\" font-family=\"Times,serif\" font-size=\"14.00\" fill=\"#000000\">duration_15</text>\n</g>\n<!-- Score = 0.596411&#45;&gt;duration_15 -->\n<g id=\"edge252\" class=\"edge\">\n<title>Score = 0.596411&#45;&gt;duration_15</title>\n<path fill=\"none\" stroke=\"#000000\" d=\"M704.9931,-215.8314C704.9931,-208.131 704.9931,-198.9743 704.9931,-190.4166\"/>\n<polygon fill=\"#000000\" stroke=\"#000000\" points=\"708.4932,-190.4132 704.9931,-180.4133 701.4932,-190.4133 708.4932,-190.4132\"/>\n</g>\n<!-- codec_flv_15 -->\n<g id=\"node251\" class=\"node\">\n<title>codec_flv_15</title>\n<ellipse fill=\"none\" stroke=\"#000000\" cx=\"704.9931\" cy=\"-90\" rx=\"61.99\" ry=\"18\"/>\n<text text-anchor=\"middle\" x=\"704.9931\" y=\"-86.3\" font-family=\"Times,serif\" font-size=\"14.00\" fill=\"#000000\">codec_flv_15</text>\n</g>\n<!-- duration_15&#45;&gt;codec_flv_15 -->\n<g id=\"edge253\" class=\"edge\">\n<title>duration_15&#45;&gt;codec_flv_15</title>\n<path fill=\"none\" stroke=\"#000000\" d=\"M704.9931,-143.8314C704.9931,-136.131 704.9931,-126.9743 704.9931,-118.4166\"/>\n<polygon fill=\"#000000\" stroke=\"#000000\" points=\"708.4932,-118.4132 704.9931,-108.4133 701.4932,-118.4133 708.4932,-118.4132\"/>\n</g>\n<!-- Score = 0.596327 -->\n<g id=\"node252\" class=\"node\">\n<title>Score = 0.596327</title>\n<ellipse fill=\"none\" stroke=\"#000000\" cx=\"704.9931\" cy=\"-18\" rx=\"78.7863\" ry=\"18\"/>\n<text text-anchor=\"middle\" x=\"704.9931\" y=\"-14.3\" font-family=\"Times,serif\" font-size=\"14.00\" fill=\"#000000\">Score = 0.596327</text>\n</g>\n<!-- codec_flv_15&#45;&gt;Score = 0.596327 -->\n<g id=\"edge254\" class=\"edge\">\n<title>codec_flv_15&#45;&gt;Score = 0.596327</title>\n<path fill=\"none\" stroke=\"#000000\" d=\"M704.9931,-71.8314C704.9931,-64.131 704.9931,-54.9743 704.9931,-46.4166\"/>\n<polygon fill=\"#000000\" stroke=\"#000000\" points=\"708.4932,-46.4132 704.9931,-36.4133 701.4932,-46.4133 708.4932,-46.4132\"/>\n</g>\n</g>\n</svg>\n"
          },
          "metadata": {
            "tags": []
          },
          "execution_count": 326
        }
      ]
    },
    {
      "cell_type": "code",
      "metadata": {
        "id": "PVKKtyhIOoco",
        "colab": {
          "base_uri": "https://localhost:8080/",
          "height": 883
        },
        "outputId": "7cf58247-8547-4e5b-81d8-22ccdb6305b0"
      },
      "source": [
        "# Now plot coef and best_feature in barplot\n",
        "plt.bar(x = feature_names, height = np.abs(coef),label = 'Forward Step Wise')\n",
        "plt.xticks(rotation='vertical')\n",
        "# plt.bar(x = range(25), height = f_regression(xtrain,ytrain)[1],label = 'Important')\n",
        "plt.legend()"
      ],
      "execution_count": null,
      "outputs": [
        {
          "output_type": "error",
          "ename": "ValueError",
          "evalue": "ignored",
          "traceback": [
            "\u001b[0;31m---------------------------------------------------------------------------\u001b[0m",
            "\u001b[0;31mValueError\u001b[0m                                Traceback (most recent call last)",
            "\u001b[0;32m<ipython-input-327-80a95f318a32>\u001b[0m in \u001b[0;36m<module>\u001b[0;34m()\u001b[0m\n\u001b[0;32m----> 1\u001b[0;31m \u001b[0mplt\u001b[0m\u001b[0;34m.\u001b[0m\u001b[0mbar\u001b[0m\u001b[0;34m(\u001b[0m\u001b[0mx\u001b[0m \u001b[0;34m=\u001b[0m \u001b[0mfeature_names\u001b[0m\u001b[0;34m,\u001b[0m \u001b[0mheight\u001b[0m \u001b[0;34m=\u001b[0m \u001b[0mnp\u001b[0m\u001b[0;34m.\u001b[0m\u001b[0mabs\u001b[0m\u001b[0;34m(\u001b[0m\u001b[0mcoef\u001b[0m\u001b[0;34m)\u001b[0m\u001b[0;34m,\u001b[0m\u001b[0mlabel\u001b[0m \u001b[0;34m=\u001b[0m \u001b[0;34m'Forward Step Wise'\u001b[0m\u001b[0;34m)\u001b[0m\u001b[0;34m\u001b[0m\u001b[0;34m\u001b[0m\u001b[0m\n\u001b[0m\u001b[1;32m      2\u001b[0m \u001b[0mplt\u001b[0m\u001b[0;34m.\u001b[0m\u001b[0mxticks\u001b[0m\u001b[0;34m(\u001b[0m\u001b[0mrotation\u001b[0m\u001b[0;34m=\u001b[0m\u001b[0;34m'vertical'\u001b[0m\u001b[0;34m)\u001b[0m\u001b[0;34m\u001b[0m\u001b[0;34m\u001b[0m\u001b[0m\n\u001b[1;32m      3\u001b[0m \u001b[0;31m# plt.bar(x = range(25), height = f_regression(xtrain,ytrain)[1],label = 'Important')\u001b[0m\u001b[0;34m\u001b[0m\u001b[0;34m\u001b[0m\u001b[0;34m\u001b[0m\u001b[0m\n\u001b[1;32m      4\u001b[0m \u001b[0mplt\u001b[0m\u001b[0;34m.\u001b[0m\u001b[0mlegend\u001b[0m\u001b[0;34m(\u001b[0m\u001b[0;34m)\u001b[0m\u001b[0;34m\u001b[0m\u001b[0;34m\u001b[0m\u001b[0m\n",
            "\u001b[0;32m/usr/local/lib/python3.6/dist-packages/matplotlib/pyplot.py\u001b[0m in \u001b[0;36mbar\u001b[0;34m(x, height, width, bottom, align, data, **kwargs)\u001b[0m\n\u001b[1;32m   2439\u001b[0m     return gca().bar(\n\u001b[1;32m   2440\u001b[0m         \u001b[0mx\u001b[0m\u001b[0;34m,\u001b[0m \u001b[0mheight\u001b[0m\u001b[0;34m,\u001b[0m \u001b[0mwidth\u001b[0m\u001b[0;34m=\u001b[0m\u001b[0mwidth\u001b[0m\u001b[0;34m,\u001b[0m \u001b[0mbottom\u001b[0m\u001b[0;34m=\u001b[0m\u001b[0mbottom\u001b[0m\u001b[0;34m,\u001b[0m \u001b[0malign\u001b[0m\u001b[0;34m=\u001b[0m\u001b[0malign\u001b[0m\u001b[0;34m,\u001b[0m\u001b[0;34m\u001b[0m\u001b[0;34m\u001b[0m\u001b[0m\n\u001b[0;32m-> 2441\u001b[0;31m         **({\"data\": data} if data is not None else {}), **kwargs)\n\u001b[0m\u001b[1;32m   2442\u001b[0m \u001b[0;34m\u001b[0m\u001b[0m\n\u001b[1;32m   2443\u001b[0m \u001b[0;34m\u001b[0m\u001b[0m\n",
            "\u001b[0;32m/usr/local/lib/python3.6/dist-packages/matplotlib/__init__.py\u001b[0m in \u001b[0;36minner\u001b[0;34m(ax, data, *args, **kwargs)\u001b[0m\n\u001b[1;32m   1597\u001b[0m     \u001b[0;32mdef\u001b[0m \u001b[0minner\u001b[0m\u001b[0;34m(\u001b[0m\u001b[0max\u001b[0m\u001b[0;34m,\u001b[0m \u001b[0;34m*\u001b[0m\u001b[0margs\u001b[0m\u001b[0;34m,\u001b[0m \u001b[0mdata\u001b[0m\u001b[0;34m=\u001b[0m\u001b[0;32mNone\u001b[0m\u001b[0;34m,\u001b[0m \u001b[0;34m**\u001b[0m\u001b[0mkwargs\u001b[0m\u001b[0;34m)\u001b[0m\u001b[0;34m:\u001b[0m\u001b[0;34m\u001b[0m\u001b[0;34m\u001b[0m\u001b[0m\n\u001b[1;32m   1598\u001b[0m         \u001b[0;32mif\u001b[0m \u001b[0mdata\u001b[0m \u001b[0;32mis\u001b[0m \u001b[0;32mNone\u001b[0m\u001b[0;34m:\u001b[0m\u001b[0;34m\u001b[0m\u001b[0;34m\u001b[0m\u001b[0m\n\u001b[0;32m-> 1599\u001b[0;31m             \u001b[0;32mreturn\u001b[0m \u001b[0mfunc\u001b[0m\u001b[0;34m(\u001b[0m\u001b[0max\u001b[0m\u001b[0;34m,\u001b[0m \u001b[0;34m*\u001b[0m\u001b[0mmap\u001b[0m\u001b[0;34m(\u001b[0m\u001b[0msanitize_sequence\u001b[0m\u001b[0;34m,\u001b[0m \u001b[0margs\u001b[0m\u001b[0;34m)\u001b[0m\u001b[0;34m,\u001b[0m \u001b[0;34m**\u001b[0m\u001b[0mkwargs\u001b[0m\u001b[0;34m)\u001b[0m\u001b[0;34m\u001b[0m\u001b[0;34m\u001b[0m\u001b[0m\n\u001b[0m\u001b[1;32m   1600\u001b[0m \u001b[0;34m\u001b[0m\u001b[0m\n\u001b[1;32m   1601\u001b[0m         \u001b[0mbound\u001b[0m \u001b[0;34m=\u001b[0m \u001b[0mnew_sig\u001b[0m\u001b[0;34m.\u001b[0m\u001b[0mbind\u001b[0m\u001b[0;34m(\u001b[0m\u001b[0max\u001b[0m\u001b[0;34m,\u001b[0m \u001b[0;34m*\u001b[0m\u001b[0margs\u001b[0m\u001b[0;34m,\u001b[0m \u001b[0;34m**\u001b[0m\u001b[0mkwargs\u001b[0m\u001b[0;34m)\u001b[0m\u001b[0;34m\u001b[0m\u001b[0;34m\u001b[0m\u001b[0m\n",
            "\u001b[0;32m/usr/local/lib/python3.6/dist-packages/matplotlib/axes/_axes.py\u001b[0m in \u001b[0;36mbar\u001b[0;34m(self, x, height, width, bottom, align, **kwargs)\u001b[0m\n\u001b[1;32m   2372\u001b[0m         x, height, width, y, linewidth = np.broadcast_arrays(\n\u001b[1;32m   2373\u001b[0m             \u001b[0;31m# Make args iterable too.\u001b[0m\u001b[0;34m\u001b[0m\u001b[0;34m\u001b[0m\u001b[0;34m\u001b[0m\u001b[0m\n\u001b[0;32m-> 2374\u001b[0;31m             np.atleast_1d(x), height, width, y, linewidth)\n\u001b[0m\u001b[1;32m   2375\u001b[0m \u001b[0;34m\u001b[0m\u001b[0m\n\u001b[1;32m   2376\u001b[0m         \u001b[0;31m# Now that units have been converted, set the tick locations.\u001b[0m\u001b[0;34m\u001b[0m\u001b[0;34m\u001b[0m\u001b[0;34m\u001b[0m\u001b[0m\n",
            "\u001b[0;32m<__array_function__ internals>\u001b[0m in \u001b[0;36mbroadcast_arrays\u001b[0;34m(*args, **kwargs)\u001b[0m\n",
            "\u001b[0;32m/usr/local/lib/python3.6/dist-packages/numpy/lib/stride_tricks.py\u001b[0m in \u001b[0;36mbroadcast_arrays\u001b[0;34m(*args, **kwargs)\u001b[0m\n\u001b[1;32m    262\u001b[0m     \u001b[0margs\u001b[0m \u001b[0;34m=\u001b[0m \u001b[0;34m[\u001b[0m\u001b[0mnp\u001b[0m\u001b[0;34m.\u001b[0m\u001b[0marray\u001b[0m\u001b[0;34m(\u001b[0m\u001b[0m_m\u001b[0m\u001b[0;34m,\u001b[0m \u001b[0mcopy\u001b[0m\u001b[0;34m=\u001b[0m\u001b[0;32mFalse\u001b[0m\u001b[0;34m,\u001b[0m \u001b[0msubok\u001b[0m\u001b[0;34m=\u001b[0m\u001b[0msubok\u001b[0m\u001b[0;34m)\u001b[0m \u001b[0;32mfor\u001b[0m \u001b[0m_m\u001b[0m \u001b[0;32min\u001b[0m \u001b[0margs\u001b[0m\u001b[0;34m]\u001b[0m\u001b[0;34m\u001b[0m\u001b[0;34m\u001b[0m\u001b[0m\n\u001b[1;32m    263\u001b[0m \u001b[0;34m\u001b[0m\u001b[0m\n\u001b[0;32m--> 264\u001b[0;31m     \u001b[0mshape\u001b[0m \u001b[0;34m=\u001b[0m \u001b[0m_broadcast_shape\u001b[0m\u001b[0;34m(\u001b[0m\u001b[0;34m*\u001b[0m\u001b[0margs\u001b[0m\u001b[0;34m)\u001b[0m\u001b[0;34m\u001b[0m\u001b[0;34m\u001b[0m\u001b[0m\n\u001b[0m\u001b[1;32m    265\u001b[0m \u001b[0;34m\u001b[0m\u001b[0m\n\u001b[1;32m    266\u001b[0m     \u001b[0;32mif\u001b[0m \u001b[0mall\u001b[0m\u001b[0;34m(\u001b[0m\u001b[0marray\u001b[0m\u001b[0;34m.\u001b[0m\u001b[0mshape\u001b[0m \u001b[0;34m==\u001b[0m \u001b[0mshape\u001b[0m \u001b[0;32mfor\u001b[0m \u001b[0marray\u001b[0m \u001b[0;32min\u001b[0m \u001b[0margs\u001b[0m\u001b[0;34m)\u001b[0m\u001b[0;34m:\u001b[0m\u001b[0;34m\u001b[0m\u001b[0;34m\u001b[0m\u001b[0m\n",
            "\u001b[0;32m/usr/local/lib/python3.6/dist-packages/numpy/lib/stride_tricks.py\u001b[0m in \u001b[0;36m_broadcast_shape\u001b[0;34m(*args)\u001b[0m\n\u001b[1;32m    189\u001b[0m     \u001b[0;31m# use the old-iterator because np.nditer does not handle size 0 arrays\u001b[0m\u001b[0;34m\u001b[0m\u001b[0;34m\u001b[0m\u001b[0;34m\u001b[0m\u001b[0m\n\u001b[1;32m    190\u001b[0m     \u001b[0;31m# consistently\u001b[0m\u001b[0;34m\u001b[0m\u001b[0;34m\u001b[0m\u001b[0;34m\u001b[0m\u001b[0m\n\u001b[0;32m--> 191\u001b[0;31m     \u001b[0mb\u001b[0m \u001b[0;34m=\u001b[0m \u001b[0mnp\u001b[0m\u001b[0;34m.\u001b[0m\u001b[0mbroadcast\u001b[0m\u001b[0;34m(\u001b[0m\u001b[0;34m*\u001b[0m\u001b[0margs\u001b[0m\u001b[0;34m[\u001b[0m\u001b[0;34m:\u001b[0m\u001b[0;36m32\u001b[0m\u001b[0;34m]\u001b[0m\u001b[0;34m)\u001b[0m\u001b[0;34m\u001b[0m\u001b[0;34m\u001b[0m\u001b[0m\n\u001b[0m\u001b[1;32m    192\u001b[0m     \u001b[0;31m# unfortunately, it cannot handle 32 or more arguments directly\u001b[0m\u001b[0;34m\u001b[0m\u001b[0;34m\u001b[0m\u001b[0;34m\u001b[0m\u001b[0m\n\u001b[1;32m    193\u001b[0m     \u001b[0;32mfor\u001b[0m \u001b[0mpos\u001b[0m \u001b[0;32min\u001b[0m \u001b[0mrange\u001b[0m\u001b[0;34m(\u001b[0m\u001b[0;36m32\u001b[0m\u001b[0;34m,\u001b[0m \u001b[0mlen\u001b[0m\u001b[0;34m(\u001b[0m\u001b[0margs\u001b[0m\u001b[0;34m)\u001b[0m\u001b[0;34m,\u001b[0m \u001b[0;36m31\u001b[0m\u001b[0;34m)\u001b[0m\u001b[0;34m:\u001b[0m\u001b[0;34m\u001b[0m\u001b[0;34m\u001b[0m\u001b[0m\n",
            "\u001b[0;31mValueError\u001b[0m: shape mismatch: objects cannot be broadcast to a single shape"
          ]
        },
        {
          "output_type": "display_data",
          "data": {
            "image/png": "[encoded data removed]",
            "text/plain": [
              "<Figure size 1152x576 with 1 Axes>"
            ]
          },
          "metadata": {
            "tags": []
          }
        }
      ]
    },
    {
      "cell_type": "code",
      "metadata": {
        "id": "IS6BcimGlIX2"
      },
      "source": [
        ""
      ],
      "execution_count": null,
      "outputs": []
    },
    {
      "cell_type": "markdown",
      "metadata": {
        "id": "-r49oaNufPAP"
      },
      "source": [
        "***EXERCISE NO. 3***\n",
        "\n",
        "  > **Task-4 | Score :5** "
      ]
    },
    {
      "cell_type": "code",
      "metadata": {
        "id": "ZzVoR2XcO_tE",
        "colab": {
          "base_uri": "https://localhost:8080/",
          "height": 34
        },
        "outputId": "49769ba2-68fe-4a61-befc-f98478e459d4"
      },
      "source": [
        "# Answer following question\n",
        "\n",
        "\"\"\"\n",
        "Q1. What is the advantage of step-wise forward feature selection vs subset feature selection method?\n",
        "\n",
        "More accuracty with step wise and subset only takes small sample of data compared to step-wise which takes more\n",
        "\n",
        "\"\"\"\n",
        "print()"
      ],
      "execution_count": null,
      "outputs": [
        {
          "output_type": "stream",
          "text": [
            "\n"
          ],
          "name": "stdout"
        }
      ]
    },
    {
      "cell_type": "markdown",
      "metadata": {
        "id": "L-BCcpYnV9Ye"
      },
      "source": [
        "***EXERCISE NO. 4***\n",
        "\n",
        "  > **Task-1 | Score :10** "
      ]
    },
    {
      "cell_type": "code",
      "metadata": {
        "id": "99SEpACVV_4-",
        "colab": {
          "base_uri": "https://localhost:8080/",
          "height": 34
        },
        "outputId": "72ecef0c-9a39-476a-f538-7a272fba9638"
      },
      "source": [
        "# So far we see some manual way of doing feature selection\n",
        "# Now we will try to understand two very important methods for feature selection \n",
        "# In this first assignment we will study Ridge Regression - L2 Rgularization\n",
        "# https://scikit-learn.org/stable/modules/generated/sklearn.linear_model.RidgeCV.html\n",
        "from sklearn.linear_model import  RidgeCV\n",
        "\n",
        "def ridge_regr(min_alpha = 1e-3, max_alpha = 1, count = 100):\n",
        "  # Create a linearly spaced numpy array with given min , max and count\n",
        "  alphas = np.linspace(min_alpha, max_alpha, count)\n",
        "  # create ridge model with given alphas\n",
        "  ridge = RidgeCV(alphas)\n",
        "  # Fit model\n",
        "  ridge.fit(xtrain, ytrain)\n",
        "  print('score ',ridge.score(xtest,ytest))\n",
        "  return ridge.coef_\n",
        "\n",
        "coef = ridge_regr()"
      ],
      "execution_count": null,
      "outputs": [
        {
          "output_type": "stream",
          "text": [
            "score  0.6584587385467182\n"
          ],
          "name": "stdout"
        }
      ]
    },
    {
      "cell_type": "code",
      "metadata": {
        "id": "DN_3NpRFXIGr",
        "colab": {
          "base_uri": "https://localhost:8080/",
          "height": 590
        },
        "outputId": "c6195a4c-4c46-41e8-cc51-fc752068c9f7"
      },
      "source": [
        "# Now plot coef and best_feature in barplot\n",
        "plt.bar(x = feature_names, height = np.abs(coef),label = 'Forward Step Wise')\n",
        "plt.xticks(rotation='vertical')\n",
        "# plt.bar(x = range(25), height = f_regression(xtrain,ytrain)[1],label = 'Important')\n",
        "plt.legend()"
      ],
      "execution_count": null,
      "outputs": [
        {
          "output_type": "execute_result",
          "data": {
            "text/plain": [
              "<matplotlib.legend.Legend at 0x7fc21101fdd8>"
            ]
          },
          "metadata": {
            "tags": []
          },
          "execution_count": 330
        },
        {
          "output_type": "display_data",
          "data": {
            "image/png": "[encoded data removed]",
            "text/plain": [
              "<Figure size 1152x576 with 1 Axes>"
            ]
          },
          "metadata": {
            "tags": []
          }
        }
      ]
    },
    {
      "cell_type": "markdown",
      "metadata": {
        "id": "XdYgz10MZqkh"
      },
      "source": [
        "***EXERCISE NO. 4***\n",
        "\n",
        "  > **Task-2 | Score :10** "
      ]
    },
    {
      "cell_type": "code",
      "metadata": {
        "id": "1tHxOW0CXXX-",
        "colab": {
          "base_uri": "https://localhost:8080/",
          "height": 412
        },
        "outputId": "8fe85fb0-d5c5-448f-80c4-4afb4afd6a23"
      },
      "source": [
        "# So far we see some manual way of doing feature selection\n",
        "# Now we will try to understand two very important methods for feature selection \n",
        "# In this first assignment we will study Lasso Regression - L1 Rgularization\n",
        "# https://scikit-learn.org/stable/modules/generated/sklearn.linear_model.LassoCV.html\n",
        "\n",
        "#\n",
        "from sklearn.linear_model import  LassoCV\n",
        "\n",
        "def lasso_regr(min_alpha = 1e-3, max_alpha = 1, count = 100):\n",
        "  # Create a linearly spaced numpy array with given min , max and count\n",
        "  alphas = np.linspace(min_alpha, max_alpha, count)\n",
        "  # create lasso model with given alphas\n",
        "  lasso = LassoCV(alphas) \n",
        "  # fit your model with xtrain and ytrain\n",
        "  lasso.fit(xtrain,ytrain)\n",
        "  print('score ', lasso.score(xtest,ytest))\n",
        "  return lasso.coef_\n",
        "'will not work'\n",
        "coef = lasso_regr() \n",
        "\n"
      ],
      "execution_count": null,
      "outputs": [
        {
          "output_type": "error",
          "ename": "TypeError",
          "evalue": "ignored",
          "traceback": [
            "\u001b[0;31m---------------------------------------------------------------------------\u001b[0m",
            "\u001b[0;31mTypeError\u001b[0m                                 Traceback (most recent call last)",
            "\u001b[0;32m<ipython-input-331-a6f2e167691a>\u001b[0m in \u001b[0;36m<module>\u001b[0;34m()\u001b[0m\n\u001b[1;32m     11\u001b[0m   \u001b[0;32mreturn\u001b[0m \u001b[0mlasso\u001b[0m\u001b[0;34m.\u001b[0m\u001b[0mcoef_\u001b[0m\u001b[0;34m\u001b[0m\u001b[0;34m\u001b[0m\u001b[0m\n\u001b[1;32m     12\u001b[0m \u001b[0;34m'will not work'\u001b[0m\u001b[0;34m\u001b[0m\u001b[0;34m\u001b[0m\u001b[0m\n\u001b[0;32m---> 13\u001b[0;31m \u001b[0mcoef\u001b[0m \u001b[0;34m=\u001b[0m \u001b[0mlasso_regr\u001b[0m\u001b[0;34m(\u001b[0m\u001b[0;34m)\u001b[0m\u001b[0;34m\u001b[0m\u001b[0;34m\u001b[0m\u001b[0m\n\u001b[0m\u001b[1;32m     14\u001b[0m \u001b[0;34m\u001b[0m\u001b[0m\n",
            "\u001b[0;32m<ipython-input-331-a6f2e167691a>\u001b[0m in \u001b[0;36mlasso_regr\u001b[0;34m(min_alpha, max_alpha, count)\u001b[0m\n\u001b[1;32m      7\u001b[0m   \u001b[0mlasso\u001b[0m \u001b[0;34m=\u001b[0m \u001b[0mLassoCV\u001b[0m\u001b[0;34m(\u001b[0m\u001b[0malphas\u001b[0m\u001b[0;34m)\u001b[0m\u001b[0;34m\u001b[0m\u001b[0;34m\u001b[0m\u001b[0m\n\u001b[1;32m      8\u001b[0m   \u001b[0;31m# fit your model with xtrain and ytrain\u001b[0m\u001b[0;34m\u001b[0m\u001b[0;34m\u001b[0m\u001b[0;34m\u001b[0m\u001b[0m\n\u001b[0;32m----> 9\u001b[0;31m   \u001b[0mlasso\u001b[0m\u001b[0;34m.\u001b[0m\u001b[0mfit\u001b[0m\u001b[0;34m(\u001b[0m\u001b[0mxtrain\u001b[0m\u001b[0;34m,\u001b[0m\u001b[0mytrain\u001b[0m\u001b[0;34m)\u001b[0m\u001b[0;34m\u001b[0m\u001b[0;34m\u001b[0m\u001b[0m\n\u001b[0m\u001b[1;32m     10\u001b[0m   \u001b[0mprint\u001b[0m\u001b[0;34m(\u001b[0m\u001b[0;34m'score '\u001b[0m\u001b[0;34m,\u001b[0m \u001b[0mlasso\u001b[0m\u001b[0;34m.\u001b[0m\u001b[0mscore\u001b[0m\u001b[0;34m(\u001b[0m\u001b[0mxtest\u001b[0m\u001b[0;34m,\u001b[0m\u001b[0mytest\u001b[0m\u001b[0;34m)\u001b[0m\u001b[0;34m)\u001b[0m\u001b[0;34m\u001b[0m\u001b[0;34m\u001b[0m\u001b[0m\n\u001b[1;32m     11\u001b[0m   \u001b[0;32mreturn\u001b[0m \u001b[0mlasso\u001b[0m\u001b[0;34m.\u001b[0m\u001b[0mcoef_\u001b[0m\u001b[0;34m\u001b[0m\u001b[0;34m\u001b[0m\u001b[0m\n",
            "\u001b[0;32m/usr/local/lib/python3.6/dist-packages/sklearn/linear_model/_coordinate_descent.py\u001b[0m in \u001b[0;36mfit\u001b[0;34m(self, X, y)\u001b[0m\n\u001b[1;32m   1182\u001b[0m                 for train, test in folds)\n\u001b[1;32m   1183\u001b[0m         mse_paths = Parallel(n_jobs=self.n_jobs, verbose=self.verbose,\n\u001b[0;32m-> 1184\u001b[0;31m                              **_joblib_parallel_args(prefer=\"threads\"))(jobs)\n\u001b[0m\u001b[1;32m   1185\u001b[0m         \u001b[0mmse_paths\u001b[0m \u001b[0;34m=\u001b[0m \u001b[0mnp\u001b[0m\u001b[0;34m.\u001b[0m\u001b[0mreshape\u001b[0m\u001b[0;34m(\u001b[0m\u001b[0mmse_paths\u001b[0m\u001b[0;34m,\u001b[0m \u001b[0;34m(\u001b[0m\u001b[0mn_l1_ratio\u001b[0m\u001b[0;34m,\u001b[0m \u001b[0mlen\u001b[0m\u001b[0;34m(\u001b[0m\u001b[0mfolds\u001b[0m\u001b[0;34m)\u001b[0m\u001b[0;34m,\u001b[0m \u001b[0;34m-\u001b[0m\u001b[0;36m1\u001b[0m\u001b[0;34m)\u001b[0m\u001b[0;34m)\u001b[0m\u001b[0;34m\u001b[0m\u001b[0;34m\u001b[0m\u001b[0m\n\u001b[1;32m   1186\u001b[0m         \u001b[0mmean_mse\u001b[0m \u001b[0;34m=\u001b[0m \u001b[0mnp\u001b[0m\u001b[0;34m.\u001b[0m\u001b[0mmean\u001b[0m\u001b[0;34m(\u001b[0m\u001b[0mmse_paths\u001b[0m\u001b[0;34m,\u001b[0m \u001b[0maxis\u001b[0m\u001b[0;34m=\u001b[0m\u001b[0;36m1\u001b[0m\u001b[0;34m)\u001b[0m\u001b[0;34m\u001b[0m\u001b[0;34m\u001b[0m\u001b[0m\n",
            "\u001b[0;32m/usr/local/lib/python3.6/dist-packages/joblib/parallel.py\u001b[0m in \u001b[0;36m__call__\u001b[0;34m(self, iterable)\u001b[0m\n\u001b[1;32m   1002\u001b[0m             \u001b[0;31m# remaining jobs.\u001b[0m\u001b[0;34m\u001b[0m\u001b[0;34m\u001b[0m\u001b[0;34m\u001b[0m\u001b[0m\n\u001b[1;32m   1003\u001b[0m             \u001b[0mself\u001b[0m\u001b[0;34m.\u001b[0m\u001b[0m_iterating\u001b[0m \u001b[0;34m=\u001b[0m \u001b[0;32mFalse\u001b[0m\u001b[0;34m\u001b[0m\u001b[0;34m\u001b[0m\u001b[0m\n\u001b[0;32m-> 1004\u001b[0;31m             \u001b[0;32mif\u001b[0m \u001b[0mself\u001b[0m\u001b[0;34m.\u001b[0m\u001b[0mdispatch_one_batch\u001b[0m\u001b[0;34m(\u001b[0m\u001b[0miterator\u001b[0m\u001b[0;34m)\u001b[0m\u001b[0;34m:\u001b[0m\u001b[0;34m\u001b[0m\u001b[0;34m\u001b[0m\u001b[0m\n\u001b[0m\u001b[1;32m   1005\u001b[0m                 \u001b[0mself\u001b[0m\u001b[0;34m.\u001b[0m\u001b[0m_iterating\u001b[0m \u001b[0;34m=\u001b[0m \u001b[0mself\u001b[0m\u001b[0;34m.\u001b[0m\u001b[0m_original_iterator\u001b[0m \u001b[0;32mis\u001b[0m \u001b[0;32mnot\u001b[0m \u001b[0;32mNone\u001b[0m\u001b[0;34m\u001b[0m\u001b[0;34m\u001b[0m\u001b[0m\n\u001b[1;32m   1006\u001b[0m \u001b[0;34m\u001b[0m\u001b[0m\n",
            "\u001b[0;32m/usr/local/lib/python3.6/dist-packages/joblib/parallel.py\u001b[0m in \u001b[0;36mdispatch_one_batch\u001b[0;34m(self, iterator)\u001b[0m\n\u001b[1;32m    833\u001b[0m                 \u001b[0;32mreturn\u001b[0m \u001b[0;32mFalse\u001b[0m\u001b[0;34m\u001b[0m\u001b[0;34m\u001b[0m\u001b[0m\n\u001b[1;32m    834\u001b[0m             \u001b[0;32melse\u001b[0m\u001b[0;34m:\u001b[0m\u001b[0;34m\u001b[0m\u001b[0;34m\u001b[0m\u001b[0m\n\u001b[0;32m--> 835\u001b[0;31m                 \u001b[0mself\u001b[0m\u001b[0;34m.\u001b[0m\u001b[0m_dispatch\u001b[0m\u001b[0;34m(\u001b[0m\u001b[0mtasks\u001b[0m\u001b[0;34m)\u001b[0m\u001b[0;34m\u001b[0m\u001b[0;34m\u001b[0m\u001b[0m\n\u001b[0m\u001b[1;32m    836\u001b[0m                 \u001b[0;32mreturn\u001b[0m \u001b[0;32mTrue\u001b[0m\u001b[0;34m\u001b[0m\u001b[0;34m\u001b[0m\u001b[0m\n\u001b[1;32m    837\u001b[0m \u001b[0;34m\u001b[0m\u001b[0m\n",
            "\u001b[0;32m/usr/local/lib/python3.6/dist-packages/joblib/parallel.py\u001b[0m in \u001b[0;36m_dispatch\u001b[0;34m(self, batch)\u001b[0m\n\u001b[1;32m    752\u001b[0m         \u001b[0;32mwith\u001b[0m \u001b[0mself\u001b[0m\u001b[0;34m.\u001b[0m\u001b[0m_lock\u001b[0m\u001b[0;34m:\u001b[0m\u001b[0;34m\u001b[0m\u001b[0;34m\u001b[0m\u001b[0m\n\u001b[1;32m    753\u001b[0m             \u001b[0mjob_idx\u001b[0m \u001b[0;34m=\u001b[0m \u001b[0mlen\u001b[0m\u001b[0;34m(\u001b[0m\u001b[0mself\u001b[0m\u001b[0;34m.\u001b[0m\u001b[0m_jobs\u001b[0m\u001b[0;34m)\u001b[0m\u001b[0;34m\u001b[0m\u001b[0;34m\u001b[0m\u001b[0m\n\u001b[0;32m--> 754\u001b[0;31m             \u001b[0mjob\u001b[0m \u001b[0;34m=\u001b[0m \u001b[0mself\u001b[0m\u001b[0;34m.\u001b[0m\u001b[0m_backend\u001b[0m\u001b[0;34m.\u001b[0m\u001b[0mapply_async\u001b[0m\u001b[0;34m(\u001b[0m\u001b[0mbatch\u001b[0m\u001b[0;34m,\u001b[0m \u001b[0mcallback\u001b[0m\u001b[0;34m=\u001b[0m\u001b[0mcb\u001b[0m\u001b[0;34m)\u001b[0m\u001b[0;34m\u001b[0m\u001b[0;34m\u001b[0m\u001b[0m\n\u001b[0m\u001b[1;32m    755\u001b[0m             \u001b[0;31m# A job can complete so quickly than its callback is\u001b[0m\u001b[0;34m\u001b[0m\u001b[0;34m\u001b[0m\u001b[0;34m\u001b[0m\u001b[0m\n\u001b[1;32m    756\u001b[0m             \u001b[0;31m# called before we get here, causing self._jobs to\u001b[0m\u001b[0;34m\u001b[0m\u001b[0;34m\u001b[0m\u001b[0;34m\u001b[0m\u001b[0m\n",
            "\u001b[0;32m/usr/local/lib/python3.6/dist-packages/joblib/_parallel_backends.py\u001b[0m in \u001b[0;36mapply_async\u001b[0;34m(self, func, callback)\u001b[0m\n\u001b[1;32m    207\u001b[0m     \u001b[0;32mdef\u001b[0m \u001b[0mapply_async\u001b[0m\u001b[0;34m(\u001b[0m\u001b[0mself\u001b[0m\u001b[0;34m,\u001b[0m \u001b[0mfunc\u001b[0m\u001b[0;34m,\u001b[0m \u001b[0mcallback\u001b[0m\u001b[0;34m=\u001b[0m\u001b[0;32mNone\u001b[0m\u001b[0;34m)\u001b[0m\u001b[0;34m:\u001b[0m\u001b[0;34m\u001b[0m\u001b[0;34m\u001b[0m\u001b[0m\n\u001b[1;32m    208\u001b[0m         \u001b[0;34m\"\"\"Schedule a func to be run\"\"\"\u001b[0m\u001b[0;34m\u001b[0m\u001b[0;34m\u001b[0m\u001b[0m\n\u001b[0;32m--> 209\u001b[0;31m         \u001b[0mresult\u001b[0m \u001b[0;34m=\u001b[0m \u001b[0mImmediateResult\u001b[0m\u001b[0;34m(\u001b[0m\u001b[0mfunc\u001b[0m\u001b[0;34m)\u001b[0m\u001b[0;34m\u001b[0m\u001b[0;34m\u001b[0m\u001b[0m\n\u001b[0m\u001b[1;32m    210\u001b[0m         \u001b[0;32mif\u001b[0m \u001b[0mcallback\u001b[0m\u001b[0;34m:\u001b[0m\u001b[0;34m\u001b[0m\u001b[0;34m\u001b[0m\u001b[0m\n\u001b[1;32m    211\u001b[0m             \u001b[0mcallback\u001b[0m\u001b[0;34m(\u001b[0m\u001b[0mresult\u001b[0m\u001b[0;34m)\u001b[0m\u001b[0;34m\u001b[0m\u001b[0;34m\u001b[0m\u001b[0m\n",
            "\u001b[0;32m/usr/local/lib/python3.6/dist-packages/joblib/_parallel_backends.py\u001b[0m in \u001b[0;36m__init__\u001b[0;34m(self, batch)\u001b[0m\n\u001b[1;32m    588\u001b[0m         \u001b[0;31m# Don't delay the application, to avoid keeping the input\u001b[0m\u001b[0;34m\u001b[0m\u001b[0;34m\u001b[0m\u001b[0;34m\u001b[0m\u001b[0m\n\u001b[1;32m    589\u001b[0m         \u001b[0;31m# arguments in memory\u001b[0m\u001b[0;34m\u001b[0m\u001b[0;34m\u001b[0m\u001b[0;34m\u001b[0m\u001b[0m\n\u001b[0;32m--> 590\u001b[0;31m         \u001b[0mself\u001b[0m\u001b[0;34m.\u001b[0m\u001b[0mresults\u001b[0m \u001b[0;34m=\u001b[0m \u001b[0mbatch\u001b[0m\u001b[0;34m(\u001b[0m\u001b[0;34m)\u001b[0m\u001b[0;34m\u001b[0m\u001b[0;34m\u001b[0m\u001b[0m\n\u001b[0m\u001b[1;32m    591\u001b[0m \u001b[0;34m\u001b[0m\u001b[0m\n\u001b[1;32m    592\u001b[0m     \u001b[0;32mdef\u001b[0m \u001b[0mget\u001b[0m\u001b[0;34m(\u001b[0m\u001b[0mself\u001b[0m\u001b[0;34m)\u001b[0m\u001b[0;34m:\u001b[0m\u001b[0;34m\u001b[0m\u001b[0;34m\u001b[0m\u001b[0m\n",
            "\u001b[0;32m/usr/local/lib/python3.6/dist-packages/joblib/parallel.py\u001b[0m in \u001b[0;36m__call__\u001b[0;34m(self)\u001b[0m\n\u001b[1;32m    254\u001b[0m         \u001b[0;32mwith\u001b[0m \u001b[0mparallel_backend\u001b[0m\u001b[0;34m(\u001b[0m\u001b[0mself\u001b[0m\u001b[0;34m.\u001b[0m\u001b[0m_backend\u001b[0m\u001b[0;34m,\u001b[0m \u001b[0mn_jobs\u001b[0m\u001b[0;34m=\u001b[0m\u001b[0mself\u001b[0m\u001b[0;34m.\u001b[0m\u001b[0m_n_jobs\u001b[0m\u001b[0;34m)\u001b[0m\u001b[0;34m:\u001b[0m\u001b[0;34m\u001b[0m\u001b[0;34m\u001b[0m\u001b[0m\n\u001b[1;32m    255\u001b[0m             return [func(*args, **kwargs)\n\u001b[0;32m--> 256\u001b[0;31m                     for func, args, kwargs in self.items]\n\u001b[0m\u001b[1;32m    257\u001b[0m \u001b[0;34m\u001b[0m\u001b[0m\n\u001b[1;32m    258\u001b[0m     \u001b[0;32mdef\u001b[0m \u001b[0m__len__\u001b[0m\u001b[0;34m(\u001b[0m\u001b[0mself\u001b[0m\u001b[0;34m)\u001b[0m\u001b[0;34m:\u001b[0m\u001b[0;34m\u001b[0m\u001b[0;34m\u001b[0m\u001b[0m\n",
            "\u001b[0;32m/usr/local/lib/python3.6/dist-packages/joblib/parallel.py\u001b[0m in \u001b[0;36m<listcomp>\u001b[0;34m(.0)\u001b[0m\n\u001b[1;32m    254\u001b[0m         \u001b[0;32mwith\u001b[0m \u001b[0mparallel_backend\u001b[0m\u001b[0;34m(\u001b[0m\u001b[0mself\u001b[0m\u001b[0;34m.\u001b[0m\u001b[0m_backend\u001b[0m\u001b[0;34m,\u001b[0m \u001b[0mn_jobs\u001b[0m\u001b[0;34m=\u001b[0m\u001b[0mself\u001b[0m\u001b[0;34m.\u001b[0m\u001b[0m_n_jobs\u001b[0m\u001b[0;34m)\u001b[0m\u001b[0;34m:\u001b[0m\u001b[0;34m\u001b[0m\u001b[0;34m\u001b[0m\u001b[0m\n\u001b[1;32m    255\u001b[0m             return [func(*args, **kwargs)\n\u001b[0;32m--> 256\u001b[0;31m                     for func, args, kwargs in self.items]\n\u001b[0m\u001b[1;32m    257\u001b[0m \u001b[0;34m\u001b[0m\u001b[0m\n\u001b[1;32m    258\u001b[0m     \u001b[0;32mdef\u001b[0m \u001b[0m__len__\u001b[0m\u001b[0;34m(\u001b[0m\u001b[0mself\u001b[0m\u001b[0;34m)\u001b[0m\u001b[0;34m:\u001b[0m\u001b[0;34m\u001b[0m\u001b[0;34m\u001b[0m\u001b[0m\n",
            "\u001b[0;32m/usr/local/lib/python3.6/dist-packages/sklearn/linear_model/_coordinate_descent.py\u001b[0m in \u001b[0;36m_path_residuals\u001b[0;34m(X, y, train, test, path, path_params, alphas, l1_ratio, X_order, dtype)\u001b[0m\n\u001b[1;32m   1007\u001b[0m     \u001b[0;31m# X is copied and a reference is kept here\u001b[0m\u001b[0;34m\u001b[0m\u001b[0;34m\u001b[0m\u001b[0;34m\u001b[0m\u001b[0m\n\u001b[1;32m   1008\u001b[0m     \u001b[0mX_train\u001b[0m \u001b[0;34m=\u001b[0m \u001b[0mcheck_array\u001b[0m\u001b[0;34m(\u001b[0m\u001b[0mX_train\u001b[0m\u001b[0;34m,\u001b[0m \u001b[0;34m'csc'\u001b[0m\u001b[0;34m,\u001b[0m \u001b[0mdtype\u001b[0m\u001b[0;34m=\u001b[0m\u001b[0mdtype\u001b[0m\u001b[0;34m,\u001b[0m \u001b[0morder\u001b[0m\u001b[0;34m=\u001b[0m\u001b[0mX_order\u001b[0m\u001b[0;34m)\u001b[0m\u001b[0;34m\u001b[0m\u001b[0;34m\u001b[0m\u001b[0m\n\u001b[0;32m-> 1009\u001b[0;31m     \u001b[0malphas\u001b[0m\u001b[0;34m,\u001b[0m \u001b[0mcoefs\u001b[0m\u001b[0;34m,\u001b[0m \u001b[0m_\u001b[0m \u001b[0;34m=\u001b[0m \u001b[0mpath\u001b[0m\u001b[0;34m(\u001b[0m\u001b[0mX_train\u001b[0m\u001b[0;34m,\u001b[0m \u001b[0my_train\u001b[0m\u001b[0;34m,\u001b[0m \u001b[0;34m**\u001b[0m\u001b[0mpath_params\u001b[0m\u001b[0;34m)\u001b[0m\u001b[0;34m\u001b[0m\u001b[0;34m\u001b[0m\u001b[0m\n\u001b[0m\u001b[1;32m   1010\u001b[0m     \u001b[0;32mdel\u001b[0m \u001b[0mX_train\u001b[0m\u001b[0;34m,\u001b[0m \u001b[0my_train\u001b[0m\u001b[0;34m\u001b[0m\u001b[0;34m\u001b[0m\u001b[0m\n\u001b[1;32m   1011\u001b[0m \u001b[0;34m\u001b[0m\u001b[0m\n",
            "\u001b[0;32m/usr/local/lib/python3.6/dist-packages/sklearn/linear_model/_coordinate_descent.py\u001b[0m in \u001b[0;36mlasso_path\u001b[0;34m(X, y, eps, n_alphas, alphas, precompute, Xy, copy_X, coef_init, verbose, return_n_iter, positive, **params)\u001b[0m\n\u001b[1;32m    261\u001b[0m                      \u001b[0malphas\u001b[0m\u001b[0;34m=\u001b[0m\u001b[0malphas\u001b[0m\u001b[0;34m,\u001b[0m \u001b[0mprecompute\u001b[0m\u001b[0;34m=\u001b[0m\u001b[0mprecompute\u001b[0m\u001b[0;34m,\u001b[0m \u001b[0mXy\u001b[0m\u001b[0;34m=\u001b[0m\u001b[0mXy\u001b[0m\u001b[0;34m,\u001b[0m\u001b[0;34m\u001b[0m\u001b[0;34m\u001b[0m\u001b[0m\n\u001b[1;32m    262\u001b[0m                      \u001b[0mcopy_X\u001b[0m\u001b[0;34m=\u001b[0m\u001b[0mcopy_X\u001b[0m\u001b[0;34m,\u001b[0m \u001b[0mcoef_init\u001b[0m\u001b[0;34m=\u001b[0m\u001b[0mcoef_init\u001b[0m\u001b[0;34m,\u001b[0m \u001b[0mverbose\u001b[0m\u001b[0;34m=\u001b[0m\u001b[0mverbose\u001b[0m\u001b[0;34m,\u001b[0m\u001b[0;34m\u001b[0m\u001b[0;34m\u001b[0m\u001b[0m\n\u001b[0;32m--> 263\u001b[0;31m                      positive=positive, return_n_iter=return_n_iter, **params)\n\u001b[0m\u001b[1;32m    264\u001b[0m \u001b[0;34m\u001b[0m\u001b[0m\n\u001b[1;32m    265\u001b[0m \u001b[0;34m\u001b[0m\u001b[0m\n",
            "\u001b[0;32m/usr/local/lib/python3.6/dist-packages/sklearn/linear_model/_coordinate_descent.py\u001b[0m in \u001b[0;36menet_path\u001b[0;34m(X, y, l1_ratio, eps, n_alphas, alphas, precompute, Xy, copy_X, coef_init, verbose, return_n_iter, positive, check_input, **params)\u001b[0m\n\u001b[1;32m    470\u001b[0m             model = cd_fast.enet_coordinate_descent_gram(\n\u001b[1;32m    471\u001b[0m                 \u001b[0mcoef_\u001b[0m\u001b[0;34m,\u001b[0m \u001b[0ml1_reg\u001b[0m\u001b[0;34m,\u001b[0m \u001b[0ml2_reg\u001b[0m\u001b[0;34m,\u001b[0m \u001b[0mprecompute\u001b[0m\u001b[0;34m,\u001b[0m \u001b[0mXy\u001b[0m\u001b[0;34m,\u001b[0m \u001b[0my\u001b[0m\u001b[0;34m,\u001b[0m \u001b[0mmax_iter\u001b[0m\u001b[0;34m,\u001b[0m\u001b[0;34m\u001b[0m\u001b[0;34m\u001b[0m\u001b[0m\n\u001b[0;32m--> 472\u001b[0;31m                 tol, rng, random, positive)\n\u001b[0m\u001b[1;32m    473\u001b[0m         \u001b[0;32melif\u001b[0m \u001b[0mprecompute\u001b[0m \u001b[0;32mis\u001b[0m \u001b[0;32mFalse\u001b[0m\u001b[0;34m:\u001b[0m\u001b[0;34m\u001b[0m\u001b[0;34m\u001b[0m\u001b[0m\n\u001b[1;32m    474\u001b[0m             model = cd_fast.enet_coordinate_descent(\n",
            "\u001b[0;32msklearn/linear_model/_cd_fast.pyx\u001b[0m in \u001b[0;36msklearn.linear_model._cd_fast.enet_coordinate_descent_gram\u001b[0;34m()\u001b[0m\n",
            "\u001b[0;31mTypeError\u001b[0m: only size-1 arrays can be converted to Python scalars"
          ]
        }
      ]
    },
    {
      "cell_type": "code",
      "metadata": {
        "id": "2_vvt6aQZKL4",
        "colab": {
          "base_uri": "https://localhost:8080/",
          "height": 590
        },
        "outputId": "0fa461a3-5966-4682-de0e-eb98f8b7fffe"
      },
      "source": [
        "# Now plot coef and best_feature in barplot\n",
        "plt.bar(x = feature_names, height = np.abs(coef),label = 'Forward Step Wise')\n",
        "plt.xticks(rotation='vertical')\n",
        "# plt.bar(x = range(25), height = f_regression(xtrain,ytrain)[1],label = 'Important')\n",
        "plt.legend()"
      ],
      "execution_count": null,
      "outputs": [
        {
          "output_type": "execute_result",
          "data": {
            "text/plain": [
              "<matplotlib.legend.Legend at 0x7fc210f83828>"
            ]
          },
          "metadata": {
            "tags": []
          },
          "execution_count": 332
        },
        {
          "output_type": "display_data",
          "data": {
            "image/png": "[encoded data removed]",
            "text/plain": [
              "<Figure size 1152x576 with 1 Axes>"
            ]
          },
          "metadata": {
            "tags": []
          }
        }
      ]
    },
    {
      "cell_type": "markdown",
      "metadata": {
        "id": "CyvxmYoLaHal"
      },
      "source": [
        "***EXERCISE NO. 4***\n",
        "\n",
        "  > **Task-3 | Score :25** "
      ]
    },
    {
      "cell_type": "code",
      "metadata": {
        "id": "afaeqoyMaIrt",
        "colab": {
          "base_uri": "https://localhost:8080/",
          "height": 54
        },
        "outputId": "21b05ca2-1cfa-4083-ccdc-a24ebeb4b20b"
      },
      "source": [
        "# Answer following question\n",
        "\n",
        "\"\"\"\n",
        "Question no.1 What is the key difference between L2 (Ridge) and L1 (LASSO) approach?\n",
        "\n",
        "The difference between L2 and L1 is that Lasso(L1) shrinks the less important\n",
        " feature’s coefficient to zero therefore removing some feature altogether.\n",
        "\n",
        "Question no.2 What is your key observation on Task1 and Task2 on Ex4?\n",
        " \n",
        "Lasso shrinks more features\n",
        "\n",
        "Question no.3 How is the bias/variance trade-off related with Task1 and Task2?\n",
        "Ridge increase bias and decrease in variance\n",
        "\n",
        "Question no.4 What are the advantages of Task2 and Task3 methods in Ex4 compared to methods in Ex3?\n",
        "Both increase bias and decrease in variance\n",
        "\n",
        "Question no.5 What are disadvantages of above two methods(L2 and L1)?\n",
        "They are automatic methods and not always optimal \n",
        "\n",
        "\"\"\""
      ],
      "execution_count": null,
      "outputs": [
        {
          "output_type": "execute_result",
          "data": {
            "text/plain": [
              "'\\nQuestion no.1 What is the key difference between L2 (Ridge) and L1 (LASSO) approach?\\n\\nThe difference between L2 and L1 is that Lasso(L1) shrinks the less important\\n feature’s coefficient to zero therefore removing some feature altogether.\\n\\nQuestion no.2 What is your key observation on Task1 and Task2 on Ex4?\\n \\nLasso shrinks more features\\n\\nQuestion no.3 How is the bias/variance trade-off related with Task1 and Task2?\\nRidge increase bias and decrease in variance\\n\\nQuestion no.4 What are the advantages of Task2 and Task3 methods in Ex4 compared to methods in Ex3?\\nBoth increase bias and decrease in variance\\n\\nQuestion no.5 What are disadvantages of above two methods(L2 and L1)?\\nThey are automatic methods and not always optimal \\n\\n'"
            ]
          },
          "metadata": {
            "tags": []
          },
          "execution_count": 333
        }
      ]
    }
  ]
}